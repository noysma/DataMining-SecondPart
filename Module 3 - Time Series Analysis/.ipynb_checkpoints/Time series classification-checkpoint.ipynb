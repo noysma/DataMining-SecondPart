{
 "cells": [
  {
   "cell_type": "code",
   "execution_count": 1,
   "id": "3fa7193f-dd45-44c1-8049-dc038356cb59",
   "metadata": {
    "pycharm": {
     "name": "#%%\n"
    }
   },
   "outputs": [
    {
     "name": "stderr",
     "output_type": "stream",
     "text": [
      "<frozen importlib._bootstrap>:219: RuntimeWarning: scipy._lib.messagestream.MessageStream size changed, may indicate binary incompatibility. Expected 56 from C header, got 64 from PyObject\n"
     ]
    }
   ],
   "source": [
    "%matplotlib inline\n",
    "\n",
    "import numpy as np\n",
    "import pandas as pd\n",
    "import seaborn as sns\n",
    "import matplotlib.pyplot as plt\n",
    "\n",
    "from sklearn.model_selection import train_test_split\n",
    "from sklearn.model_selection import cross_val_score\n",
    "from sklearn.model_selection import GridSearchCV\n",
    "\n",
    "from sklearn import metrics\n",
    "from sklearn.metrics import accuracy_score, f1_score, classification_report\n",
    "from sklearn.metrics import roc_curve, auc, roc_auc_score\n",
    "from sklearn.metrics import ConfusionMatrixDisplay\n",
    "from scikitplot.metrics import plot_roc\n",
    "from scikitplot.metrics import plot_precision_recall\n",
    "from scikitplot.metrics import plot_cumulative_gain\n",
    "from scikitplot.metrics import plot_lift_curve\n",
    "\n",
    "from sklearn.tree import DecisionTreeClassifier\n",
    "from sklearn.neighbors import KNeighborsClassifier\n",
    "from sklearn.ensemble import RandomForestClassifier\n",
    "\n",
    "from sklearn import random_projection\n",
    "from sklearn.pipeline import Pipeline\n",
    "from sklearn.pipeline import FeatureUnion\n",
    "from sklearn.preprocessing import StandardScaler\n",
    "from sklearn.decomposition import PCA\n",
    "from sklearn.decomposition import IncrementalPCA\n",
    "from sklearn.manifold import Isomap\n",
    "from sklearn.manifold import TSNE\n",
    "from sklearn.manifold import MDS\n",
    "from sklearn.linear_model import LogisticRegression\n",
    "\n",
    "from tslearn.preprocessing import TimeSeriesScalerMeanVariance\n",
    "from scipy.spatial.distance import euclidean\n",
    "from scipy.spatial.distance import cityblock\n",
    "from tslearn.metrics import dtw, dtw_path, cdist_dtw, subsequence_cost_matrix\n",
    "from scipy.spatial.distance import cdist\n",
    "from pyts.metrics import dtw as dtw2"
   ]
  },
  {
   "cell_type": "code",
   "execution_count": 2,
   "id": "a5f799a6-542d-4fd5-9155-bcfbb7a51259",
   "metadata": {
    "pycharm": {
     "name": "#%%\n"
    }
   },
   "outputs": [],
   "source": [
    "import warnings\n",
    "warnings.filterwarnings('ignore')"
   ]
  },
  {
   "cell_type": "code",
   "execution_count": 3,
   "id": "399e1ced-1252-4e10-b1af-ecfdb18cc6f7",
   "metadata": {},
   "outputs": [],
   "source": [
    "from tqdm import tqdm"
   ]
  },
  {
   "cell_type": "code",
   "execution_count": 4,
   "id": "372b808c-b49a-438e-960a-93693e8ada65",
   "metadata": {
    "pycharm": {
     "name": "#%%\n"
    }
   },
   "outputs": [
    {
     "name": "stdout",
     "output_type": "stream",
     "text": [
      "No of Features: 561\n"
     ]
    }
   ],
   "source": [
    "#features = list()\n",
    "with open('../features.txt') as f:\n",
    "    features = [line.split()[1] for line in f.readlines()]\n",
    "print('No of Features: {}'.format(len(features)))"
   ]
  },
  {
   "cell_type": "markdown",
   "id": "af2a6b02-ae59-46a6-b4cb-e3ddb076f029",
   "metadata": {
    "pycharm": {
     "name": "#%% md\n"
    }
   },
   "source": [
    "# Loading Training Sets"
   ]
  },
  {
   "cell_type": "code",
   "execution_count": 5,
   "id": "74de6de2-0596-481a-b103-0489b7ecd391",
   "metadata": {
    "pycharm": {
     "name": "#%%\n"
    }
   },
   "outputs": [],
   "source": [
    "X_train = pd.read_csv('X_train.txt', delim_whitespace=True, header=None, encoding='latin-1')\n",
    "X_train.columns = features\n",
    "\n",
    "# add subject column to the dataframe\n",
    "#X_train['subject'] = pd.read_csv('subject_train.txt', header=None, squeeze=True)\n",
    "\n",
    "y_train = pd.read_csv('y_train.txt', names=['Activity'], squeeze=True)\n",
    "#y_train_labels = y_train.map({1: 'WALKING', 2:'WALKING_UPSTAIRS',3:'WALKING_DOWNSTAIRS', 4:'SITTING', 5:'STANDING',6:'LAYING'})\n",
    "\n",
    "# put all columns in a single dataframe\n",
    "#train = X_train\n",
    "#train['Activity'] = y_train"
   ]
  },
  {
   "cell_type": "code",
   "execution_count": 6,
   "id": "eea85ef6-8e9b-4855-927e-7f255e306f33",
   "metadata": {
    "pycharm": {
     "name": "#%%\n"
    }
   },
   "outputs": [],
   "source": [
    "body_acc_x_train = pd.read_csv('Inertial Signals/body_acc_x_train.txt', delim_whitespace=True, header=None, encoding='latin-1')\n",
    "#body_acc_x_train['subject'] = pd.read_csv('subject_train.txt', header=None, squeeze=True)"
   ]
  },
  {
   "cell_type": "code",
   "execution_count": 7,
   "id": "486aea01-2f38-4220-a2aa-c937274ca9c2",
   "metadata": {
    "pycharm": {
     "name": "#%%\n"
    }
   },
   "outputs": [],
   "source": [
    "body_acc_y_train = pd.read_csv('Inertial Signals/body_acc_y_train.txt', delim_whitespace=True, header=None, encoding='latin-1')\n",
    "#body_acc_y_train['subject'] = pd.read_csv('subject_train.txt', header=None, squeeze=True)"
   ]
  },
  {
   "cell_type": "code",
   "execution_count": 8,
   "id": "3f7b35fc-eb8b-44c3-adc4-0533212d2f6d",
   "metadata": {
    "pycharm": {
     "name": "#%%\n"
    }
   },
   "outputs": [],
   "source": [
    "body_acc_z_train = pd.read_csv('Inertial Signals/body_acc_z_train.txt', delim_whitespace=True, header=None, encoding='latin-1')\n",
    "#body_acc_z_train['subject'] = pd.read_csv('subject_train.txt', header=None, squeeze=True)"
   ]
  },
  {
   "cell_type": "code",
   "execution_count": 68,
   "id": "bad33ab9-a5ed-4c92-a8b3-ba2d0c9e3efc",
   "metadata": {
    "pycharm": {
     "name": "#%%\n"
    }
   },
   "outputs": [],
   "source": [
    "body_gyro_x_train = pd.read_csv('Inertial Signals/body_gyro_x_train.txt', delim_whitespace=True, header=None, encoding='latin-1')\n",
    "#body_gyro_x_train['subject'] = pd.read_csv('subject_train.txt', header=None, squeeze=True)\n",
    "#y_train = pd.read_csv('y_train.txt', names=['Activity'], squeeze=True)\n",
    "#y_train_labels = y_train.map({1: 'WALKING', 2:'WALKING_UPSTAIRS',3:'WALKING_DOWNSTAIRS', 4:'SITTING', 5:'STANDING',6:'LAYING'})\n",
    "\n",
    "# put all columns in a single dataframe\n",
    "#train = body_gyro_x_train\n",
    "#train['Activity'] = y_train\n",
    "#train['ActivityName'] = y_train_labels"
   ]
  },
  {
   "cell_type": "code",
   "execution_count": 69,
   "id": "9af6bca3-f1e4-4fbb-bc04-d63cba6868f3",
   "metadata": {
    "pycharm": {
     "name": "#%%\n"
    }
   },
   "outputs": [],
   "source": [
    "body_gyro_y_train = pd.read_csv('Inertial Signals/body_gyro_y_train.txt', delim_whitespace=True, header=None, encoding='latin-1')\n",
    "#body_gyro_y_train['subject'] = pd.read_csv('subject_train.txt', header=None, squeeze=True)"
   ]
  },
  {
   "cell_type": "code",
   "execution_count": 11,
   "id": "7a5717a5-478a-4a78-b6e8-8a05ffd82608",
   "metadata": {
    "pycharm": {
     "name": "#%%\n"
    }
   },
   "outputs": [],
   "source": [
    "body_gyro_z_train = pd.read_csv('Inertial Signals/body_gyro_z_train.txt', delim_whitespace=True, header=None, encoding='latin-1')\n",
    "#body_gyro_z_train['subject'] = pd.read_csv('subject_train.txt', header=None, squeeze=True)"
   ]
  },
  {
   "cell_type": "code",
   "execution_count": 12,
   "id": "861ceee6-be17-4291-8b0f-b4e168e2f463",
   "metadata": {
    "pycharm": {
     "name": "#%%\n"
    }
   },
   "outputs": [],
   "source": [
    "total_acc_x_train = pd.read_csv('Inertial Signals/total_acc_x_train.txt', delim_whitespace=True, header=None, encoding='latin-1')\n",
    "#total_acc_x_train['subject'] = pd.read_csv('subject_train.txt', header=None, squeeze=True)"
   ]
  },
  {
   "cell_type": "code",
   "execution_count": 13,
   "id": "6dd37988-7785-4a1f-a093-a0983c488f4c",
   "metadata": {
    "pycharm": {
     "name": "#%%\n"
    }
   },
   "outputs": [],
   "source": [
    "total_acc_y_train = pd.read_csv('Inertial Signals/total_acc_y_train.txt', delim_whitespace=True, header=None, encoding='latin-1')\n",
    "#total_acc_y_train['subject'] = pd.read_csv('subject_train.txt', header=None, squeeze=True)"
   ]
  },
  {
   "cell_type": "code",
   "execution_count": 14,
   "id": "e18eb71a-79f7-42da-a41f-1c196e7ab4e9",
   "metadata": {
    "pycharm": {
     "name": "#%%\n"
    }
   },
   "outputs": [],
   "source": [
    "total_acc_z_train = pd.read_csv('Inertial Signals/total_acc_z_train.txt', delim_whitespace=True, header=None, encoding='latin-1')\n",
    "#total_acc_z_train['subject'] = pd.read_csv('subject_train.txt', header=None, squeeze=True)"
   ]
  },
  {
   "cell_type": "markdown",
   "id": "eaacb1af-9ac3-476a-a763-297f14ca18df",
   "metadata": {
    "pycharm": {
     "name": "#%% md\n"
    }
   },
   "source": [
    "# Loading Test Sets"
   ]
  },
  {
   "cell_type": "code",
   "execution_count": 15,
   "id": "50dcbc4f-bffa-494b-b2db-bfec6436ebc2",
   "metadata": {
    "pycharm": {
     "name": "#%%\n"
    }
   },
   "outputs": [],
   "source": [
    "X_test = pd.read_csv('../test/X_test.txt', delim_whitespace=True, header=None, encoding='latin-1')\n",
    "X_test.columns = features\n",
    "\n",
    "# add subject column to the dataframe\n",
    "#X_test['subject'] = pd.read_csv('subject_train.txt', header=None, squeeze=True)\n",
    "\n",
    "y_test = pd.read_csv('../test/y_test.txt', names=['Activity'], squeeze=True)\n",
    "#y_test_labels = y_train.map({1: 'WALKING', 2:'WALKING_UPSTAIRS',3:'WALKING_DOWNSTAIRS', 4:'SITTING', 5:'STANDING',6:'LAYING'})\n",
    "\n",
    "# put all columns in a single dataframe\n",
    "#train01 = X_test\n",
    "#train01['Activity'] = y_test"
   ]
  },
  {
   "cell_type": "code",
   "execution_count": 16,
   "id": "a5568a9e-4d07-45fa-86ea-885aba9065a3",
   "metadata": {
    "pycharm": {
     "name": "#%%\n"
    }
   },
   "outputs": [],
   "source": [
    "body_acc_x_test = pd.read_csv('../test/Inertial Signals/body_acc_x_test.txt', delim_whitespace=True, header=None, encoding='latin-1')\n",
    "#body_acc_x_test['subject'] = pd.read_csv('subject_train.txt', header=None, squeeze=True)"
   ]
  },
  {
   "cell_type": "code",
   "execution_count": 17,
   "id": "a8dcd6bd-0416-4af7-8a35-e33d1c40d660",
   "metadata": {
    "pycharm": {
     "name": "#%%\n"
    }
   },
   "outputs": [],
   "source": [
    "body_acc_y_test = pd.read_csv('../test/Inertial Signals/body_acc_y_test.txt', delim_whitespace=True, header=None, encoding='latin-1')\n",
    "#body_acc_y_test['subject'] = pd.read_csv('subject_train.txt', header=None, squeeze=True)"
   ]
  },
  {
   "cell_type": "code",
   "execution_count": 18,
   "id": "491c8cfd-e33f-4c5a-82c2-1468506490fc",
   "metadata": {
    "pycharm": {
     "name": "#%%\n"
    }
   },
   "outputs": [],
   "source": [
    "body_acc_z_test = pd.read_csv('../test/Inertial Signals/body_acc_z_test.txt', delim_whitespace=True, header=None, encoding='latin-1')\n",
    "#body_acc_z_test['subject'] = pd.read_csv('subject_train.txt', header=None, squeeze=True)"
   ]
  },
  {
   "cell_type": "code",
   "execution_count": 19,
   "id": "1db100c1-cb1d-454e-801b-58004115cb02",
   "metadata": {
    "pycharm": {
     "name": "#%%\n"
    }
   },
   "outputs": [],
   "source": [
    "body_gyro_x_test = pd.read_csv('../test/Inertial Signals/body_gyro_x_test.txt', delim_whitespace=True, header=None, encoding='latin-1')\n",
    "#body_gyro_x_test['subject'] = pd.read_csv('subject_train.txt', header=None, squeeze=True)"
   ]
  },
  {
   "cell_type": "code",
   "execution_count": 20,
   "id": "afbb33d2-c2fa-4fc4-b29b-93a8e620caf5",
   "metadata": {
    "pycharm": {
     "name": "#%%\n"
    }
   },
   "outputs": [],
   "source": [
    "body_gyro_y_test = pd.read_csv('../test/Inertial Signals/body_gyro_y_test.txt', delim_whitespace=True, header=None, encoding='latin-1')\n",
    "#body_gyro_y_test['subject'] = pd.read_csv('subject_train.txt', header=None, squeeze=True)"
   ]
  },
  {
   "cell_type": "code",
   "execution_count": 21,
   "id": "180bce8b-4def-4ae7-9528-c3504cee3800",
   "metadata": {
    "pycharm": {
     "name": "#%%\n"
    }
   },
   "outputs": [],
   "source": [
    "body_gyro_z_test = pd.read_csv('../test/Inertial Signals/body_gyro_z_test.txt', delim_whitespace=True, header=None, encoding='latin-1')\n",
    "#body_gyro_z_test['subject'] = pd.read_csv('subject_train.txt', header=None, squeeze=True)"
   ]
  },
  {
   "cell_type": "code",
   "execution_count": 22,
   "id": "1f463714-6b94-4eba-b2ef-032e64bd5b39",
   "metadata": {
    "pycharm": {
     "name": "#%%\n"
    }
   },
   "outputs": [],
   "source": [
    "total_acc_x_test = pd.read_csv('../test/Inertial Signals/total_acc_x_test.txt', delim_whitespace=True, header=None, encoding='latin-1')\n",
    "#total_acc_x_test['subject'] = pd.read_csv('subject_train.txt', header=None, squeeze=True)"
   ]
  },
  {
   "cell_type": "code",
   "execution_count": 23,
   "id": "0972fe1d-2269-4f8f-93fb-b317972b0d41",
   "metadata": {
    "pycharm": {
     "name": "#%%\n"
    }
   },
   "outputs": [],
   "source": [
    "total_acc_y_test = pd.read_csv('../test/Inertial Signals/total_acc_y_test.txt', delim_whitespace=True, header=None, encoding='latin-1')\n",
    "#total_acc_y_test['subject'] = pd.read_csv('subject_train.txt', header=None, squeeze=True)"
   ]
  },
  {
   "cell_type": "code",
   "execution_count": 24,
   "id": "7a082c3a-c544-4532-a6a0-6066fa73d591",
   "metadata": {
    "pycharm": {
     "name": "#%%\n"
    }
   },
   "outputs": [],
   "source": [
    "total_acc_z_test = pd.read_csv('../test/Inertial Signals/total_acc_z_test.txt', delim_whitespace=True, header=None, encoding='latin-1')\n",
    "#total_acc_z_test['subject'] = pd.read_csv('subject_train.txt', header=None, squeeze=True)"
   ]
  },
  {
   "cell_type": "markdown",
   "id": "73de01b8-c6d0-43d2-85f3-ec6e2513c80d",
   "metadata": {
    "id": "RfCXyf9KpkoL",
    "pycharm": {
     "name": "#%% md\n"
    }
   },
   "source": [
    "## Shaplet Classifiers"
   ]
  },
  {
   "cell_type": "markdown",
   "id": "eeec8782-fa83-4d4b-84e1-e88380c89a1a",
   "metadata": {
    "pycharm": {
     "name": "#%%\n"
    }
   },
   "source": [
    "### Brute Force Approach"
   ]
  },
  {
   "cell_type": "code",
   "execution_count": 25,
   "id": "1c5859fc-6dcb-4c0f-86df-bf0feacd51d9",
   "metadata": {
    "pycharm": {
     "name": "#%%\n"
    }
   },
   "outputs": [],
   "source": [
    "from pyts.transformation import ShapeletTransform"
   ]
  },
  {
   "cell_type": "raw",
   "id": "15984c34-a465-47db-8351-69d1b9b56943",
   "metadata": {
    "pycharm": {
     "name": "#%%\n"
    }
   },
   "source": [
    "# Shapelet transformation\n",
    "st = ShapeletTransform(window_sizes=[4, 12],\n",
    "                       random_state=42, sort=True)\n",
    "X_new = st.fit_transform(body_gyro_x_train, y_train)\n",
    "X_test_new = st.transform(body_gyro_x_test)"
   ]
  },
  {
   "cell_type": "raw",
   "id": "adeb434b-46f9-4b9f-ba1f-6a6686e40fce",
   "metadata": {
    "pycharm": {
     "name": "#%%\n"
    }
   },
   "source": [
    "from sklearn.tree import DecisionTreeClassifier\n",
    "clf = DecisionTreeClassifier(max_depth=8, random_state=42)\n",
    "clf.fit(X_new, y_train)\n",
    "\n",
    "y_pred = clf.predict(body_gyro_x_test)\n",
    "\n",
    "print('Accuracy %s' % accuracy_score(y_test, y_pred))\n",
    "print('F1-score %s' % f1_score(y_test, y_pred, average=None))\n",
    "print(classification_report(y_test, y_pred))"
   ]
  },
  {
   "cell_type": "markdown",
   "id": "fcd5d54d-4eac-490e-a52a-5d505655a767",
   "metadata": {
    "pycharm": {
     "name": "#%%\n"
    }
   },
   "source": [
    "### Learning-based Approach"
   ]
  },
  {
   "cell_type": "code",
   "execution_count": 26,
   "id": "31154586-9794-470a-9ed0-f166f31ccc4c",
   "metadata": {
    "pycharm": {
     "name": "#%%\n"
    }
   },
   "outputs": [],
   "source": [
    "#from keras.optimizers import Adagrad\n",
    "from tslearn.shapelets import ShapeletModel\n",
    "from tslearn.shapelets import grabocka_params_to_shapelet_size_dict"
   ]
  },
  {
   "cell_type": "code",
   "execution_count": 27,
   "id": "d0d936b5-fa24-4a63-b0a2-172999abb76e",
   "metadata": {
    "id": "bnCCX4xTpkoM",
    "outputId": "a20eac3c-5d9d-4d41-c3cb-9b7f462f773a",
    "pycharm": {
     "name": "#%%\n"
    }
   },
   "outputs": [
    {
     "name": "stdout",
     "output_type": "stream",
     "text": [
      "n_ts 7352\n",
      "ts_sz 128\n",
      "n_classes 6\n",
      "shapelet_sizes {12: 6}\n"
     ]
    }
   ],
   "source": [
    "n_ts, ts_sz = body_gyro_x_train.shape\n",
    "n_classes = len(set(y_train))\n",
    "\n",
    "# Set the number of shapelets per size as done in the original paper\n",
    "shapelet_sizes = grabocka_params_to_shapelet_size_dict(n_ts=n_ts,\n",
    "                                                       ts_sz=ts_sz,\n",
    "                                                       n_classes=n_classes,\n",
    "                                                       l=0.1,\n",
    "                                                       r=1)\n",
    "\n",
    "print('n_ts', n_ts)\n",
    "print('ts_sz', ts_sz)\n",
    "print('n_classes', n_classes)\n",
    "print('shapelet_sizes', shapelet_sizes)"
   ]
  },
  {
   "cell_type": "code",
   "execution_count": 28,
   "id": "7fc6646d-47c5-481b-97c4-462039fea0c3",
   "metadata": {
    "id": "NGP-fUbGpkoM",
    "outputId": "8ed07a15-ea74-48f0-c911-578959844a64",
    "pycharm": {
     "name": "#%%\n"
    }
   },
   "outputs": [],
   "source": [
    "# Define the model using parameters provided by the authors (except that we use\n",
    "# fewer iterations here)\n",
    "shp_clf = ShapeletModel(n_shapelets_per_size=shapelet_sizes,\n",
    "                        optimizer=\"sgd\",\n",
    "                        weight_regularizer=.01,\n",
    "                        max_iter=200,\n",
    "                        verbose=1)"
   ]
  },
  {
   "cell_type": "code",
   "execution_count": 56,
   "id": "971b3ff7-a0b2-4825-b30c-2afeb9391a33",
   "metadata": {},
   "outputs": [],
   "source": [
    "# define the parameter values that should be searched\n",
    "k_range = list(range(1, 31))\n",
    "weight_options = ['uniform', 'distance']\n",
    "param_grid = dict(n_neighbors=k_range, weight_options = ['uniform', 'distance'])\n",
    "\n",
    "grid = GridSearchCV(KNeighborsClassifier(), param_grid, cv=10, scoring='f1', return_train_score=False,verbose=1)\n",
    "grid.fit(body_gyro_x_train, y_train)"
   ]
  },
  {
   "cell_type": "code",
   "execution_count": 57,
   "id": "9c200869-fc98-4fd6-834f-6d9244800308",
   "metadata": {},
   "outputs": [
    {
     "data": {
      "text/plain": [
       "{'n_neighbors': 5}"
      ]
     },
     "execution_count": 99,
     "metadata": {},
     "output_type": "execute_result"
    }
   ],
   "source": [
    "grid.best_params_"
   ]
  },
  {
   "cell_type": "code",
   "execution_count": 29,
   "id": "6dcd5708-8399-4cdc-a3c5-b4c443e0aabc",
   "metadata": {
    "collapsed": true,
    "id": "0V74g6wnpkoM",
    "jupyter": {
     "outputs_hidden": true
    },
    "outputId": "6f2240a3-c662-490d-8e60-f4fefc226daa",
    "pycharm": {
     "name": "#%%\n"
    },
    "tags": []
   },
   "outputs": [
    {
     "name": "stderr",
     "output_type": "stream",
     "text": [
      "2022-05-17 10:16:13.884480: I tensorflow/core/platform/cpu_feature_guard.cc:151] This TensorFlow binary is optimized with oneAPI Deep Neural Network Library (oneDNN) to use the following CPU instructions in performance-critical operations:  AVX2 FMA\n",
      "To enable them in other operations, rebuild TensorFlow with the appropriate compiler flags.\n"
     ]
    },
    {
     "name": "stdout",
     "output_type": "stream",
     "text": [
      "Epoch 1/200\n",
      "29/29 [==============================] - 1s 11ms/step - loss: 2.0241 - categorical_accuracy: 0.2391 - categorical_crossentropy: 1.9547\n",
      "Epoch 2/200\n",
      "29/29 [==============================] - 0s 7ms/step - loss: 1.9855 - categorical_accuracy: 0.2428 - categorical_crossentropy: 1.9183\n",
      "Epoch 3/200\n",
      "29/29 [==============================] - 0s 8ms/step - loss: 1.9529 - categorical_accuracy: 0.2429 - categorical_crossentropy: 1.8878\n",
      "Epoch 4/200\n",
      "29/29 [==============================] - 0s 7ms/step - loss: 1.9251 - categorical_accuracy: 0.2391 - categorical_crossentropy: 1.8617\n",
      "Epoch 5/200\n",
      "29/29 [==============================] - 0s 7ms/step - loss: 1.9013 - categorical_accuracy: 0.2307 - categorical_crossentropy: 1.8394\n",
      "Epoch 6/200\n",
      "29/29 [==============================] - 0s 11ms/step - loss: 1.8806 - categorical_accuracy: 0.2134 - categorical_crossentropy: 1.8202\n",
      "Epoch 7/200\n",
      "29/29 [==============================] - 0s 15ms/step - loss: 1.8626 - categorical_accuracy: 0.2063 - categorical_crossentropy: 1.8035\n",
      "Epoch 8/200\n",
      "29/29 [==============================] - 0s 14ms/step - loss: 1.8468 - categorical_accuracy: 0.2067 - categorical_crossentropy: 1.7888\n",
      "Epoch 9/200\n",
      "29/29 [==============================] - 0s 10ms/step - loss: 1.8329 - categorical_accuracy: 0.2078 - categorical_crossentropy: 1.7760\n",
      "Epoch 10/200\n",
      "29/29 [==============================] - 0s 8ms/step - loss: 1.8206 - categorical_accuracy: 0.2067 - categorical_crossentropy: 1.7646\n",
      "Epoch 11/200\n",
      "29/29 [==============================] - 0s 12ms/step - loss: 1.8096 - categorical_accuracy: 0.2065 - categorical_crossentropy: 1.7545\n",
      "Epoch 12/200\n",
      "29/29 [==============================] - 0s 9ms/step - loss: 1.7997 - categorical_accuracy: 0.2067 - categorical_crossentropy: 1.7454\n",
      "Epoch 13/200\n",
      "29/29 [==============================] - 0s 8ms/step - loss: 1.7909 - categorical_accuracy: 0.2063 - categorical_crossentropy: 1.7372\n",
      "Epoch 14/200\n",
      "29/29 [==============================] - 0s 9ms/step - loss: 1.7828 - categorical_accuracy: 0.2058 - categorical_crossentropy: 1.7298\n",
      "Epoch 15/200\n",
      "29/29 [==============================] - 0s 8ms/step - loss: 1.7755 - categorical_accuracy: 0.2053 - categorical_crossentropy: 1.7231\n",
      "Epoch 16/200\n",
      "29/29 [==============================] - 0s 15ms/step - loss: 1.7688 - categorical_accuracy: 0.2067 - categorical_crossentropy: 1.7169\n",
      "Epoch 17/200\n",
      "29/29 [==============================] - 0s 12ms/step - loss: 1.7626 - categorical_accuracy: 0.2072 - categorical_crossentropy: 1.7111\n",
      "Epoch 18/200\n",
      "29/29 [==============================] - 0s 11ms/step - loss: 1.7568 - categorical_accuracy: 0.2089 - categorical_crossentropy: 1.7058\n",
      "Epoch 19/200\n",
      "29/29 [==============================] - 0s 11ms/step - loss: 1.7514 - categorical_accuracy: 0.2106 - categorical_crossentropy: 1.7008\n",
      "Epoch 20/200\n",
      "29/29 [==============================] - 0s 10ms/step - loss: 1.7463 - categorical_accuracy: 0.2150 - categorical_crossentropy: 1.6961\n",
      "Epoch 21/200\n",
      "29/29 [==============================] - 0s 6ms/step - loss: 1.7415 - categorical_accuracy: 0.2197 - categorical_crossentropy: 1.6916\n",
      "Epoch 22/200\n",
      "29/29 [==============================] - 0s 7ms/step - loss: 1.7370 - categorical_accuracy: 0.2228 - categorical_crossentropy: 1.6873\n",
      "Epoch 23/200\n",
      "29/29 [==============================] - 0s 8ms/step - loss: 1.7326 - categorical_accuracy: 0.2254 - categorical_crossentropy: 1.6833\n",
      "Epoch 24/200\n",
      "29/29 [==============================] - 0s 8ms/step - loss: 1.7285 - categorical_accuracy: 0.2308 - categorical_crossentropy: 1.6794\n",
      "Epoch 25/200\n",
      "29/29 [==============================] - 0s 7ms/step - loss: 1.7245 - categorical_accuracy: 0.2345 - categorical_crossentropy: 1.6756\n",
      "Epoch 26/200\n",
      "29/29 [==============================] - 0s 6ms/step - loss: 1.7206 - categorical_accuracy: 0.2384 - categorical_crossentropy: 1.6720\n",
      "Epoch 27/200\n",
      "29/29 [==============================] - 0s 8ms/step - loss: 1.7169 - categorical_accuracy: 0.2424 - categorical_crossentropy: 1.6684\n",
      "Epoch 28/200\n",
      "29/29 [==============================] - 0s 12ms/step - loss: 1.7132 - categorical_accuracy: 0.2451 - categorical_crossentropy: 1.6650\n",
      "Epoch 29/200\n",
      "29/29 [==============================] - 0s 13ms/step - loss: 1.7097 - categorical_accuracy: 0.2478 - categorical_crossentropy: 1.6616\n",
      "Epoch 30/200\n",
      "29/29 [==============================] - 0s 8ms/step - loss: 1.7063 - categorical_accuracy: 0.2527 - categorical_crossentropy: 1.6583\n",
      "Epoch 31/200\n",
      "29/29 [==============================] - 0s 6ms/step - loss: 1.7029 - categorical_accuracy: 0.2565 - categorical_crossentropy: 1.6551\n",
      "Epoch 32/200\n",
      "29/29 [==============================] - 0s 10ms/step - loss: 1.6996 - categorical_accuracy: 0.2614 - categorical_crossentropy: 1.6519\n",
      "Epoch 33/200\n",
      "29/29 [==============================] - 0s 9ms/step - loss: 1.6964 - categorical_accuracy: 0.2641 - categorical_crossentropy: 1.6488\n",
      "Epoch 34/200\n",
      "29/29 [==============================] - 0s 9ms/step - loss: 1.6932 - categorical_accuracy: 0.2663 - categorical_crossentropy: 1.6457\n",
      "Epoch 35/200\n",
      "29/29 [==============================] - 0s 6ms/step - loss: 1.6901 - categorical_accuracy: 0.2708 - categorical_crossentropy: 1.6427\n",
      "Epoch 36/200\n",
      "29/29 [==============================] - 0s 6ms/step - loss: 1.6871 - categorical_accuracy: 0.2735 - categorical_crossentropy: 1.6397\n",
      "Epoch 37/200\n",
      "29/29 [==============================] - 0s 6ms/step - loss: 1.6841 - categorical_accuracy: 0.2769 - categorical_crossentropy: 1.6368\n",
      "Epoch 38/200\n",
      "29/29 [==============================] - 0s 7ms/step - loss: 1.6811 - categorical_accuracy: 0.2788 - categorical_crossentropy: 1.6339\n",
      "Epoch 39/200\n",
      "29/29 [==============================] - 0s 6ms/step - loss: 1.6782 - categorical_accuracy: 0.2809 - categorical_crossentropy: 1.6310\n",
      "Epoch 40/200\n",
      "29/29 [==============================] - 0s 5ms/step - loss: 1.6753 - categorical_accuracy: 0.2844 - categorical_crossentropy: 1.6282\n",
      "Epoch 41/200\n",
      "29/29 [==============================] - 0s 6ms/step - loss: 1.6725 - categorical_accuracy: 0.2863 - categorical_crossentropy: 1.6254\n",
      "Epoch 42/200\n",
      "29/29 [==============================] - 0s 6ms/step - loss: 1.6697 - categorical_accuracy: 0.2877 - categorical_crossentropy: 1.6226\n",
      "Epoch 43/200\n",
      "29/29 [==============================] - 0s 6ms/step - loss: 1.6669 - categorical_accuracy: 0.2896 - categorical_crossentropy: 1.6199\n",
      "Epoch 44/200\n",
      "29/29 [==============================] - 0s 5ms/step - loss: 1.6642 - categorical_accuracy: 0.2912 - categorical_crossentropy: 1.6172\n",
      "Epoch 45/200\n",
      "29/29 [==============================] - 0s 5ms/step - loss: 1.6615 - categorical_accuracy: 0.2930 - categorical_crossentropy: 1.6145\n",
      "Epoch 46/200\n",
      "29/29 [==============================] - 0s 6ms/step - loss: 1.6589 - categorical_accuracy: 0.2956 - categorical_crossentropy: 1.6118\n",
      "Epoch 47/200\n",
      "29/29 [==============================] - 0s 6ms/step - loss: 1.6562 - categorical_accuracy: 0.2979 - categorical_crossentropy: 1.6092\n",
      "Epoch 48/200\n",
      "29/29 [==============================] - 0s 6ms/step - loss: 1.6536 - categorical_accuracy: 0.3003 - categorical_crossentropy: 1.6066\n",
      "Epoch 49/200\n",
      "29/29 [==============================] - 0s 5ms/step - loss: 1.6511 - categorical_accuracy: 0.3014 - categorical_crossentropy: 1.6040\n",
      "Epoch 50/200\n",
      "29/29 [==============================] - 0s 5ms/step - loss: 1.6485 - categorical_accuracy: 0.3026 - categorical_crossentropy: 1.6015\n",
      "Epoch 51/200\n",
      "29/29 [==============================] - 0s 5ms/step - loss: 1.6460 - categorical_accuracy: 0.3047 - categorical_crossentropy: 1.5989\n",
      "Epoch 52/200\n",
      "29/29 [==============================] - 0s 5ms/step - loss: 1.6435 - categorical_accuracy: 0.3054 - categorical_crossentropy: 1.5964\n",
      "Epoch 53/200\n",
      "29/29 [==============================] - 0s 5ms/step - loss: 1.6411 - categorical_accuracy: 0.3071 - categorical_crossentropy: 1.5939\n",
      "Epoch 54/200\n",
      "29/29 [==============================] - 0s 6ms/step - loss: 1.6386 - categorical_accuracy: 0.3089 - categorical_crossentropy: 1.5914\n",
      "Epoch 55/200\n",
      "29/29 [==============================] - 0s 5ms/step - loss: 1.6362 - categorical_accuracy: 0.3085 - categorical_crossentropy: 1.5890\n",
      "Epoch 56/200\n",
      "29/29 [==============================] - 0s 6ms/step - loss: 1.6339 - categorical_accuracy: 0.3113 - categorical_crossentropy: 1.5866\n",
      "Epoch 57/200\n",
      "29/29 [==============================] - 0s 6ms/step - loss: 1.6315 - categorical_accuracy: 0.3120 - categorical_crossentropy: 1.5842\n",
      "Epoch 58/200\n",
      "29/29 [==============================] - 0s 6ms/step - loss: 1.6292 - categorical_accuracy: 0.3141 - categorical_crossentropy: 1.5818\n",
      "Epoch 59/200\n",
      "29/29 [==============================] - 0s 6ms/step - loss: 1.6269 - categorical_accuracy: 0.3142 - categorical_crossentropy: 1.5795\n",
      "Epoch 60/200\n",
      "29/29 [==============================] - 0s 6ms/step - loss: 1.6246 - categorical_accuracy: 0.3158 - categorical_crossentropy: 1.5771\n",
      "Epoch 61/200\n",
      "29/29 [==============================] - 0s 6ms/step - loss: 1.6223 - categorical_accuracy: 0.3165 - categorical_crossentropy: 1.5748\n",
      "Epoch 62/200\n",
      "29/29 [==============================] - 0s 6ms/step - loss: 1.6201 - categorical_accuracy: 0.3169 - categorical_crossentropy: 1.5725\n",
      "Epoch 63/200\n",
      "29/29 [==============================] - 0s 6ms/step - loss: 1.6179 - categorical_accuracy: 0.3183 - categorical_crossentropy: 1.5702\n",
      "Epoch 64/200\n",
      "29/29 [==============================] - 0s 6ms/step - loss: 1.6157 - categorical_accuracy: 0.3195 - categorical_crossentropy: 1.5680\n",
      "Epoch 65/200\n",
      "29/29 [==============================] - 0s 7ms/step - loss: 1.6136 - categorical_accuracy: 0.3203 - categorical_crossentropy: 1.5657\n",
      "Epoch 66/200\n",
      "29/29 [==============================] - 0s 7ms/step - loss: 1.6114 - categorical_accuracy: 0.3207 - categorical_crossentropy: 1.5635\n",
      "Epoch 67/200\n",
      "29/29 [==============================] - 0s 6ms/step - loss: 1.6093 - categorical_accuracy: 0.3217 - categorical_crossentropy: 1.5614\n",
      "Epoch 68/200\n",
      "29/29 [==============================] - 0s 6ms/step - loss: 1.6072 - categorical_accuracy: 0.3221 - categorical_crossentropy: 1.5592\n",
      "Epoch 69/200\n",
      "29/29 [==============================] - 0s 5ms/step - loss: 1.6051 - categorical_accuracy: 0.3233 - categorical_crossentropy: 1.5570\n",
      "Epoch 70/200\n",
      "29/29 [==============================] - 0s 5ms/step - loss: 1.6031 - categorical_accuracy: 0.3244 - categorical_crossentropy: 1.5549\n",
      "Epoch 71/200\n",
      "29/29 [==============================] - 0s 6ms/step - loss: 1.6010 - categorical_accuracy: 0.3255 - categorical_crossentropy: 1.5528\n",
      "Epoch 72/200\n",
      "29/29 [==============================] - 0s 6ms/step - loss: 1.5990 - categorical_accuracy: 0.3264 - categorical_crossentropy: 1.5507\n",
      "Epoch 73/200\n",
      "29/29 [==============================] - 0s 5ms/step - loss: 1.5970 - categorical_accuracy: 0.3273 - categorical_crossentropy: 1.5486\n",
      "Epoch 74/200\n",
      "29/29 [==============================] - 0s 5ms/step - loss: 1.5951 - categorical_accuracy: 0.3278 - categorical_crossentropy: 1.5465\n",
      "Epoch 75/200\n",
      "29/29 [==============================] - 0s 5ms/step - loss: 1.5931 - categorical_accuracy: 0.3293 - categorical_crossentropy: 1.5445\n",
      "Epoch 76/200\n",
      "29/29 [==============================] - 0s 5ms/step - loss: 1.5912 - categorical_accuracy: 0.3305 - categorical_crossentropy: 1.5425\n",
      "Epoch 77/200\n",
      "29/29 [==============================] - 0s 5ms/step - loss: 1.5893 - categorical_accuracy: 0.3312 - categorical_crossentropy: 1.5405\n",
      "Epoch 78/200\n",
      "29/29 [==============================] - 0s 5ms/step - loss: 1.5874 - categorical_accuracy: 0.3313 - categorical_crossentropy: 1.5385\n",
      "Epoch 79/200\n",
      "29/29 [==============================] - 0s 6ms/step - loss: 1.5855 - categorical_accuracy: 0.3322 - categorical_crossentropy: 1.5366\n",
      "Epoch 80/200\n",
      "29/29 [==============================] - 0s 6ms/step - loss: 1.5837 - categorical_accuracy: 0.3330 - categorical_crossentropy: 1.5346\n",
      "Epoch 81/200\n",
      "29/29 [==============================] - 0s 7ms/step - loss: 1.5818 - categorical_accuracy: 0.3341 - categorical_crossentropy: 1.5327\n",
      "Epoch 82/200\n",
      "29/29 [==============================] - 0s 6ms/step - loss: 1.5800 - categorical_accuracy: 0.3354 - categorical_crossentropy: 1.5308\n",
      "Epoch 83/200\n",
      "29/29 [==============================] - 0s 6ms/step - loss: 1.5782 - categorical_accuracy: 0.3354 - categorical_crossentropy: 1.5289\n",
      "Epoch 84/200\n",
      "29/29 [==============================] - 0s 6ms/step - loss: 1.5765 - categorical_accuracy: 0.3366 - categorical_crossentropy: 1.5270\n",
      "Epoch 85/200\n",
      "29/29 [==============================] - 0s 6ms/step - loss: 1.5747 - categorical_accuracy: 0.3373 - categorical_crossentropy: 1.5252\n",
      "Epoch 86/200\n",
      "29/29 [==============================] - 0s 6ms/step - loss: 1.5729 - categorical_accuracy: 0.3375 - categorical_crossentropy: 1.5233\n",
      "Epoch 87/200\n",
      "29/29 [==============================] - 0s 5ms/step - loss: 1.5712 - categorical_accuracy: 0.3383 - categorical_crossentropy: 1.5215\n",
      "Epoch 88/200\n",
      "29/29 [==============================] - 0s 6ms/step - loss: 1.5695 - categorical_accuracy: 0.3387 - categorical_crossentropy: 1.5197\n",
      "Epoch 89/200\n",
      "29/29 [==============================] - 0s 6ms/step - loss: 1.5678 - categorical_accuracy: 0.3399 - categorical_crossentropy: 1.5179\n",
      "Epoch 90/200\n",
      "29/29 [==============================] - 0s 5ms/step - loss: 1.5661 - categorical_accuracy: 0.3403 - categorical_crossentropy: 1.5161\n",
      "Epoch 91/200\n",
      "29/29 [==============================] - 0s 5ms/step - loss: 1.5645 - categorical_accuracy: 0.3410 - categorical_crossentropy: 1.5144\n",
      "Epoch 92/200\n",
      "29/29 [==============================] - 0s 6ms/step - loss: 1.5628 - categorical_accuracy: 0.3407 - categorical_crossentropy: 1.5126\n",
      "Epoch 93/200\n",
      "29/29 [==============================] - 0s 5ms/step - loss: 1.5612 - categorical_accuracy: 0.3413 - categorical_crossentropy: 1.5109\n",
      "Epoch 94/200\n",
      "29/29 [==============================] - 0s 6ms/step - loss: 1.5596 - categorical_accuracy: 0.3422 - categorical_crossentropy: 1.5092\n",
      "Epoch 95/200\n",
      "29/29 [==============================] - 0s 5ms/step - loss: 1.5580 - categorical_accuracy: 0.3432 - categorical_crossentropy: 1.5075\n",
      "Epoch 96/200\n",
      "29/29 [==============================] - 0s 5ms/step - loss: 1.5564 - categorical_accuracy: 0.3429 - categorical_crossentropy: 1.5058\n",
      "Epoch 97/200\n",
      "29/29 [==============================] - 0s 6ms/step - loss: 1.5549 - categorical_accuracy: 0.3443 - categorical_crossentropy: 1.5042\n",
      "Epoch 98/200\n",
      "29/29 [==============================] - 0s 5ms/step - loss: 1.5533 - categorical_accuracy: 0.3447 - categorical_crossentropy: 1.5025\n",
      "Epoch 99/200\n",
      "29/29 [==============================] - 0s 6ms/step - loss: 1.5518 - categorical_accuracy: 0.3456 - categorical_crossentropy: 1.5009\n",
      "Epoch 100/200\n",
      "29/29 [==============================] - 0s 6ms/step - loss: 1.5503 - categorical_accuracy: 0.3462 - categorical_crossentropy: 1.4993\n",
      "Epoch 101/200\n",
      "29/29 [==============================] - 0s 6ms/step - loss: 1.5488 - categorical_accuracy: 0.3463 - categorical_crossentropy: 1.4977\n",
      "Epoch 102/200\n",
      "29/29 [==============================] - 0s 5ms/step - loss: 1.5473 - categorical_accuracy: 0.3468 - categorical_crossentropy: 1.4961\n",
      "Epoch 103/200\n",
      "29/29 [==============================] - 0s 6ms/step - loss: 1.5458 - categorical_accuracy: 0.3478 - categorical_crossentropy: 1.4945\n",
      "Epoch 104/200\n",
      "29/29 [==============================] - 0s 5ms/step - loss: 1.5443 - categorical_accuracy: 0.3483 - categorical_crossentropy: 1.4930\n",
      "Epoch 105/200\n",
      "29/29 [==============================] - 0s 6ms/step - loss: 1.5429 - categorical_accuracy: 0.3498 - categorical_crossentropy: 1.4914\n",
      "Epoch 106/200\n",
      "29/29 [==============================] - 0s 5ms/step - loss: 1.5415 - categorical_accuracy: 0.3500 - categorical_crossentropy: 1.4899\n",
      "Epoch 107/200\n",
      "29/29 [==============================] - 0s 6ms/step - loss: 1.5400 - categorical_accuracy: 0.3509 - categorical_crossentropy: 1.4884\n",
      "Epoch 108/200\n",
      "29/29 [==============================] - 0s 5ms/step - loss: 1.5387 - categorical_accuracy: 0.3508 - categorical_crossentropy: 1.4869\n",
      "Epoch 109/200\n",
      "29/29 [==============================] - 0s 5ms/step - loss: 1.5373 - categorical_accuracy: 0.3511 - categorical_crossentropy: 1.4854\n",
      "Epoch 110/200\n",
      "29/29 [==============================] - 0s 6ms/step - loss: 1.5359 - categorical_accuracy: 0.3512 - categorical_crossentropy: 1.4839\n",
      "Epoch 111/200\n",
      "29/29 [==============================] - 0s 5ms/step - loss: 1.5345 - categorical_accuracy: 0.3515 - categorical_crossentropy: 1.4825\n",
      "Epoch 112/200\n",
      "29/29 [==============================] - 0s 5ms/step - loss: 1.5332 - categorical_accuracy: 0.3523 - categorical_crossentropy: 1.4811\n",
      "Epoch 113/200\n",
      "29/29 [==============================] - 0s 5ms/step - loss: 1.5318 - categorical_accuracy: 0.3535 - categorical_crossentropy: 1.4796\n",
      "Epoch 114/200\n",
      "29/29 [==============================] - 0s 5ms/step - loss: 1.5305 - categorical_accuracy: 0.3532 - categorical_crossentropy: 1.4782\n",
      "Epoch 115/200\n",
      "29/29 [==============================] - 0s 6ms/step - loss: 1.5292 - categorical_accuracy: 0.3541 - categorical_crossentropy: 1.4768\n",
      "Epoch 116/200\n",
      "29/29 [==============================] - 0s 5ms/step - loss: 1.5279 - categorical_accuracy: 0.3546 - categorical_crossentropy: 1.4754\n",
      "Epoch 117/200\n",
      "29/29 [==============================] - 0s 5ms/step - loss: 1.5266 - categorical_accuracy: 0.3546 - categorical_crossentropy: 1.4740\n",
      "Epoch 118/200\n",
      "29/29 [==============================] - 0s 5ms/step - loss: 1.5253 - categorical_accuracy: 0.3550 - categorical_crossentropy: 1.4727\n",
      "Epoch 119/200\n",
      "29/29 [==============================] - 0s 6ms/step - loss: 1.5241 - categorical_accuracy: 0.3560 - categorical_crossentropy: 1.4713\n",
      "Epoch 120/200\n",
      "29/29 [==============================] - 0s 5ms/step - loss: 1.5228 - categorical_accuracy: 0.3561 - categorical_crossentropy: 1.4700\n",
      "Epoch 121/200\n",
      "29/29 [==============================] - 0s 5ms/step - loss: 1.5216 - categorical_accuracy: 0.3568 - categorical_crossentropy: 1.4687\n",
      "Epoch 122/200\n",
      "29/29 [==============================] - 0s 5ms/step - loss: 1.5204 - categorical_accuracy: 0.3570 - categorical_crossentropy: 1.4673\n",
      "Epoch 123/200\n",
      "29/29 [==============================] - 0s 6ms/step - loss: 1.5192 - categorical_accuracy: 0.3580 - categorical_crossentropy: 1.4660\n",
      "Epoch 124/200\n",
      "29/29 [==============================] - 0s 7ms/step - loss: 1.5180 - categorical_accuracy: 0.3585 - categorical_crossentropy: 1.4648\n",
      "Epoch 125/200\n",
      "29/29 [==============================] - 0s 6ms/step - loss: 1.5168 - categorical_accuracy: 0.3587 - categorical_crossentropy: 1.4635\n",
      "Epoch 126/200\n",
      "29/29 [==============================] - 0s 5ms/step - loss: 1.5156 - categorical_accuracy: 0.3595 - categorical_crossentropy: 1.4622\n",
      "Epoch 127/200\n",
      "29/29 [==============================] - 0s 5ms/step - loss: 1.5144 - categorical_accuracy: 0.3589 - categorical_crossentropy: 1.4609\n",
      "Epoch 128/200\n",
      "29/29 [==============================] - 0s 5ms/step - loss: 1.5132 - categorical_accuracy: 0.3599 - categorical_crossentropy: 1.4597\n",
      "Epoch 129/200\n",
      "29/29 [==============================] - 0s 5ms/step - loss: 1.5121 - categorical_accuracy: 0.3600 - categorical_crossentropy: 1.4585\n",
      "Epoch 130/200\n",
      "29/29 [==============================] - 0s 5ms/step - loss: 1.5110 - categorical_accuracy: 0.3602 - categorical_crossentropy: 1.4573\n",
      "Epoch 131/200\n",
      "29/29 [==============================] - 0s 5ms/step - loss: 1.5098 - categorical_accuracy: 0.3614 - categorical_crossentropy: 1.4560\n",
      "Epoch 132/200\n",
      "29/29 [==============================] - 0s 6ms/step - loss: 1.5087 - categorical_accuracy: 0.3613 - categorical_crossentropy: 1.4548\n",
      "Epoch 133/200\n",
      "29/29 [==============================] - 0s 6ms/step - loss: 1.5076 - categorical_accuracy: 0.3619 - categorical_crossentropy: 1.4536\n",
      "Epoch 134/200\n",
      "29/29 [==============================] - 0s 5ms/step - loss: 1.5065 - categorical_accuracy: 0.3626 - categorical_crossentropy: 1.4525\n",
      "Epoch 135/200\n",
      "29/29 [==============================] - 0s 6ms/step - loss: 1.5054 - categorical_accuracy: 0.3624 - categorical_crossentropy: 1.4513\n",
      "Epoch 136/200\n",
      "29/29 [==============================] - 0s 5ms/step - loss: 1.5043 - categorical_accuracy: 0.3624 - categorical_crossentropy: 1.4501\n",
      "Epoch 137/200\n",
      "29/29 [==============================] - 0s 6ms/step - loss: 1.5033 - categorical_accuracy: 0.3629 - categorical_crossentropy: 1.4490\n",
      "Epoch 138/200\n",
      "29/29 [==============================] - 0s 6ms/step - loss: 1.5022 - categorical_accuracy: 0.3633 - categorical_crossentropy: 1.4478\n",
      "Epoch 139/200\n",
      "29/29 [==============================] - 0s 5ms/step - loss: 1.5012 - categorical_accuracy: 0.3628 - categorical_crossentropy: 1.4467\n",
      "Epoch 140/200\n",
      "29/29 [==============================] - 0s 5ms/step - loss: 1.5001 - categorical_accuracy: 0.3633 - categorical_crossentropy: 1.4456\n",
      "Epoch 141/200\n",
      "29/29 [==============================] - 0s 6ms/step - loss: 1.4991 - categorical_accuracy: 0.3637 - categorical_crossentropy: 1.4444\n",
      "Epoch 142/200\n",
      "29/29 [==============================] - 0s 5ms/step - loss: 1.4981 - categorical_accuracy: 0.3651 - categorical_crossentropy: 1.4434\n",
      "Epoch 143/200\n",
      "29/29 [==============================] - 0s 5ms/step - loss: 1.4970 - categorical_accuracy: 0.3651 - categorical_crossentropy: 1.4423\n",
      "Epoch 144/200\n",
      "29/29 [==============================] - 0s 5ms/step - loss: 1.4960 - categorical_accuracy: 0.3658 - categorical_crossentropy: 1.4412\n",
      "Epoch 145/200\n",
      "29/29 [==============================] - 0s 5ms/step - loss: 1.4950 - categorical_accuracy: 0.3660 - categorical_crossentropy: 1.4401\n",
      "Epoch 146/200\n",
      "29/29 [==============================] - 0s 5ms/step - loss: 1.4941 - categorical_accuracy: 0.3660 - categorical_crossentropy: 1.4391\n",
      "Epoch 147/200\n",
      "29/29 [==============================] - 0s 5ms/step - loss: 1.4931 - categorical_accuracy: 0.3662 - categorical_crossentropy: 1.4380\n",
      "Epoch 148/200\n",
      "29/29 [==============================] - 0s 5ms/step - loss: 1.4921 - categorical_accuracy: 0.3666 - categorical_crossentropy: 1.4370\n",
      "Epoch 149/200\n",
      "29/29 [==============================] - 0s 6ms/step - loss: 1.4911 - categorical_accuracy: 0.3670 - categorical_crossentropy: 1.4359\n",
      "Epoch 150/200\n",
      "29/29 [==============================] - 0s 5ms/step - loss: 1.4902 - categorical_accuracy: 0.3671 - categorical_crossentropy: 1.4349\n",
      "Epoch 151/200\n",
      "29/29 [==============================] - 0s 6ms/step - loss: 1.4892 - categorical_accuracy: 0.3666 - categorical_crossentropy: 1.4339\n",
      "Epoch 152/200\n",
      "29/29 [==============================] - 0s 6ms/step - loss: 1.4883 - categorical_accuracy: 0.3679 - categorical_crossentropy: 1.4329\n",
      "Epoch 153/200\n",
      "29/29 [==============================] - 0s 6ms/step - loss: 1.4874 - categorical_accuracy: 0.3681 - categorical_crossentropy: 1.4319\n",
      "Epoch 154/200\n",
      "29/29 [==============================] - 0s 6ms/step - loss: 1.4864 - categorical_accuracy: 0.3681 - categorical_crossentropy: 1.4309\n",
      "Epoch 155/200\n",
      "29/29 [==============================] - 0s 5ms/step - loss: 1.4855 - categorical_accuracy: 0.3694 - categorical_crossentropy: 1.4299\n",
      "Epoch 156/200\n",
      "29/29 [==============================] - 0s 5ms/step - loss: 1.4846 - categorical_accuracy: 0.3686 - categorical_crossentropy: 1.4289\n",
      "Epoch 157/200\n",
      "29/29 [==============================] - 0s 6ms/step - loss: 1.4837 - categorical_accuracy: 0.3689 - categorical_crossentropy: 1.4279\n",
      "Epoch 158/200\n",
      "29/29 [==============================] - 0s 5ms/step - loss: 1.4828 - categorical_accuracy: 0.3694 - categorical_crossentropy: 1.4270\n",
      "Epoch 159/200\n",
      "29/29 [==============================] - 0s 5ms/step - loss: 1.4819 - categorical_accuracy: 0.3696 - categorical_crossentropy: 1.4260\n",
      "Epoch 160/200\n",
      "29/29 [==============================] - 0s 5ms/step - loss: 1.4810 - categorical_accuracy: 0.3697 - categorical_crossentropy: 1.4251\n",
      "Epoch 161/200\n",
      "29/29 [==============================] - 0s 6ms/step - loss: 1.4801 - categorical_accuracy: 0.3701 - categorical_crossentropy: 1.4241\n",
      "Epoch 162/200\n",
      "29/29 [==============================] - 0s 5ms/step - loss: 1.4793 - categorical_accuracy: 0.3705 - categorical_crossentropy: 1.4232\n",
      "Epoch 163/200\n",
      "29/29 [==============================] - 0s 5ms/step - loss: 1.4784 - categorical_accuracy: 0.3712 - categorical_crossentropy: 1.4223\n",
      "Epoch 164/200\n",
      "29/29 [==============================] - 0s 5ms/step - loss: 1.4776 - categorical_accuracy: 0.3715 - categorical_crossentropy: 1.4214\n",
      "Epoch 165/200\n",
      "29/29 [==============================] - 0s 5ms/step - loss: 1.4767 - categorical_accuracy: 0.3719 - categorical_crossentropy: 1.4205\n",
      "Epoch 166/200\n",
      "29/29 [==============================] - 0s 5ms/step - loss: 1.4759 - categorical_accuracy: 0.3713 - categorical_crossentropy: 1.4196\n",
      "Epoch 167/200\n",
      "29/29 [==============================] - 0s 5ms/step - loss: 1.4750 - categorical_accuracy: 0.3724 - categorical_crossentropy: 1.4187\n",
      "Epoch 168/200\n",
      "29/29 [==============================] - 0s 5ms/step - loss: 1.4742 - categorical_accuracy: 0.3721 - categorical_crossentropy: 1.4178\n",
      "Epoch 169/200\n",
      "29/29 [==============================] - 0s 5ms/step - loss: 1.4734 - categorical_accuracy: 0.3721 - categorical_crossentropy: 1.4169\n",
      "Epoch 170/200\n",
      "29/29 [==============================] - 0s 5ms/step - loss: 1.4726 - categorical_accuracy: 0.3716 - categorical_crossentropy: 1.4160\n",
      "Epoch 171/200\n",
      "29/29 [==============================] - 0s 6ms/step - loss: 1.4718 - categorical_accuracy: 0.3735 - categorical_crossentropy: 1.4152\n",
      "Epoch 172/200\n",
      "29/29 [==============================] - 0s 5ms/step - loss: 1.4710 - categorical_accuracy: 0.3730 - categorical_crossentropy: 1.4143\n",
      "Epoch 173/200\n",
      "29/29 [==============================] - 0s 5ms/step - loss: 1.4702 - categorical_accuracy: 0.3726 - categorical_crossentropy: 1.4134\n",
      "Epoch 174/200\n",
      "29/29 [==============================] - 0s 5ms/step - loss: 1.4694 - categorical_accuracy: 0.3734 - categorical_crossentropy: 1.4126\n",
      "Epoch 175/200\n",
      "29/29 [==============================] - 0s 5ms/step - loss: 1.4686 - categorical_accuracy: 0.3735 - categorical_crossentropy: 1.4118\n",
      "Epoch 176/200\n",
      "29/29 [==============================] - 0s 5ms/step - loss: 1.4678 - categorical_accuracy: 0.3754 - categorical_crossentropy: 1.4109\n",
      "Epoch 177/200\n",
      "29/29 [==============================] - 0s 5ms/step - loss: 1.4670 - categorical_accuracy: 0.3750 - categorical_crossentropy: 1.4101\n",
      "Epoch 178/200\n",
      "29/29 [==============================] - 0s 5ms/step - loss: 1.4663 - categorical_accuracy: 0.3738 - categorical_crossentropy: 1.4093\n",
      "Epoch 179/200\n",
      "29/29 [==============================] - 0s 5ms/step - loss: 1.4655 - categorical_accuracy: 0.3740 - categorical_crossentropy: 1.4085\n",
      "Epoch 180/200\n",
      "29/29 [==============================] - 0s 5ms/step - loss: 1.4648 - categorical_accuracy: 0.3740 - categorical_crossentropy: 1.4077\n",
      "Epoch 181/200\n",
      "29/29 [==============================] - 0s 6ms/step - loss: 1.4640 - categorical_accuracy: 0.3758 - categorical_crossentropy: 1.4069\n",
      "Epoch 182/200\n",
      "29/29 [==============================] - 0s 5ms/step - loss: 1.4632 - categorical_accuracy: 0.3757 - categorical_crossentropy: 1.4061\n",
      "Epoch 183/200\n",
      "29/29 [==============================] - 0s 5ms/step - loss: 1.4625 - categorical_accuracy: 0.3750 - categorical_crossentropy: 1.4053\n",
      "Epoch 184/200\n",
      "29/29 [==============================] - 0s 5ms/step - loss: 1.4618 - categorical_accuracy: 0.3743 - categorical_crossentropy: 1.4045\n",
      "Epoch 185/200\n",
      "29/29 [==============================] - 0s 7ms/step - loss: 1.4610 - categorical_accuracy: 0.3769 - categorical_crossentropy: 1.4037\n",
      "Epoch 186/200\n",
      "29/29 [==============================] - 0s 5ms/step - loss: 1.4603 - categorical_accuracy: 0.3764 - categorical_crossentropy: 1.4030\n",
      "Epoch 187/200\n",
      "29/29 [==============================] - 0s 5ms/step - loss: 1.4596 - categorical_accuracy: 0.3770 - categorical_crossentropy: 1.4021\n",
      "Epoch 188/200\n",
      "29/29 [==============================] - 0s 5ms/step - loss: 1.4589 - categorical_accuracy: 0.3765 - categorical_crossentropy: 1.4014\n",
      "Epoch 189/200\n",
      "29/29 [==============================] - 0s 5ms/step - loss: 1.4582 - categorical_accuracy: 0.3787 - categorical_crossentropy: 1.4007\n",
      "Epoch 190/200\n",
      "29/29 [==============================] - 0s 6ms/step - loss: 1.4575 - categorical_accuracy: 0.3769 - categorical_crossentropy: 1.3999\n",
      "Epoch 191/200\n",
      "29/29 [==============================] - 0s 5ms/step - loss: 1.4568 - categorical_accuracy: 0.3762 - categorical_crossentropy: 1.3992\n",
      "Epoch 192/200\n",
      "29/29 [==============================] - 0s 5ms/step - loss: 1.4561 - categorical_accuracy: 0.3787 - categorical_crossentropy: 1.3984\n",
      "Epoch 193/200\n",
      "29/29 [==============================] - 0s 5ms/step - loss: 1.4554 - categorical_accuracy: 0.3776 - categorical_crossentropy: 1.3977\n",
      "Epoch 194/200\n",
      "29/29 [==============================] - 0s 5ms/step - loss: 1.4547 - categorical_accuracy: 0.3765 - categorical_crossentropy: 1.3969\n",
      "Epoch 195/200\n",
      "29/29 [==============================] - 0s 5ms/step - loss: 1.4540 - categorical_accuracy: 0.3784 - categorical_crossentropy: 1.3963\n",
      "Epoch 196/200\n",
      "29/29 [==============================] - 0s 5ms/step - loss: 1.4533 - categorical_accuracy: 0.3774 - categorical_crossentropy: 1.3955\n",
      "Epoch 197/200\n",
      "29/29 [==============================] - 0s 5ms/step - loss: 1.4527 - categorical_accuracy: 0.3787 - categorical_crossentropy: 1.3948\n",
      "Epoch 198/200\n",
      "29/29 [==============================] - 0s 5ms/step - loss: 1.4520 - categorical_accuracy: 0.3791 - categorical_crossentropy: 1.3941\n",
      "Epoch 199/200\n",
      "29/29 [==============================] - 0s 6ms/step - loss: 1.4513 - categorical_accuracy: 0.3788 - categorical_crossentropy: 1.3934\n",
      "Epoch 200/200\n",
      "29/29 [==============================] - 0s 6ms/step - loss: 1.4507 - categorical_accuracy: 0.3792 - categorical_crossentropy: 1.3927\n"
     ]
    },
    {
     "data": {
      "text/plain": [
       "LearningShapelets(max_iter=200, n_shapelets_per_size={12: 6}, verbose=1,\n",
       "                  weight_regularizer=0.01)"
      ]
     },
     "execution_count": 29,
     "metadata": {},
     "output_type": "execute_result"
    }
   ],
   "source": [
    "shp_clf.fit(body_gyro_x_train, y_train)"
   ]
  },
  {
   "cell_type": "code",
   "execution_count": 30,
   "id": "7f33ff11-8fc2-404f-b242-1893a8a5d60f",
   "metadata": {
    "id": "kir_odYapkoN",
    "outputId": "63588a77-7afb-4db7-9f42-ca1eec501291",
    "pycharm": {
     "name": "#%%\n"
    }
   },
   "outputs": [
    {
     "name": "stdout",
     "output_type": "stream",
     "text": [
      "12/12 [==============================] - 0s 5ms/step\n"
     ]
    }
   ],
   "source": [
    "y_pred = shp_clf.predict(body_gyro_x_test)"
   ]
  },
  {
   "cell_type": "code",
   "execution_count": 31,
   "id": "033cbd4c-3077-43c7-aa2e-5d8bc4882cfa",
   "metadata": {
    "id": "-rcdcLMBpkoN",
    "outputId": "44abc232-e46e-479e-9928-f8d136915d4d",
    "pycharm": {
     "name": "#%%\n"
    }
   },
   "outputs": [
    {
     "name": "stdout",
     "output_type": "stream",
     "text": [
      "Accuracy 0.3702069901594842\n",
      "F1-score [0.52676399 0.17421603 0.         0.12624585 0.13099042 0.52169625]\n",
      "              precision    recall  f1-score   support\n",
      "\n",
      "           1       0.38      0.87      0.53       496\n",
      "           2       0.49      0.11      0.17       471\n",
      "           3       0.00      0.00      0.00       420\n",
      "           4       0.34      0.08      0.13       491\n",
      "           5       0.44      0.08      0.13       532\n",
      "           6       0.35      0.99      0.52       537\n",
      "\n",
      "    accuracy                           0.37      2947\n",
      "   macro avg       0.33      0.35      0.25      2947\n",
      "weighted avg       0.34      0.37      0.26      2947\n",
      "\n"
     ]
    }
   ],
   "source": [
    "print('Accuracy %s' % accuracy_score(y_test, y_pred))\n",
    "print('F1-score %s' % f1_score(y_test, y_pred, average=None))\n",
    "print(classification_report(y_test, y_pred))"
   ]
  },
  {
   "cell_type": "markdown",
   "id": "05679bbd-6636-4801-ba16-89f5871fe621",
   "metadata": {
    "id": "-TxnXRcYpkoN",
    "pycharm": {
     "name": "#%% md\n"
    }
   },
   "source": [
    "# Shaplet-distances-based Classifier"
   ]
  },
  {
   "cell_type": "code",
   "execution_count": 32,
   "id": "2d3649c6-77f1-45c3-8e51-f573bc00eaac",
   "metadata": {
    "id": "zXmL7T9FpkoN",
    "outputId": "147eb02b-e845-456d-9638-3f9c3eb45fe8",
    "pycharm": {
     "name": "#%%\n"
    }
   },
   "outputs": [
    {
     "name": "stdout",
     "output_type": "stream",
     "text": [
      "29/29 [==============================] - 0s 6ms/step\n"
     ]
    }
   ],
   "source": [
    "X_train2 = shp_clf.transform(body_gyro_x_train)"
   ]
  },
  {
   "cell_type": "code",
   "execution_count": 33,
   "id": "b465ecb2-a7d2-4a89-a0cb-47bb76599d50",
   "metadata": {
    "id": "MaZxPlKfpkoN",
    "outputId": "978da0b0-2474-4348-dc8e-7c52e9e4c075",
    "pycharm": {
     "name": "#%%\n"
    }
   },
   "outputs": [
    {
     "data": {
      "text/plain": [
       "(7352, 6)"
      ]
     },
     "execution_count": 33,
     "metadata": {},
     "output_type": "execute_result"
    }
   ],
   "source": [
    "X_train2.shape"
   ]
  },
  {
   "cell_type": "code",
   "execution_count": 34,
   "id": "29e1317d-36be-4f58-9a6b-e5019891820c",
   "metadata": {
    "id": "WuiG9ztvpkoO",
    "outputId": "f7612804-a51e-49c4-fa66-213514f57470",
    "pycharm": {
     "name": "#%%\n"
    },
    "tags": []
   },
   "outputs": [
    {
     "data": {
      "text/plain": [
       "array([[3.16109727e-05, 1.47584963e+00, 1.83588356e-01, 3.31198752e-01,\n",
       "        1.46587342e-01, 1.36230230e+00],\n",
       "       [3.16109727e-05, 1.41172695e+00, 1.83688089e-01, 3.02785039e-01,\n",
       "        1.50766581e-01, 1.38004720e+00],\n",
       "       [5.09038800e-05, 1.39487553e+00, 1.83688089e-01, 2.93777913e-01,\n",
       "        1.50766581e-01, 1.38004720e+00],\n",
       "       ...,\n",
       "       [2.10537240e-02, 8.13817978e-02, 2.59610824e-02, 1.27891703e-02,\n",
       "        3.68353538e-02, 2.52799213e-01],\n",
       "       [1.29218055e-02, 8.13817978e-02, 6.71010464e-02, 1.99542847e-02,\n",
       "        3.93618345e-02, 9.79280412e-01],\n",
       "       [1.29218055e-02, 1.06393978e-01, 1.73393097e-02, 7.14265108e-02,\n",
       "        2.55999565e-02, 3.07628632e-01]], dtype=float32)"
      ]
     },
     "execution_count": 34,
     "metadata": {},
     "output_type": "execute_result"
    }
   ],
   "source": [
    "X_train2"
   ]
  },
  {
   "cell_type": "code",
   "execution_count": 35,
   "id": "d254e024-2447-4e9c-83ee-b3a2f6b8da48",
   "metadata": {
    "id": "JEKSKv5gpkoO",
    "outputId": "bef6eaff-eeed-470e-fe29-ff74e05b493a",
    "pycharm": {
     "name": "#%%\n"
    }
   },
   "outputs": [
    {
     "name": "stdout",
     "output_type": "stream",
     "text": [
      "12/12 [==============================] - 0s 9ms/step\n"
     ]
    }
   ],
   "source": [
    "X_test2 = shp_clf.transform(body_gyro_x_test)"
   ]
  },
  {
   "cell_type": "code",
   "execution_count": 36,
   "id": "26acc6c6-eb42-436d-b327-fb8b7f75d246",
   "metadata": {
    "id": "0UEks8wCpkoO",
    "pycharm": {
     "name": "#%%\n"
    }
   },
   "outputs": [],
   "source": [
    "from sklearn.neighbors import KNeighborsClassifier"
   ]
  },
  {
   "cell_type": "code",
   "execution_count": 108,
   "id": "78e5c861-4e9a-4090-baa8-f088ab971562",
   "metadata": {
    "tags": []
   },
   "outputs": [
    {
     "name": "stdout",
     "output_type": "stream",
     "text": [
      "Fitting 10 folds for each of 60 candidates, totalling 600 fits\n"
     ]
    },
    {
     "data": {
      "text/plain": [
       "GridSearchCV(cv=10, estimator=KNeighborsClassifier(),\n",
       "             param_grid={'n_neighbors': [1, 2, 3, 4, 5, 6, 7, 8, 9, 10, 11, 12,\n",
       "                                         13, 14, 15, 16, 17, 18, 19, 20, 21, 22,\n",
       "                                         23, 24, 25, 26, 27, 28, 29, 30],\n",
       "                         'weights': ['uniform', 'distance']},\n",
       "             scoring='accuracy', verbose=1)"
      ]
     },
     "execution_count": 108,
     "metadata": {},
     "output_type": "execute_result"
    }
   ],
   "source": [
    "# define the parameter values that should be searched\n",
    "k_range = list(range(1, 31))\n",
    "weight_options = ['uniform', 'distance']\n",
    "param_grid = dict(n_neighbors=k_range, weights=weight_options)\n",
    "\n",
    "grid = GridSearchCV(KNeighborsClassifier(), param_grid, cv=10, scoring='accuracy', return_train_score=False,verbose=1)\n",
    "grid.fit(X_train2, y_train)"
   ]
  },
  {
   "cell_type": "code",
   "execution_count": 109,
   "id": "35368fe9-8a83-47bc-93b2-b098924a774b",
   "metadata": {},
   "outputs": [
    {
     "data": {
      "text/plain": [
       "{'n_neighbors': 30, 'weights': 'distance'}"
      ]
     },
     "execution_count": 109,
     "metadata": {},
     "output_type": "execute_result"
    }
   ],
   "source": [
    "grid.best_params_"
   ]
  },
  {
   "cell_type": "code",
   "execution_count": 36,
   "id": "924eb5df-ce41-4185-a364-9217ddb0858f",
   "metadata": {
    "id": "jTPmij_0pkoO",
    "outputId": "c498c271-2a61-45d2-9c85-19b17ce46aa6",
    "pycharm": {
     "name": "#%%\n"
    }
   },
   "outputs": [
    {
     "data": {
      "text/plain": [
       "KNeighborsClassifier(n_neighbors=30, weights='distance')"
      ]
     },
     "execution_count": 36,
     "metadata": {},
     "output_type": "execute_result"
    }
   ],
   "source": [
    "clf = KNeighborsClassifier(n_neighbors=30, weights='distance')\n",
    "clf.fit(X_train2, y_train)"
   ]
  },
  {
   "cell_type": "code",
   "execution_count": 37,
   "id": "a8e9244c-6abd-475c-a546-852dcead19b9",
   "metadata": {
    "id": "k60fe41PpkoP",
    "outputId": "fb59293a-8ac7-46d3-cbb8-4d6523b4b609",
    "pycharm": {
     "name": "#%%\n"
    }
   },
   "outputs": [
    {
     "name": "stdout",
     "output_type": "stream",
     "text": [
      "Accuracy 0.5622667119104173\n",
      "F1-score [0.66191446 0.62075848 0.56202532 0.54077253 0.56032389 0.42182581]\n",
      "              precision    recall  f1-score   support\n",
      "\n",
      "           1       0.67      0.66      0.66       496\n",
      "           2       0.59      0.66      0.62       471\n",
      "           3       0.60      0.53      0.56       420\n",
      "           4       0.57      0.51      0.54       491\n",
      "           5       0.49      0.65      0.56       532\n",
      "           6       0.48      0.37      0.42       537\n",
      "\n",
      "    accuracy                           0.56      2947\n",
      "   macro avg       0.57      0.56      0.56      2947\n",
      "weighted avg       0.56      0.56      0.56      2947\n",
      "\n"
     ]
    }
   ],
   "source": [
    "y_pred = clf.predict(X_test2)\n",
    "\n",
    "print('Accuracy %s' % accuracy_score(y_test, y_pred))\n",
    "print('F1-score %s' % f1_score(y_test, y_pred, average=None))\n",
    "print(classification_report(y_test, y_pred))"
   ]
  },
  {
   "cell_type": "code",
   "execution_count": 38,
   "id": "1024290f-ba98-448c-83ae-2fdda17076e5",
   "metadata": {
    "id": "S5sv3JI_pkoP",
    "pycharm": {
     "name": "#%%\n"
    }
   },
   "outputs": [],
   "source": [
    "from sklearn.tree import DecisionTreeClassifier"
   ]
  },
  {
   "cell_type": "code",
   "execution_count": 113,
   "id": "6312edc0-9482-4172-a9a4-7503fc9e3b16",
   "metadata": {},
   "outputs": [
    {
     "name": "stdout",
     "output_type": "stream",
     "text": [
      "Fitting 10 folds for each of 30 candidates, totalling 300 fits\n"
     ]
    },
    {
     "data": {
      "text/plain": [
       "GridSearchCV(cv=10, estimator=DecisionTreeClassifier(),\n",
       "             param_grid={'max_depth': [1, 2, 3, 4, 5, 6, 7, 8, 9, 10, 11, 12,\n",
       "                                       13, 14, 15, 16, 17, 18, 19, 20, 21, 22,\n",
       "                                       23, 24, 25, 26, 27, 28, 29, 30]},\n",
       "             scoring='accuracy', verbose=1)"
      ]
     },
     "execution_count": 113,
     "metadata": {},
     "output_type": "execute_result"
    }
   ],
   "source": [
    "# define the parameter values that should be searched\n",
    "k_range = list(range(1, 31))\n",
    "param_grid = dict(max_depth=k_range)\n",
    "\n",
    "grid = GridSearchCV(DecisionTreeClassifier(), param_grid, cv=10, scoring='accuracy', return_train_score=False,verbose=1)\n",
    "grid.fit(X_train2, y_train)"
   ]
  },
  {
   "cell_type": "code",
   "execution_count": 114,
   "id": "02591054-e309-4929-9655-72a44a7d624e",
   "metadata": {},
   "outputs": [
    {
     "data": {
      "text/plain": [
       "{'max_depth': 7}"
      ]
     },
     "execution_count": 114,
     "metadata": {},
     "output_type": "execute_result"
    }
   ],
   "source": [
    "grid.best_params_"
   ]
  },
  {
   "cell_type": "code",
   "execution_count": 39,
   "id": "c103368d-1d51-430b-bd3e-a10bd13ac487",
   "metadata": {
    "id": "0fp6tSmWpkoP",
    "outputId": "1046d5c7-6357-4c1c-e06e-046a92accb56",
    "pycharm": {
     "name": "#%%\n"
    }
   },
   "outputs": [
    {
     "name": "stdout",
     "output_type": "stream",
     "text": [
      "Accuracy 0.5524261961316593\n",
      "F1-score [0.67909715 0.57373272 0.57589286 0.52325581 0.55300222 0.3924612 ]\n",
      "              precision    recall  f1-score   support\n",
      "\n",
      "           1       0.66      0.70      0.68       496\n",
      "           2       0.63      0.53      0.57       471\n",
      "           3       0.54      0.61      0.58       420\n",
      "           4       0.61      0.46      0.52       491\n",
      "           5       0.46      0.70      0.55       532\n",
      "           6       0.48      0.33      0.39       537\n",
      "\n",
      "    accuracy                           0.55      2947\n",
      "   macro avg       0.56      0.55      0.55      2947\n",
      "weighted avg       0.56      0.55      0.55      2947\n",
      "\n"
     ]
    }
   ],
   "source": [
    "clf = DecisionTreeClassifier(max_depth=7, random_state=42)\n",
    "clf.fit(X_train2, y_train)\n",
    "\n",
    "y_pred = clf.predict(X_test2)\n",
    "\n",
    "print('Accuracy %s' % accuracy_score(y_test, y_pred))\n",
    "print('F1-score %s' % f1_score(y_test, y_pred, average=None))\n",
    "print(classification_report(y_test, y_pred))"
   ]
  },
  {
   "cell_type": "markdown",
   "id": "c717abf2-3dee-4bfe-8185-1a93643cae67",
   "metadata": {
    "id": "90yFnXYYpkoP",
    "pycharm": {
     "name": "#%% md\n"
    }
   },
   "source": [
    "# Feature-based Classifier"
   ]
  },
  {
   "cell_type": "code",
   "execution_count": 40,
   "id": "97874606-3a38-414a-86c2-668ef9538cb5",
   "metadata": {
    "id": "HOV_0xXvpkoP",
    "pycharm": {
     "name": "#%%\n"
    }
   },
   "outputs": [],
   "source": [
    "import scipy.stats as stats"
   ]
  },
  {
   "cell_type": "code",
   "execution_count": 41,
   "id": "eba2803c-2ea6-4b5d-a486-7d963ddfdb74",
   "metadata": {
    "id": "c5GR1KqbpkoQ",
    "pycharm": {
     "name": "#%%\n"
    }
   },
   "outputs": [],
   "source": [
    "def calculate_features(values):\n",
    "    features = {\n",
    "        'avg': np.mean(values),\n",
    "        'std': np.std(values),\n",
    "        'var': np.var(values),\n",
    "        'med': np.median(values),\n",
    "        '10p': np.percentile(values, 10),\n",
    "        '25p': np.percentile(values, 25),\n",
    "        '50p': np.percentile(values, 50),\n",
    "        '75p': np.percentile(values, 75),\n",
    "        '90p': np.percentile(values, 90),\n",
    "        'iqr': np.percentile(values, 75) - np.percentile(values, 25),\n",
    "        'skw': stats.skew(values),\n",
    "        'kur': stats.kurtosis(values)\n",
    "    }\n",
    "\n",
    "    return features"
   ]
  },
  {
   "cell_type": "code",
   "execution_count": 42,
   "id": "95aa8d7a-27bf-4408-898b-f568fd262ead",
   "metadata": {
    "id": "ZNd7C48ApkoQ",
    "pycharm": {
     "name": "#%%\n"
    }
   },
   "outputs": [],
   "source": [
    "X_train3 = np.array([list(calculate_features(x).values()) for x in body_gyro_x_train.T])"
   ]
  },
  {
   "cell_type": "code",
   "execution_count": 43,
   "id": "13f8849c-3f6c-4ca0-ab84-ab2cb8518869",
   "metadata": {
    "id": "7mkmVDb2pkoQ",
    "outputId": "4b261462-8bf8-479c-ca3d-53b742f4b9ce",
    "pycharm": {
     "name": "#%%\n"
    }
   },
   "outputs": [
    {
     "data": {
      "text/plain": [
       "(7352, 12)"
      ]
     },
     "execution_count": 43,
     "metadata": {},
     "output_type": "execute_result"
    }
   ],
   "source": [
    "X_train3.shape"
   ]
  },
  {
   "cell_type": "code",
   "execution_count": 44,
   "id": "b6f0d63c-138f-4503-a3f5-e95eeda76d7b",
   "metadata": {
    "id": "FbVKnw1XpkoR",
    "pycharm": {
     "name": "#%%\n"
    }
   },
   "outputs": [],
   "source": [
    "X_test3 = np.array([list(calculate_features(x).values()) for x in body_gyro_x_test.T])"
   ]
  },
  {
   "cell_type": "code",
   "execution_count": 45,
   "id": "5b907873-7649-4000-8285-055bd6002377",
   "metadata": {
    "id": "evcXInlnpkoR",
    "outputId": "10ae09ea-c940-4d2c-e510-b83d42678547",
    "pycharm": {
     "name": "#%%\n"
    },
    "tags": []
   },
   "outputs": [
    {
     "name": "stdout",
     "output_type": "stream",
     "text": [
      "Accuracy 0.19138106549032916\n",
      "F1-score [0.         0.         0.         0.         0.09660107 0.31067399]\n",
      "              precision    recall  f1-score   support\n",
      "\n",
      "           1       0.00      0.00      0.00       496\n",
      "           2       0.00      0.00      0.00       471\n",
      "           3       0.00      0.00      0.00       420\n",
      "           4       0.00      0.00      0.00       491\n",
      "           5       1.00      0.05      0.10       532\n",
      "           6       0.18      1.00      0.31       537\n",
      "\n",
      "    accuracy                           0.19      2947\n",
      "   macro avg       0.20      0.18      0.07      2947\n",
      "weighted avg       0.21      0.19      0.07      2947\n",
      "\n"
     ]
    }
   ],
   "source": [
    "clf = DecisionTreeClassifier(max_depth=15, random_state=42)\n",
    "clf.fit(X_train3, y_train)\n",
    "\n",
    "y_pred = clf.predict(X_test3)\n",
    "\n",
    "print('Accuracy %s' % accuracy_score(y_test, y_pred))\n",
    "print('F1-score %s' % f1_score(y_test, y_pred, average=None))\n",
    "print(classification_report(y_test, y_pred))"
   ]
  },
  {
   "cell_type": "markdown",
   "id": "289190d9-ddad-4b05-ae83-7deb015ea048",
   "metadata": {
    "id": "bwx-pRFXpkoR",
    "pycharm": {
     "name": "#%% md\n"
    }
   },
   "source": [
    "# Time Series Classifier"
   ]
  },
  {
   "cell_type": "code",
   "execution_count": 129,
   "id": "25f8d309-ac6a-4b03-bbb6-2e6a8c211e0e",
   "metadata": {},
   "outputs": [
    {
     "name": "stdout",
     "output_type": "stream",
     "text": [
      "Fitting 10 folds for each of 60 candidates, totalling 600 fits\n"
     ]
    },
    {
     "data": {
      "text/plain": [
       "GridSearchCV(cv=10, estimator=KNeighborsClassifier(),\n",
       "             param_grid={'n_neighbors': [1, 2, 3, 4, 5, 6, 7, 8, 9, 10, 11, 12,\n",
       "                                         13, 14, 15, 16, 17, 18, 19, 20, 21, 22,\n",
       "                                         23, 24, 25, 26, 27, 28, 29, 30],\n",
       "                         'weights': ['uniform', 'distance']},\n",
       "             scoring='accuracy', verbose=1)"
      ]
     },
     "execution_count": 129,
     "metadata": {},
     "output_type": "execute_result"
    }
   ],
   "source": [
    "# define the parameter values that should be searched\n",
    "k_range = list(range(1, 31))\n",
    "weight_options = ['uniform', 'distance']\n",
    "param_grid = dict(n_neighbors=k_range, weights=weight_options)\n",
    "\n",
    "grid = GridSearchCV(KNeighborsClassifier(), param_grid, cv=10, scoring='accuracy', return_train_score=False,verbose=1)\n",
    "grid.fit(body_gyro_x_train, y_train)"
   ]
  },
  {
   "cell_type": "code",
   "execution_count": 130,
   "id": "2a01849d-5e00-49dc-8ce7-ad443398e692",
   "metadata": {},
   "outputs": [
    {
     "data": {
      "text/plain": [
       "{'n_neighbors': 5, 'weights': 'distance'}"
      ]
     },
     "execution_count": 130,
     "metadata": {},
     "output_type": "execute_result"
    }
   ],
   "source": [
    "grid.best_params_"
   ]
  },
  {
   "cell_type": "code",
   "execution_count": 46,
   "id": "578e5498-8c1f-40ed-b086-f6d16d263a62",
   "metadata": {
    "id": "aCPkwfdipkoS",
    "outputId": "170ba5cb-4bd1-4fc7-84b1-5f404fb592ab",
    "pycharm": {
     "name": "#%%\n"
    }
   },
   "outputs": [
    {
     "name": "stdout",
     "output_type": "stream",
     "text": [
      "Accuracy 0.5863590091618596\n",
      "F1-score [0.79726651 0.64053751 0.62928349 0.55508831 0.50229148 0.47626978]\n",
      "              precision    recall  f1-score   support\n",
      "\n",
      "           1       0.92      0.71      0.80       496\n",
      "           2       0.68      0.61      0.64       471\n",
      "           3       0.91      0.48      0.63       420\n",
      "           4       0.47      0.67      0.56       491\n",
      "           5       0.49      0.52      0.50       532\n",
      "           6       0.43      0.53      0.48       537\n",
      "\n",
      "    accuracy                           0.59      2947\n",
      "   macro avg       0.65      0.59      0.60      2947\n",
      "weighted avg       0.64      0.59      0.60      2947\n",
      "\n"
     ]
    }
   ],
   "source": [
    "clf = KNeighborsClassifier(n_neighbors=5, weights='distance')\n",
    "clf.fit(body_gyro_x_train, y_train)\n",
    "\n",
    "y_pred = clf.predict(body_gyro_x_test)\n",
    "\n",
    "print('Accuracy %s' % accuracy_score(y_test, y_pred))\n",
    "print('F1-score %s' % f1_score(y_test, y_pred, average=None))\n",
    "print(classification_report(y_test, y_pred))"
   ]
  },
  {
   "cell_type": "code",
   "execution_count": 131,
   "id": "faef26fa-805f-46c0-96c1-0b99b8596933",
   "metadata": {},
   "outputs": [
    {
     "name": "stdout",
     "output_type": "stream",
     "text": [
      "Fitting 10 folds for each of 30 candidates, totalling 300 fits\n"
     ]
    },
    {
     "data": {
      "text/plain": [
       "GridSearchCV(cv=10, estimator=DecisionTreeClassifier(),\n",
       "             param_grid={'max_depth': [1, 2, 3, 4, 5, 6, 7, 8, 9, 10, 11, 12,\n",
       "                                       13, 14, 15, 16, 17, 18, 19, 20, 21, 22,\n",
       "                                       23, 24, 25, 26, 27, 28, 29, 30]},\n",
       "             scoring='accuracy', verbose=1)"
      ]
     },
     "execution_count": 131,
     "metadata": {},
     "output_type": "execute_result"
    }
   ],
   "source": [
    "# define the parameter values that should be searched\n",
    "k_range = list(range(1, 31))\n",
    "param_grid = dict(max_depth=k_range)\n",
    "\n",
    "grid = GridSearchCV(DecisionTreeClassifier(), param_grid, cv=10, scoring='accuracy', return_train_score=False,verbose=1)\n",
    "grid.fit(body_gyro_x_train, y_train)"
   ]
  },
  {
   "cell_type": "code",
   "execution_count": 132,
   "id": "c878dc92-536f-4040-af16-84763d1a03ac",
   "metadata": {},
   "outputs": [
    {
     "data": {
      "text/plain": [
       "{'max_depth': 15}"
      ]
     },
     "execution_count": 132,
     "metadata": {},
     "output_type": "execute_result"
    }
   ],
   "source": [
    "grid.best_params_"
   ]
  },
  {
   "cell_type": "code",
   "execution_count": 47,
   "id": "39ad90de-8349-4b9d-8d43-584bc30fa274",
   "metadata": {
    "id": "KuPWFSPupkoS",
    "outputId": "dc89fe8e-fbef-4d40-8ff4-fe420359d136",
    "pycharm": {
     "name": "#%%\n"
    }
   },
   "outputs": [
    {
     "name": "stdout",
     "output_type": "stream",
     "text": [
      "Accuracy 0.5374957583983713\n",
      "F1-score [0.71159564 0.53669222 0.52205882 0.54025045 0.49028677 0.41797283]\n",
      "              precision    recall  f1-score   support\n",
      "\n",
      "           1       0.70      0.72      0.71       496\n",
      "           2       0.55      0.52      0.54       471\n",
      "           3       0.54      0.51      0.52       420\n",
      "           4       0.48      0.62      0.54       491\n",
      "           5       0.48      0.50      0.49       532\n",
      "           6       0.48      0.37      0.42       537\n",
      "\n",
      "    accuracy                           0.54      2947\n",
      "   macro avg       0.54      0.54      0.54      2947\n",
      "weighted avg       0.54      0.54      0.53      2947\n",
      "\n"
     ]
    }
   ],
   "source": [
    "clf = DecisionTreeClassifier(max_depth=15, random_state=42)\n",
    "clf.fit(body_gyro_x_train, y_train)\n",
    "\n",
    "y_pred = clf.predict(body_gyro_x_test)\n",
    "\n",
    "print('Accuracy %s' % accuracy_score(y_test, y_pred))\n",
    "print('F1-score %s' % f1_score(y_test, y_pred, average=None))\n",
    "print(classification_report(y_test, y_pred))"
   ]
  },
  {
   "cell_type": "code",
   "execution_count": 48,
   "id": "a685186f-7609-4813-a7f1-39d4ac65affd",
   "metadata": {
    "id": "7xzPvb5UpkoS",
    "pycharm": {
     "name": "#%%\n"
    }
   },
   "outputs": [],
   "source": [
    "from pyts.classification import KNeighborsClassifier"
   ]
  },
  {
   "cell_type": "code",
   "execution_count": null,
   "id": "dab20884-335c-4e23-8972-8d89964b295b",
   "metadata": {
    "id": "V2AnMoCrpkoS",
    "outputId": "6cf11bce-9eaa-4c90-c6be-8701886a9e2a",
    "pycharm": {
     "name": "#%%\n"
    },
    "tags": []
   },
   "outputs": [],
   "source": [
    "clf = KNeighborsClassifier(metric='dtw_multiscale', n_jobs=-1)\n",
    "clf.fit(body_gyro_x_train, y_train)\n",
    "\n",
    "y_pred = clf.predict(body_gyro_x_test)\n",
    "\n",
    "print('Accuracy %s' % accuracy_score(y_test, y_pred))\n",
    "print('F1-score %s' % f1_score(y_test, y_pred, average=None))\n",
    "print(classification_report(y_test, y_pred))"
   ]
  },
  {
   "cell_type": "markdown",
   "id": "c21a2578-312a-4127-8542-4327361cfa46",
   "metadata": {
    "id": "OWCfDdospkoT",
    "pycharm": {
     "name": "#%% md\n"
    }
   },
   "source": [
    "# CNN Classifier"
   ]
  },
  {
   "cell_type": "code",
   "execution_count": 49,
   "id": "82769e9c-a544-46ae-ac65-95cd044e534c",
   "metadata": {
    "id": "k3XrWmxlpkoT",
    "pycharm": {
     "name": "#%%\n"
    }
   },
   "outputs": [],
   "source": [
    "from keras.models import Sequential\n",
    "from keras.layers import Dense, Dropout, GlobalAveragePooling1D\n",
    "from keras.layers import Conv1D, Activation, Conv1D, BatchNormalization"
   ]
  },
  {
   "cell_type": "code",
   "execution_count": 50,
   "id": "d68e592e-7141-474d-b37f-3336c6fe5db9",
   "metadata": {
    "id": "ApM9qSj-pkoT",
    "pycharm": {
     "name": "#%%\n"
    }
   },
   "outputs": [],
   "source": [
    "def build_simple_cnn(n_timesteps, n_outputs):\n",
    "    model = Sequential()\n",
    "    \n",
    "    model.add(Conv1D(filters=16, kernel_size=8, activation='relu', input_shape=(n_timesteps, 1)))\n",
    "    model.add(BatchNormalization())\n",
    "    model.add(Activation('relu'))\n",
    "    \n",
    "    model.add(Dropout(0.3))\n",
    "    \n",
    "    model.add(Conv1D(filters=32, kernel_size=5, activation='relu'))\n",
    "    model.add(BatchNormalization())\n",
    "    model.add(Activation('relu'))\n",
    "    \n",
    "    model.add(Dropout(0.3))\n",
    "    \n",
    "    model.add(Conv1D(filters=64, kernel_size=3, activation='relu'))\n",
    "    model.add(BatchNormalization())\n",
    "    model.add(Activation('relu'))\n",
    "    \n",
    "    model.add(Dropout(0.3))\n",
    "    \n",
    "    model.add(GlobalAveragePooling1D())\n",
    "    \n",
    "    model.add(Dense(n_outputs, activation='sigmoid'))\n",
    "    model.compile(loss='sparse_categorical_crossentropy', optimizer='adam', metrics=['accuracy'])\n",
    "    \n",
    "    return model"
   ]
  },
  {
   "cell_type": "code",
   "execution_count": 51,
   "id": "560a0800-c9ef-4538-bc12-e19772849944",
   "metadata": {
    "id": "wmnOwynQpkoU",
    "outputId": "5e9df287-c309-41df-a55c-1dfe47593dac",
    "pycharm": {
     "name": "#%%\n"
    }
   },
   "outputs": [
    {
     "name": "stdout",
     "output_type": "stream",
     "text": [
      "TIMESTEPS:  128\n",
      "N. LABELS:  6\n"
     ]
    }
   ],
   "source": [
    "X_train_cnn = body_gyro_x_train\n",
    "X_test_cnn = body_gyro_x_test\n",
    "\n",
    "X_train_cnn, X_val_cnn, y_train_cnn, y_val_cnn = train_test_split(X_train_cnn, y_train, test_size=0.2, stratify=y_train)\n",
    "\n",
    "n_timesteps, n_outputs, n_features = X_train_cnn.shape[1], len(np.unique(y_train_cnn)), 1 \n",
    "print(\"TIMESTEPS: \", n_timesteps)\n",
    "print(\"N. LABELS: \", n_outputs)"
   ]
  },
  {
   "cell_type": "code",
   "execution_count": 52,
   "id": "369f205f-a236-49d0-9eb5-f63f04171f18",
   "metadata": {
    "id": "oM2bOVwSpkoU",
    "pycharm": {
     "name": "#%%\n"
    }
   },
   "outputs": [],
   "source": [
    "cnn = build_simple_cnn(n_timesteps, n_outputs)"
   ]
  },
  {
   "cell_type": "code",
   "execution_count": 29,
   "id": "fb313b9e-9d64-4272-9393-f3fe03c56195",
   "metadata": {
    "collapsed": true,
    "id": "e3pGbY5GpkoU",
    "jupyter": {
     "outputs_hidden": true
    },
    "outputId": "50c196b7-5816-4a19-c9b4-ae5e4dbc9982",
    "pycharm": {
     "name": "#%%\n"
    },
    "tags": []
   },
   "outputs": [
    {
     "name": "stdout",
     "output_type": "stream",
     "text": [
      "Model: \"sequential\"\n",
      "_________________________________________________________________\n",
      " Layer (type)                Output Shape              Param #   \n",
      "=================================================================\n",
      " conv1d (Conv1D)             (None, 121, 16)           144       \n",
      "                                                                 \n",
      " batch_normalization (BatchN  (None, 121, 16)          64        \n",
      " ormalization)                                                   \n",
      "                                                                 \n",
      " activation (Activation)     (None, 121, 16)           0         \n",
      "                                                                 \n",
      " dropout (Dropout)           (None, 121, 16)           0         \n",
      "                                                                 \n",
      " conv1d_1 (Conv1D)           (None, 117, 32)           2592      \n",
      "                                                                 \n",
      " batch_normalization_1 (Batc  (None, 117, 32)          128       \n",
      " hNormalization)                                                 \n",
      "                                                                 \n",
      " activation_1 (Activation)   (None, 117, 32)           0         \n",
      "                                                                 \n",
      " dropout_1 (Dropout)         (None, 117, 32)           0         \n",
      "                                                                 \n",
      " conv1d_2 (Conv1D)           (None, 115, 64)           6208      \n",
      "                                                                 \n",
      " batch_normalization_2 (Batc  (None, 115, 64)          256       \n",
      " hNormalization)                                                 \n",
      "                                                                 \n",
      " activation_2 (Activation)   (None, 115, 64)           0         \n",
      "                                                                 \n",
      " dropout_2 (Dropout)         (None, 115, 64)           0         \n",
      "                                                                 \n",
      " global_average_pooling1d (G  (None, 64)               0         \n",
      " lobalAveragePooling1D)                                          \n",
      "                                                                 \n",
      " dense (Dense)               (None, 6)                 390       \n",
      "                                                                 \n",
      "=================================================================\n",
      "Total params: 9,782\n",
      "Trainable params: 9,558\n",
      "Non-trainable params: 224\n",
      "_________________________________________________________________\n"
     ]
    }
   ],
   "source": [
    "cnn.summary()"
   ]
  },
  {
   "cell_type": "code",
   "execution_count": 53,
   "id": "a622e9c1-e85d-41ec-a45c-740eb3d1444d",
   "metadata": {
    "id": "OUB8hChFpkoV",
    "pycharm": {
     "name": "#%%\n"
    }
   },
   "outputs": [],
   "source": [
    "from keras.callbacks import ReduceLROnPlateau, ModelCheckpoint"
   ]
  },
  {
   "cell_type": "code",
   "execution_count": 54,
   "id": "19a39d01-9a97-440e-b988-09dedd71faa0",
   "metadata": {
    "id": "8hlW9jiIpkoV",
    "pycharm": {
     "name": "#%%\n"
    }
   },
   "outputs": [],
   "source": [
    "rlr = ReduceLROnPlateau(monitor='loss', factor=0.5, patience=50, min_lr=0.0001)\n",
    "mc = ModelCheckpoint('best_model_cnn.h5', monitor='val_loss', save_best_only=True)\n",
    "\n",
    "callbacks = [rlr, mc]\n",
    "\n",
    "batch_size = 16\n",
    "mini_batch_size = int(min(X_train_cnn.shape[0]/10, batch_size))"
   ]
  },
  {
   "cell_type": "code",
   "execution_count": 32,
   "id": "1b031eb9-1f34-40e0-b736-cb02ad5daa5d",
   "metadata": {
    "collapsed": true,
    "id": "3FVa6uDSpkoV",
    "jupyter": {
     "outputs_hidden": true
    },
    "outputId": "b7d573d0-51c8-48e9-ee32-a66509202bbd",
    "pycharm": {
     "name": "#%%\n"
    },
    "tags": []
   },
   "outputs": [
    {
     "name": "stdout",
     "output_type": "stream",
     "text": [
      "Epoch 1/5\n"
     ]
    },
    {
     "name": "stderr",
     "output_type": "stream",
     "text": [
      "2022-05-16 13:30:46.793796: W tensorflow/core/framework/op_kernel.cc:1745] OP_REQUIRES failed at sparse_xent_op.cc:103 : INVALID_ARGUMENT: Received a label value of 6 which is outside the valid range of [0, 6).  Label values: 1 1 6 1 5 6 1 5 2 3 2 5 5 5 6 4\n"
     ]
    },
    {
     "ename": "InvalidArgumentError",
     "evalue": "Graph execution error:\n\nDetected at node 'sparse_categorical_crossentropy/SparseSoftmaxCrossEntropyWithLogits/SparseSoftmaxCrossEntropyWithLogits' defined at (most recent call last):\n    File \"/opt/anaconda3/lib/python3.8/runpy.py\", line 193, in _run_module_as_main\n      return _run_code(code, main_globals, None,\n    File \"/opt/anaconda3/lib/python3.8/runpy.py\", line 86, in _run_code\n      exec(code, run_globals)\n    File \"/opt/anaconda3/lib/python3.8/site-packages/ipykernel_launcher.py\", line 16, in <module>\n      app.launch_new_instance()\n    File \"/opt/anaconda3/lib/python3.8/site-packages/traitlets/config/application.py\", line 845, in launch_instance\n      app.start()\n    File \"/opt/anaconda3/lib/python3.8/site-packages/ipykernel/kernelapp.py\", line 667, in start\n      self.io_loop.start()\n    File \"/opt/anaconda3/lib/python3.8/site-packages/tornado/platform/asyncio.py\", line 199, in start\n      self.asyncio_loop.run_forever()\n    File \"/opt/anaconda3/lib/python3.8/asyncio/base_events.py\", line 570, in run_forever\n      self._run_once()\n    File \"/opt/anaconda3/lib/python3.8/asyncio/base_events.py\", line 1859, in _run_once\n      handle._run()\n    File \"/opt/anaconda3/lib/python3.8/asyncio/events.py\", line 81, in _run\n      self._context.run(self._callback, *self._args)\n    File \"/opt/anaconda3/lib/python3.8/site-packages/ipykernel/kernelbase.py\", line 457, in dispatch_queue\n      await self.process_one()\n    File \"/opt/anaconda3/lib/python3.8/site-packages/ipykernel/kernelbase.py\", line 446, in process_one\n      await dispatch(*args)\n    File \"/opt/anaconda3/lib/python3.8/site-packages/ipykernel/kernelbase.py\", line 353, in dispatch_shell\n      await result\n    File \"/opt/anaconda3/lib/python3.8/site-packages/ipykernel/kernelbase.py\", line 648, in execute_request\n      reply_content = await reply_content\n    File \"/opt/anaconda3/lib/python3.8/site-packages/ipykernel/ipkernel.py\", line 345, in do_execute\n      res = shell.run_cell(code, store_history=store_history, silent=silent)\n    File \"/opt/anaconda3/lib/python3.8/site-packages/ipykernel/zmqshell.py\", line 532, in run_cell\n      return super(ZMQInteractiveShell, self).run_cell(*args, **kwargs)\n    File \"/opt/anaconda3/lib/python3.8/site-packages/IPython/core/interactiveshell.py\", line 2898, in run_cell\n      result = self._run_cell(\n    File \"/opt/anaconda3/lib/python3.8/site-packages/IPython/core/interactiveshell.py\", line 2944, in _run_cell\n      return runner(coro)\n    File \"/opt/anaconda3/lib/python3.8/site-packages/IPython/core/async_helpers.py\", line 68, in _pseudo_sync_runner\n      coro.send(None)\n    File \"/opt/anaconda3/lib/python3.8/site-packages/IPython/core/interactiveshell.py\", line 3169, in run_cell_async\n      has_raised = await self.run_ast_nodes(code_ast.body, cell_name,\n    File \"/opt/anaconda3/lib/python3.8/site-packages/IPython/core/interactiveshell.py\", line 3361, in run_ast_nodes\n      if (await self.run_code(code, result,  async_=asy)):\n    File \"/opt/anaconda3/lib/python3.8/site-packages/IPython/core/interactiveshell.py\", line 3441, in run_code\n      exec(code_obj, self.user_global_ns, self.user_ns)\n    File \"/var/folders/wc/nkw6_2m95b99xglzpfb6736h0000gn/T/ipykernel_2506/3037636033.py\", line 1, in <module>\n      history_cnn = cnn.fit(X_train_cnn, y_train_cnn, epochs=5, batch_size=mini_batch_size, callbacks=callbacks,\n    File \"/opt/anaconda3/lib/python3.8/site-packages/keras/utils/traceback_utils.py\", line 64, in error_handler\n      return fn(*args, **kwargs)\n    File \"/opt/anaconda3/lib/python3.8/site-packages/keras/engine/training.py\", line 1384, in fit\n      tmp_logs = self.train_function(iterator)\n    File \"/opt/anaconda3/lib/python3.8/site-packages/keras/engine/training.py\", line 1021, in train_function\n      return step_function(self, iterator)\n    File \"/opt/anaconda3/lib/python3.8/site-packages/keras/engine/training.py\", line 1010, in step_function\n      outputs = model.distribute_strategy.run(run_step, args=(data,))\n    File \"/opt/anaconda3/lib/python3.8/site-packages/keras/engine/training.py\", line 1000, in run_step\n      outputs = model.train_step(data)\n    File \"/opt/anaconda3/lib/python3.8/site-packages/keras/engine/training.py\", line 860, in train_step\n      loss = self.compute_loss(x, y, y_pred, sample_weight)\n    File \"/opt/anaconda3/lib/python3.8/site-packages/keras/engine/training.py\", line 918, in compute_loss\n      return self.compiled_loss(\n    File \"/opt/anaconda3/lib/python3.8/site-packages/keras/engine/compile_utils.py\", line 201, in __call__\n      loss_value = loss_obj(y_t, y_p, sample_weight=sw)\n    File \"/opt/anaconda3/lib/python3.8/site-packages/keras/losses.py\", line 141, in __call__\n      losses = call_fn(y_true, y_pred)\n    File \"/opt/anaconda3/lib/python3.8/site-packages/keras/losses.py\", line 245, in call\n      return ag_fn(y_true, y_pred, **self._fn_kwargs)\n    File \"/opt/anaconda3/lib/python3.8/site-packages/keras/losses.py\", line 1862, in sparse_categorical_crossentropy\n      return backend.sparse_categorical_crossentropy(\n    File \"/opt/anaconda3/lib/python3.8/site-packages/keras/backend.py\", line 5202, in sparse_categorical_crossentropy\n      res = tf.nn.sparse_softmax_cross_entropy_with_logits(\nNode: 'sparse_categorical_crossentropy/SparseSoftmaxCrossEntropyWithLogits/SparseSoftmaxCrossEntropyWithLogits'\nReceived a label value of 6 which is outside the valid range of [0, 6).  Label values: 1 1 6 1 5 6 1 5 2 3 2 5 5 5 6 4\n\t [[{{node sparse_categorical_crossentropy/SparseSoftmaxCrossEntropyWithLogits/SparseSoftmaxCrossEntropyWithLogits}}]] [Op:__inference_train_function_1841]",
     "output_type": "error",
     "traceback": [
      "\u001b[0;31m---------------------------------------------------------------------------\u001b[0m",
      "\u001b[0;31mInvalidArgumentError\u001b[0m                      Traceback (most recent call last)",
      "\u001b[0;32m/var/folders/wc/nkw6_2m95b99xglzpfb6736h0000gn/T/ipykernel_2506/3037636033.py\u001b[0m in \u001b[0;36m<module>\u001b[0;34m\u001b[0m\n\u001b[0;32m----> 1\u001b[0;31m history_cnn = cnn.fit(X_train_cnn, y_train_cnn, epochs=5, batch_size=mini_batch_size, callbacks=callbacks,\n\u001b[0m\u001b[1;32m      2\u001b[0m                       validation_data=(X_val_cnn, y_val_cnn)).history\n",
      "\u001b[0;32m/opt/anaconda3/lib/python3.8/site-packages/keras/utils/traceback_utils.py\u001b[0m in \u001b[0;36merror_handler\u001b[0;34m(*args, **kwargs)\u001b[0m\n\u001b[1;32m     65\u001b[0m     \u001b[0;32mexcept\u001b[0m \u001b[0mException\u001b[0m \u001b[0;32mas\u001b[0m \u001b[0me\u001b[0m\u001b[0;34m:\u001b[0m  \u001b[0;31m# pylint: disable=broad-except\u001b[0m\u001b[0;34m\u001b[0m\u001b[0;34m\u001b[0m\u001b[0m\n\u001b[1;32m     66\u001b[0m       \u001b[0mfiltered_tb\u001b[0m \u001b[0;34m=\u001b[0m \u001b[0m_process_traceback_frames\u001b[0m\u001b[0;34m(\u001b[0m\u001b[0me\u001b[0m\u001b[0;34m.\u001b[0m\u001b[0m__traceback__\u001b[0m\u001b[0;34m)\u001b[0m\u001b[0;34m\u001b[0m\u001b[0;34m\u001b[0m\u001b[0m\n\u001b[0;32m---> 67\u001b[0;31m       \u001b[0;32mraise\u001b[0m \u001b[0me\u001b[0m\u001b[0;34m.\u001b[0m\u001b[0mwith_traceback\u001b[0m\u001b[0;34m(\u001b[0m\u001b[0mfiltered_tb\u001b[0m\u001b[0;34m)\u001b[0m \u001b[0;32mfrom\u001b[0m \u001b[0;32mNone\u001b[0m\u001b[0;34m\u001b[0m\u001b[0;34m\u001b[0m\u001b[0m\n\u001b[0m\u001b[1;32m     68\u001b[0m     \u001b[0;32mfinally\u001b[0m\u001b[0;34m:\u001b[0m\u001b[0;34m\u001b[0m\u001b[0;34m\u001b[0m\u001b[0m\n\u001b[1;32m     69\u001b[0m       \u001b[0;32mdel\u001b[0m \u001b[0mfiltered_tb\u001b[0m\u001b[0;34m\u001b[0m\u001b[0;34m\u001b[0m\u001b[0m\n",
      "\u001b[0;32m/opt/anaconda3/lib/python3.8/site-packages/tensorflow/python/eager/execute.py\u001b[0m in \u001b[0;36mquick_execute\u001b[0;34m(op_name, num_outputs, inputs, attrs, ctx, name)\u001b[0m\n\u001b[1;32m     52\u001b[0m   \u001b[0;32mtry\u001b[0m\u001b[0;34m:\u001b[0m\u001b[0;34m\u001b[0m\u001b[0;34m\u001b[0m\u001b[0m\n\u001b[1;32m     53\u001b[0m     \u001b[0mctx\u001b[0m\u001b[0;34m.\u001b[0m\u001b[0mensure_initialized\u001b[0m\u001b[0;34m(\u001b[0m\u001b[0;34m)\u001b[0m\u001b[0;34m\u001b[0m\u001b[0;34m\u001b[0m\u001b[0m\n\u001b[0;32m---> 54\u001b[0;31m     tensors = pywrap_tfe.TFE_Py_Execute(ctx._handle, device_name, op_name,\n\u001b[0m\u001b[1;32m     55\u001b[0m                                         inputs, attrs, num_outputs)\n\u001b[1;32m     56\u001b[0m   \u001b[0;32mexcept\u001b[0m \u001b[0mcore\u001b[0m\u001b[0;34m.\u001b[0m\u001b[0m_NotOkStatusException\u001b[0m \u001b[0;32mas\u001b[0m \u001b[0me\u001b[0m\u001b[0;34m:\u001b[0m\u001b[0;34m\u001b[0m\u001b[0;34m\u001b[0m\u001b[0m\n",
      "\u001b[0;31mInvalidArgumentError\u001b[0m: Graph execution error:\n\nDetected at node 'sparse_categorical_crossentropy/SparseSoftmaxCrossEntropyWithLogits/SparseSoftmaxCrossEntropyWithLogits' defined at (most recent call last):\n    File \"/opt/anaconda3/lib/python3.8/runpy.py\", line 193, in _run_module_as_main\n      return _run_code(code, main_globals, None,\n    File \"/opt/anaconda3/lib/python3.8/runpy.py\", line 86, in _run_code\n      exec(code, run_globals)\n    File \"/opt/anaconda3/lib/python3.8/site-packages/ipykernel_launcher.py\", line 16, in <module>\n      app.launch_new_instance()\n    File \"/opt/anaconda3/lib/python3.8/site-packages/traitlets/config/application.py\", line 845, in launch_instance\n      app.start()\n    File \"/opt/anaconda3/lib/python3.8/site-packages/ipykernel/kernelapp.py\", line 667, in start\n      self.io_loop.start()\n    File \"/opt/anaconda3/lib/python3.8/site-packages/tornado/platform/asyncio.py\", line 199, in start\n      self.asyncio_loop.run_forever()\n    File \"/opt/anaconda3/lib/python3.8/asyncio/base_events.py\", line 570, in run_forever\n      self._run_once()\n    File \"/opt/anaconda3/lib/python3.8/asyncio/base_events.py\", line 1859, in _run_once\n      handle._run()\n    File \"/opt/anaconda3/lib/python3.8/asyncio/events.py\", line 81, in _run\n      self._context.run(self._callback, *self._args)\n    File \"/opt/anaconda3/lib/python3.8/site-packages/ipykernel/kernelbase.py\", line 457, in dispatch_queue\n      await self.process_one()\n    File \"/opt/anaconda3/lib/python3.8/site-packages/ipykernel/kernelbase.py\", line 446, in process_one\n      await dispatch(*args)\n    File \"/opt/anaconda3/lib/python3.8/site-packages/ipykernel/kernelbase.py\", line 353, in dispatch_shell\n      await result\n    File \"/opt/anaconda3/lib/python3.8/site-packages/ipykernel/kernelbase.py\", line 648, in execute_request\n      reply_content = await reply_content\n    File \"/opt/anaconda3/lib/python3.8/site-packages/ipykernel/ipkernel.py\", line 345, in do_execute\n      res = shell.run_cell(code, store_history=store_history, silent=silent)\n    File \"/opt/anaconda3/lib/python3.8/site-packages/ipykernel/zmqshell.py\", line 532, in run_cell\n      return super(ZMQInteractiveShell, self).run_cell(*args, **kwargs)\n    File \"/opt/anaconda3/lib/python3.8/site-packages/IPython/core/interactiveshell.py\", line 2898, in run_cell\n      result = self._run_cell(\n    File \"/opt/anaconda3/lib/python3.8/site-packages/IPython/core/interactiveshell.py\", line 2944, in _run_cell\n      return runner(coro)\n    File \"/opt/anaconda3/lib/python3.8/site-packages/IPython/core/async_helpers.py\", line 68, in _pseudo_sync_runner\n      coro.send(None)\n    File \"/opt/anaconda3/lib/python3.8/site-packages/IPython/core/interactiveshell.py\", line 3169, in run_cell_async\n      has_raised = await self.run_ast_nodes(code_ast.body, cell_name,\n    File \"/opt/anaconda3/lib/python3.8/site-packages/IPython/core/interactiveshell.py\", line 3361, in run_ast_nodes\n      if (await self.run_code(code, result,  async_=asy)):\n    File \"/opt/anaconda3/lib/python3.8/site-packages/IPython/core/interactiveshell.py\", line 3441, in run_code\n      exec(code_obj, self.user_global_ns, self.user_ns)\n    File \"/var/folders/wc/nkw6_2m95b99xglzpfb6736h0000gn/T/ipykernel_2506/3037636033.py\", line 1, in <module>\n      history_cnn = cnn.fit(X_train_cnn, y_train_cnn, epochs=5, batch_size=mini_batch_size, callbacks=callbacks,\n    File \"/opt/anaconda3/lib/python3.8/site-packages/keras/utils/traceback_utils.py\", line 64, in error_handler\n      return fn(*args, **kwargs)\n    File \"/opt/anaconda3/lib/python3.8/site-packages/keras/engine/training.py\", line 1384, in fit\n      tmp_logs = self.train_function(iterator)\n    File \"/opt/anaconda3/lib/python3.8/site-packages/keras/engine/training.py\", line 1021, in train_function\n      return step_function(self, iterator)\n    File \"/opt/anaconda3/lib/python3.8/site-packages/keras/engine/training.py\", line 1010, in step_function\n      outputs = model.distribute_strategy.run(run_step, args=(data,))\n    File \"/opt/anaconda3/lib/python3.8/site-packages/keras/engine/training.py\", line 1000, in run_step\n      outputs = model.train_step(data)\n    File \"/opt/anaconda3/lib/python3.8/site-packages/keras/engine/training.py\", line 860, in train_step\n      loss = self.compute_loss(x, y, y_pred, sample_weight)\n    File \"/opt/anaconda3/lib/python3.8/site-packages/keras/engine/training.py\", line 918, in compute_loss\n      return self.compiled_loss(\n    File \"/opt/anaconda3/lib/python3.8/site-packages/keras/engine/compile_utils.py\", line 201, in __call__\n      loss_value = loss_obj(y_t, y_p, sample_weight=sw)\n    File \"/opt/anaconda3/lib/python3.8/site-packages/keras/losses.py\", line 141, in __call__\n      losses = call_fn(y_true, y_pred)\n    File \"/opt/anaconda3/lib/python3.8/site-packages/keras/losses.py\", line 245, in call\n      return ag_fn(y_true, y_pred, **self._fn_kwargs)\n    File \"/opt/anaconda3/lib/python3.8/site-packages/keras/losses.py\", line 1862, in sparse_categorical_crossentropy\n      return backend.sparse_categorical_crossentropy(\n    File \"/opt/anaconda3/lib/python3.8/site-packages/keras/backend.py\", line 5202, in sparse_categorical_crossentropy\n      res = tf.nn.sparse_softmax_cross_entropy_with_logits(\nNode: 'sparse_categorical_crossentropy/SparseSoftmaxCrossEntropyWithLogits/SparseSoftmaxCrossEntropyWithLogits'\nReceived a label value of 6 which is outside the valid range of [0, 6).  Label values: 1 1 6 1 5 6 1 5 2 3 2 5 5 5 6 4\n\t [[{{node sparse_categorical_crossentropy/SparseSoftmaxCrossEntropyWithLogits/SparseSoftmaxCrossEntropyWithLogits}}]] [Op:__inference_train_function_1841]"
     ]
    }
   ],
   "source": [
    "history_cnn = cnn.fit(X_train_cnn, y_train_cnn, epochs=5, batch_size=mini_batch_size, callbacks=callbacks,\n",
    "                      validation_data=(X_val_cnn, y_val_cnn)).history"
   ]
  },
  {
   "cell_type": "code",
   "execution_count": 55,
   "id": "63ebf7d2-9e6e-4188-b011-788b796b6663",
   "metadata": {
    "id": "gyhwCwVXpkoV",
    "outputId": "088409b5-d01b-4c40-bdaf-66965fd7a402",
    "pycharm": {
     "name": "#%%\n"
    }
   },
   "outputs": [
    {
     "name": "stdout",
     "output_type": "stream",
     "text": [
      "Accuracy 0.14251781472684086\n",
      "F1-score [0.         0.         0.         0.24955437 0.         0.\n",
      " 0.        ]\n",
      "              precision    recall  f1-score   support\n",
      "\n",
      "           0       0.00      0.00      0.00         0\n",
      "           1       0.00      0.00      0.00       496\n",
      "           2       0.00      0.00      0.00       471\n",
      "           3       0.14      1.00      0.25       420\n",
      "           4       0.00      0.00      0.00       491\n",
      "           5       0.00      0.00      0.00       532\n",
      "           6       0.00      0.00      0.00       537\n",
      "\n",
      "    accuracy                           0.14      2947\n",
      "   macro avg       0.02      0.14      0.04      2947\n",
      "weighted avg       0.02      0.14      0.04      2947\n",
      "\n"
     ]
    }
   ],
   "source": [
    "y_pred = np.argmax(cnn.predict(X_test_cnn), axis=1)\n",
    "\n",
    "print('Accuracy %s' % accuracy_score(y_test, y_pred))\n",
    "print('F1-score %s' % f1_score(y_test, y_pred, average=None))\n",
    "print(classification_report(y_test, y_pred))"
   ]
  },
  {
   "cell_type": "code",
   "execution_count": 56,
   "id": "97aab8d9-9737-4abb-89a9-34a0c8e7ef8a",
   "metadata": {
    "collapsed": true,
    "id": "KK9bHw20pkoV",
    "jupyter": {
     "outputs_hidden": true
    },
    "outputId": "8dd1e706-cdb9-4e4c-c2e2-da4b9b8b2888",
    "pycharm": {
     "name": "#%%\n"
    },
    "tags": []
   },
   "outputs": [
    {
     "name": "stdout",
     "output_type": "stream",
     "text": [
      " 1/93 [..............................] - ETA: 44s - loss: 1.7935 - accuracy: 0.0000e+00"
     ]
    },
    {
     "name": "stderr",
     "output_type": "stream",
     "text": [
      "2022-05-17 10:22:47.477238: W tensorflow/core/framework/op_kernel.cc:1745] OP_REQUIRES failed at sparse_xent_op.cc:103 : INVALID_ARGUMENT: Received a label value of 6 which is outside the valid range of [0, 6).  Label values: 4 4 4 4 4 4 4 4 4 4 4 4 4 4 4 4 4 4 4 4 4 4 4 6 6 6 6 6 6 6 6 6\n"
     ]
    },
    {
     "ename": "InvalidArgumentError",
     "evalue": "Graph execution error:\n\nDetected at node 'sparse_categorical_crossentropy/SparseSoftmaxCrossEntropyWithLogits/SparseSoftmaxCrossEntropyWithLogits' defined at (most recent call last):\n    File \"/opt/anaconda3/lib/python3.8/runpy.py\", line 193, in _run_module_as_main\n      return _run_code(code, main_globals, None,\n    File \"/opt/anaconda3/lib/python3.8/runpy.py\", line 86, in _run_code\n      exec(code, run_globals)\n    File \"/opt/anaconda3/lib/python3.8/site-packages/ipykernel_launcher.py\", line 16, in <module>\n      app.launch_new_instance()\n    File \"/opt/anaconda3/lib/python3.8/site-packages/traitlets/config/application.py\", line 845, in launch_instance\n      app.start()\n    File \"/opt/anaconda3/lib/python3.8/site-packages/ipykernel/kernelapp.py\", line 667, in start\n      self.io_loop.start()\n    File \"/opt/anaconda3/lib/python3.8/site-packages/tornado/platform/asyncio.py\", line 199, in start\n      self.asyncio_loop.run_forever()\n    File \"/opt/anaconda3/lib/python3.8/asyncio/base_events.py\", line 570, in run_forever\n      self._run_once()\n    File \"/opt/anaconda3/lib/python3.8/asyncio/base_events.py\", line 1859, in _run_once\n      handle._run()\n    File \"/opt/anaconda3/lib/python3.8/asyncio/events.py\", line 81, in _run\n      self._context.run(self._callback, *self._args)\n    File \"/opt/anaconda3/lib/python3.8/site-packages/ipykernel/kernelbase.py\", line 457, in dispatch_queue\n      await self.process_one()\n    File \"/opt/anaconda3/lib/python3.8/site-packages/ipykernel/kernelbase.py\", line 446, in process_one\n      await dispatch(*args)\n    File \"/opt/anaconda3/lib/python3.8/site-packages/ipykernel/kernelbase.py\", line 353, in dispatch_shell\n      await result\n    File \"/opt/anaconda3/lib/python3.8/site-packages/ipykernel/kernelbase.py\", line 648, in execute_request\n      reply_content = await reply_content\n    File \"/opt/anaconda3/lib/python3.8/site-packages/ipykernel/ipkernel.py\", line 345, in do_execute\n      res = shell.run_cell(code, store_history=store_history, silent=silent)\n    File \"/opt/anaconda3/lib/python3.8/site-packages/ipykernel/zmqshell.py\", line 532, in run_cell\n      return super(ZMQInteractiveShell, self).run_cell(*args, **kwargs)\n    File \"/opt/anaconda3/lib/python3.8/site-packages/IPython/core/interactiveshell.py\", line 2898, in run_cell\n      result = self._run_cell(\n    File \"/opt/anaconda3/lib/python3.8/site-packages/IPython/core/interactiveshell.py\", line 2944, in _run_cell\n      return runner(coro)\n    File \"/opt/anaconda3/lib/python3.8/site-packages/IPython/core/async_helpers.py\", line 68, in _pseudo_sync_runner\n      coro.send(None)\n    File \"/opt/anaconda3/lib/python3.8/site-packages/IPython/core/interactiveshell.py\", line 3169, in run_cell_async\n      has_raised = await self.run_ast_nodes(code_ast.body, cell_name,\n    File \"/opt/anaconda3/lib/python3.8/site-packages/IPython/core/interactiveshell.py\", line 3361, in run_ast_nodes\n      if (await self.run_code(code, result,  async_=asy)):\n    File \"/opt/anaconda3/lib/python3.8/site-packages/IPython/core/interactiveshell.py\", line 3441, in run_code\n      exec(code_obj, self.user_global_ns, self.user_ns)\n    File \"/var/folders/wc/nkw6_2m95b99xglzpfb6736h0000gn/T/ipykernel_4389/3003214766.py\", line 1, in <module>\n      cnn.evaluate(X_test_cnn, y_test)\n    File \"/opt/anaconda3/lib/python3.8/site-packages/keras/utils/traceback_utils.py\", line 64, in error_handler\n      return fn(*args, **kwargs)\n    File \"/opt/anaconda3/lib/python3.8/site-packages/keras/engine/training.py\", line 1716, in evaluate\n      tmp_logs = self.test_function(iterator)\n    File \"/opt/anaconda3/lib/python3.8/site-packages/keras/engine/training.py\", line 1525, in test_function\n      return step_function(self, iterator)\n    File \"/opt/anaconda3/lib/python3.8/site-packages/keras/engine/training.py\", line 1514, in step_function\n      outputs = model.distribute_strategy.run(run_step, args=(data,))\n    File \"/opt/anaconda3/lib/python3.8/site-packages/keras/engine/training.py\", line 1507, in run_step\n      outputs = model.test_step(data)\n    File \"/opt/anaconda3/lib/python3.8/site-packages/keras/engine/training.py\", line 1473, in test_step\n      self.compute_loss(x, y, y_pred, sample_weight)\n    File \"/opt/anaconda3/lib/python3.8/site-packages/keras/engine/training.py\", line 918, in compute_loss\n      return self.compiled_loss(\n    File \"/opt/anaconda3/lib/python3.8/site-packages/keras/engine/compile_utils.py\", line 201, in __call__\n      loss_value = loss_obj(y_t, y_p, sample_weight=sw)\n    File \"/opt/anaconda3/lib/python3.8/site-packages/keras/losses.py\", line 141, in __call__\n      losses = call_fn(y_true, y_pred)\n    File \"/opt/anaconda3/lib/python3.8/site-packages/keras/losses.py\", line 245, in call\n      return ag_fn(y_true, y_pred, **self._fn_kwargs)\n    File \"/opt/anaconda3/lib/python3.8/site-packages/keras/losses.py\", line 1862, in sparse_categorical_crossentropy\n      return backend.sparse_categorical_crossentropy(\n    File \"/opt/anaconda3/lib/python3.8/site-packages/keras/backend.py\", line 5202, in sparse_categorical_crossentropy\n      res = tf.nn.sparse_softmax_cross_entropy_with_logits(\nNode: 'sparse_categorical_crossentropy/SparseSoftmaxCrossEntropyWithLogits/SparseSoftmaxCrossEntropyWithLogits'\nReceived a label value of 6 which is outside the valid range of [0, 6).  Label values: 4 4 4 4 4 4 4 4 4 4 4 4 4 4 4 4 4 4 4 4 4 4 4 6 6 6 6 6 6 6 6 6\n\t [[{{node sparse_categorical_crossentropy/SparseSoftmaxCrossEntropyWithLogits/SparseSoftmaxCrossEntropyWithLogits}}]] [Op:__inference_test_function_32913]",
     "output_type": "error",
     "traceback": [
      "\u001b[0;31m---------------------------------------------------------------------------\u001b[0m",
      "\u001b[0;31mInvalidArgumentError\u001b[0m                      Traceback (most recent call last)",
      "\u001b[0;32m/var/folders/wc/nkw6_2m95b99xglzpfb6736h0000gn/T/ipykernel_4389/3003214766.py\u001b[0m in \u001b[0;36m<module>\u001b[0;34m\u001b[0m\n\u001b[0;32m----> 1\u001b[0;31m \u001b[0mcnn\u001b[0m\u001b[0;34m.\u001b[0m\u001b[0mevaluate\u001b[0m\u001b[0;34m(\u001b[0m\u001b[0mX_test_cnn\u001b[0m\u001b[0;34m,\u001b[0m \u001b[0my_test\u001b[0m\u001b[0;34m)\u001b[0m\u001b[0;34m\u001b[0m\u001b[0;34m\u001b[0m\u001b[0m\n\u001b[0m",
      "\u001b[0;32m/opt/anaconda3/lib/python3.8/site-packages/keras/utils/traceback_utils.py\u001b[0m in \u001b[0;36merror_handler\u001b[0;34m(*args, **kwargs)\u001b[0m\n\u001b[1;32m     65\u001b[0m     \u001b[0;32mexcept\u001b[0m \u001b[0mException\u001b[0m \u001b[0;32mas\u001b[0m \u001b[0me\u001b[0m\u001b[0;34m:\u001b[0m  \u001b[0;31m# pylint: disable=broad-except\u001b[0m\u001b[0;34m\u001b[0m\u001b[0;34m\u001b[0m\u001b[0m\n\u001b[1;32m     66\u001b[0m       \u001b[0mfiltered_tb\u001b[0m \u001b[0;34m=\u001b[0m \u001b[0m_process_traceback_frames\u001b[0m\u001b[0;34m(\u001b[0m\u001b[0me\u001b[0m\u001b[0;34m.\u001b[0m\u001b[0m__traceback__\u001b[0m\u001b[0;34m)\u001b[0m\u001b[0;34m\u001b[0m\u001b[0;34m\u001b[0m\u001b[0m\n\u001b[0;32m---> 67\u001b[0;31m       \u001b[0;32mraise\u001b[0m \u001b[0me\u001b[0m\u001b[0;34m.\u001b[0m\u001b[0mwith_traceback\u001b[0m\u001b[0;34m(\u001b[0m\u001b[0mfiltered_tb\u001b[0m\u001b[0;34m)\u001b[0m \u001b[0;32mfrom\u001b[0m \u001b[0;32mNone\u001b[0m\u001b[0;34m\u001b[0m\u001b[0;34m\u001b[0m\u001b[0m\n\u001b[0m\u001b[1;32m     68\u001b[0m     \u001b[0;32mfinally\u001b[0m\u001b[0;34m:\u001b[0m\u001b[0;34m\u001b[0m\u001b[0;34m\u001b[0m\u001b[0m\n\u001b[1;32m     69\u001b[0m       \u001b[0;32mdel\u001b[0m \u001b[0mfiltered_tb\u001b[0m\u001b[0;34m\u001b[0m\u001b[0;34m\u001b[0m\u001b[0m\n",
      "\u001b[0;32m/opt/anaconda3/lib/python3.8/site-packages/tensorflow/python/eager/execute.py\u001b[0m in \u001b[0;36mquick_execute\u001b[0;34m(op_name, num_outputs, inputs, attrs, ctx, name)\u001b[0m\n\u001b[1;32m     52\u001b[0m   \u001b[0;32mtry\u001b[0m\u001b[0;34m:\u001b[0m\u001b[0;34m\u001b[0m\u001b[0;34m\u001b[0m\u001b[0m\n\u001b[1;32m     53\u001b[0m     \u001b[0mctx\u001b[0m\u001b[0;34m.\u001b[0m\u001b[0mensure_initialized\u001b[0m\u001b[0;34m(\u001b[0m\u001b[0;34m)\u001b[0m\u001b[0;34m\u001b[0m\u001b[0;34m\u001b[0m\u001b[0m\n\u001b[0;32m---> 54\u001b[0;31m     tensors = pywrap_tfe.TFE_Py_Execute(ctx._handle, device_name, op_name,\n\u001b[0m\u001b[1;32m     55\u001b[0m                                         inputs, attrs, num_outputs)\n\u001b[1;32m     56\u001b[0m   \u001b[0;32mexcept\u001b[0m \u001b[0mcore\u001b[0m\u001b[0;34m.\u001b[0m\u001b[0m_NotOkStatusException\u001b[0m \u001b[0;32mas\u001b[0m \u001b[0me\u001b[0m\u001b[0;34m:\u001b[0m\u001b[0;34m\u001b[0m\u001b[0;34m\u001b[0m\u001b[0m\n",
      "\u001b[0;31mInvalidArgumentError\u001b[0m: Graph execution error:\n\nDetected at node 'sparse_categorical_crossentropy/SparseSoftmaxCrossEntropyWithLogits/SparseSoftmaxCrossEntropyWithLogits' defined at (most recent call last):\n    File \"/opt/anaconda3/lib/python3.8/runpy.py\", line 193, in _run_module_as_main\n      return _run_code(code, main_globals, None,\n    File \"/opt/anaconda3/lib/python3.8/runpy.py\", line 86, in _run_code\n      exec(code, run_globals)\n    File \"/opt/anaconda3/lib/python3.8/site-packages/ipykernel_launcher.py\", line 16, in <module>\n      app.launch_new_instance()\n    File \"/opt/anaconda3/lib/python3.8/site-packages/traitlets/config/application.py\", line 845, in launch_instance\n      app.start()\n    File \"/opt/anaconda3/lib/python3.8/site-packages/ipykernel/kernelapp.py\", line 667, in start\n      self.io_loop.start()\n    File \"/opt/anaconda3/lib/python3.8/site-packages/tornado/platform/asyncio.py\", line 199, in start\n      self.asyncio_loop.run_forever()\n    File \"/opt/anaconda3/lib/python3.8/asyncio/base_events.py\", line 570, in run_forever\n      self._run_once()\n    File \"/opt/anaconda3/lib/python3.8/asyncio/base_events.py\", line 1859, in _run_once\n      handle._run()\n    File \"/opt/anaconda3/lib/python3.8/asyncio/events.py\", line 81, in _run\n      self._context.run(self._callback, *self._args)\n    File \"/opt/anaconda3/lib/python3.8/site-packages/ipykernel/kernelbase.py\", line 457, in dispatch_queue\n      await self.process_one()\n    File \"/opt/anaconda3/lib/python3.8/site-packages/ipykernel/kernelbase.py\", line 446, in process_one\n      await dispatch(*args)\n    File \"/opt/anaconda3/lib/python3.8/site-packages/ipykernel/kernelbase.py\", line 353, in dispatch_shell\n      await result\n    File \"/opt/anaconda3/lib/python3.8/site-packages/ipykernel/kernelbase.py\", line 648, in execute_request\n      reply_content = await reply_content\n    File \"/opt/anaconda3/lib/python3.8/site-packages/ipykernel/ipkernel.py\", line 345, in do_execute\n      res = shell.run_cell(code, store_history=store_history, silent=silent)\n    File \"/opt/anaconda3/lib/python3.8/site-packages/ipykernel/zmqshell.py\", line 532, in run_cell\n      return super(ZMQInteractiveShell, self).run_cell(*args, **kwargs)\n    File \"/opt/anaconda3/lib/python3.8/site-packages/IPython/core/interactiveshell.py\", line 2898, in run_cell\n      result = self._run_cell(\n    File \"/opt/anaconda3/lib/python3.8/site-packages/IPython/core/interactiveshell.py\", line 2944, in _run_cell\n      return runner(coro)\n    File \"/opt/anaconda3/lib/python3.8/site-packages/IPython/core/async_helpers.py\", line 68, in _pseudo_sync_runner\n      coro.send(None)\n    File \"/opt/anaconda3/lib/python3.8/site-packages/IPython/core/interactiveshell.py\", line 3169, in run_cell_async\n      has_raised = await self.run_ast_nodes(code_ast.body, cell_name,\n    File \"/opt/anaconda3/lib/python3.8/site-packages/IPython/core/interactiveshell.py\", line 3361, in run_ast_nodes\n      if (await self.run_code(code, result,  async_=asy)):\n    File \"/opt/anaconda3/lib/python3.8/site-packages/IPython/core/interactiveshell.py\", line 3441, in run_code\n      exec(code_obj, self.user_global_ns, self.user_ns)\n    File \"/var/folders/wc/nkw6_2m95b99xglzpfb6736h0000gn/T/ipykernel_4389/3003214766.py\", line 1, in <module>\n      cnn.evaluate(X_test_cnn, y_test)\n    File \"/opt/anaconda3/lib/python3.8/site-packages/keras/utils/traceback_utils.py\", line 64, in error_handler\n      return fn(*args, **kwargs)\n    File \"/opt/anaconda3/lib/python3.8/site-packages/keras/engine/training.py\", line 1716, in evaluate\n      tmp_logs = self.test_function(iterator)\n    File \"/opt/anaconda3/lib/python3.8/site-packages/keras/engine/training.py\", line 1525, in test_function\n      return step_function(self, iterator)\n    File \"/opt/anaconda3/lib/python3.8/site-packages/keras/engine/training.py\", line 1514, in step_function\n      outputs = model.distribute_strategy.run(run_step, args=(data,))\n    File \"/opt/anaconda3/lib/python3.8/site-packages/keras/engine/training.py\", line 1507, in run_step\n      outputs = model.test_step(data)\n    File \"/opt/anaconda3/lib/python3.8/site-packages/keras/engine/training.py\", line 1473, in test_step\n      self.compute_loss(x, y, y_pred, sample_weight)\n    File \"/opt/anaconda3/lib/python3.8/site-packages/keras/engine/training.py\", line 918, in compute_loss\n      return self.compiled_loss(\n    File \"/opt/anaconda3/lib/python3.8/site-packages/keras/engine/compile_utils.py\", line 201, in __call__\n      loss_value = loss_obj(y_t, y_p, sample_weight=sw)\n    File \"/opt/anaconda3/lib/python3.8/site-packages/keras/losses.py\", line 141, in __call__\n      losses = call_fn(y_true, y_pred)\n    File \"/opt/anaconda3/lib/python3.8/site-packages/keras/losses.py\", line 245, in call\n      return ag_fn(y_true, y_pred, **self._fn_kwargs)\n    File \"/opt/anaconda3/lib/python3.8/site-packages/keras/losses.py\", line 1862, in sparse_categorical_crossentropy\n      return backend.sparse_categorical_crossentropy(\n    File \"/opt/anaconda3/lib/python3.8/site-packages/keras/backend.py\", line 5202, in sparse_categorical_crossentropy\n      res = tf.nn.sparse_softmax_cross_entropy_with_logits(\nNode: 'sparse_categorical_crossentropy/SparseSoftmaxCrossEntropyWithLogits/SparseSoftmaxCrossEntropyWithLogits'\nReceived a label value of 6 which is outside the valid range of [0, 6).  Label values: 4 4 4 4 4 4 4 4 4 4 4 4 4 4 4 4 4 4 4 4 4 4 4 6 6 6 6 6 6 6 6 6\n\t [[{{node sparse_categorical_crossentropy/SparseSoftmaxCrossEntropyWithLogits/SparseSoftmaxCrossEntropyWithLogits}}]] [Op:__inference_test_function_32913]"
     ]
    }
   ],
   "source": [
    "cnn.evaluate(X_test_cnn, y_test)"
   ]
  },
  {
   "cell_type": "markdown",
   "id": "1a883cdb-6f42-4c5e-b8e9-e4426b03810d",
   "metadata": {
    "id": "oFMjyB2HpkoW",
    "pycharm": {
     "name": "#%% md\n"
    }
   },
   "source": [
    "# LSTM Classifier"
   ]
  },
  {
   "cell_type": "code",
   "execution_count": 57,
   "id": "2734af36-4bde-4df7-a68c-01e409d6ab38",
   "metadata": {
    "id": "IZe4VFW6pkoW",
    "pycharm": {
     "name": "#%%\n"
    }
   },
   "outputs": [],
   "source": [
    "from keras.layers import LSTM"
   ]
  },
  {
   "cell_type": "code",
   "execution_count": 58,
   "id": "240a535d-8c60-4c77-a3b6-f04ad998f3ed",
   "metadata": {
    "id": "7V0uXF8BpkoW",
    "pycharm": {
     "name": "#%%\n"
    }
   },
   "outputs": [],
   "source": [
    "def build_lstm(n_timesteps, n_outputs):\n",
    "    model = Sequential()\n",
    "    model.add(LSTM(256, input_shape=(n_timesteps, 1)))\n",
    "    model.add(Dropout(0.5))\n",
    "    model.add(Dense(64, activation='relu'))\n",
    "    model.add(Dropout(0.2))\n",
    "    model.add(Dense(n_outputs, activation='sigmoid'))\n",
    "    \n",
    "    model.compile(loss='sparse_categorical_crossentropy', optimizer='adam', metrics=['accuracy'])\n",
    "    \n",
    "    return model"
   ]
  },
  {
   "cell_type": "code",
   "execution_count": 59,
   "id": "a9b8143f-ccc0-4d8b-9250-2343d74f401a",
   "metadata": {
    "id": "6Odjc3rXpkoW",
    "pycharm": {
     "name": "#%%\n"
    }
   },
   "outputs": [],
   "source": [
    "lstm = build_lstm(n_timesteps, n_outputs)"
   ]
  },
  {
   "cell_type": "code",
   "execution_count": 140,
   "id": "c0d51afd-f0a7-4032-8255-7d78019115b2",
   "metadata": {
    "id": "GdRzYu-vpkoW",
    "outputId": "25e49cf8-ab4b-4925-d4c5-c23a80ee6e57",
    "pycharm": {
     "name": "#%%\n"
    },
    "tags": []
   },
   "outputs": [
    {
     "name": "stdout",
     "output_type": "stream",
     "text": [
      "Model: \"sequential_1\"\n",
      "_________________________________________________________________\n",
      " Layer (type)                Output Shape              Param #   \n",
      "=================================================================\n",
      " lstm (LSTM)                 (None, 256)               264192    \n",
      "                                                                 \n",
      " dropout_3 (Dropout)         (None, 256)               0         \n",
      "                                                                 \n",
      " dense_1 (Dense)             (None, 64)                16448     \n",
      "                                                                 \n",
      " dropout_4 (Dropout)         (None, 64)                0         \n",
      "                                                                 \n",
      " dense_2 (Dense)             (None, 6)                 390       \n",
      "                                                                 \n",
      "=================================================================\n",
      "Total params: 281,030\n",
      "Trainable params: 281,030\n",
      "Non-trainable params: 0\n",
      "_________________________________________________________________\n"
     ]
    }
   ],
   "source": [
    "lstm.summary()"
   ]
  },
  {
   "cell_type": "code",
   "execution_count": 141,
   "id": "d7447f0d-2eb0-4bf1-b137-e5852991c7c7",
   "metadata": {
    "collapsed": true,
    "id": "2oCWxtbXpkoW",
    "jupyter": {
     "outputs_hidden": true
    },
    "outputId": "ca64cabf-69a3-4836-86ed-5d545d2cad85",
    "pycharm": {
     "name": "#%%\n"
    },
    "tags": []
   },
   "outputs": [
    {
     "name": "stdout",
     "output_type": "stream",
     "text": [
      "Epoch 1/10\n"
     ]
    },
    {
     "ename": "ValueError",
     "evalue": "in user code:\n\n    File \"/opt/anaconda3/lib/python3.8/site-packages/keras/engine/training.py\", line 1021, in train_function  *\n        return step_function(self, iterator)\n    File \"/opt/anaconda3/lib/python3.8/site-packages/keras/engine/training.py\", line 1010, in step_function  **\n        outputs = model.distribute_strategy.run(run_step, args=(data,))\n    File \"/opt/anaconda3/lib/python3.8/site-packages/keras/engine/training.py\", line 1000, in run_step  **\n        outputs = model.train_step(data)\n    File \"/opt/anaconda3/lib/python3.8/site-packages/keras/engine/training.py\", line 859, in train_step\n        y_pred = self(x, training=True)\n    File \"/opt/anaconda3/lib/python3.8/site-packages/keras/utils/traceback_utils.py\", line 67, in error_handler\n        raise e.with_traceback(filtered_tb) from None\n    File \"/opt/anaconda3/lib/python3.8/site-packages/keras/engine/input_spec.py\", line 264, in assert_input_compatibility\n        raise ValueError(f'Input {input_index} of layer \"{layer_name}\" is '\n\n    ValueError: Input 0 of layer \"sequential\" is incompatible with the layer: expected shape=(None, 128, 1), found shape=(4, 100, 6)\n",
     "output_type": "error",
     "traceback": [
      "\u001b[0;31m---------------------------------------------------------------------------\u001b[0m",
      "\u001b[0;31mValueError\u001b[0m                                Traceback (most recent call last)",
      "\u001b[0;32m/var/folders/wc/nkw6_2m95b99xglzpfb6736h0000gn/T/ipykernel_1699/2089635526.py\u001b[0m in \u001b[0;36m<module>\u001b[0;34m\u001b[0m\n\u001b[0;32m----> 1\u001b[0;31m history_lstm = cnn.fit(X_train_cnn, y_train_cnn, epochs=10, batch_size=mini_batch_size, callbacks=callbacks,\n\u001b[0m\u001b[1;32m      2\u001b[0m                        validation_data=(X_val_cnn, y_val_cnn)).history\n",
      "\u001b[0;32m/opt/anaconda3/lib/python3.8/site-packages/keras/utils/traceback_utils.py\u001b[0m in \u001b[0;36merror_handler\u001b[0;34m(*args, **kwargs)\u001b[0m\n\u001b[1;32m     65\u001b[0m     \u001b[0;32mexcept\u001b[0m \u001b[0mException\u001b[0m \u001b[0;32mas\u001b[0m \u001b[0me\u001b[0m\u001b[0;34m:\u001b[0m  \u001b[0;31m# pylint: disable=broad-except\u001b[0m\u001b[0;34m\u001b[0m\u001b[0;34m\u001b[0m\u001b[0m\n\u001b[1;32m     66\u001b[0m       \u001b[0mfiltered_tb\u001b[0m \u001b[0;34m=\u001b[0m \u001b[0m_process_traceback_frames\u001b[0m\u001b[0;34m(\u001b[0m\u001b[0me\u001b[0m\u001b[0;34m.\u001b[0m\u001b[0m__traceback__\u001b[0m\u001b[0;34m)\u001b[0m\u001b[0;34m\u001b[0m\u001b[0;34m\u001b[0m\u001b[0m\n\u001b[0;32m---> 67\u001b[0;31m       \u001b[0;32mraise\u001b[0m \u001b[0me\u001b[0m\u001b[0;34m.\u001b[0m\u001b[0mwith_traceback\u001b[0m\u001b[0;34m(\u001b[0m\u001b[0mfiltered_tb\u001b[0m\u001b[0;34m)\u001b[0m \u001b[0;32mfrom\u001b[0m \u001b[0;32mNone\u001b[0m\u001b[0;34m\u001b[0m\u001b[0;34m\u001b[0m\u001b[0m\n\u001b[0m\u001b[1;32m     68\u001b[0m     \u001b[0;32mfinally\u001b[0m\u001b[0;34m:\u001b[0m\u001b[0;34m\u001b[0m\u001b[0;34m\u001b[0m\u001b[0m\n\u001b[1;32m     69\u001b[0m       \u001b[0;32mdel\u001b[0m \u001b[0mfiltered_tb\u001b[0m\u001b[0;34m\u001b[0m\u001b[0;34m\u001b[0m\u001b[0m\n",
      "\u001b[0;32m/opt/anaconda3/lib/python3.8/site-packages/tensorflow/python/framework/func_graph.py\u001b[0m in \u001b[0;36mautograph_handler\u001b[0;34m(*args, **kwargs)\u001b[0m\n\u001b[1;32m   1145\u001b[0m           \u001b[0;32mexcept\u001b[0m \u001b[0mException\u001b[0m \u001b[0;32mas\u001b[0m \u001b[0me\u001b[0m\u001b[0;34m:\u001b[0m  \u001b[0;31m# pylint:disable=broad-except\u001b[0m\u001b[0;34m\u001b[0m\u001b[0;34m\u001b[0m\u001b[0m\n\u001b[1;32m   1146\u001b[0m             \u001b[0;32mif\u001b[0m \u001b[0mhasattr\u001b[0m\u001b[0;34m(\u001b[0m\u001b[0me\u001b[0m\u001b[0;34m,\u001b[0m \u001b[0;34m\"ag_error_metadata\"\u001b[0m\u001b[0;34m)\u001b[0m\u001b[0;34m:\u001b[0m\u001b[0;34m\u001b[0m\u001b[0;34m\u001b[0m\u001b[0m\n\u001b[0;32m-> 1147\u001b[0;31m               \u001b[0;32mraise\u001b[0m \u001b[0me\u001b[0m\u001b[0;34m.\u001b[0m\u001b[0mag_error_metadata\u001b[0m\u001b[0;34m.\u001b[0m\u001b[0mto_exception\u001b[0m\u001b[0;34m(\u001b[0m\u001b[0me\u001b[0m\u001b[0;34m)\u001b[0m\u001b[0;34m\u001b[0m\u001b[0;34m\u001b[0m\u001b[0m\n\u001b[0m\u001b[1;32m   1148\u001b[0m             \u001b[0;32melse\u001b[0m\u001b[0;34m:\u001b[0m\u001b[0;34m\u001b[0m\u001b[0;34m\u001b[0m\u001b[0m\n\u001b[1;32m   1149\u001b[0m               \u001b[0;32mraise\u001b[0m\u001b[0;34m\u001b[0m\u001b[0;34m\u001b[0m\u001b[0m\n",
      "\u001b[0;31mValueError\u001b[0m: in user code:\n\n    File \"/opt/anaconda3/lib/python3.8/site-packages/keras/engine/training.py\", line 1021, in train_function  *\n        return step_function(self, iterator)\n    File \"/opt/anaconda3/lib/python3.8/site-packages/keras/engine/training.py\", line 1010, in step_function  **\n        outputs = model.distribute_strategy.run(run_step, args=(data,))\n    File \"/opt/anaconda3/lib/python3.8/site-packages/keras/engine/training.py\", line 1000, in run_step  **\n        outputs = model.train_step(data)\n    File \"/opt/anaconda3/lib/python3.8/site-packages/keras/engine/training.py\", line 859, in train_step\n        y_pred = self(x, training=True)\n    File \"/opt/anaconda3/lib/python3.8/site-packages/keras/utils/traceback_utils.py\", line 67, in error_handler\n        raise e.with_traceback(filtered_tb) from None\n    File \"/opt/anaconda3/lib/python3.8/site-packages/keras/engine/input_spec.py\", line 264, in assert_input_compatibility\n        raise ValueError(f'Input {input_index} of layer \"{layer_name}\" is '\n\n    ValueError: Input 0 of layer \"sequential\" is incompatible with the layer: expected shape=(None, 128, 1), found shape=(4, 100, 6)\n"
     ]
    }
   ],
   "source": [
    "history_lstm = cnn.fit(X_train_cnn, y_train_cnn, epochs=10, batch_size=mini_batch_size, callbacks=callbacks,\n",
    "                       validation_data=(X_val_cnn, y_val_cnn)).history"
   ]
  },
  {
   "cell_type": "code",
   "execution_count": 60,
   "id": "3e3e69fd-fb64-4cb4-9b2d-2e56067c820f",
   "metadata": {
    "id": "HgESZu0bpkoX",
    "outputId": "061884ba-1559-4c3e-9e99-86a0fbe8bddc",
    "pycharm": {
     "name": "#%%\n"
    },
    "tags": []
   },
   "outputs": [
    {
     "name": "stdout",
     "output_type": "stream",
     "text": [
      "Accuracy 0.15744825246012895\n",
      "F1-score [0.         0.24856258 0.         0.17773238 0.160401   0.        ]\n",
      "              precision    recall  f1-score   support\n",
      "\n",
      "           1       0.00      0.00      0.00       496\n",
      "           2       0.16      0.60      0.25       471\n",
      "           3       0.00      0.00      0.00       420\n",
      "           4       0.18      0.18      0.18       491\n",
      "           5       0.14      0.18      0.16       532\n",
      "           6       0.00      0.00      0.00       537\n",
      "\n",
      "    accuracy                           0.16      2947\n",
      "   macro avg       0.08      0.16      0.10      2947\n",
      "weighted avg       0.08      0.16      0.10      2947\n",
      "\n"
     ]
    }
   ],
   "source": [
    "y_pred = np.argmax(lstm.predict(X_test_cnn), axis=1)\n",
    "\n",
    "print('Accuracy %s' % accuracy_score(y_test, y_pred))\n",
    "print('F1-score %s' % f1_score(y_test, y_pred, average=None))\n",
    "print(classification_report(y_test, y_pred))"
   ]
  },
  {
   "cell_type": "code",
   "execution_count": null,
   "id": "68a2d1ac-5430-4739-ac7e-2bb5d1f9e4f8",
   "metadata": {
    "id": "345ZXvqOpkoX",
    "outputId": "fdf9add9-bd1d-4e90-c0c5-05ef3e2bf877",
    "pycharm": {
     "name": "#%%\n"
    }
   },
   "outputs": [],
   "source": [
    "lstm.evaluate(X_test_cnn, y_test)"
   ]
  },
  {
   "cell_type": "markdown",
   "id": "ca471193-ee0f-4973-982f-1d47fa630687",
   "metadata": {
    "id": "H-3Y-XBSpkoX",
    "pycharm": {
     "name": "#%% md\n"
    }
   },
   "source": [
    "# Multivariate Time Series Classifiers"
   ]
  },
  {
   "cell_type": "code",
   "execution_count": 61,
   "id": "9991a6d9-7854-4061-a9eb-3f6607ec5d6f",
   "metadata": {
    "id": "blctOL0YpkoX",
    "pycharm": {
     "name": "#%%\n"
    }
   },
   "outputs": [],
   "source": [
    "from pyts.datasets import load_basic_motions\n",
    "\n",
    "from tslearn.preprocessing import TimeSeriesScalerMinMax\n",
    "from sklearn.model_selection import train_test_split, cross_val_score \n",
    "\n",
    "from sklearn.metrics import accuracy_score, f1_score, classification_report\n",
    "from sklearn.metrics import roc_curve, auc, roc_auc_score"
   ]
  },
  {
   "cell_type": "raw",
   "id": "5465e2b8-d428-41b6-ac68-7d095791cf08",
   "metadata": {
    "id": "AyFWLcFKpkoX",
    "outputId": "3c816441-39aa-4d2c-db56-607b5b6d5df5",
    "pycharm": {
     "name": "#%%\n"
    }
   },
   "source": [
    "body_gyro_x_train, body_gyro_x_test, y_train, y_test = load_basic_motions(return_X_y=True)\n",
    "body_gyro_x_train.shape"
   ]
  },
  {
   "cell_type": "code",
   "execution_count": 115,
   "id": "db9a5656-3fb6-4d00-9fca-44245727b65b",
   "metadata": {
    "id": "OYbFwY64pkoY",
    "pycharm": {
     "name": "#%%\n"
    }
   },
   "outputs": [],
   "source": [
    "scaler = TimeSeriesScalerMinMax()\n",
    "X_train = scaler.fit_transform(X_train_cnn)\n",
    "X_test = scaler.transform(X_test_cnn)"
   ]
  },
  {
   "cell_type": "code",
   "execution_count": 119,
   "id": "92504e0e-c77e-40cf-8a4d-8dc8728c5738",
   "metadata": {
    "id": "t1ftdo2ipkoY",
    "outputId": "721b4193-b221-4566-e422-adffdac811e8",
    "pycharm": {
     "name": "#%%\n"
    },
    "tags": []
   },
   "outputs": [
    {
     "data": {
      "text/plain": [
       "(5881, 128, 1)"
      ]
     },
     "execution_count": 119,
     "metadata": {},
     "output_type": "execute_result"
    }
   ],
   "source": [
    "X_train.shape"
   ]
  },
  {
   "cell_type": "code",
   "execution_count": 62,
   "id": "61d4e809-ab77-4290-93fb-664ece1469bc",
   "metadata": {
    "id": "WgtCq6x2pkoY",
    "pycharm": {
     "name": "#%%\n"
    }
   },
   "outputs": [],
   "source": [
    "from sklearn.preprocessing import LabelEncoder"
   ]
  },
  {
   "cell_type": "code",
   "execution_count": 117,
   "id": "aa2e4058-b740-4866-9d41-85f9c4f0f940",
   "metadata": {
    "id": "_wLwHKllpkoZ",
    "pycharm": {
     "name": "#%%\n"
    }
   },
   "outputs": [],
   "source": [
    "le = LabelEncoder()\n",
    "y_train = le.fit_transform(y_train)\n",
    "y_test = le.fit_transform(y_test)"
   ]
  },
  {
   "cell_type": "code",
   "execution_count": 120,
   "id": "8edecad1-6338-4bce-9ae1-07333496bc22",
   "metadata": {
    "id": "hMCFA0pMpkoZ",
    "pycharm": {
     "name": "#%%\n"
    }
   },
   "outputs": [],
   "source": [
    "X_train = X_train.reshape(5881, 128, 1)\n",
    "X_test = X_test.reshape(2947, 128, 1)"
   ]
  },
  {
   "cell_type": "code",
   "execution_count": 121,
   "id": "02c7f82a-fb69-4af1-956a-07d1ded56aa0",
   "metadata": {
    "id": "aJhji4AapkoZ",
    "outputId": "406c0be9-2078-4e82-d8d4-b3148bea2230",
    "pycharm": {
     "name": "#%%\n"
    }
   },
   "outputs": [
    {
     "name": "stdout",
     "output_type": "stream",
     "text": [
      "TIMESTEPS:  128\n",
      "N. LABELS:  6\n",
      "N. FEATURES:  1\n"
     ]
    }
   ],
   "source": [
    "n_timesteps, n_outputs, n_features = X_train.shape[1], len(np.unique(y_train)), X_train.shape[2] \n",
    "print(\"TIMESTEPS: \", n_timesteps)\n",
    "print(\"N. LABELS: \", n_outputs)\n",
    "print(\"N. FEATURES: \", n_features)"
   ]
  },
  {
   "cell_type": "code",
   "execution_count": 133,
   "id": "dc909322-e0cb-409e-b25a-4d6006e3bad1",
   "metadata": {
    "id": "NAbmi-bDpkoZ",
    "pycharm": {
     "name": "#%%\n"
    }
   },
   "outputs": [],
   "source": [
    "X_train_cnn, X_val_cnn, y_train_cnn, y_val_cnn = train_test_split(X_train, y_train, test_size=0.2, stratify=y_train)"
   ]
  },
  {
   "cell_type": "code",
   "execution_count": 79,
   "id": "865c8ce2-2e27-4fb2-be86-bcb79312abb4",
   "metadata": {
    "id": "eCvXyn-apkoZ",
    "pycharm": {
     "name": "#%%\n"
    }
   },
   "outputs": [],
   "source": [
    "from keras.models import Sequential\n",
    "from keras.layers.core import Dense, Activation, Dropout, Flatten\n",
    "from keras.layers import TimeDistributed\n",
    "from keras.layers.recurrent import LSTM\n",
    "from keras.layers import Dense, Conv1D, Conv2D, MaxPool2D, Flatten, Dropout, LeakyReLU, GlobalAveragePooling1D\n",
    "from keras.callbacks import EarlyStopping, ModelCheckpoint\n",
    "#from keras.layers.normalization import BatchNormalization\n",
    "from keras.callbacks import ReduceLROnPlateau, ModelCheckpoint"
   ]
  },
  {
   "cell_type": "code",
   "execution_count": 122,
   "id": "ec8988c1-899a-44d8-b62b-0f578a0934cc",
   "metadata": {
    "id": "wb8xknTrpkoZ",
    "pycharm": {
     "name": "#%%\n"
    }
   },
   "outputs": [],
   "source": [
    "def build_lstm2(n_timesteps, n_outputs, n_features):\n",
    "    model = Sequential()\n",
    "    model.add(LSTM(4, input_shape=(n_timesteps, n_features), return_sequences=True, \n",
    "                        kernel_initializer='TruncatedNormal'))\n",
    "    model.add(BatchNormalization())\n",
    "    model.add(LeakyReLU())\n",
    "    model.add(Dropout(0.3))\n",
    "    \n",
    "    #1\n",
    "    for _ in range(2):\n",
    "        model.add(LSTM(4, kernel_initializer='TruncatedNormal', return_sequences=True))\n",
    "        model.add(BatchNormalization())\n",
    "        model.add(LeakyReLU())\n",
    "        model.add(Dropout(0.04))   \n",
    "\n",
    "    #2\n",
    "    model.add(LSTM(32, kernel_initializer='TruncatedNormal', return_sequences=False))\n",
    "    model.add(BatchNormalization())\n",
    "    model.add(LeakyReLU())\n",
    "    model.add(Dropout(0.7))\n",
    "    \n",
    "    #3\n",
    "    for _ in range(2):\n",
    "        model.add(Dense(256, kernel_initializer='TruncatedNormal'))\n",
    "        model.add(BatchNormalization())\n",
    "        model.add(LeakyReLU())\n",
    "        model.add(Dropout(0.2))\n",
    "    #4\n",
    "    for _ in range(1):\n",
    "        model.add(Dense(64, kernel_initializer='TruncatedNormal'))\n",
    "        model.add(BatchNormalization())\n",
    "        model.add(LeakyReLU())\n",
    "        model.add(Dropout(0.7))\n",
    "\n",
    "    #5\n",
    "    model.add(Dense(32, kernel_initializer='TruncatedNormal'))\n",
    "    model.add(BatchNormalization())\n",
    "    model.add(LeakyReLU())\n",
    "    model.add(Dropout(0.4))\n",
    "        \n",
    "    model.add(Dense(n_outputs, activation='sigmoid'))\n",
    "    \n",
    "    model.compile(loss='sparse_categorical_crossentropy', optimizer='adam', metrics=['accuracy'])\n",
    "    \n",
    "    return model"
   ]
  },
  {
   "cell_type": "code",
   "execution_count": 123,
   "id": "773a9578-0868-48de-989b-538435f0ef54",
   "metadata": {
    "id": "Oa2ds9GKpkoa",
    "pycharm": {
     "name": "#%%\n"
    }
   },
   "outputs": [],
   "source": [
    "lstm2 = build_lstm2(n_timesteps, n_outputs, n_features)"
   ]
  },
  {
   "cell_type": "code",
   "execution_count": 58,
   "id": "b22632e2-5a64-46ec-a3f4-f0f44b7e39a6",
   "metadata": {
    "collapsed": true,
    "id": "FvH8amRIpkoa",
    "jupyter": {
     "outputs_hidden": true
    },
    "outputId": "505c1ed5-5754-4758-d527-88e17ab978fc",
    "pycharm": {
     "name": "#%%\n"
    },
    "tags": []
   },
   "outputs": [
    {
     "name": "stdout",
     "output_type": "stream",
     "text": [
      "Model: \"sequential_1\"\n",
      "_________________________________________________________________\n",
      " Layer (type)                Output Shape              Param #   \n",
      "=================================================================\n",
      " lstm (LSTM)                 (None, 100, 4)            176       \n",
      "                                                                 \n",
      " batch_normalization_3 (Batc  (None, 100, 4)           16        \n",
      " hNormalization)                                                 \n",
      "                                                                 \n",
      " leaky_re_lu (LeakyReLU)     (None, 100, 4)            0         \n",
      "                                                                 \n",
      " dropout_3 (Dropout)         (None, 100, 4)            0         \n",
      "                                                                 \n",
      " lstm_1 (LSTM)               (None, 100, 4)            144       \n",
      "                                                                 \n",
      " batch_normalization_4 (Batc  (None, 100, 4)           16        \n",
      " hNormalization)                                                 \n",
      "                                                                 \n",
      " leaky_re_lu_1 (LeakyReLU)   (None, 100, 4)            0         \n",
      "                                                                 \n",
      " dropout_4 (Dropout)         (None, 100, 4)            0         \n",
      "                                                                 \n",
      " lstm_2 (LSTM)               (None, 100, 4)            144       \n",
      "                                                                 \n",
      " batch_normalization_5 (Batc  (None, 100, 4)           16        \n",
      " hNormalization)                                                 \n",
      "                                                                 \n",
      " leaky_re_lu_2 (LeakyReLU)   (None, 100, 4)            0         \n",
      "                                                                 \n",
      " dropout_5 (Dropout)         (None, 100, 4)            0         \n",
      "                                                                 \n",
      " lstm_3 (LSTM)               (None, 32)                4736      \n",
      "                                                                 \n",
      " batch_normalization_6 (Batc  (None, 32)               128       \n",
      " hNormalization)                                                 \n",
      "                                                                 \n",
      " leaky_re_lu_3 (LeakyReLU)   (None, 32)                0         \n",
      "                                                                 \n",
      " dropout_6 (Dropout)         (None, 32)                0         \n",
      "                                                                 \n",
      " dense_1 (Dense)             (None, 256)               8448      \n",
      "                                                                 \n",
      " batch_normalization_7 (Batc  (None, 256)              1024      \n",
      " hNormalization)                                                 \n",
      "                                                                 \n",
      " leaky_re_lu_4 (LeakyReLU)   (None, 256)               0         \n",
      "                                                                 \n",
      " dropout_7 (Dropout)         (None, 256)               0         \n",
      "                                                                 \n",
      " dense_2 (Dense)             (None, 256)               65792     \n",
      "                                                                 \n",
      " batch_normalization_8 (Batc  (None, 256)              1024      \n",
      " hNormalization)                                                 \n",
      "                                                                 \n",
      " leaky_re_lu_5 (LeakyReLU)   (None, 256)               0         \n",
      "                                                                 \n",
      " dropout_8 (Dropout)         (None, 256)               0         \n",
      "                                                                 \n",
      " dense_3 (Dense)             (None, 64)                16448     \n",
      "                                                                 \n",
      " batch_normalization_9 (Batc  (None, 64)               256       \n",
      " hNormalization)                                                 \n",
      "                                                                 \n",
      " leaky_re_lu_6 (LeakyReLU)   (None, 64)                0         \n",
      "                                                                 \n",
      " dropout_9 (Dropout)         (None, 64)                0         \n",
      "                                                                 \n",
      " dense_4 (Dense)             (None, 32)                2080      \n",
      "                                                                 \n",
      " batch_normalization_10 (Bat  (None, 32)               128       \n",
      " chNormalization)                                                \n",
      "                                                                 \n",
      " leaky_re_lu_7 (LeakyReLU)   (None, 32)                0         \n",
      "                                                                 \n",
      " dropout_10 (Dropout)        (None, 32)                0         \n",
      "                                                                 \n",
      " dense_5 (Dense)             (None, 6)                 198       \n",
      "                                                                 \n",
      "=================================================================\n",
      "Total params: 100,774\n",
      "Trainable params: 99,470\n",
      "Non-trainable params: 1,304\n",
      "_________________________________________________________________\n"
     ]
    }
   ],
   "source": [
    "lstm2.summary()"
   ]
  },
  {
   "cell_type": "code",
   "execution_count": 124,
   "id": "00d60540-fa11-465f-8cb6-2c310bab6ea5",
   "metadata": {
    "id": "BU_Wh6GCpkoa",
    "pycharm": {
     "name": "#%%\n"
    }
   },
   "outputs": [],
   "source": [
    "rlr = ReduceLROnPlateau(monitor='loss', factor=0.5, patience=50, min_lr=0.0001)\n",
    "mc = ModelCheckpoint('best_model_lstm2.h5', monitor='val_loss', save_best_only=True)\n",
    "\n",
    "callbacks = [rlr, mc]\n",
    "\n",
    "batch_size = 16\n",
    "mini_batch_size = int(min(X_train.shape[0]/10, batch_size))"
   ]
  },
  {
   "cell_type": "code",
   "execution_count": 60,
   "id": "9a1994f0-0388-4576-8863-7b5ebba1c345",
   "metadata": {
    "collapsed": true,
    "id": "-1_9sjTvpkoa",
    "jupyter": {
     "outputs_hidden": true
    },
    "outputId": "4ceb52d7-e4af-4623-c7dc-e2d2d0f503f6",
    "pycharm": {
     "name": "#%%\n"
    },
    "tags": []
   },
   "outputs": [
    {
     "name": "stdout",
     "output_type": "stream",
     "text": [
      "Epoch 1/50\n"
     ]
    },
    {
     "ename": "ValueError",
     "evalue": "in user code:\n\n    File \"/opt/anaconda3/lib/python3.8/site-packages/keras/engine/training.py\", line 1021, in train_function  *\n        return step_function(self, iterator)\n    File \"/opt/anaconda3/lib/python3.8/site-packages/keras/engine/training.py\", line 1010, in step_function  **\n        outputs = model.distribute_strategy.run(run_step, args=(data,))\n    File \"/opt/anaconda3/lib/python3.8/site-packages/keras/engine/training.py\", line 1000, in run_step  **\n        outputs = model.train_step(data)\n    File \"/opt/anaconda3/lib/python3.8/site-packages/keras/engine/training.py\", line 859, in train_step\n        y_pred = self(x, training=True)\n    File \"/opt/anaconda3/lib/python3.8/site-packages/keras/utils/traceback_utils.py\", line 67, in error_handler\n        raise e.with_traceback(filtered_tb) from None\n    File \"/opt/anaconda3/lib/python3.8/site-packages/keras/engine/input_spec.py\", line 264, in assert_input_compatibility\n        raise ValueError(f'Input {input_index} of layer \"{layer_name}\" is '\n\n    ValueError: Input 0 of layer \"sequential_1\" is incompatible with the layer: expected shape=(None, 100, 6), found shape=(None, 128)\n",
     "output_type": "error",
     "traceback": [
      "\u001b[0;31m---------------------------------------------------------------------------\u001b[0m",
      "\u001b[0;31mValueError\u001b[0m                                Traceback (most recent call last)",
      "\u001b[0;32m/var/folders/wc/nkw6_2m95b99xglzpfb6736h0000gn/T/ipykernel_2506/1221195718.py\u001b[0m in \u001b[0;36m<module>\u001b[0;34m\u001b[0m\n\u001b[0;32m----> 1\u001b[0;31m history_lstm2 = lstm2.fit(X_train_cnn, y_train_cnn, epochs=50, batch_size=mini_batch_size, callbacks=callbacks,\n\u001b[0m\u001b[1;32m      2\u001b[0m                           validation_data=(X_val_cnn, y_val_cnn)).history\n",
      "\u001b[0;32m/opt/anaconda3/lib/python3.8/site-packages/keras/utils/traceback_utils.py\u001b[0m in \u001b[0;36merror_handler\u001b[0;34m(*args, **kwargs)\u001b[0m\n\u001b[1;32m     65\u001b[0m     \u001b[0;32mexcept\u001b[0m \u001b[0mException\u001b[0m \u001b[0;32mas\u001b[0m \u001b[0me\u001b[0m\u001b[0;34m:\u001b[0m  \u001b[0;31m# pylint: disable=broad-except\u001b[0m\u001b[0;34m\u001b[0m\u001b[0;34m\u001b[0m\u001b[0m\n\u001b[1;32m     66\u001b[0m       \u001b[0mfiltered_tb\u001b[0m \u001b[0;34m=\u001b[0m \u001b[0m_process_traceback_frames\u001b[0m\u001b[0;34m(\u001b[0m\u001b[0me\u001b[0m\u001b[0;34m.\u001b[0m\u001b[0m__traceback__\u001b[0m\u001b[0;34m)\u001b[0m\u001b[0;34m\u001b[0m\u001b[0;34m\u001b[0m\u001b[0m\n\u001b[0;32m---> 67\u001b[0;31m       \u001b[0;32mraise\u001b[0m \u001b[0me\u001b[0m\u001b[0;34m.\u001b[0m\u001b[0mwith_traceback\u001b[0m\u001b[0;34m(\u001b[0m\u001b[0mfiltered_tb\u001b[0m\u001b[0;34m)\u001b[0m \u001b[0;32mfrom\u001b[0m \u001b[0;32mNone\u001b[0m\u001b[0;34m\u001b[0m\u001b[0;34m\u001b[0m\u001b[0m\n\u001b[0m\u001b[1;32m     68\u001b[0m     \u001b[0;32mfinally\u001b[0m\u001b[0;34m:\u001b[0m\u001b[0;34m\u001b[0m\u001b[0;34m\u001b[0m\u001b[0m\n\u001b[1;32m     69\u001b[0m       \u001b[0;32mdel\u001b[0m \u001b[0mfiltered_tb\u001b[0m\u001b[0;34m\u001b[0m\u001b[0;34m\u001b[0m\u001b[0m\n",
      "\u001b[0;32m/opt/anaconda3/lib/python3.8/site-packages/tensorflow/python/framework/func_graph.py\u001b[0m in \u001b[0;36mautograph_handler\u001b[0;34m(*args, **kwargs)\u001b[0m\n\u001b[1;32m   1145\u001b[0m           \u001b[0;32mexcept\u001b[0m \u001b[0mException\u001b[0m \u001b[0;32mas\u001b[0m \u001b[0me\u001b[0m\u001b[0;34m:\u001b[0m  \u001b[0;31m# pylint:disable=broad-except\u001b[0m\u001b[0;34m\u001b[0m\u001b[0;34m\u001b[0m\u001b[0m\n\u001b[1;32m   1146\u001b[0m             \u001b[0;32mif\u001b[0m \u001b[0mhasattr\u001b[0m\u001b[0;34m(\u001b[0m\u001b[0me\u001b[0m\u001b[0;34m,\u001b[0m \u001b[0;34m\"ag_error_metadata\"\u001b[0m\u001b[0;34m)\u001b[0m\u001b[0;34m:\u001b[0m\u001b[0;34m\u001b[0m\u001b[0;34m\u001b[0m\u001b[0m\n\u001b[0;32m-> 1147\u001b[0;31m               \u001b[0;32mraise\u001b[0m \u001b[0me\u001b[0m\u001b[0;34m.\u001b[0m\u001b[0mag_error_metadata\u001b[0m\u001b[0;34m.\u001b[0m\u001b[0mto_exception\u001b[0m\u001b[0;34m(\u001b[0m\u001b[0me\u001b[0m\u001b[0;34m)\u001b[0m\u001b[0;34m\u001b[0m\u001b[0;34m\u001b[0m\u001b[0m\n\u001b[0m\u001b[1;32m   1148\u001b[0m             \u001b[0;32melse\u001b[0m\u001b[0;34m:\u001b[0m\u001b[0;34m\u001b[0m\u001b[0;34m\u001b[0m\u001b[0m\n\u001b[1;32m   1149\u001b[0m               \u001b[0;32mraise\u001b[0m\u001b[0;34m\u001b[0m\u001b[0;34m\u001b[0m\u001b[0m\n",
      "\u001b[0;31mValueError\u001b[0m: in user code:\n\n    File \"/opt/anaconda3/lib/python3.8/site-packages/keras/engine/training.py\", line 1021, in train_function  *\n        return step_function(self, iterator)\n    File \"/opt/anaconda3/lib/python3.8/site-packages/keras/engine/training.py\", line 1010, in step_function  **\n        outputs = model.distribute_strategy.run(run_step, args=(data,))\n    File \"/opt/anaconda3/lib/python3.8/site-packages/keras/engine/training.py\", line 1000, in run_step  **\n        outputs = model.train_step(data)\n    File \"/opt/anaconda3/lib/python3.8/site-packages/keras/engine/training.py\", line 859, in train_step\n        y_pred = self(x, training=True)\n    File \"/opt/anaconda3/lib/python3.8/site-packages/keras/utils/traceback_utils.py\", line 67, in error_handler\n        raise e.with_traceback(filtered_tb) from None\n    File \"/opt/anaconda3/lib/python3.8/site-packages/keras/engine/input_spec.py\", line 264, in assert_input_compatibility\n        raise ValueError(f'Input {input_index} of layer \"{layer_name}\" is '\n\n    ValueError: Input 0 of layer \"sequential_1\" is incompatible with the layer: expected shape=(None, 100, 6), found shape=(None, 128)\n"
     ]
    }
   ],
   "source": [
    "history_lstm2 = lstm2.fit(X_train_cnn, y_train_cnn, epochs=50, batch_size=mini_batch_size, callbacks=callbacks,\n",
    "                          validation_data=(X_val_cnn, y_val_cnn)).history"
   ]
  },
  {
   "cell_type": "code",
   "execution_count": 125,
   "id": "8692679d-0aaa-4091-bd25-747547222eb6",
   "metadata": {
    "id": "Y5-oZRhZpkoa",
    "outputId": "027ac6e4-faeb-46a4-e5bc-936f5f4d9a08",
    "pycharm": {
     "name": "#%%\n"
    },
    "tags": []
   },
   "outputs": [
    {
     "name": "stdout",
     "output_type": "stream",
     "text": [
      "Accuracy 0.168306752629793\n",
      "F1-score [0.28812082 0.         0.         0.         0.         0.        ]\n",
      "              precision    recall  f1-score   support\n",
      "\n",
      "           0       0.17      1.00      0.29       496\n",
      "           1       0.00      0.00      0.00       471\n",
      "           2       0.00      0.00      0.00       420\n",
      "           3       0.00      0.00      0.00       491\n",
      "           4       0.00      0.00      0.00       532\n",
      "           5       0.00      0.00      0.00       537\n",
      "\n",
      "    accuracy                           0.17      2947\n",
      "   macro avg       0.03      0.17      0.05      2947\n",
      "weighted avg       0.03      0.17      0.05      2947\n",
      "\n"
     ]
    }
   ],
   "source": [
    "y_pred = np.argmax(lstm2.predict(X_test), axis=1)\n",
    "\n",
    "print('Accuracy %s' % accuracy_score(y_test, y_pred))\n",
    "print('F1-score %s' % f1_score(y_test, y_pred, average=None))\n",
    "print(classification_report(y_test, y_pred))"
   ]
  },
  {
   "cell_type": "code",
   "execution_count": 127,
   "id": "abcdb9c8-d91b-47ca-9c98-8cbf03b4a37b",
   "metadata": {
    "id": "k0Qph2wUpkoa",
    "outputId": "a70b3c20-a601-41a8-c95e-2e5bf4f80e9b",
    "pycharm": {
     "name": "#%%\n"
    }
   },
   "outputs": [
    {
     "data": {
      "text/plain": [
       "(5881, 128)"
      ]
     },
     "execution_count": 127,
     "metadata": {},
     "output_type": "execute_result"
    }
   ],
   "source": [
    "X_train_cnn.shape"
   ]
  },
  {
   "cell_type": "code",
   "execution_count": 106,
   "id": "5885966c-f1a2-402d-9434-7153b6a8066f",
   "metadata": {
    "collapsed": true,
    "jupyter": {
     "outputs_hidden": true
    },
    "tags": []
   },
   "outputs": [
    {
     "ename": "AttributeError",
     "evalue": "'numpy.ndarray' object has no attribute 'to_numpy'",
     "output_type": "error",
     "traceback": [
      "\u001b[0;31m---------------------------------------------------------------------------\u001b[0m",
      "\u001b[0;31mAttributeError\u001b[0m                            Traceback (most recent call last)",
      "\u001b[0;32m/var/folders/wc/nkw6_2m95b99xglzpfb6736h0000gn/T/ipykernel_4389/1632738772.py\u001b[0m in \u001b[0;36m<module>\u001b[0;34m\u001b[0m\n\u001b[0;32m----> 1\u001b[0;31m \u001b[0mX_train_cnn\u001b[0m \u001b[0;34m=\u001b[0m \u001b[0mX_train_cnn\u001b[0m\u001b[0;34m.\u001b[0m\u001b[0mto_numpy\u001b[0m\u001b[0;34m(\u001b[0m\u001b[0;34m)\u001b[0m\u001b[0;34m\u001b[0m\u001b[0;34m\u001b[0m\u001b[0m\n\u001b[0m",
      "\u001b[0;31mAttributeError\u001b[0m: 'numpy.ndarray' object has no attribute 'to_numpy'"
     ]
    }
   ],
   "source": [
    "X_train_cnn = X_train_cnn.to_numpy()"
   ]
  },
  {
   "cell_type": "code",
   "execution_count": 129,
   "id": "2cee8a1b-fe3f-4250-ba6a-bebd2005177c",
   "metadata": {
    "id": "EdXMCz8tpkob",
    "outputId": "0040cbd2-be30-473d-9181-73a052d175cf",
    "pycharm": {
     "name": "#%%\n"
    }
   },
   "outputs": [
    {
     "data": {
      "text/plain": [
       "(5881, 128, 1, 1)"
      ]
     },
     "execution_count": 129,
     "metadata": {},
     "output_type": "execute_result"
    }
   ],
   "source": [
    "X_train_cnn2 = X_train_cnn.reshape(X_train.shape[0], X_train.shape[1], X_train.shape[2], 1)\n",
    "#X_val_cnn2 = X_val_cnn.reshape(X_val_cnn.shape[0], X_val_cnn.shape[1], X_val_cnn.shape[2], 1)\n",
    "X_test_cnn2 = X_test.reshape(X_test.shape[0], X_test.shape[1], X_test.shape[2], 1)\n",
    "\n",
    "X_train_cnn2.shape"
   ]
  },
  {
   "cell_type": "code",
   "execution_count": 130,
   "id": "01dc224c-a848-4d5b-b2b2-8d1f1af5ff4f",
   "metadata": {
    "id": "ZS31Ftpwpkob",
    "pycharm": {
     "name": "#%%\n"
    }
   },
   "outputs": [],
   "source": [
    "def build_cnn2(n_timesteps, n_features, n_outputs):\n",
    "    input_shape = (n_timesteps, n_features, 1)\n",
    "\n",
    "    model = Sequential()\n",
    "    \n",
    "    ks1_first = 3\n",
    "    ks1_second = 3\n",
    "    \n",
    "    ks2_first = 4\n",
    "    ks2_second = 4\n",
    "    \n",
    "    model.add(Conv2D(filters=(3), \n",
    "                     kernel_size=(ks1_first, ks1_second),\n",
    "                     input_shape=input_shape, \n",
    "                     padding='same',\n",
    "                     kernel_initializer='TruncatedNormal'))\n",
    "    model.add(BatchNormalization())\n",
    "    model.add(LeakyReLU())\n",
    "    model.add(Dropout(0.02))\n",
    "    \n",
    "    for _ in range(2):\n",
    "        model.add(Conv2D(filters=(4), \n",
    "                     kernel_size= (ks2_first, ks2_second), \n",
    "                         padding='same',\n",
    "                     kernel_initializer='TruncatedNormal'))\n",
    "        model.add(BatchNormalization())\n",
    "        model.add(LeakyReLU())\n",
    "        model.add(Dropout(0.2))  \n",
    "    \n",
    "    model.add(Flatten())\n",
    "    \n",
    "    for _ in range(4):\n",
    "        model.add(Dense(64 , kernel_initializer='TruncatedNormal'))\n",
    "        model.add(BatchNormalization())\n",
    "        model.add(LeakyReLU())\n",
    "        model.add(Dropout(0.4))\n",
    "    \n",
    "    for _ in range(3):\n",
    "        model.add(Dense(128 , kernel_initializer='TruncatedNormal'))\n",
    "        model.add(BatchNormalization())\n",
    "        model.add(LeakyReLU())\n",
    "        model.add(Dropout(0.3))\n",
    "  \n",
    "    model.add(Dense(1024 , kernel_initializer='TruncatedNormal'))\n",
    "    model.add(BatchNormalization())\n",
    "    model.add(LeakyReLU())\n",
    "    model.add(Dropout(0.7))\n",
    "        \n",
    "    model.add(Dense(n_outputs, activation='sigmoid'))\n",
    "    model.compile(loss='sparse_categorical_crossentropy', optimizer='adam', metrics=['accuracy'])\n",
    "    \n",
    "    return model"
   ]
  },
  {
   "cell_type": "code",
   "execution_count": 131,
   "id": "89541e2b-69cc-43d4-ace9-8f4a315dc6d5",
   "metadata": {
    "id": "SkubQ_vDpkob",
    "pycharm": {
     "name": "#%%\n"
    }
   },
   "outputs": [],
   "source": [
    "cnn2 = build_cnn2(n_timesteps, n_features, n_outputs)"
   ]
  },
  {
   "cell_type": "code",
   "execution_count": null,
   "id": "e43ca93d-d1eb-4642-bb29-fc5d8ddc96df",
   "metadata": {
    "collapsed": true,
    "id": "JVF0Udhdpkob",
    "jupyter": {
     "outputs_hidden": true
    },
    "outputId": "1d3eafbb-47e5-44b4-a089-938a790f3648",
    "pycharm": {
     "name": "#%%\n"
    },
    "tags": []
   },
   "outputs": [
    {
     "name": "stdout",
     "output_type": "stream",
     "text": [
      "Model: \"sequential_5\"\n",
      "_________________________________________________________________\n",
      "Layer (type)                 Output Shape              Param #   \n",
      "=================================================================\n",
      "conv2d_1 (Conv2D)            (None, 100, 6, 3)         30        \n",
      "_________________________________________________________________\n",
      "batch_normalization_31 (Batc (None, 100, 6, 3)         12        \n",
      "_________________________________________________________________\n",
      "leaky_re_lu_31 (LeakyReLU)   (None, 100, 6, 3)         0         \n",
      "_________________________________________________________________\n",
      "dropout_31 (Dropout)         (None, 100, 6, 3)         0         \n",
      "_________________________________________________________________\n",
      "conv2d_2 (Conv2D)            (None, 100, 6, 4)         196       \n",
      "_________________________________________________________________\n",
      "batch_normalization_32 (Batc (None, 100, 6, 4)         16        \n",
      "_________________________________________________________________\n",
      "leaky_re_lu_32 (LeakyReLU)   (None, 100, 6, 4)         0         \n",
      "_________________________________________________________________\n",
      "dropout_32 (Dropout)         (None, 100, 6, 4)         0         \n",
      "_________________________________________________________________\n",
      "conv2d_3 (Conv2D)            (None, 100, 6, 4)         260       \n",
      "_________________________________________________________________\n",
      "batch_normalization_33 (Batc (None, 100, 6, 4)         16        \n",
      "_________________________________________________________________\n",
      "leaky_re_lu_33 (LeakyReLU)   (None, 100, 6, 4)         0         \n",
      "_________________________________________________________________\n",
      "dropout_33 (Dropout)         (None, 100, 6, 4)         0         \n",
      "_________________________________________________________________\n",
      "flatten_1 (Flatten)          (None, 2400)              0         \n",
      "_________________________________________________________________\n",
      "dense_23 (Dense)             (None, 64)                153664    \n",
      "_________________________________________________________________\n",
      "batch_normalization_34 (Batc (None, 64)                256       \n",
      "_________________________________________________________________\n",
      "leaky_re_lu_34 (LeakyReLU)   (None, 64)                0         \n",
      "_________________________________________________________________\n",
      "dropout_34 (Dropout)         (None, 64)                0         \n",
      "_________________________________________________________________\n",
      "dense_24 (Dense)             (None, 64)                4160      \n",
      "_________________________________________________________________\n",
      "batch_normalization_35 (Batc (None, 64)                256       \n",
      "_________________________________________________________________\n",
      "leaky_re_lu_35 (LeakyReLU)   (None, 64)                0         \n",
      "_________________________________________________________________\n",
      "dropout_35 (Dropout)         (None, 64)                0         \n",
      "_________________________________________________________________\n",
      "dense_25 (Dense)             (None, 64)                4160      \n",
      "_________________________________________________________________\n",
      "batch_normalization_36 (Batc (None, 64)                256       \n",
      "_________________________________________________________________\n",
      "leaky_re_lu_36 (LeakyReLU)   (None, 64)                0         \n",
      "_________________________________________________________________\n",
      "dropout_36 (Dropout)         (None, 64)                0         \n",
      "_________________________________________________________________\n",
      "dense_26 (Dense)             (None, 64)                4160      \n",
      "_________________________________________________________________\n",
      "batch_normalization_37 (Batc (None, 64)                256       \n",
      "_________________________________________________________________\n",
      "leaky_re_lu_37 (LeakyReLU)   (None, 64)                0         \n",
      "_________________________________________________________________\n",
      "dropout_37 (Dropout)         (None, 64)                0         \n",
      "_________________________________________________________________\n",
      "dense_27 (Dense)             (None, 128)               8320      \n",
      "_________________________________________________________________\n",
      "batch_normalization_38 (Batc (None, 128)               512       \n",
      "_________________________________________________________________\n",
      "leaky_re_lu_38 (LeakyReLU)   (None, 128)               0         \n",
      "_________________________________________________________________\n",
      "dropout_38 (Dropout)         (None, 128)               0         \n",
      "_________________________________________________________________\n",
      "dense_28 (Dense)             (None, 128)               16512     \n",
      "_________________________________________________________________\n",
      "batch_normalization_39 (Batc (None, 128)               512       \n",
      "_________________________________________________________________\n",
      "leaky_re_lu_39 (LeakyReLU)   (None, 128)               0         \n",
      "_________________________________________________________________\n",
      "dropout_39 (Dropout)         (None, 128)               0         \n",
      "_________________________________________________________________\n",
      "dense_29 (Dense)             (None, 128)               16512     \n",
      "_________________________________________________________________\n",
      "batch_normalization_40 (Batc (None, 128)               512       \n",
      "_________________________________________________________________\n",
      "leaky_re_lu_40 (LeakyReLU)   (None, 128)               0         \n",
      "_________________________________________________________________\n",
      "dropout_40 (Dropout)         (None, 128)               0         \n",
      "_________________________________________________________________\n",
      "dense_30 (Dense)             (None, 1024)              132096    \n",
      "_________________________________________________________________\n",
      "batch_normalization_41 (Batc (None, 1024)              4096      \n",
      "_________________________________________________________________\n",
      "leaky_re_lu_41 (LeakyReLU)   (None, 1024)              0         \n",
      "_________________________________________________________________\n",
      "dropout_41 (Dropout)         (None, 1024)              0         \n",
      "_________________________________________________________________\n",
      "dense_31 (Dense)             (None, 4)                 4100      \n",
      "=================================================================\n",
      "Total params: 350,870\n",
      "Trainable params: 347,520\n",
      "Non-trainable params: 3,350\n",
      "_________________________________________________________________\n"
     ]
    }
   ],
   "source": [
    "cnn2.summary()"
   ]
  },
  {
   "cell_type": "code",
   "execution_count": 132,
   "id": "ba3adfa8-7673-461a-8ff7-528554913fa3",
   "metadata": {
    "id": "W8GL6GK9pkoc",
    "pycharm": {
     "name": "#%%\n"
    }
   },
   "outputs": [],
   "source": [
    "rlr = ReduceLROnPlateau(monitor='loss', factor=0.5, patience=50, min_lr=0.0001)\n",
    "mc = ModelCheckpoint('best_model_cnn2.h5', monitor='val_loss', save_best_only=True)\n",
    "\n",
    "callbacks = [rlr, mc]\n",
    "\n",
    "batch_size = 16\n",
    "mini_batch_size = int(min(X_train.shape[0]/10, batch_size))"
   ]
  },
  {
   "cell_type": "raw",
   "id": "c0b28773-4696-451c-ab08-67ec27630823",
   "metadata": {
    "id": "kPzkonCYpkoc",
    "outputId": "82971b7f-6942-4340-872c-54531582e674",
    "pycharm": {
     "name": "#%%\n"
    },
    "tags": []
   },
   "source": [
    "history_cnn2 = cnn2.fit(X_train_cnn2, y_train_cnn, epochs=50, batch_size=mini_batch_size, callbacks=callbacks,\n",
    "                      validation_data=(X_val_cnn2, y_val_cnn)).history"
   ]
  },
  {
   "cell_type": "code",
   "execution_count": 134,
   "id": "247e482c-4185-4895-88ca-e80ec508fa34",
   "metadata": {
    "id": "od48xGTNpkoc",
    "outputId": "cac3315f-1183-4168-d4ec-2f13e3e314b7",
    "pycharm": {
     "name": "#%%\n"
    }
   },
   "outputs": [
    {
     "name": "stdout",
     "output_type": "stream",
     "text": [
      "Accuracy 0.168306752629793\n",
      "F1-score [0.28812082 0.         0.         0.         0.         0.        ]\n",
      "              precision    recall  f1-score   support\n",
      "\n",
      "           0       0.17      1.00      0.29       496\n",
      "           1       0.00      0.00      0.00       471\n",
      "           2       0.00      0.00      0.00       420\n",
      "           3       0.00      0.00      0.00       491\n",
      "           4       0.00      0.00      0.00       532\n",
      "           5       0.00      0.00      0.00       537\n",
      "\n",
      "    accuracy                           0.17      2947\n",
      "   macro avg       0.03      0.17      0.05      2947\n",
      "weighted avg       0.03      0.17      0.05      2947\n",
      "\n"
     ]
    }
   ],
   "source": [
    "y_pred = np.argmax(cnn2.predict(X_test_cnn2), axis=1)\n",
    "\n",
    "print('Accuracy %s' % accuracy_score(y_test, y_pred))\n",
    "print('F1-score %s' % f1_score(y_test, y_pred, average=None))\n",
    "print(classification_report(y_test, y_pred))"
   ]
  },
  {
   "cell_type": "code",
   "execution_count": 135,
   "id": "426e3833-07db-484b-8b5e-c20a71635f99",
   "metadata": {
    "id": "jAveAzg3pkoc",
    "pycharm": {
     "name": "#%%\n"
    }
   },
   "outputs": [],
   "source": [
    "def build_cnn3(n_timesteps, n_outputs, n_features):\n",
    "    model = Sequential()\n",
    "    \n",
    "    model.add(Conv1D(filters=16, kernel_size=8, activation='relu', input_shape=(n_timesteps, n_features)))\n",
    "    model.add(BatchNormalization())\n",
    "    model.add(Activation('relu'))\n",
    "    \n",
    "    model.add(Dropout(0.3))\n",
    "    \n",
    "    model.add(Conv1D(filters=32, kernel_size=5, activation='relu'))\n",
    "    model.add(BatchNormalization())\n",
    "    model.add(Activation('relu'))\n",
    "    \n",
    "    model.add(Dropout(0.3))\n",
    "    \n",
    "    model.add(Conv1D(filters=64, kernel_size=3, activation='relu'))\n",
    "    model.add(BatchNormalization())\n",
    "    model.add(Activation('relu'))\n",
    "    \n",
    "    model.add(Dropout(0.3))\n",
    "    \n",
    "    model.add(GlobalAveragePooling1D())\n",
    "    \n",
    "    model.add(Dense(n_outputs, activation='sigmoid'))\n",
    "    model.compile(loss='sparse_categorical_crossentropy', optimizer='adam', metrics=['accuracy'])\n",
    "    \n",
    "    return model"
   ]
  },
  {
   "cell_type": "code",
   "execution_count": 136,
   "id": "40e69e79-3f06-4775-8a42-dd435654e391",
   "metadata": {
    "id": "DcJTTLrCpkoc",
    "pycharm": {
     "name": "#%%\n"
    }
   },
   "outputs": [],
   "source": [
    "cnn3 = build_cnn3(n_timesteps, n_outputs, n_features)"
   ]
  },
  {
   "cell_type": "code",
   "execution_count": null,
   "id": "ef0d2344-4630-48c9-a07b-d0e5e52b5a23",
   "metadata": {
    "collapsed": true,
    "id": "KQwl2Ld7pkod",
    "jupyter": {
     "outputs_hidden": true
    },
    "outputId": "4dec5db0-81df-4532-aaae-82706c0f58b0",
    "pycharm": {
     "name": "#%%\n"
    },
    "tags": []
   },
   "outputs": [
    {
     "name": "stdout",
     "output_type": "stream",
     "text": [
      "Model: \"sequential_8\"\n",
      "_________________________________________________________________\n",
      "Layer (type)                 Output Shape              Param #   \n",
      "=================================================================\n",
      "conv1d_7 (Conv1D)            (None, 93, 16)            784       \n",
      "_________________________________________________________________\n",
      "batch_normalization_48 (Batc (None, 93, 16)            64        \n",
      "_________________________________________________________________\n",
      "activation_7 (Activation)    (None, 93, 16)            0         \n",
      "_________________________________________________________________\n",
      "dropout_48 (Dropout)         (None, 93, 16)            0         \n",
      "_________________________________________________________________\n",
      "conv1d_8 (Conv1D)            (None, 89, 32)            2592      \n",
      "_________________________________________________________________\n",
      "batch_normalization_49 (Batc (None, 89, 32)            128       \n",
      "_________________________________________________________________\n",
      "activation_8 (Activation)    (None, 89, 32)            0         \n",
      "_________________________________________________________________\n",
      "dropout_49 (Dropout)         (None, 89, 32)            0         \n",
      "_________________________________________________________________\n",
      "conv1d_9 (Conv1D)            (None, 87, 64)            6208      \n",
      "_________________________________________________________________\n",
      "batch_normalization_50 (Batc (None, 87, 64)            256       \n",
      "_________________________________________________________________\n",
      "activation_9 (Activation)    (None, 87, 64)            0         \n",
      "_________________________________________________________________\n",
      "dropout_50 (Dropout)         (None, 87, 64)            0         \n",
      "_________________________________________________________________\n",
      "global_average_pooling1d_2 ( (None, 64)                0         \n",
      "_________________________________________________________________\n",
      "dense_33 (Dense)             (None, 4)                 260       \n",
      "=================================================================\n",
      "Total params: 10,292\n",
      "Trainable params: 10,068\n",
      "Non-trainable params: 224\n",
      "_________________________________________________________________\n",
      "None\n"
     ]
    }
   ],
   "source": [
    "cnn3.summary()"
   ]
  },
  {
   "cell_type": "code",
   "execution_count": 137,
   "id": "19cfcc15-d496-49c8-adc1-fa603a61287f",
   "metadata": {
    "id": "i_BkF8WNpkod",
    "pycharm": {
     "name": "#%%\n"
    }
   },
   "outputs": [],
   "source": [
    "rlr = ReduceLROnPlateau(monitor='loss', factor=0.5, patience=50, min_lr=0.0001)\n",
    "mc = ModelCheckpoint('best_model_cnn2.h5', monitor='val_loss', save_best_only=True)\n",
    "\n",
    "callbacks = [rlr, mc]\n",
    "\n",
    "batch_size = 16\n",
    "mini_batch_size = int(min(X_train.shape[0]/10, batch_size))"
   ]
  },
  {
   "cell_type": "code",
   "execution_count": null,
   "id": "67d31615-06a6-44e8-9262-38a594edfb0e",
   "metadata": {
    "id": "oz2pCvCEpkod",
    "outputId": "52a75135-f79f-421b-cd0d-6181a6ca5e22",
    "pycharm": {
     "name": "#%%\n"
    },
    "tags": []
   },
   "outputs": [],
   "source": [
    "history_cnn3 = cnn3.fit(X_train_cnn, y_train_cnn, epochs=50, batch_size=mini_batch_size, callbacks=callbacks,\n",
    "                      validation_data=(X_val_cnn, y_val_cnn)).history"
   ]
  },
  {
   "cell_type": "code",
   "execution_count": 138,
   "id": "9af27be0-61c6-4cc4-a337-87552c64d019",
   "metadata": {
    "id": "5iBQ31cfpkod",
    "outputId": "42970598-ab27-44b9-ed53-47ea034a1081",
    "pycharm": {
     "name": "#%%\n"
    }
   },
   "outputs": [
    {
     "name": "stdout",
     "output_type": "stream",
     "text": [
      "Accuracy 0.18221920597217509\n",
      "F1-score [0.         0.         0.         0.         0.         0.30826636]\n",
      "              precision    recall  f1-score   support\n",
      "\n",
      "           0       0.00      0.00      0.00       496\n",
      "           1       0.00      0.00      0.00       471\n",
      "           2       0.00      0.00      0.00       420\n",
      "           3       0.00      0.00      0.00       491\n",
      "           4       0.00      0.00      0.00       532\n",
      "           5       0.18      1.00      0.31       537\n",
      "\n",
      "    accuracy                           0.18      2947\n",
      "   macro avg       0.03      0.17      0.05      2947\n",
      "weighted avg       0.03      0.18      0.06      2947\n",
      "\n"
     ]
    }
   ],
   "source": [
    "y_pred = np.argmax(cnn3.predict(X_test), axis=1)\n",
    "\n",
    "print('Accuracy %s' % accuracy_score(y_test, y_pred))\n",
    "print('F1-score %s' % f1_score(y_test, y_pred, average=None))\n",
    "print(classification_report(y_test, y_pred))"
   ]
  },
  {
   "cell_type": "markdown",
   "id": "3a169bb5-bb31-4f1f-88e7-897115b9df8c",
   "metadata": {},
   "source": [
    "# TSC state of the art"
   ]
  },
  {
   "cell_type": "markdown",
   "id": "da970745-16aa-4817-8e72-8dfcdc2c80a2",
   "metadata": {
    "pycharm": {
     "name": "#%% md\n"
    }
   },
   "source": [
    "### 1-NN with DTW (baseline)"
   ]
  },
  {
   "cell_type": "code",
   "execution_count": 25,
   "id": "0c4e9f18-44b1-4382-9ec1-14d5f8b0d295",
   "metadata": {},
   "outputs": [],
   "source": [
    "from sktime.datatypes._panel._convert import from_3d_numpy_to_nested"
   ]
  },
  {
   "cell_type": "code",
   "execution_count": 26,
   "id": "4f72fce9-0116-48a9-b464-be6b3fb15a03",
   "metadata": {},
   "outputs": [],
   "source": [
    "body_gyro_x_train = body_gyro_x_train.to_numpy()"
   ]
  },
  {
   "cell_type": "code",
   "execution_count": 27,
   "id": "f757520d-3957-482f-855c-10a79e115caf",
   "metadata": {},
   "outputs": [],
   "source": [
    "body_gyro_x_test = body_gyro_x_test.to_numpy()"
   ]
  },
  {
   "cell_type": "code",
   "execution_count": 28,
   "id": "0e56e9a7-cfa8-4d01-8fb5-d8be7468fd32",
   "metadata": {},
   "outputs": [],
   "source": [
    "X_train_uni = from_3d_numpy_to_nested(body_gyro_x_train.reshape(7352,1,128))\n",
    "X_test_uni = from_3d_numpy_to_nested(body_gyro_x_test.reshape(2947,1,128))"
   ]
  },
  {
   "cell_type": "code",
   "execution_count": 29,
   "id": "432290d7-757e-4c8d-ab9d-29b1fd5da7ee",
   "metadata": {
    "pycharm": {
     "name": "#%%\n"
    }
   },
   "outputs": [],
   "source": [
    "from sktime.classification.distance_based import KNeighborsTimeSeriesClassifier"
   ]
  },
  {
   "cell_type": "code",
   "execution_count": 30,
   "id": "701ca84c-0842-4cae-81aa-f3401906a347",
   "metadata": {
    "pycharm": {
     "name": "#%%\n"
    }
   },
   "outputs": [
    {
     "data": {
      "text/plain": [
       "KNeighborsTimeSeriesClassifier()"
      ]
     },
     "execution_count": 30,
     "metadata": {},
     "output_type": "execute_result"
    }
   ],
   "source": [
    "clf = KNeighborsTimeSeriesClassifier()\n",
    "clf.fit(X_train_uni, y_train)"
   ]
  },
  {
   "cell_type": "code",
   "execution_count": 32,
   "id": "25dd5701-cc2c-4869-960a-9cf8422d5c63",
   "metadata": {
    "pycharm": {
     "name": "#%%\n"
    }
   },
   "outputs": [
    {
     "name": "stdout",
     "output_type": "stream",
     "text": [
      "              precision    recall  f1-score   support\n",
      "\n",
      "           1       0.81      0.83      0.82       496\n",
      "           2       0.71      0.74      0.73       471\n",
      "           3       0.74      0.65      0.69       420\n",
      "           4       0.51      0.51      0.51       491\n",
      "           5       0.55      0.58      0.56       532\n",
      "           6       0.48      0.47      0.48       537\n",
      "\n",
      "    accuracy                           0.63      2947\n",
      "   macro avg       0.63      0.63      0.63      2947\n",
      "weighted avg       0.63      0.63      0.63      2947\n",
      "\n",
      "CPU times: user 47min 1s, sys: 20.6 s, total: 47min 22s\n",
      "Wall time: 48min 13s\n"
     ]
    }
   ],
   "source": [
    "%%time\n",
    "y_pred = clf.predict(X_test_uni)\n",
    "print(classification_report(y_test, y_pred))"
   ]
  },
  {
   "cell_type": "markdown",
   "id": "d8839910-30f9-4fd2-a032-4c51cac410b0",
   "metadata": {
    "pycharm": {
     "name": "#%% md\n"
    }
   },
   "source": [
    "### ROCKET"
   ]
  },
  {
   "cell_type": "code",
   "execution_count": 30,
   "id": "6983a255-a916-4e84-91b4-b7c6c5820568",
   "metadata": {
    "pycharm": {
     "name": "#%%\n"
    },
    "tags": []
   },
   "outputs": [
    {
     "name": "stderr",
     "output_type": "stream",
     "text": [
      "OMP: Info #271: omp_set_nested routine deprecated, please use omp_set_max_active_levels instead.\n"
     ]
    }
   ],
   "source": [
    "from sklearn.linear_model import RidgeClassifierCV\n",
    "from sktime.transformations.panel.rocket import Rocket"
   ]
  },
  {
   "cell_type": "code",
   "execution_count": 98,
   "id": "e62dbbbb-b89d-4d51-86ee-4b40b1ab82c2",
   "metadata": {
    "pycharm": {
     "name": "#%%\n"
    }
   },
   "outputs": [
    {
     "name": "stdout",
     "output_type": "stream",
     "text": [
      "CPU times: user 7min 1s, sys: 14.8 s, total: 7min 16s\n",
      "Wall time: 4min 27s\n"
     ]
    },
    {
     "data": {
      "text/plain": [
       "RidgeClassifierCV(alphas=array([1.00000000e-03, 4.64158883e-03, 2.15443469e-02, 1.00000000e-01,\n",
       "       4.64158883e-01, 2.15443469e+00, 1.00000000e+01, 4.64158883e+01,\n",
       "       2.15443469e+02, 1.00000000e+03]),\n",
       "                  normalize=True)"
      ]
     },
     "execution_count": 98,
     "metadata": {},
     "output_type": "execute_result"
    }
   ],
   "source": [
    "%%time\n",
    "rocket = Rocket()  # by default, MiniRocket uses ~10,000 kernels\n",
    "rocket.fit(X_train_uni)\n",
    "X_train_transform = rocket.transform(X_train_uni)\n",
    "clf = RidgeClassifierCV(alphas=np.logspace(-3, 3, 10), normalize=True)\n",
    "clf.fit(X_train_transform, y_train)"
   ]
  },
  {
   "cell_type": "code",
   "execution_count": 99,
   "id": "f138b98f-21fc-46ab-88d5-7db1a8e8b4d3",
   "metadata": {
    "pycharm": {
     "name": "#%%\n"
    }
   },
   "outputs": [
    {
     "name": "stdout",
     "output_type": "stream",
     "text": [
      "              precision    recall  f1-score   support\n",
      "\n",
      "           1       0.88      0.82      0.85       496\n",
      "           2       0.72      0.74      0.73       471\n",
      "           3       0.65      0.70      0.67       420\n",
      "           4       0.50      0.51      0.50       491\n",
      "           5       0.62      0.66      0.64       532\n",
      "           6       0.55      0.50      0.52       537\n",
      "\n",
      "    accuracy                           0.65      2947\n",
      "   macro avg       0.65      0.65      0.65      2947\n",
      "weighted avg       0.65      0.65      0.65      2947\n",
      "\n"
     ]
    }
   ],
   "source": [
    "X_test_transform = rocket.transform(X_test_uni)\n",
    "y_pred = clf.predict(X_test_transform)\n",
    "print(classification_report(y_test, y_pred))"
   ]
  },
  {
   "cell_type": "markdown",
   "id": "588acfb3-acf7-4fe7-ba16-bd26233d78b3",
   "metadata": {
    "pycharm": {
     "name": "#%% md\n"
    }
   },
   "source": [
    "### MINI-ROCKET"
   ]
  },
  {
   "cell_type": "code",
   "execution_count": 100,
   "id": "850e05fc-802e-4f65-8ddc-6119cc36ae2a",
   "metadata": {
    "pycharm": {
     "name": "#%%\n"
    }
   },
   "outputs": [],
   "source": [
    "from sklearn.linear_model import RidgeClassifierCV\n",
    "from sktime.transformations.panel.rocket import MiniRocket"
   ]
  },
  {
   "cell_type": "code",
   "execution_count": 101,
   "id": "42f0429a-825e-4d75-add8-02ed69fdb483",
   "metadata": {
    "pycharm": {
     "name": "#%%\n"
    }
   },
   "outputs": [
    {
     "name": "stdout",
     "output_type": "stream",
     "text": [
      "CPU times: user 35 s, sys: 420 ms, total: 35.4 s\n",
      "Wall time: 36 s\n"
     ]
    }
   ],
   "source": [
    "%%time\n",
    "minirocket = MiniRocket()  # by default, MiniRocket uses ~10,000 kernels\n",
    "minirocket.fit(X_train_uni)\n",
    "X_train_transform = minirocket.transform(X_train_uni)"
   ]
  },
  {
   "cell_type": "code",
   "execution_count": 102,
   "id": "7860b13b-b692-4080-bad0-702fb1031ce5",
   "metadata": {
    "tags": []
   },
   "outputs": [
    {
     "data": {
      "text/plain": [
       "RidgeClassifierCV(alphas=array([1.00000000e-03, 4.64158883e-03, 2.15443469e-02, 1.00000000e-01,\n",
       "       4.64158883e-01, 2.15443469e+00, 1.00000000e+01, 4.64158883e+01,\n",
       "       2.15443469e+02, 1.00000000e+03]),\n",
       "                  normalize=True)"
      ]
     },
     "execution_count": 102,
     "metadata": {},
     "output_type": "execute_result"
    }
   ],
   "source": [
    "clf = RidgeClassifierCV(alphas=np.logspace(-3, 3, 10), normalize=True)\n",
    "clf.fit(X_train_transform.to_numpy(), y_train.ravel())"
   ]
  },
  {
   "cell_type": "code",
   "execution_count": 103,
   "id": "79d1c26a-3a9c-4edf-9a91-9ea066d39cc4",
   "metadata": {},
   "outputs": [],
   "source": [
    "X_test_transform = minirocket.transform(X_test_uni)"
   ]
  },
  {
   "cell_type": "code",
   "execution_count": 104,
   "id": "2d746ef0-2898-465c-9e04-869e4082ec3f",
   "metadata": {
    "pycharm": {
     "name": "#%%\n"
    }
   },
   "outputs": [
    {
     "name": "stdout",
     "output_type": "stream",
     "text": [
      "              precision    recall  f1-score   support\n",
      "\n",
      "           1       0.91      0.81      0.86       496\n",
      "           2       0.74      0.83      0.78       471\n",
      "           3       0.77      0.77      0.77       420\n",
      "           4       0.61      0.55      0.58       491\n",
      "           5       0.66      0.80      0.72       532\n",
      "           6       0.64      0.56      0.60       537\n",
      "\n",
      "    accuracy                           0.72      2947\n",
      "   macro avg       0.72      0.72      0.72      2947\n",
      "weighted avg       0.72      0.72      0.71      2947\n",
      "\n"
     ]
    }
   ],
   "source": [
    "y_pred = clf.predict(X_test_transform.to_numpy())\n",
    "print(classification_report(y_test, y_pred))"
   ]
  },
  {
   "cell_type": "markdown",
   "id": "3dc3db1b-307c-4265-bf46-58148feddf3c",
   "metadata": {
    "pycharm": {
     "name": "#%% md\n"
    }
   },
   "source": [
    "### Canonical Interval Forest (CIF)"
   ]
  },
  {
   "cell_type": "code",
   "execution_count": 25,
   "id": "89361bd6-969c-4f15-a632-07ee31608754",
   "metadata": {
    "pycharm": {
     "name": "#%%\n"
    }
   },
   "outputs": [],
   "source": [
    "from sktime.classification.interval_based import CanonicalIntervalForest"
   ]
  },
  {
   "cell_type": "code",
   "execution_count": 31,
   "id": "1fef03fb-0c23-4988-91e5-486679a31fa6",
   "metadata": {
    "collapsed": true,
    "jupyter": {
     "outputs_hidden": true
    },
    "tags": []
   },
   "outputs": [
    {
     "name": "stdout",
     "output_type": "stream",
     "text": [
      "Fitting 10 folds for each of 19 candidates, totalling 190 fits\n"
     ]
    },
    {
     "ename": "KeyboardInterrupt",
     "evalue": "",
     "output_type": "error",
     "traceback": [
      "\u001b[0;31m---------------------------------------------------------------------------\u001b[0m",
      "\u001b[0;31mKeyboardInterrupt\u001b[0m                         Traceback (most recent call last)",
      "\u001b[0;32m/var/folders/wc/nkw6_2m95b99xglzpfb6736h0000gn/T/ipykernel_5845/1219838030.py\u001b[0m in \u001b[0;36m<module>\u001b[0;34m\u001b[0m\n\u001b[1;32m      4\u001b[0m \u001b[0;34m\u001b[0m\u001b[0m\n\u001b[1;32m      5\u001b[0m \u001b[0mgrid\u001b[0m \u001b[0;34m=\u001b[0m \u001b[0mGridSearchCV\u001b[0m\u001b[0;34m(\u001b[0m\u001b[0mCanonicalIntervalForest\u001b[0m\u001b[0;34m(\u001b[0m\u001b[0;34m)\u001b[0m\u001b[0;34m,\u001b[0m \u001b[0mparam_grid\u001b[0m\u001b[0;34m,\u001b[0m \u001b[0mcv\u001b[0m\u001b[0;34m=\u001b[0m\u001b[0;36m10\u001b[0m\u001b[0;34m,\u001b[0m \u001b[0mscoring\u001b[0m\u001b[0;34m=\u001b[0m\u001b[0;34m'accuracy'\u001b[0m\u001b[0;34m,\u001b[0m \u001b[0mreturn_train_score\u001b[0m\u001b[0;34m=\u001b[0m\u001b[0;32mFalse\u001b[0m\u001b[0;34m,\u001b[0m \u001b[0mverbose\u001b[0m\u001b[0;34m=\u001b[0m\u001b[0;36m1\u001b[0m\u001b[0;34m,\u001b[0m \u001b[0mn_jobs\u001b[0m\u001b[0;34m=\u001b[0m\u001b[0;34m-\u001b[0m\u001b[0;36m1\u001b[0m\u001b[0;34m)\u001b[0m\u001b[0;34m\u001b[0m\u001b[0;34m\u001b[0m\u001b[0m\n\u001b[0;32m----> 6\u001b[0;31m \u001b[0mgrid\u001b[0m\u001b[0;34m.\u001b[0m\u001b[0mfit\u001b[0m\u001b[0;34m(\u001b[0m\u001b[0mX_train_uni\u001b[0m\u001b[0;34m,\u001b[0m \u001b[0my_train\u001b[0m\u001b[0;34m)\u001b[0m\u001b[0;34m\u001b[0m\u001b[0;34m\u001b[0m\u001b[0m\n\u001b[0m",
      "\u001b[0;32m/opt/anaconda3/lib/python3.8/site-packages/sklearn/model_selection/_search.py\u001b[0m in \u001b[0;36mfit\u001b[0;34m(self, X, y, groups, **fit_params)\u001b[0m\n\u001b[1;32m    889\u001b[0m                 \u001b[0;32mreturn\u001b[0m \u001b[0mresults\u001b[0m\u001b[0;34m\u001b[0m\u001b[0;34m\u001b[0m\u001b[0m\n\u001b[1;32m    890\u001b[0m \u001b[0;34m\u001b[0m\u001b[0m\n\u001b[0;32m--> 891\u001b[0;31m             \u001b[0mself\u001b[0m\u001b[0;34m.\u001b[0m\u001b[0m_run_search\u001b[0m\u001b[0;34m(\u001b[0m\u001b[0mevaluate_candidates\u001b[0m\u001b[0;34m)\u001b[0m\u001b[0;34m\u001b[0m\u001b[0;34m\u001b[0m\u001b[0m\n\u001b[0m\u001b[1;32m    892\u001b[0m \u001b[0;34m\u001b[0m\u001b[0m\n\u001b[1;32m    893\u001b[0m             \u001b[0;31m# multimetric is determined here because in the case of a callable\u001b[0m\u001b[0;34m\u001b[0m\u001b[0;34m\u001b[0m\u001b[0;34m\u001b[0m\u001b[0m\n",
      "\u001b[0;32m/opt/anaconda3/lib/python3.8/site-packages/sklearn/model_selection/_search.py\u001b[0m in \u001b[0;36m_run_search\u001b[0;34m(self, evaluate_candidates)\u001b[0m\n\u001b[1;32m   1390\u001b[0m     \u001b[0;32mdef\u001b[0m \u001b[0m_run_search\u001b[0m\u001b[0;34m(\u001b[0m\u001b[0mself\u001b[0m\u001b[0;34m,\u001b[0m \u001b[0mevaluate_candidates\u001b[0m\u001b[0;34m)\u001b[0m\u001b[0;34m:\u001b[0m\u001b[0;34m\u001b[0m\u001b[0;34m\u001b[0m\u001b[0m\n\u001b[1;32m   1391\u001b[0m         \u001b[0;34m\"\"\"Search all candidates in param_grid\"\"\"\u001b[0m\u001b[0;34m\u001b[0m\u001b[0;34m\u001b[0m\u001b[0m\n\u001b[0;32m-> 1392\u001b[0;31m         \u001b[0mevaluate_candidates\u001b[0m\u001b[0;34m(\u001b[0m\u001b[0mParameterGrid\u001b[0m\u001b[0;34m(\u001b[0m\u001b[0mself\u001b[0m\u001b[0;34m.\u001b[0m\u001b[0mparam_grid\u001b[0m\u001b[0;34m)\u001b[0m\u001b[0;34m)\u001b[0m\u001b[0;34m\u001b[0m\u001b[0;34m\u001b[0m\u001b[0m\n\u001b[0m\u001b[1;32m   1393\u001b[0m \u001b[0;34m\u001b[0m\u001b[0m\n\u001b[1;32m   1394\u001b[0m \u001b[0;34m\u001b[0m\u001b[0m\n",
      "\u001b[0;32m/opt/anaconda3/lib/python3.8/site-packages/sklearn/model_selection/_search.py\u001b[0m in \u001b[0;36mevaluate_candidates\u001b[0;34m(candidate_params, cv, more_results)\u001b[0m\n\u001b[1;32m    836\u001b[0m                     )\n\u001b[1;32m    837\u001b[0m \u001b[0;34m\u001b[0m\u001b[0m\n\u001b[0;32m--> 838\u001b[0;31m                 out = parallel(\n\u001b[0m\u001b[1;32m    839\u001b[0m                     delayed(_fit_and_score)(\n\u001b[1;32m    840\u001b[0m                         \u001b[0mclone\u001b[0m\u001b[0;34m(\u001b[0m\u001b[0mbase_estimator\u001b[0m\u001b[0;34m)\u001b[0m\u001b[0;34m,\u001b[0m\u001b[0;34m\u001b[0m\u001b[0;34m\u001b[0m\u001b[0m\n",
      "\u001b[0;32m/opt/anaconda3/lib/python3.8/site-packages/joblib/parallel.py\u001b[0m in \u001b[0;36m__call__\u001b[0;34m(self, iterable)\u001b[0m\n\u001b[1;32m   1054\u001b[0m \u001b[0;34m\u001b[0m\u001b[0m\n\u001b[1;32m   1055\u001b[0m             \u001b[0;32mwith\u001b[0m \u001b[0mself\u001b[0m\u001b[0;34m.\u001b[0m\u001b[0m_backend\u001b[0m\u001b[0;34m.\u001b[0m\u001b[0mretrieval_context\u001b[0m\u001b[0;34m(\u001b[0m\u001b[0;34m)\u001b[0m\u001b[0;34m:\u001b[0m\u001b[0;34m\u001b[0m\u001b[0;34m\u001b[0m\u001b[0m\n\u001b[0;32m-> 1056\u001b[0;31m                 \u001b[0mself\u001b[0m\u001b[0;34m.\u001b[0m\u001b[0mretrieve\u001b[0m\u001b[0;34m(\u001b[0m\u001b[0;34m)\u001b[0m\u001b[0;34m\u001b[0m\u001b[0;34m\u001b[0m\u001b[0m\n\u001b[0m\u001b[1;32m   1057\u001b[0m             \u001b[0;31m# Make sure that we get a last message telling us we are done\u001b[0m\u001b[0;34m\u001b[0m\u001b[0;34m\u001b[0m\u001b[0;34m\u001b[0m\u001b[0m\n\u001b[1;32m   1058\u001b[0m             \u001b[0melapsed_time\u001b[0m \u001b[0;34m=\u001b[0m \u001b[0mtime\u001b[0m\u001b[0;34m.\u001b[0m\u001b[0mtime\u001b[0m\u001b[0;34m(\u001b[0m\u001b[0;34m)\u001b[0m \u001b[0;34m-\u001b[0m \u001b[0mself\u001b[0m\u001b[0;34m.\u001b[0m\u001b[0m_start_time\u001b[0m\u001b[0;34m\u001b[0m\u001b[0;34m\u001b[0m\u001b[0m\n",
      "\u001b[0;32m/opt/anaconda3/lib/python3.8/site-packages/joblib/parallel.py\u001b[0m in \u001b[0;36mretrieve\u001b[0;34m(self)\u001b[0m\n\u001b[1;32m    933\u001b[0m             \u001b[0;32mtry\u001b[0m\u001b[0;34m:\u001b[0m\u001b[0;34m\u001b[0m\u001b[0;34m\u001b[0m\u001b[0m\n\u001b[1;32m    934\u001b[0m                 \u001b[0;32mif\u001b[0m \u001b[0mgetattr\u001b[0m\u001b[0;34m(\u001b[0m\u001b[0mself\u001b[0m\u001b[0;34m.\u001b[0m\u001b[0m_backend\u001b[0m\u001b[0;34m,\u001b[0m \u001b[0;34m'supports_timeout'\u001b[0m\u001b[0;34m,\u001b[0m \u001b[0;32mFalse\u001b[0m\u001b[0;34m)\u001b[0m\u001b[0;34m:\u001b[0m\u001b[0;34m\u001b[0m\u001b[0;34m\u001b[0m\u001b[0m\n\u001b[0;32m--> 935\u001b[0;31m                     \u001b[0mself\u001b[0m\u001b[0;34m.\u001b[0m\u001b[0m_output\u001b[0m\u001b[0;34m.\u001b[0m\u001b[0mextend\u001b[0m\u001b[0;34m(\u001b[0m\u001b[0mjob\u001b[0m\u001b[0;34m.\u001b[0m\u001b[0mget\u001b[0m\u001b[0;34m(\u001b[0m\u001b[0mtimeout\u001b[0m\u001b[0;34m=\u001b[0m\u001b[0mself\u001b[0m\u001b[0;34m.\u001b[0m\u001b[0mtimeout\u001b[0m\u001b[0;34m)\u001b[0m\u001b[0;34m)\u001b[0m\u001b[0;34m\u001b[0m\u001b[0;34m\u001b[0m\u001b[0m\n\u001b[0m\u001b[1;32m    936\u001b[0m                 \u001b[0;32melse\u001b[0m\u001b[0;34m:\u001b[0m\u001b[0;34m\u001b[0m\u001b[0;34m\u001b[0m\u001b[0m\n\u001b[1;32m    937\u001b[0m                     \u001b[0mself\u001b[0m\u001b[0;34m.\u001b[0m\u001b[0m_output\u001b[0m\u001b[0;34m.\u001b[0m\u001b[0mextend\u001b[0m\u001b[0;34m(\u001b[0m\u001b[0mjob\u001b[0m\u001b[0;34m.\u001b[0m\u001b[0mget\u001b[0m\u001b[0;34m(\u001b[0m\u001b[0;34m)\u001b[0m\u001b[0;34m)\u001b[0m\u001b[0;34m\u001b[0m\u001b[0;34m\u001b[0m\u001b[0m\n",
      "\u001b[0;32m/opt/anaconda3/lib/python3.8/site-packages/joblib/_parallel_backends.py\u001b[0m in \u001b[0;36mwrap_future_result\u001b[0;34m(future, timeout)\u001b[0m\n\u001b[1;32m    540\u001b[0m         AsyncResults.get from multiprocessing.\"\"\"\n\u001b[1;32m    541\u001b[0m         \u001b[0;32mtry\u001b[0m\u001b[0;34m:\u001b[0m\u001b[0;34m\u001b[0m\u001b[0;34m\u001b[0m\u001b[0m\n\u001b[0;32m--> 542\u001b[0;31m             \u001b[0;32mreturn\u001b[0m \u001b[0mfuture\u001b[0m\u001b[0;34m.\u001b[0m\u001b[0mresult\u001b[0m\u001b[0;34m(\u001b[0m\u001b[0mtimeout\u001b[0m\u001b[0;34m=\u001b[0m\u001b[0mtimeout\u001b[0m\u001b[0;34m)\u001b[0m\u001b[0;34m\u001b[0m\u001b[0;34m\u001b[0m\u001b[0m\n\u001b[0m\u001b[1;32m    543\u001b[0m         \u001b[0;32mexcept\u001b[0m \u001b[0mCfTimeoutError\u001b[0m \u001b[0;32mas\u001b[0m \u001b[0me\u001b[0m\u001b[0;34m:\u001b[0m\u001b[0;34m\u001b[0m\u001b[0;34m\u001b[0m\u001b[0m\n\u001b[1;32m    544\u001b[0m             \u001b[0;32mraise\u001b[0m \u001b[0mTimeoutError\u001b[0m \u001b[0;32mfrom\u001b[0m \u001b[0me\u001b[0m\u001b[0;34m\u001b[0m\u001b[0;34m\u001b[0m\u001b[0m\n",
      "\u001b[0;32m/opt/anaconda3/lib/python3.8/concurrent/futures/_base.py\u001b[0m in \u001b[0;36mresult\u001b[0;34m(self, timeout)\u001b[0m\n\u001b[1;32m    432\u001b[0m                 \u001b[0;32mreturn\u001b[0m \u001b[0mself\u001b[0m\u001b[0;34m.\u001b[0m\u001b[0m__get_result\u001b[0m\u001b[0;34m(\u001b[0m\u001b[0;34m)\u001b[0m\u001b[0;34m\u001b[0m\u001b[0;34m\u001b[0m\u001b[0m\n\u001b[1;32m    433\u001b[0m \u001b[0;34m\u001b[0m\u001b[0m\n\u001b[0;32m--> 434\u001b[0;31m             \u001b[0mself\u001b[0m\u001b[0;34m.\u001b[0m\u001b[0m_condition\u001b[0m\u001b[0;34m.\u001b[0m\u001b[0mwait\u001b[0m\u001b[0;34m(\u001b[0m\u001b[0mtimeout\u001b[0m\u001b[0;34m)\u001b[0m\u001b[0;34m\u001b[0m\u001b[0;34m\u001b[0m\u001b[0m\n\u001b[0m\u001b[1;32m    435\u001b[0m \u001b[0;34m\u001b[0m\u001b[0m\n\u001b[1;32m    436\u001b[0m             \u001b[0;32mif\u001b[0m \u001b[0mself\u001b[0m\u001b[0;34m.\u001b[0m\u001b[0m_state\u001b[0m \u001b[0;32min\u001b[0m \u001b[0;34m[\u001b[0m\u001b[0mCANCELLED\u001b[0m\u001b[0;34m,\u001b[0m \u001b[0mCANCELLED_AND_NOTIFIED\u001b[0m\u001b[0;34m]\u001b[0m\u001b[0;34m:\u001b[0m\u001b[0;34m\u001b[0m\u001b[0;34m\u001b[0m\u001b[0m\n",
      "\u001b[0;32m/opt/anaconda3/lib/python3.8/threading.py\u001b[0m in \u001b[0;36mwait\u001b[0;34m(self, timeout)\u001b[0m\n\u001b[1;32m    300\u001b[0m         \u001b[0;32mtry\u001b[0m\u001b[0;34m:\u001b[0m    \u001b[0;31m# restore state no matter what (e.g., KeyboardInterrupt)\u001b[0m\u001b[0;34m\u001b[0m\u001b[0;34m\u001b[0m\u001b[0m\n\u001b[1;32m    301\u001b[0m             \u001b[0;32mif\u001b[0m \u001b[0mtimeout\u001b[0m \u001b[0;32mis\u001b[0m \u001b[0;32mNone\u001b[0m\u001b[0;34m:\u001b[0m\u001b[0;34m\u001b[0m\u001b[0;34m\u001b[0m\u001b[0m\n\u001b[0;32m--> 302\u001b[0;31m                 \u001b[0mwaiter\u001b[0m\u001b[0;34m.\u001b[0m\u001b[0macquire\u001b[0m\u001b[0;34m(\u001b[0m\u001b[0;34m)\u001b[0m\u001b[0;34m\u001b[0m\u001b[0;34m\u001b[0m\u001b[0m\n\u001b[0m\u001b[1;32m    303\u001b[0m                 \u001b[0mgotit\u001b[0m \u001b[0;34m=\u001b[0m \u001b[0;32mTrue\u001b[0m\u001b[0;34m\u001b[0m\u001b[0;34m\u001b[0m\u001b[0m\n\u001b[1;32m    304\u001b[0m             \u001b[0;32melse\u001b[0m\u001b[0;34m:\u001b[0m\u001b[0;34m\u001b[0m\u001b[0;34m\u001b[0m\u001b[0m\n",
      "\u001b[0;31mKeyboardInterrupt\u001b[0m: "
     ]
    }
   ],
   "source": [
    "# define the parameter values that should be searched\n",
    "k_range = list(range(5, 100, 5))\n",
    "param_grid = dict(n_estimators=k_range)\n",
    "\n",
    "grid = GridSearchCV(CanonicalIntervalForest(), param_grid, cv=10, scoring='accuracy', return_train_score=False, verbose=1, n_jobs=-1)\n",
    "grid.fit(X_train_uni, y_train)"
   ]
  },
  {
   "cell_type": "code",
   "execution_count": null,
   "id": "8e38bec7-82e0-4bea-b575-841d68b40278",
   "metadata": {},
   "outputs": [],
   "source": [
    "grid.best_params_"
   ]
  },
  {
   "cell_type": "raw",
   "id": "d3e4a212-c8bf-4247-a0b7-4e35e1241d57",
   "metadata": {
    "pycharm": {
     "name": "#%%\n"
    }
   },
   "source": [
    "%%time\n",
    "clf = CanonicalIntervalForest(n_estimators=30)\n",
    "clf.fit(body_gyro_x_train, y_train)"
   ]
  },
  {
   "cell_type": "raw",
   "id": "5d674454-7622-49c2-8f37-781042d327b3",
   "metadata": {
    "pycharm": {
     "name": "#%%\n"
    }
   },
   "source": [
    "y_pred = clf.predict(body_gyro_x_test)\n",
    "print(classification_report(y_test, y_pred))"
   ]
  },
  {
   "cell_type": "markdown",
   "id": "8e3a4d19-ef7d-41c3-9277-e6bd2d7fc6a7",
   "metadata": {
    "pycharm": {
     "name": "#%% md\n"
    }
   },
   "source": [
    "## MULTIVARIATE"
   ]
  },
  {
   "cell_type": "code",
   "execution_count": 52,
   "id": "3eea1523-ab2b-45ac-adf8-e9fc42a8a084",
   "metadata": {},
   "outputs": [],
   "source": [
    "from sktime.utils.plotting import plot_series\n",
    "from sktime.datatypes._panel._convert import from_3d_numpy_to_nested"
   ]
  },
  {
   "cell_type": "code",
   "execution_count": 26,
   "id": "e9de8ae1-5320-479c-9ffa-210710c16f7a",
   "metadata": {},
   "outputs": [],
   "source": [
    "body_gyro_x_train = body_gyro_x_train.to_numpy()"
   ]
  },
  {
   "cell_type": "code",
   "execution_count": 27,
   "id": "9224b06e-ffee-42c9-9120-56067eb7561e",
   "metadata": {},
   "outputs": [],
   "source": [
    "body_gyro_x_test = body_gyro_x_test.to_numpy()"
   ]
  },
  {
   "cell_type": "code",
   "execution_count": 28,
   "id": "2bcad1cd-88dd-43e9-9305-782c5f7ce60c",
   "metadata": {},
   "outputs": [],
   "source": [
    "X_train_uni = from_3d_numpy_to_nested(body_gyro_x_train.reshape(7352,1,128))\n",
    "X_test_uni = from_3d_numpy_to_nested(body_gyro_x_test.reshape(2947,1,128))"
   ]
  },
  {
   "cell_type": "code",
   "execution_count": 29,
   "id": "be610b01-d2be-408f-8d25-eca5c9f8364f",
   "metadata": {},
   "outputs": [],
   "source": [
    "body_gyro_y_train = body_gyro_y_train.to_numpy()"
   ]
  },
  {
   "cell_type": "code",
   "execution_count": 30,
   "id": "40f59cf1-6273-458c-aad8-65a0fff75df0",
   "metadata": {},
   "outputs": [],
   "source": [
    "body_gyro_y_test = body_gyro_y_test.to_numpy()"
   ]
  },
  {
   "cell_type": "code",
   "execution_count": 31,
   "id": "f679e7f8-3f72-46a6-a802-01b229f29c01",
   "metadata": {},
   "outputs": [],
   "source": [
    "Y_train_uni = from_3d_numpy_to_nested(body_gyro_y_train.reshape(7352,1,128))\n",
    "Y_test_uni = from_3d_numpy_to_nested(body_gyro_y_test.reshape(2947,1,128))"
   ]
  },
  {
   "cell_type": "code",
   "execution_count": 90,
   "id": "e2a3a165-527a-449b-a134-5562e022cd99",
   "metadata": {
    "tags": []
   },
   "outputs": [],
   "source": [
    "XY_train = pd.concat([X_train_uni, Y_train_uni], axis=1)\n",
    "XY_test = pd.concat([X_test_uni, Y_test_uni], axis=1)"
   ]
  },
  {
   "cell_type": "raw",
   "id": "ceb4c904-472f-4143-a31d-3a235534537d",
   "metadata": {
    "pycharm": {
     "name": "#%%\n"
    },
    "tags": []
   },
   "source": [
    "for dim in XY_train.columns:\n",
    "    plot_series(XY_train[dim][0])  # plot each signal of the mts"
   ]
  },
  {
   "cell_type": "markdown",
   "id": "b39fb9c3-fdb1-47ef-9a19-8cda1649bf54",
   "metadata": {
    "pycharm": {
     "name": "#%% md\n"
    }
   },
   "source": [
    "### 1-NN with DTW (baseline)"
   ]
  },
  {
   "cell_type": "code",
   "execution_count": null,
   "id": "bd6020de-11d1-47e7-bb7c-a06398c5b09d",
   "metadata": {
    "pycharm": {
     "name": "#%%\n"
    }
   },
   "outputs": [],
   "source": [
    "from sktime.classification.distance_based import KNeighborsTimeSeriesClassifier"
   ]
  },
  {
   "cell_type": "code",
   "execution_count": null,
   "id": "e048433a-4326-4386-9ba5-f338f78b5731",
   "metadata": {
    "pycharm": {
     "name": "#%%\n"
    }
   },
   "outputs": [],
   "source": [
    "clf = KNeighborsTimeSeriesClassifier()\n",
    "clf.fit(XY_train, y_train)"
   ]
  },
  {
   "cell_type": "code",
   "execution_count": null,
   "id": "235d4205-6b3e-4b28-a736-bbd9815cb3eb",
   "metadata": {
    "pycharm": {
     "name": "#%%\n"
    }
   },
   "outputs": [],
   "source": [
    "%%time\n",
    "y_pred = clf.predict(XY_test)\n",
    "print(classification_report(y_test, y_pred))"
   ]
  },
  {
   "cell_type": "markdown",
   "id": "ddd9309e-5fe6-48cc-acaa-e0f598160fed",
   "metadata": {
    "pycharm": {
     "name": "#%% md\n"
    }
   },
   "source": [
    "### ROCKET"
   ]
  },
  {
   "cell_type": "code",
   "execution_count": 91,
   "id": "8284e5ac-d762-4f09-a51e-59c56357705b",
   "metadata": {
    "pycharm": {
     "name": "#%%\n"
    }
   },
   "outputs": [],
   "source": [
    "from sklearn.linear_model import RidgeClassifierCV\n",
    "from sktime.transformations.panel.rocket import Rocket"
   ]
  },
  {
   "cell_type": "code",
   "execution_count": 92,
   "id": "f257470a-e2ce-474c-9488-55f51e13a351",
   "metadata": {
    "pycharm": {
     "name": "#%%\n"
    }
   },
   "outputs": [
    {
     "name": "stdout",
     "output_type": "stream",
     "text": [
      "CPU times: user 9min 21s, sys: 15.5 s, total: 9min 36s\n",
      "Wall time: 6min 49s\n"
     ]
    },
    {
     "data": {
      "text/plain": [
       "RidgeClassifierCV(alphas=array([1.00000000e-03, 4.64158883e-03, 2.15443469e-02, 1.00000000e-01,\n",
       "       4.64158883e-01, 2.15443469e+00, 1.00000000e+01, 4.64158883e+01,\n",
       "       2.15443469e+02, 1.00000000e+03]),\n",
       "                  normalize=True)"
      ]
     },
     "execution_count": 92,
     "metadata": {},
     "output_type": "execute_result"
    }
   ],
   "source": [
    "%%time\n",
    "rocket = Rocket()\n",
    "rocket.fit(XY_train)\n",
    "X_train_transform = rocket.transform(XY_train)\n",
    "clf = RidgeClassifierCV(alphas=np.logspace(-3, 3, 10), normalize=True)\n",
    "clf.fit(X_train_transform, y_train)"
   ]
  },
  {
   "cell_type": "code",
   "execution_count": 93,
   "id": "3f6b8560-4580-44b8-89dd-20edf8fe8208",
   "metadata": {
    "pycharm": {
     "name": "#%%\n"
    }
   },
   "outputs": [
    {
     "name": "stdout",
     "output_type": "stream",
     "text": [
      "              precision    recall  f1-score   support\n",
      "\n",
      "           1       0.98      0.75      0.85       496\n",
      "           2       0.86      0.92      0.89       471\n",
      "           3       0.77      0.85      0.81       420\n",
      "           4       0.60      0.64      0.62       491\n",
      "           5       0.67      0.75      0.71       532\n",
      "           6       0.66      0.60      0.63       537\n",
      "\n",
      "    accuracy                           0.74      2947\n",
      "   macro avg       0.76      0.75      0.75      2947\n",
      "weighted avg       0.75      0.74      0.75      2947\n",
      "\n"
     ]
    }
   ],
   "source": [
    "X_test_transform = rocket.transform(XY_test)\n",
    "y_pred = clf.predict(X_test_transform)\n",
    "print(classification_report(y_test, y_pred))"
   ]
  },
  {
   "cell_type": "markdown",
   "id": "0622cd96-8d33-4291-97e0-622cf32bda1e",
   "metadata": {
    "pycharm": {
     "name": "#%% md\n"
    }
   },
   "source": [
    "### MINI-ROCKET"
   ]
  },
  {
   "cell_type": "code",
   "execution_count": 59,
   "id": "8a70d47b-87a1-43bc-ab9e-e98d44f34a96",
   "metadata": {
    "pycharm": {
     "name": "#%%\n"
    }
   },
   "outputs": [
    {
     "name": "stderr",
     "output_type": "stream",
     "text": [
      "OMP: Info #271: omp_set_nested routine deprecated, please use omp_set_max_active_levels instead.\n"
     ]
    }
   ],
   "source": [
    "from sklearn.linear_model import RidgeClassifierCV\n",
    "from sktime.transformations.panel.rocket import MiniRocketMultivariate"
   ]
  },
  {
   "cell_type": "code",
   "execution_count": 60,
   "id": "f3f1bef3-3406-4626-a742-2a1745e7d253",
   "metadata": {
    "pycharm": {
     "name": "#%%\n"
    }
   },
   "outputs": [
    {
     "name": "stdout",
     "output_type": "stream",
     "text": [
      "CPU times: user 5min 5s, sys: 9.56 s, total: 5min 15s\n",
      "Wall time: 2min 40s\n"
     ]
    },
    {
     "data": {
      "text/plain": [
       "RidgeClassifierCV(alphas=array([1.00000000e-03, 4.64158883e-03, 2.15443469e-02, 1.00000000e-01,\n",
       "       4.64158883e-01, 2.15443469e+00, 1.00000000e+01, 4.64158883e+01,\n",
       "       2.15443469e+02, 1.00000000e+03]),\n",
       "                  normalize=True)"
      ]
     },
     "execution_count": 60,
     "metadata": {},
     "output_type": "execute_result"
    }
   ],
   "source": [
    "%%time\n",
    "minirocket = MiniRocketMultivariate()  # by default, MiniRocket uses ~10,000 kernels\n",
    "minirocket.fit(XY_train)\n",
    "X_train_transform = minirocket.transform(XY_train)\n",
    "clf = RidgeClassifierCV(alphas=np.logspace(-3, 3, 10), normalize=True)\n",
    "clf.fit(X_train_transform, y_train)"
   ]
  },
  {
   "cell_type": "code",
   "execution_count": 61,
   "id": "0e9beb8b-c5b8-4a8c-9db8-8d92bea633f7",
   "metadata": {
    "pycharm": {
     "name": "#%%\n"
    }
   },
   "outputs": [
    {
     "name": "stdout",
     "output_type": "stream",
     "text": [
      "              precision    recall  f1-score   support\n",
      "\n",
      "           1       0.95      0.78      0.86       496\n",
      "           2       0.83      0.99      0.90       471\n",
      "           3       0.85      0.85      0.85       420\n",
      "           4       0.69      0.71      0.70       491\n",
      "           5       0.76      0.88      0.81       532\n",
      "           6       0.76      0.62      0.68       537\n",
      "\n",
      "    accuracy                           0.80      2947\n",
      "   macro avg       0.81      0.81      0.80      2947\n",
      "weighted avg       0.80      0.80      0.80      2947\n",
      "\n"
     ]
    }
   ],
   "source": [
    "X_test_transform = minirocket.transform(XY_test)\n",
    "y_pred = clf.predict(X_test_transform)\n",
    "print(classification_report(y_test, y_pred))"
   ]
  }
 ],
 "metadata": {
  "kernelspec": {
   "display_name": "Python 3 (ipykernel)",
   "language": "python",
   "name": "python3"
  },
  "language_info": {
   "codemirror_mode": {
    "name": "ipython",
    "version": 3
   },
   "file_extension": ".py",
   "mimetype": "text/x-python",
   "name": "python",
   "nbconvert_exporter": "python",
   "pygments_lexer": "ipython3",
   "version": "3.8.2"
  }
 },
 "nbformat": 4,
 "nbformat_minor": 5
}
