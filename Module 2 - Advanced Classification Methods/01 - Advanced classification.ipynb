{
 "cells": [
  {
   "cell_type": "code",
   "execution_count": 1,
   "id": "fe6734c8-0b60-4c88-8af9-e3de1064de8e",
   "metadata": {
    "pycharm": {
     "name": "#%%\n"
    }
   },
   "outputs": [
    {
     "name": "stderr",
     "output_type": "stream",
     "text": [
      "<frozen importlib._bootstrap>:219: RuntimeWarning: scipy._lib.messagestream.MessageStream size changed, may indicate binary incompatibility. Expected 56 from C header, got 64 from PyObject\n"
     ]
    }
   ],
   "source": [
    "%matplotlib inline\n",
    "\n",
    "import numpy as np\n",
    "import pandas as pd\n",
    "import seaborn as sns\n",
    "import matplotlib.pyplot as plt\n",
    "\n",
    "from sklearn.model_selection import train_test_split, cross_val_score \n",
    "\n",
    "from sklearn.metrics import accuracy_score, f1_score, classification_report\n",
    "from sklearn.metrics import roc_curve, auc, roc_auc_score\n",
    "\n",
    "from sklearn import metrics\n",
    "from sklearn.metrics import ConfusionMatrixDisplay\n",
    "from sklearn.pipeline import Pipeline\n",
    "from sklearn.pipeline import FeatureUnion\n",
    "from sklearn.preprocessing import StandardScaler\n",
    "from sklearn.decomposition import PCA\n",
    "from sklearn.decomposition import IncrementalPCA\n",
    "from sklearn.model_selection import GridSearchCV\n",
    "from sklearn.model_selection import cross_val_score\n",
    "from sklearn.model_selection import train_test_split\n",
    "from sklearn.neighbors import KNeighborsClassifier\n",
    "from sklearn.ensemble import RandomForestClassifier\n",
    "from sklearn.linear_model import LogisticRegression\n",
    "from sklearn.manifold import Isomap\n",
    "from sklearn.manifold import TSNE\n",
    "from sklearn import random_projection\n",
    "from sklearn.manifold import MDS\n",
    "from sklearn.manifold import Isomap\n",
    "\n",
    "# Decision Tree\n",
    "from sklearn.tree import DecisionTreeClassifier\n",
    "# Optional: KNN\n",
    "from sklearn.neighbors import KNeighborsClassifier\n",
    "from collections import defaultdict\n",
    "\n",
    "from scikitplot.metrics import plot_roc\n",
    "from scikitplot.metrics import plot_precision_recall\n",
    "from scikitplot.metrics import plot_cumulative_gain\n",
    "from scikitplot.metrics import plot_lift_curve"
   ]
  },
  {
   "cell_type": "code",
   "execution_count": 2,
   "id": "fd941fb0-5f6d-46b6-8176-265c630b77c3",
   "metadata": {
    "pycharm": {
     "name": "#%%\n"
    }
   },
   "outputs": [],
   "source": [
    "import warnings\n",
    "warnings.filterwarnings('ignore')"
   ]
  },
  {
   "cell_type": "code",
   "execution_count": 3,
   "id": "6e12ce4f-cf61-4b9b-ad3e-ef244748471d",
   "metadata": {
    "pycharm": {
     "name": "#%%\n"
    }
   },
   "outputs": [
    {
     "name": "stdout",
     "output_type": "stream",
     "text": [
      "No of Features: 561\n"
     ]
    }
   ],
   "source": [
    "features = list()\n",
    "with open('../features.txt') as f:\n",
    "    features = [line.split()[1] for line in f.readlines()]\n",
    "print('No of Features: {}'.format(len(features)))"
   ]
  },
  {
   "cell_type": "code",
   "execution_count": 4,
   "id": "1d6b88d5-ae7e-4df6-a6ba-f1324c0519b9",
   "metadata": {
    "pycharm": {
     "name": "#%%\n"
    }
   },
   "outputs": [],
   "source": [
    "X_train = pd.read_csv('X_train.txt', delim_whitespace=True, header=None, encoding='latin-1')\n",
    "X_train.columns = features\n",
    "\n",
    "# add subject column to the dataframe\n",
    "#X_train['subject'] = pd.read_csv('subject_train.txt', header=None, squeeze=True)\n",
    "\n",
    "y_train = pd.read_csv('y_train.txt', names=['Activity'], squeeze=True)\n",
    "#y_train_labels = y_train.map({1: 'WALKING', 2:'WALKING_UPSTAIRS',3:'WALKING_DOWNSTAIRS',\\\n",
    "#                       4:'SITTING', 5:'STANDING',6:'LAYING'})\n",
    "\n",
    "# put all columns in a single dataframe\n",
    "#train = X_train\n",
    "#train['Activity'] = y_train"
   ]
  },
  {
   "cell_type": "code",
   "execution_count": 5,
   "id": "bc904890-9a31-46c3-b614-bad536815feb",
   "metadata": {
    "pycharm": {
     "name": "#%%\n"
    }
   },
   "outputs": [],
   "source": [
    "X_test = pd.read_csv('../test/X_test.txt', delim_whitespace=True, header=None, encoding='latin-1')\n",
    "X_test.columns = features\n",
    "\n",
    "# add subject column to the dataframe\n",
    "#X_test['subject'] = pd.read_csv('subject_train.txt', header=None, squeeze=True)\n",
    "\n",
    "y_test = pd.read_csv('../test/y_test.txt', names=['Activity'], squeeze=True)\n",
    "#y_test_labels = y_train.map({1: 'WALKING', 2:'WALKING_UPSTAIRS',3:'WALKING_DOWNSTAIRS',\\\n",
    "#                       4:'SITTING', 5:'STANDING',6:'LAYING'})\n",
    "\n",
    "# put all columns in a single dataframe\n",
    "#train01 = X_test\n",
    "#train01['Activity'] = y_test"
   ]
  },
  {
   "cell_type": "markdown",
   "id": "9ff1a602-b7bb-4394-9210-d12464d21417",
   "metadata": {
    "pycharm": {
     "name": "#%% md\n"
    }
   },
   "source": [
    "# Naive Bayes"
   ]
  },
  {
   "cell_type": "code",
   "execution_count": 6,
   "id": "da828beb-a94d-44de-874a-5eb84d63388b",
   "metadata": {
    "pycharm": {
     "name": "#%%\n"
    }
   },
   "outputs": [],
   "source": [
    "X = X_train.values"
   ]
  },
  {
   "cell_type": "code",
   "execution_count": 6,
   "id": "0b61a43f-8689-4940-833a-530a6f98126d",
   "metadata": {
    "pycharm": {
     "name": "#%%\n"
    }
   },
   "outputs": [],
   "source": [
    "from sklearn.naive_bayes import GaussianNB, CategoricalNB"
   ]
  },
  {
   "cell_type": "code",
   "execution_count": 7,
   "id": "2d41d5f5-a907-4b55-86eb-72a66b691bdf",
   "metadata": {
    "pycharm": {
     "name": "#%%\n"
    }
   },
   "outputs": [
    {
     "data": {
      "text/plain": [
       "GaussianNB()"
      ]
     },
     "execution_count": 7,
     "metadata": {},
     "output_type": "execute_result"
    }
   ],
   "source": [
    "clf = GaussianNB()\n",
    "clf.fit(X_train, y_train)"
   ]
  },
  {
   "cell_type": "code",
   "execution_count": 8,
   "id": "e2803077-0737-4555-bffb-f147fdf38523",
   "metadata": {
    "pycharm": {
     "name": "#%%\n"
    }
   },
   "outputs": [],
   "source": [
    "y_pred = clf.predict(X_test)"
   ]
  },
  {
   "cell_type": "code",
   "execution_count": 9,
   "id": "5f21e85a-d306-4830-8294-266f22dcb3ce",
   "metadata": {
    "pycharm": {
     "name": "#%%\n"
    }
   },
   "outputs": [
    {
     "name": "stdout",
     "output_type": "stream",
     "text": [
      "Accuracy 0.7702748557855447\n",
      "F1-score [0.83116883 0.84456929 0.70410959 0.65480427 0.8287796  0.73997709]\n",
      "              precision    recall  f1-score   support\n",
      "\n",
      "           1       0.82      0.84      0.83       496\n",
      "           2       0.76      0.96      0.84       471\n",
      "           3       0.83      0.61      0.70       420\n",
      "           4       0.58      0.75      0.65       491\n",
      "           5       0.80      0.86      0.83       532\n",
      "           6       0.96      0.60      0.74       537\n",
      "\n",
      "    accuracy                           0.77      2947\n",
      "   macro avg       0.79      0.77      0.77      2947\n",
      "weighted avg       0.79      0.77      0.77      2947\n",
      "\n"
     ]
    }
   ],
   "source": [
    "print('Accuracy %s' % accuracy_score(y_test, y_pred))\n",
    "print('F1-score %s' % f1_score(y_test, y_pred, average=None))\n",
    "print(classification_report(y_test, y_pred))"
   ]
  },
  {
   "cell_type": "code",
   "execution_count": 11,
   "id": "9a6e851d-c97c-47dc-b656-51935a31f51d",
   "metadata": {
    "pycharm": {
     "name": "#%%\n"
    }
   },
   "outputs": [],
   "source": [
    "X_cat = list()\n",
    "for i in range(len(X)):\n",
    "    X_cat.append(pd.qcut(X[i], q=[0.0, 0.25, 0.5, 0.75, 1.0], labels=False))\n",
    "X_cat = np.array(X_cat)"
   ]
  },
  {
   "cell_type": "code",
   "execution_count": 12,
   "id": "d62a8fd5-6310-4f52-a119-971415ce3fa0",
   "metadata": {
    "pycharm": {
     "name": "#%%\n"
    }
   },
   "outputs": [
    {
     "data": {
      "text/plain": [
       "CategoricalNB()"
      ]
     },
     "execution_count": 12,
     "metadata": {},
     "output_type": "execute_result"
    }
   ],
   "source": [
    "clf = CategoricalNB()\n",
    "clf.fit(X_cat, y_train)"
   ]
  },
  {
   "cell_type": "code",
   "execution_count": 13,
   "id": "1f2c6727-cf1d-4c56-b25b-cbefc4c85043",
   "metadata": {
    "pycharm": {
     "name": "#%%\n"
    }
   },
   "outputs": [
    {
     "name": "stdout",
     "output_type": "stream",
     "text": [
      "Accuracy 0.8667029379760609\n",
      "F1-score [0.92405063 0.88049756 0.8873024  0.76945668 0.79480321 0.95505214]\n",
      "              precision    recall  f1-score   support\n",
      "\n",
      "           1       0.96      0.89      0.92      1226\n",
      "           2       0.84      0.92      0.88      1073\n",
      "           3       0.89      0.88      0.89       986\n",
      "           4       0.73      0.81      0.77      1286\n",
      "           5       0.84      0.76      0.79      1374\n",
      "           6       0.97      0.94      0.96      1407\n",
      "\n",
      "    accuracy                           0.87      7352\n",
      "   macro avg       0.87      0.87      0.87      7352\n",
      "weighted avg       0.87      0.87      0.87      7352\n",
      "\n"
     ]
    }
   ],
   "source": [
    "y_pred = clf.predict(X_cat)\n",
    "print('Accuracy %s' % accuracy_score(y_train, y_pred))\n",
    "print('F1-score %s' % f1_score(y_train, y_pred, average=None))\n",
    "print(classification_report(y_train, y_pred))"
   ]
  },
  {
   "cell_type": "markdown",
   "id": "207b72ca-63f3-4370-b0b8-c428239f5aa5",
   "metadata": {
    "pycharm": {
     "name": "#%% md\n"
    }
   },
   "source": [
    "## Linear Regression"
   ]
  },
  {
   "cell_type": "code",
   "execution_count": 75,
   "id": "25d1a399-566d-4783-bb26-8216eaf4384e",
   "metadata": {
    "pycharm": {
     "name": "#%%\n"
    }
   },
   "outputs": [],
   "source": [
    "from sklearn.linear_model import LinearRegression, Ridge, Lasso\n",
    "from sklearn.model_selection import train_test_split, cross_val_score \n",
    "\n",
    "from sklearn.metrics import r2_score, mean_squared_error, mean_absolute_error\n",
    "\n",
    "from sklearn.model_selection import train_test_split"
   ]
  },
  {
   "cell_type": "code",
   "execution_count": 138,
   "id": "76903525-dfb3-48b3-9e9f-b7a5cee08b45",
   "metadata": {
    "pycharm": {
     "name": "#%%\n"
    }
   },
   "outputs": [],
   "source": [
    "# simple linear regression\n",
    "X = X_train['tBodyAcc-max()-X'].values.reshape(-1, 1)\n",
    "y = X_train['tBodyAcc-min()-X'].values.reshape(-1,1)\n",
    "\n",
    "# multiple linear regression\n",
    "#X = X_train[['tBodyAcc-max()-X', 'tBodyAcc-mean()-X']]\n",
    "#y = X_train['tBodyAcc-min()-X']"
   ]
  },
  {
   "cell_type": "code",
   "execution_count": 139,
   "id": "e863d95a-c2de-4629-8851-3aab2f1617b1",
   "metadata": {
    "pycharm": {
     "name": "#%%\n"
    }
   },
   "outputs": [],
   "source": [
    "X_train_linear, X_test_linear, y_train_linear, y_test_linear = train_test_split(X, y, test_size=0.3, random_state=0)"
   ]
  },
  {
   "cell_type": "code",
   "execution_count": 140,
   "id": "8ea43420-d6ce-4833-ab56-d6cf67387dae",
   "metadata": {
    "pycharm": {
     "name": "#%%\n"
    }
   },
   "outputs": [
    {
     "data": {
      "text/plain": [
       "LinearRegression()"
      ]
     },
     "execution_count": 140,
     "metadata": {},
     "output_type": "execute_result"
    }
   ],
   "source": [
    "reg = LinearRegression()\n",
    "reg.fit(X_train_linear, y_train_linear)"
   ]
  },
  {
   "cell_type": "code",
   "execution_count": 141,
   "id": "08f16caf-1fdd-4f50-b949-f695007098f9",
   "metadata": {
    "pycharm": {
     "name": "#%%\n"
    },
    "tags": []
   },
   "outputs": [
    {
     "name": "stdout",
     "output_type": "stream",
     "text": [
      "Coefficients: \n",
      " [[-0.62938481]]\n",
      "Intercept: \n",
      " [0.22820227]\n"
     ]
    }
   ],
   "source": [
    "print('Coefficients: \\n', reg.coef_)\n",
    "print('Intercept: \\n', reg.intercept_)"
   ]
  },
  {
   "cell_type": "code",
   "execution_count": 142,
   "id": "e4b2855c-d867-4e8d-95b8-c4cc57c5bc03",
   "metadata": {
    "pycharm": {
     "name": "#%%\n"
    }
   },
   "outputs": [],
   "source": [
    "y_pred = reg.predict(X_test_linear)"
   ]
  },
  {
   "cell_type": "code",
   "execution_count": 143,
   "id": "e923d9c2-75a9-466c-bec8-33e31c86116c",
   "metadata": {
    "pycharm": {
     "name": "#%%\n"
    }
   },
   "outputs": [
    {
     "name": "stdout",
     "output_type": "stream",
     "text": [
      "R2: 0.889\n",
      "MSE: 0.014\n",
      "MAE: 0.075\n"
     ]
    }
   ],
   "source": [
    "print('R2: %.3f' % r2_score(y_test_linear, y_pred))\n",
    "print('MSE: %.3f' % mean_squared_error(y_test_linear, y_pred))\n",
    "print('MAE: %.3f' % mean_absolute_error(y_test_linear, y_pred))"
   ]
  },
  {
   "cell_type": "code",
   "execution_count": 144,
   "id": "cf1215d6-6fc1-4d48-ac21-700c9e467093",
   "metadata": {
    "pycharm": {
     "name": "#%%\n"
    }
   },
   "outputs": [],
   "source": [
    "#y_new = np.array(y_test)"
   ]
  },
  {
   "cell_type": "code",
   "execution_count": 151,
   "id": "9af3b268-22d0-4381-8876-f64cc16ad286",
   "metadata": {
    "pycharm": {
     "name": "#%%\n"
    }
   },
   "outputs": [],
   "source": [
    "#.flatten solo se simple lr\n",
    "df = pd.DataFrame({'Actual': y_test_linear.flatten(), 'Predicted': y_pred.flatten()})"
   ]
  },
  {
   "cell_type": "raw",
   "id": "2f98c835-047d-4909-88c2-2d4682f8a9f9",
   "metadata": {
    "pycharm": {
     "name": "#%% raw\n"
    }
   },
   "source": [
    "c = 0\n",
    "for i in range(len(y_new)):\n",
    "    if y_new[i] == y_pred[i]:\n",
    "        c+=1\n",
    "print(c/len(y_new)*100, '% predetti correttamente') "
   ]
  },
  {
   "cell_type": "code",
   "execution_count": 149,
   "id": "7a35b217-0c32-4e2c-8e96-a9dee4774cb1",
   "metadata": {
    "pycharm": {
     "name": "#%%\n"
    }
   },
   "outputs": [
    {
     "data": {
      "image/png": "[encoded data removed]",
      "text/plain": [
       "<Figure size 1440x720 with 1 Axes>"
      ]
     },
     "metadata": {
      "needs_background": "light"
     },
     "output_type": "display_data"
    }
   ],
   "source": [
    "#import random\n",
    "#i = random.randrange(1,651)\n",
    "df1 = df.head(25)\n",
    "df1.plot(kind='bar',figsize=(20,10))\n",
    "plt.grid(which='major', linestyle='-', linewidth='0.5', color='black')\n",
    "plt.grid(which='minor', linestyle=':', linewidth='0.5', color='black')\n",
    "plt.show()"
   ]
  },
  {
   "cell_type": "markdown",
   "id": "15987431-e6e1-43f4-b08a-571bccc0e588",
   "metadata": {
    "pycharm": {
     "name": "#%% md\n"
    }
   },
   "source": [
    "## Linear Regression in 2 dimensions"
   ]
  },
  {
   "cell_type": "raw",
   "id": "19d4e6b3-caf4-4137-b98f-c641dac75af7",
   "metadata": {
    "pycharm": {
     "name": "#%% raw\n"
    }
   },
   "source": [
    "X = X_train_linear\n",
    "Xt = X_test_linear"
   ]
  },
  {
   "cell_type": "code",
   "execution_count": 150,
   "id": "f3298555-f299-4163-ac50-86319420801e",
   "metadata": {
    "pycharm": {
     "name": "#%%\n"
    }
   },
   "outputs": [
    {
     "data": {
      "image/png": "[encoded data removed]",
      "text/plain": [
       "<Figure size 432x288 with 1 Axes>"
      ]
     },
     "metadata": {
      "needs_background": "light"
     },
     "output_type": "display_data"
    }
   ],
   "source": [
    "plt.scatter(X_test_linear, y_test_linear,  color='black')\n",
    "plt.plot(X_test_linear, y_pred, color='red', linewidth=2)\n",
    "plt.show()"
   ]
  },
  {
   "cell_type": "raw",
   "id": "6ba52302-0420-470c-a14f-a2ddd43448f5",
   "metadata": {
    "pycharm": {
     "name": "#%% raw\n"
    }
   },
   "source": [
    "reg = LinearRegression()\n",
    "reg.fit(X.T[0].reshape(-1, 1), X.T[1].reshape(-1, 1))\n",
    "y_pred = reg.predict(Xt.T[0].reshape(-1, 1)).reshape(1,-1)[0]\n",
    "\n",
    "print('R2: %.3f' % r2_score(y_test_linear, y_pred_linear))\n",
    "print('MSE: %.3f' % mean_squared_error(y_test_linear, y_pred))\n",
    "print('MAE: %.3f' % mean_absolute_error(y_test_linear, y_pred))"
   ]
  },
  {
   "cell_type": "raw",
   "id": "14fe5496-4605-4a81-828a-039711c1746a",
   "metadata": {
    "pycharm": {
     "name": "#%% raw\n"
    }
   },
   "source": [
    "plt.scatter(X.T[0], X.T[1],  color='black')\n",
    "plt.plot(Xt.T[0], y_pred, color='blue', linewidth=3, label='test')\n",
    "plt.show()"
   ]
  },
  {
   "cell_type": "markdown",
   "id": "b30ecf16-866b-4505-a0a8-7918c6651b78",
   "metadata": {
    "pycharm": {
     "name": "#%% md\n"
    }
   },
   "source": [
    "# Lasso"
   ]
  },
  {
   "cell_type": "code",
   "execution_count": 102,
   "id": "9aa47a4f-5ebb-4123-a7f2-329eac1e5d08",
   "metadata": {
    "pycharm": {
     "name": "#%%\n"
    },
    "tags": []
   },
   "outputs": [
    {
     "name": "stdout",
     "output_type": "stream",
     "text": [
      "Coefficients: \n",
      " [-0.]\n",
      "Intercept: \n",
      " [0.51913892]\n"
     ]
    }
   ],
   "source": [
    "reg = Lasso()\n",
    "reg.fit(X_train_linear, y_train_linear)\n",
    "print('Coefficients: \\n', reg.coef_)\n",
    "print('Intercept: \\n', reg.intercept_)"
   ]
  },
  {
   "cell_type": "code",
   "execution_count": 103,
   "id": "832409c1-0f57-41c2-aa9f-94377b4a35ba",
   "metadata": {
    "pycharm": {
     "name": "#%%\n"
    }
   },
   "outputs": [
    {
     "name": "stdout",
     "output_type": "stream",
     "text": [
      "R2: -0.002\n",
      "MSE: 0.128\n",
      "MAE: 0.333\n"
     ]
    }
   ],
   "source": [
    "y_pred = reg.predict(X_test_linear)\n",
    "print('R2: %.3f' % r2_score(y_test_linear, y_pred))\n",
    "print('MSE: %.3f' % mean_squared_error(y_test_linear, y_pred))\n",
    "print('MAE: %.3f' % mean_absolute_error(y_test_linear, y_pred))"
   ]
  },
  {
   "cell_type": "markdown",
   "id": "3e76d91a-e090-4199-a738-b7a2e60c0097",
   "metadata": {
    "pycharm": {
     "name": "#%% md\n"
    }
   },
   "source": [
    "# Ridge"
   ]
  },
  {
   "cell_type": "code",
   "execution_count": 104,
   "id": "75416390-7573-4103-b642-357a0657c598",
   "metadata": {
    "pycharm": {
     "name": "#%%\n"
    },
    "tags": []
   },
   "outputs": [
    {
     "name": "stdout",
     "output_type": "stream",
     "text": [
      "Coefficients: \n",
      " [[-0.62897653]]\n",
      "Intercept: \n",
      " [0.228391]\n"
     ]
    }
   ],
   "source": [
    "reg = Ridge()\n",
    "reg.fit(X_train_linear, y_train_linear)\n",
    "print('Coefficients: \\n', reg.coef_)\n",
    "print('Intercept: \\n', reg.intercept_)"
   ]
  },
  {
   "cell_type": "code",
   "execution_count": 105,
   "id": "103f68f0-9551-4f96-8ef0-522d27344849",
   "metadata": {
    "pycharm": {
     "name": "#%%\n"
    }
   },
   "outputs": [
    {
     "name": "stdout",
     "output_type": "stream",
     "text": [
      "R2: 0.889\n",
      "MSE: 0.014\n",
      "MAE: 0.075\n"
     ]
    }
   ],
   "source": [
    "y_pred = reg.predict(X_test_linear)\n",
    "print('R2: %.3f' % r2_score(y_test_linear, y_pred))\n",
    "print('MSE: %.3f' % mean_squared_error(y_test_linear, y_pred))\n",
    "print('MAE: %.3f' % mean_absolute_error(y_test_linear, y_pred))"
   ]
  },
  {
   "cell_type": "markdown",
   "id": "dc310400-50d7-44e1-aa23-f8bc04f922dd",
   "metadata": {
    "pycharm": {
     "name": "#%% md\n"
    }
   },
   "source": [
    "# Logistic Regression"
   ]
  },
  {
   "cell_type": "code",
   "execution_count": 20,
   "id": "4003e961-7913-4cda-8481-f2574f22f91b",
   "metadata": {
    "pycharm": {
     "name": "#%%\n"
    }
   },
   "outputs": [
    {
     "data": {
      "image/png": "[encoded data removed]",
      "text/plain": [
       "<Figure size 432x288 with 1 Axes>"
      ]
     },
     "metadata": {
      "needs_background": "light"
     },
     "output_type": "display_data"
    }
   ],
   "source": [
    "plt.scatter(X.T[0], y_train)\n",
    "#plt.xlabel(selected_columns[0], fontsize=16)\n",
    "#plt.ylabel('Occupancy', fontsize=16)\n",
    "plt.tick_params(axis='both', which='major', labelsize=16)\n",
    "plt.show()"
   ]
  },
  {
   "cell_type": "code",
   "execution_count": 21,
   "id": "86b1bad5-710c-4074-9f0f-79ca4058a3c3",
   "metadata": {
    "pycharm": {
     "name": "#%%\n"
    }
   },
   "outputs": [],
   "source": [
    "from sklearn.linear_model import LogisticRegression\n",
    "from sklearn.metrics import accuracy_score, f1_score, classification_report"
   ]
  },
  {
   "cell_type": "code",
   "execution_count": 29,
   "id": "86eaf9f7-20c3-47f3-aa9b-36628f4ec128",
   "metadata": {
    "pycharm": {
     "name": "#%%\n"
    }
   },
   "outputs": [
    {
     "data": {
      "text/plain": [
       "LogisticRegression(random_state=0)"
      ]
     },
     "execution_count": 29,
     "metadata": {},
     "output_type": "execute_result"
    }
   ],
   "source": [
    "clf = LogisticRegression(random_state=0)\n",
    "clf.fit(X.T[0].reshape(-1,1), y_train)"
   ]
  },
  {
   "cell_type": "code",
   "execution_count": 23,
   "id": "cf7d7e1b-7ab9-44c8-b0d6-341db5f035fc",
   "metadata": {
    "pycharm": {
     "name": "#%%\n"
    }
   },
   "outputs": [
    {
     "name": "stdout",
     "output_type": "stream",
     "text": [
      "              precision    recall  f1-score   support\n",
      "\n",
      "           1       0.00      0.00      0.00       496\n",
      "           2       0.11      0.00      0.00       471\n",
      "           3       0.71      0.01      0.02       420\n",
      "           4       0.00      0.00      0.00       491\n",
      "           5       0.07      0.10      0.08       532\n",
      "           6       0.20      0.79      0.31       537\n",
      "\n",
      "    accuracy                           0.16      2947\n",
      "   macro avg       0.18      0.15      0.07      2947\n",
      "weighted avg       0.17      0.16      0.08      2947\n",
      "\n"
     ]
    }
   ],
   "source": [
    "y_pred = clf.predict(Xt.T[0].reshape(-1,1))\n",
    "\n",
    "print(classification_report(y_test, y_pred))"
   ]
  },
  {
   "cell_type": "markdown",
   "id": "a75a1d5a-1d51-4ebe-b02b-504cbbd97ac7",
   "metadata": {
    "pycharm": {
     "name": "#%% md\n"
    }
   },
   "source": [
    "## Linear SVM "
   ]
  },
  {
   "cell_type": "code",
   "execution_count": 32,
   "id": "7cc24ea1-9311-4a12-aa3f-84a3597cebfd",
   "metadata": {
    "pycharm": {
     "name": "#%%\n"
    }
   },
   "outputs": [],
   "source": [
    "from sklearn.svm import LinearSVC"
   ]
  },
  {
   "cell_type": "code",
   "execution_count": 33,
   "id": "97bb4a65-1bf7-4d55-8ded-0a95e9aa8fa9",
   "metadata": {
    "pycharm": {
     "name": "#%%\n"
    }
   },
   "outputs": [
    {
     "name": "stdout",
     "output_type": "stream",
     "text": [
      "Accuracy 0.9660671869697998\n",
      "F1-score [0.98023715 0.97216274 0.99159664 0.91909385 0.93705036 0.99814126]\n",
      "              precision    recall  f1-score   support\n",
      "\n",
      "           1       0.96      1.00      0.98       496\n",
      "           2       0.98      0.96      0.97       471\n",
      "           3       1.00      0.98      0.99       420\n",
      "           4       0.98      0.87      0.92       491\n",
      "           5       0.90      0.98      0.94       532\n",
      "           6       1.00      1.00      1.00       537\n",
      "\n",
      "    accuracy                           0.97      2947\n",
      "   macro avg       0.97      0.97      0.97      2947\n",
      "weighted avg       0.97      0.97      0.97      2947\n",
      "\n"
     ]
    }
   ],
   "source": [
    "clf = LinearSVC(C=1.0, random_state=42)\n",
    "clf.fit(X_train, y_train)\n",
    "\n",
    "y_pred = clf.predict(X_test)\n",
    "\n",
    "print('Accuracy %s' % accuracy_score(y_test, y_pred))\n",
    "print('F1-score %s' % f1_score(y_test, y_pred, average=None))\n",
    "print(classification_report(y_test, y_pred))"
   ]
  },
  {
   "cell_type": "code",
   "execution_count": 34,
   "id": "142d1553-8840-48b9-9121-212f30d5aabd",
   "metadata": {
    "pycharm": {
     "name": "#%%\n"
    }
   },
   "outputs": [
    {
     "name": "stdout",
     "output_type": "stream",
     "text": [
      "Accuracy 0.9650492025788938\n",
      "F1-score [0.98409543 0.97545358 0.99040767 0.91166848 0.93238434 0.99814126]\n",
      "              precision    recall  f1-score   support\n",
      "\n",
      "           1       0.97      1.00      0.98       496\n",
      "           2       0.98      0.97      0.98       471\n",
      "           3       1.00      0.98      0.99       420\n",
      "           4       0.98      0.85      0.91       491\n",
      "           5       0.89      0.98      0.93       532\n",
      "           6       1.00      1.00      1.00       537\n",
      "\n",
      "    accuracy                           0.97      2947\n",
      "   macro avg       0.97      0.96      0.97      2947\n",
      "weighted avg       0.97      0.97      0.96      2947\n",
      "\n"
     ]
    }
   ],
   "source": [
    "clf = LinearSVC(C=100.0, random_state=42)\n",
    "clf.fit(X_train, y_train)\n",
    "\n",
    "y_pred = clf.predict(X_test)\n",
    "\n",
    "print('Accuracy %s' % accuracy_score(y_test, y_pred))\n",
    "print('F1-score %s' % f1_score(y_test, y_pred, average=None))\n",
    "print(classification_report(y_test, y_pred))"
   ]
  },
  {
   "cell_type": "code",
   "execution_count": 35,
   "id": "2736f33b-255b-497a-a042-e6e3a91d6791",
   "metadata": {
    "pycharm": {
     "name": "#%%\n"
    }
   },
   "outputs": [
    {
     "name": "stdout",
     "output_type": "stream",
     "text": [
      "Accuracy 0.9412962334577536\n",
      "F1-score [0.96       0.94994675 0.95705521 0.88135593 0.89963504 0.99906977]\n",
      "              precision    recall  f1-score   support\n",
      "\n",
      "           1       0.93      0.99      0.96       496\n",
      "           2       0.95      0.95      0.95       471\n",
      "           3       0.99      0.93      0.96       420\n",
      "           4       0.92      0.85      0.88       491\n",
      "           5       0.87      0.93      0.90       532\n",
      "           6       1.00      1.00      1.00       537\n",
      "\n",
      "    accuracy                           0.94      2947\n",
      "   macro avg       0.94      0.94      0.94      2947\n",
      "weighted avg       0.94      0.94      0.94      2947\n",
      "\n"
     ]
    }
   ],
   "source": [
    "clf = LinearSVC(C=0.001, random_state=42)\n",
    "clf.fit(X_train, y_train)\n",
    "\n",
    "y_pred = clf.predict(X_test)\n",
    "\n",
    "print('Accuracy %s' % accuracy_score(y_test, y_pred))\n",
    "print('F1-score %s' % f1_score(y_test, y_pred, average=None))\n",
    "print(classification_report(y_test, y_pred))"
   ]
  },
  {
   "cell_type": "code",
   "execution_count": 36,
   "id": "5f60a882-3266-4f04-b46e-6afee3718661",
   "metadata": {
    "pycharm": {
     "name": "#%%\n"
    }
   },
   "outputs": [
    {
     "name": "stdout",
     "output_type": "stream",
     "text": [
      "Accuracy 0.9667458432304038\n",
      "F1-score [0.98507463 0.97446809 0.99040767 0.91782284 0.93647913 0.99814126]\n",
      "              precision    recall  f1-score   support\n",
      "\n",
      "           1       0.97      1.00      0.99       496\n",
      "           2       0.98      0.97      0.97       471\n",
      "           3       1.00      0.98      0.99       420\n",
      "           4       0.96      0.88      0.92       491\n",
      "           5       0.91      0.97      0.94       532\n",
      "           6       1.00      1.00      1.00       537\n",
      "\n",
      "    accuracy                           0.97      2947\n",
      "   macro avg       0.97      0.97      0.97      2947\n",
      "weighted avg       0.97      0.97      0.97      2947\n",
      "\n"
     ]
    }
   ],
   "source": [
    "clf = LinearSVC(C=66, random_state=42)\n",
    "clf.fit(X_train, y_train)\n",
    "\n",
    "y_pred = clf.predict(X_test)\n",
    "\n",
    "print('Accuracy %s' % accuracy_score(y_test, y_pred))\n",
    "print('F1-score %s' % f1_score(y_test, y_pred, average=None))\n",
    "print(classification_report(y_test, y_pred))"
   ]
  },
  {
   "cell_type": "markdown",
   "id": "9062aa66-607f-4aa3-bcb7-15b1d7a969d0",
   "metadata": {
    "pycharm": {
     "name": "#%% md\n"
    }
   },
   "source": [
    "# Ensemble methods"
   ]
  },
  {
   "cell_type": "markdown",
   "id": "539857be-e1ab-47c6-a363-661ef9d4eaf9",
   "metadata": {
    "pycharm": {
     "name": "#%% md\n"
    }
   },
   "source": [
    "# Random forest"
   ]
  },
  {
   "cell_type": "code",
   "execution_count": 6,
   "id": "1cf9e95a-240e-442b-9d48-9e641bc5f440",
   "metadata": {
    "pycharm": {
     "name": "#%%\n"
    }
   },
   "outputs": [],
   "source": [
    "from sklearn.ensemble import RandomForestClassifier"
   ]
  },
  {
   "cell_type": "code",
   "execution_count": 7,
   "id": "b2ee11e2-bd49-4946-a88d-d5233179a569",
   "metadata": {
    "pycharm": {
     "name": "#%%\n"
    }
   },
   "outputs": [
    {
     "name": "stdout",
     "output_type": "stream",
     "text": [
      "Accuracy 0.9253478113335596\n",
      "F1-score [0.9328215  0.9015873  0.89961881 0.8988764  0.90721649 1.        ]\n",
      "              precision    recall  f1-score   support\n",
      "\n",
      "           1       0.89      0.98      0.93       496\n",
      "           2       0.90      0.90      0.90       471\n",
      "           3       0.96      0.84      0.90       420\n",
      "           4       0.90      0.90      0.90       491\n",
      "           5       0.90      0.91      0.91       532\n",
      "           6       1.00      1.00      1.00       537\n",
      "\n",
      "    accuracy                           0.93      2947\n",
      "   macro avg       0.93      0.92      0.92      2947\n",
      "weighted avg       0.93      0.93      0.93      2947\n",
      "\n"
     ]
    }
   ],
   "source": [
    "clf = RandomForestClassifier(n_estimators=100, criterion='gini', max_depth=None, min_samples_split=2, \n",
    "                             min_samples_leaf=1, min_weight_fraction_leaf=0.0, max_features='auto', random_state=0)\n",
    "clf.fit(X_train, y_train)\n",
    "\n",
    "y_pred = clf.predict(X_test)\n",
    "\n",
    "print('Accuracy %s' % accuracy_score(y_test, y_pred))\n",
    "print('F1-score %s' % f1_score(y_test, y_pred, average=None))\n",
    "print(classification_report(y_test, y_pred))"
   ]
  },
  {
   "cell_type": "code",
   "execution_count": 8,
   "id": "32e2444d-ae71-4582-ab10-1160f4f68ce0",
   "metadata": {
    "pycharm": {
     "name": "#%%\n"
    }
   },
   "outputs": [],
   "source": [
    "y_score = clf.predict_proba(X_test)"
   ]
  },
  {
   "cell_type": "code",
   "execution_count": 18,
   "id": "c104c60d-0848-417f-ab9b-7ca4f33b40d1",
   "metadata": {
    "pycharm": {
     "name": "#%%\n"
    }
   },
   "outputs": [
    {
     "data": {
      "image/png": "[encoded data removed]",
      "text/plain": [
       "<Figure size 936x720 with 1 Axes>"
      ]
     },
     "metadata": {
      "needs_background": "light"
     },
     "output_type": "display_data"
    }
   ],
   "source": [
    "plot_roc(y_test, y_score, figsize=(13,10))\n",
    "plt.show()"
   ]
  },
  {
   "cell_type": "code",
   "execution_count": 9,
   "id": "48e4b9ed-c850-40b5-b48a-0c71786f9ea7",
   "metadata": {
    "pycharm": {
     "name": "#%%\n"
    }
   },
   "outputs": [
    {
     "data": {
      "text/plain": [
       "'{\"1\": {\"precision\": 0.8901098901098901, \"recall\": 0.9798387096774194, \"f1-score\": 0.9328214971209212, \"support\": 496}, \"2\": {\"precision\": 0.8987341772151899, \"recall\": 0.9044585987261147, \"f1-score\": 0.9015873015873016, \"support\": 471}, \"3\": {\"precision\": 0.9645776566757494, \"recall\": 0.8428571428571429, \"f1-score\": 0.8996188055908515, \"support\": 420}, \"4\": {\"precision\": 0.9016393442622951, \"recall\": 0.8961303462321792, \"f1-score\": 0.8988764044943821, \"support\": 491}, \"5\": {\"precision\": 0.9046728971962616, \"recall\": 0.9097744360902256, \"f1-score\": 0.9072164948453608, \"support\": 532}, \"6\": {\"precision\": 1.0, \"recall\": 1.0, \"f1-score\": 1.0, \"support\": 537}, \"accuracy\": 0.9253478113335596, \"macro avg\": {\"precision\": 0.9266223275765643, \"recall\": 0.9221765389305135, \"f1-score\": 0.9233534172731362, \"support\": 2947}, \"weighted avg\": {\"precision\": 0.9266752012581856, \"recall\": 0.9253478113335596, \"f1-score\": 0.9250608991626152, \"support\": 2947}}'"
      ]
     },
     "execution_count": 9,
     "metadata": {},
     "output_type": "execute_result"
    }
   ],
   "source": [
    "import json\n",
    "json.dumps(classification_report(y_test, y_pred, output_dict=True))"
   ]
  },
  {
   "cell_type": "code",
   "execution_count": 10,
   "id": "0f0e4a15-9fdf-448d-9990-1b56d12b611a",
   "metadata": {
    "collapsed": true,
    "jupyter": {
     "outputs_hidden": true
    },
    "pycharm": {
     "name": "#%%\n"
    },
    "tags": []
   },
   "outputs": [
    {
     "data": {
      "text/plain": [
       "{'1': {'precision': 0.8901098901098901,\n",
       "  'recall': 0.9798387096774194,\n",
       "  'f1-score': 0.9328214971209212,\n",
       "  'support': 496},\n",
       " '2': {'precision': 0.8987341772151899,\n",
       "  'recall': 0.9044585987261147,\n",
       "  'f1-score': 0.9015873015873016,\n",
       "  'support': 471},\n",
       " '3': {'precision': 0.9645776566757494,\n",
       "  'recall': 0.8428571428571429,\n",
       "  'f1-score': 0.8996188055908515,\n",
       "  'support': 420},\n",
       " '4': {'precision': 0.9016393442622951,\n",
       "  'recall': 0.8961303462321792,\n",
       "  'f1-score': 0.8988764044943821,\n",
       "  'support': 491},\n",
       " '5': {'precision': 0.9046728971962616,\n",
       "  'recall': 0.9097744360902256,\n",
       "  'f1-score': 0.9072164948453608,\n",
       "  'support': 532},\n",
       " '6': {'precision': 1.0, 'recall': 1.0, 'f1-score': 1.0, 'support': 537},\n",
       " 'accuracy': 0.9253478113335596,\n",
       " 'macro avg': {'precision': 0.9266223275765643,\n",
       "  'recall': 0.9221765389305135,\n",
       "  'f1-score': 0.9233534172731362,\n",
       "  'support': 2947},\n",
       " 'weighted avg': {'precision': 0.9266752012581856,\n",
       "  'recall': 0.9253478113335596,\n",
       "  'f1-score': 0.9250608991626152,\n",
       "  'support': 2947}}"
      ]
     },
     "execution_count": 10,
     "metadata": {},
     "output_type": "execute_result"
    }
   ],
   "source": [
    "json.loads(json.dumps(classification_report(y_test, y_pred, output_dict=True)))"
   ]
  },
  {
   "cell_type": "code",
   "execution_count": 21,
   "id": "2fb8b367-8ea6-42fe-b448-aec5da87cc2a",
   "metadata": {
    "pycharm": {
     "name": "#%%\n"
    }
   },
   "outputs": [
    {
     "data": {
      "image/png": "[encoded data removed]",
      "text/plain": [
       "<Figure size 432x288 with 1 Axes>"
      ]
     },
     "metadata": {
      "needs_background": "light"
     },
     "output_type": "display_data"
    }
   ],
   "source": [
    "nbr_features = 15\n",
    "\n",
    "tree_feature_importances = clf.feature_importances_\n",
    "sorted_idx = tree_feature_importances.argsort()[-nbr_features:]\n",
    "\n",
    "y_ticks = np.arange(0, len(sorted_idx))\n",
    "fig, ax = plt.subplots()\n",
    "plt.barh(y_ticks, tree_feature_importances[sorted_idx])\n",
    "plt.yticks(y_ticks, np.array(features)[sorted_idx])\n",
    "plt.title(\"Random Forest Feature Importances (MDI)\")\n",
    "plt.show()"
   ]
  },
  {
   "cell_type": "code",
   "execution_count": 22,
   "id": "73a250b3-6a95-49c7-8e69-4bc22795257b",
   "metadata": {
    "pycharm": {
     "name": "#%%\n"
    }
   },
   "outputs": [],
   "source": [
    "from sklearn.inspection import permutation_importance"
   ]
  },
  {
   "cell_type": "code",
   "execution_count": 23,
   "id": "6ba92c4a-8120-4439-9495-187b5e2e435a",
   "metadata": {
    "pycharm": {
     "name": "#%%\n"
    }
   },
   "outputs": [],
   "source": [
    "result = permutation_importance(clf, X_test, y_test, n_repeats=10, random_state=42, n_jobs=2)"
   ]
  },
  {
   "cell_type": "code",
   "execution_count": 24,
   "id": "1c7e2398-9a4c-4485-93d8-6fe663d180f1",
   "metadata": {
    "pycharm": {
     "name": "#%%\n"
    }
   },
   "outputs": [
    {
     "data": {
      "image/png": "[encoded data removed]",
      "text/plain": [
       "<Figure size 432x288 with 1 Axes>"
      ]
     },
     "metadata": {
      "needs_background": "light"
     },
     "output_type": "display_data"
    }
   ],
   "source": [
    "sorted_idx = result.importances_mean.argsort()[-nbr_features:]\n",
    "\n",
    "fig, ax = plt.subplots()\n",
    "plt.boxplot(result.importances[sorted_idx].T, vert=False, labels=np.array(features)[sorted_idx])\n",
    "plt.title(\"Permutation Importances (test set)\")\n",
    "plt.tight_layout()\n",
    "plt.show()"
   ]
  },
  {
   "cell_type": "code",
   "execution_count": 48,
   "id": "9ad9b530-debf-41bb-a3b4-423a45c21e23",
   "metadata": {
    "pycharm": {
     "name": "#%%\n"
    }
   },
   "outputs": [],
   "source": [
    "dot_data = tree.export_graphviz(clf.estimators_[1], out_file=None,  \n",
    "                                feature_names=features, \n",
    "                                class_names=['WALKING', 'WALKING_UPSTAIRS', 'WALKING_DOWNSTAIRS', 'SITTING', 'STANDING', 'LAYING'],\n",
    "                                filled=True, rounded=True,  \n",
    "                                special_characters=True, max_depth=4)  \n",
    "graph = pydotplus.graph_from_dot_data(dot_data)"
   ]
  },
  {
   "cell_type": "code",
   "execution_count": 49,
   "id": "c177001f-6a78-4e1b-a627-47416d8e0907",
   "metadata": {
    "pycharm": {
     "name": "#%%\n"
    }
   },
   "outputs": [
    {
     "name": "stdout",
     "output_type": "stream",
     "text": [
      "              precision    recall  f1-score   support\n",
      "\n",
      "           1       0.92      0.98      0.95       496\n",
      "           2       0.89      0.94      0.92       471\n",
      "           3       0.95      0.82      0.88       420\n",
      "           4       0.97      0.85      0.91       491\n",
      "           5       0.88      0.98      0.93       532\n",
      "           6       0.99      0.99      0.99       537\n",
      "\n",
      "    accuracy                           0.93      2947\n",
      "   macro avg       0.93      0.93      0.93      2947\n",
      "weighted avg       0.93      0.93      0.93      2947\n",
      "\n"
     ]
    }
   ],
   "source": [
    "clf = RandomForestClassifier(n_estimators=100, criterion='gini', max_depth=None, min_samples_split=2, \n",
    "                             min_samples_leaf=1, min_weight_fraction_leaf=0.0, max_features=4, random_state=0)\n",
    "clf.fit(X_train, y_train)\n",
    "\n",
    "y_pred = clf.predict(X_test)\n",
    "\n",
    "print(classification_report(y_test, y_pred))"
   ]
  },
  {
   "cell_type": "code",
   "execution_count": 50,
   "id": "8a51b672-742c-46f7-a2bd-1d3561c12a45",
   "metadata": {
    "pycharm": {
     "name": "#%%\n"
    }
   },
   "outputs": [
    {
     "name": "stdout",
     "output_type": "stream",
     "text": [
      "              precision    recall  f1-score   support\n",
      "\n",
      "           1       0.91      0.97      0.94       496\n",
      "           2       0.90      0.94      0.92       471\n",
      "           3       0.95      0.84      0.89       420\n",
      "           4       0.97      0.90      0.93       491\n",
      "           5       0.91      0.97      0.94       532\n",
      "           6       1.00      1.00      1.00       537\n",
      "\n",
      "    accuracy                           0.94      2947\n",
      "   macro avg       0.94      0.94      0.94      2947\n",
      "weighted avg       0.94      0.94      0.94      2947\n",
      "\n"
     ]
    }
   ],
   "source": [
    "clf = RandomForestClassifier(n_estimators=100, criterion='gini', max_depth=None, min_samples_split=2, \n",
    "                             min_samples_leaf=1, min_weight_fraction_leaf=0.0, max_features='log2', random_state=0)\n",
    "clf.fit(X_train, y_train)\n",
    "\n",
    "y_pred = clf.predict(X_test)\n",
    "\n",
    "print(classification_report(y_test, y_pred))"
   ]
  },
  {
   "cell_type": "markdown",
   "id": "ae1b41d3-7d78-4181-bfba-2334bfddb7c9",
   "metadata": {
    "pycharm": {
     "name": "#%% md\n"
    }
   },
   "source": [
    "### Cross Validation"
   ]
  },
  {
   "cell_type": "code",
   "execution_count": 51,
   "id": "ed7b6dfa-ad07-4094-b095-2c38193e9fa7",
   "metadata": {
    "pycharm": {
     "name": "#%%\n"
    }
   },
   "outputs": [],
   "source": [
    "from sklearn.model_selection import cross_val_score"
   ]
  },
  {
   "cell_type": "code",
   "execution_count": 52,
   "id": "65263e80-d31b-4aa7-8f80-85bc09d626f8",
   "metadata": {
    "pycharm": {
     "name": "#%%\n"
    }
   },
   "outputs": [
    {
     "name": "stdout",
     "output_type": "stream",
     "text": [
      "Accuracy 0.915 +/- 0.019\n"
     ]
    }
   ],
   "source": [
    "clf = RandomForestClassifier()\n",
    "scores = cross_val_score(clf, X_train, y_train, cv=5) #non ricordo se ci va il train\n",
    "\n",
    "print('Accuracy %.3f +/- %.3f' % (np.mean(scores), np.std(scores)))"
   ]
  },
  {
   "cell_type": "markdown",
   "id": "25c994af-a172-4605-9348-200d437fb2c1",
   "metadata": {
    "pycharm": {
     "name": "#%% md\n"
    }
   },
   "source": [
    "### Tuning the hyper-parameters"
   ]
  },
  {
   "cell_type": "code",
   "execution_count": 53,
   "id": "3c502890-9417-4e2e-9564-eaaed7073dde",
   "metadata": {
    "pycharm": {
     "name": "#%%\n"
    }
   },
   "outputs": [],
   "source": [
    "from sklearn.model_selection import GridSearchCV\n",
    "from sklearn.model_selection import RandomizedSearchCV"
   ]
  },
  {
   "cell_type": "code",
   "execution_count": 54,
   "id": "901e3314-811b-4888-ba76-b3e336d58187",
   "metadata": {
    "pycharm": {
     "name": "#%%\n"
    }
   },
   "outputs": [
    {
     "name": "stdout",
     "output_type": "stream",
     "text": [
      "              precision    recall  f1-score   support\n",
      "\n",
      "           1       0.88      0.98      0.93       496\n",
      "           2       0.88      0.90      0.89       471\n",
      "           3       0.97      0.83      0.90       420\n",
      "           4       0.92      0.89      0.90       491\n",
      "           5       0.90      0.93      0.91       532\n",
      "           6       1.00      1.00      1.00       537\n",
      "\n",
      "    accuracy                           0.92      2947\n",
      "   macro avg       0.93      0.92      0.92      2947\n",
      "weighted avg       0.93      0.92      0.92      2947\n",
      "\n"
     ]
    }
   ],
   "source": [
    "param_list = {'min_samples_split': [2, 5, 10, 20],\n",
    "              'min_samples_leaf': [1, 5, 10, 20],\n",
    "             }\n",
    "\n",
    "grid_search = GridSearchCV(clf, param_grid=param_list, cv=5)\n",
    "grid_search.fit(X_train, y_train)\n",
    "clf = grid_search.best_estimator_\n",
    "\n",
    "y_pred = clf.predict(X_test)\n",
    "\n",
    "print(classification_report(y_test, y_pred))"
   ]
  },
  {
   "cell_type": "code",
   "execution_count": 55,
   "id": "1fb35f20-651c-4b22-82e1-a20c49f2d30f",
   "metadata": {
    "pycharm": {
     "name": "#%%\n"
    }
   },
   "outputs": [
    {
     "name": "stdout",
     "output_type": "stream",
     "text": [
      "              precision    recall  f1-score   support\n",
      "\n",
      "           1       0.86      0.97      0.91       496\n",
      "           2       0.89      0.89      0.89       471\n",
      "           3       0.96      0.82      0.88       420\n",
      "           4       0.91      0.88      0.89       491\n",
      "           5       0.89      0.92      0.91       532\n",
      "           6       1.00      1.00      1.00       537\n",
      "\n",
      "    accuracy                           0.92      2947\n",
      "   macro avg       0.92      0.91      0.91      2947\n",
      "weighted avg       0.92      0.92      0.92      2947\n",
      "\n"
     ]
    }
   ],
   "source": [
    "param_list = {'max_depth': [None] + list(np.arange(2, 20)),\n",
    "              'min_samples_split': [2, 5, 10, 20, 30, 50, 100],\n",
    "              'min_samples_leaf': [1, 5, 10, 20, 30, 50, 100],\n",
    "             }\n",
    "\n",
    "random_search = RandomizedSearchCV(clf, param_distributions=param_list, n_iter=20, cv=5)\n",
    "random_search.fit(X_train, y_train)\n",
    "clf = random_search.best_estimator_\n",
    "\n",
    "\n",
    "y_pred = clf.predict(X_test)\n",
    "\n",
    "print(classification_report(y_test, y_pred))"
   ]
  },
  {
   "cell_type": "code",
   "execution_count": 56,
   "id": "e0ef105c-ec2b-41ab-aa0d-7eed9b119feb",
   "metadata": {
    "pycharm": {
     "name": "#%%\n"
    }
   },
   "outputs": [
    {
     "data": {
      "text/plain": [
       "{'min_samples_split': 20, 'min_samples_leaf': 30, 'max_depth': 2}"
      ]
     },
     "execution_count": 56,
     "metadata": {},
     "output_type": "execute_result"
    }
   ],
   "source": [
    "random_search.cv_results_['params'][random_search.cv_results_['rank_test_score'][0]]"
   ]
  },
  {
   "cell_type": "markdown",
   "id": "3ad197d2-b214-4294-aecc-75dcdf6e2d6d",
   "metadata": {
    "pycharm": {
     "name": "#%% md\n"
    }
   },
   "source": [
    "# Bagging"
   ]
  },
  {
   "cell_type": "code",
   "execution_count": 35,
   "id": "514364c6-2eab-40b3-8e7a-1a5b89617ad0",
   "metadata": {
    "pycharm": {
     "name": "#%%\n"
    }
   },
   "outputs": [],
   "source": [
    "from sklearn.svm import SVC\n",
    "from sklearn.ensemble import BaggingClassifier"
   ]
  },
  {
   "cell_type": "code",
   "execution_count": 36,
   "id": "3409e946-a4b4-43c1-b7e3-abb6c3347d4f",
   "metadata": {
    "pycharm": {
     "name": "#%%\n"
    }
   },
   "outputs": [
    {
     "name": "stdout",
     "output_type": "stream",
     "text": [
      "              precision    recall  f1-score   support\n",
      "\n",
      "           1       0.87      0.96      0.91       496\n",
      "           2       0.88      0.83      0.86       471\n",
      "           3       0.93      0.87      0.90       420\n",
      "           4       0.88      0.80      0.84       491\n",
      "           5       0.83      0.89      0.86       532\n",
      "           6       1.00      1.00      1.00       537\n",
      "\n",
      "    accuracy                           0.90      2947\n",
      "   macro avg       0.90      0.89      0.89      2947\n",
      "weighted avg       0.90      0.90      0.90      2947\n",
      "\n"
     ]
    }
   ],
   "source": [
    "clf = BaggingClassifier(base_estimator=None, n_estimators=100, random_state=0)\n",
    "clf.fit(X_train, y_train)\n",
    "\n",
    "y_pred = clf.predict(X_test)\n",
    "\n",
    "print(classification_report(y_test, y_pred))"
   ]
  },
  {
   "cell_type": "code",
   "execution_count": 44,
   "id": "72d2237c-711b-4d80-95cc-4656291a3afb",
   "metadata": {
    "pycharm": {
     "name": "#%%\n"
    }
   },
   "outputs": [
    {
     "name": "stdout",
     "output_type": "stream",
     "text": [
      "              precision    recall  f1-score   support\n",
      "\n",
      "           1       0.95      0.98      0.96       496\n",
      "           2       0.94      0.96      0.95       471\n",
      "           3       0.99      0.92      0.95       420\n",
      "           4       0.94      0.89      0.92       491\n",
      "           5       0.91      0.95      0.93       532\n",
      "           6       1.00      1.00      1.00       537\n",
      "\n",
      "    accuracy                           0.95      2947\n",
      "   macro avg       0.95      0.95      0.95      2947\n",
      "weighted avg       0.95      0.95      0.95      2947\n",
      "\n"
     ]
    }
   ],
   "source": [
    "clf = BaggingClassifier(base_estimator=SVC(), n_estimators=100, random_state=0)\n",
    "\n",
    "clf.fit(X_train, y_train)\n",
    "\n",
    "y_pred = clf.predict(X_test)\n",
    "\n",
    "print(classification_report(y_test, y_pred))"
   ]
  },
  {
   "cell_type": "code",
   "execution_count": 45,
   "id": "5e0773e0-55ff-489b-a43b-d10c23ceebd7",
   "metadata": {
    "pycharm": {
     "name": "#%%\n"
    }
   },
   "outputs": [
    {
     "name": "stdout",
     "output_type": "stream",
     "text": [
      "              precision    recall  f1-score   support\n",
      "\n",
      "           1       0.90      0.98      0.94       496\n",
      "           2       0.90      0.93      0.92       471\n",
      "           3       0.96      0.84      0.89       420\n",
      "           4       0.90      0.88      0.89       491\n",
      "           5       0.89      0.91      0.90       532\n",
      "           6       1.00      1.00      1.00       537\n",
      "\n",
      "    accuracy                           0.93      2947\n",
      "   macro avg       0.93      0.92      0.92      2947\n",
      "weighted avg       0.93      0.93      0.93      2947\n",
      "\n"
     ]
    }
   ],
   "source": [
    "clf = BaggingClassifier(base_estimator=RandomForestClassifier(), n_estimators=100, random_state=0)\n",
    "clf.fit(X_train, y_train)\n",
    "\n",
    "y_pred = clf.predict(X_test)\n",
    "\n",
    "print(classification_report(y_test, y_pred))"
   ]
  },
  {
   "cell_type": "code",
   "execution_count": 43,
   "id": "770ee170-f617-456e-9f6f-992ee53b2ac8",
   "metadata": {
    "pycharm": {
     "name": "#%%\n"
    }
   },
   "outputs": [
    {
     "name": "stdout",
     "output_type": "stream",
     "text": [
      "              precision    recall  f1-score   support\n",
      "\n",
      "           1       0.87      0.96      0.91       496\n",
      "           2       0.88      0.83      0.86       471\n",
      "           3       0.93      0.87      0.90       420\n",
      "           4       0.88      0.80      0.84       491\n",
      "           5       0.83      0.89      0.86       532\n",
      "           6       1.00      1.00      1.00       537\n",
      "\n",
      "    accuracy                           0.90      2947\n",
      "   macro avg       0.90      0.89      0.89      2947\n",
      "weighted avg       0.90      0.90      0.90      2947\n",
      "\n"
     ]
    }
   ],
   "source": [
    "clf = BaggingClassifier(base_estimator=DecisionTreeClassifier(), n_estimators=100, random_state=0)\n",
    "clf.fit(X_train, y_train)\n",
    "\n",
    "y_pred = clf.predict(X_test)\n",
    "\n",
    "print(classification_report(y_test, y_pred))"
   ]
  },
  {
   "cell_type": "markdown",
   "id": "98f054dd-6c3d-48d6-8bd4-4af7f5517e59",
   "metadata": {
    "pycharm": {
     "name": "#%% md\n"
    }
   },
   "source": [
    "# Boosting"
   ]
  },
  {
   "cell_type": "code",
   "execution_count": 8,
   "id": "d4d8f7d1-bbdf-48f4-9c42-3f9765d53d0e",
   "metadata": {
    "pycharm": {
     "name": "#%%\n"
    }
   },
   "outputs": [],
   "source": [
    "from sklearn.ensemble import AdaBoostClassifier"
   ]
  },
  {
   "cell_type": "code",
   "execution_count": 12,
   "id": "856fba38-6fa9-42b7-97d7-c903b738e516",
   "metadata": {
    "pycharm": {
     "name": "#%%\n"
    }
   },
   "outputs": [
    {
     "name": "stdout",
     "output_type": "stream",
     "text": [
      "              precision    recall  f1-score   support\n",
      "\n",
      "           1       0.82      0.91      0.86       496\n",
      "           2       0.82      0.77      0.80       471\n",
      "           3       0.87      0.81      0.84       420\n",
      "           4       0.83      0.77      0.80       491\n",
      "           5       0.80      0.86      0.83       532\n",
      "           6       1.00      1.00      1.00       537\n",
      "\n",
      "    accuracy                           0.86      2947\n",
      "   macro avg       0.86      0.85      0.85      2947\n",
      "weighted avg       0.86      0.86      0.86      2947\n",
      "\n"
     ]
    }
   ],
   "source": [
    "clf = AdaBoostClassifier(base_estimator=DecisionTreeClassifier(), n_estimators=100, random_state=0)\n",
    "clf.fit(X_train, y_train)\n",
    "\n",
    "y_pred = clf.predict(X_test)\n",
    "\n",
    "print(classification_report(y_test, y_pred))"
   ]
  },
  {
   "cell_type": "code",
   "execution_count": 13,
   "id": "c0a61a3f-cf09-4926-9dcd-bad0e4d47de5",
   "metadata": {
    "pycharm": {
     "name": "#%%\n"
    }
   },
   "outputs": [
    {
     "name": "stdout",
     "output_type": "stream",
     "text": [
      "              precision    recall  f1-score   support\n",
      "\n",
      "           1       0.88      0.96      0.92       496\n",
      "           2       0.90      0.90      0.90       471\n",
      "           3       0.95      0.85      0.90       420\n",
      "           4       0.92      0.88      0.90       491\n",
      "           5       0.89      0.93      0.91       532\n",
      "           6       1.00      1.00      1.00       537\n",
      "\n",
      "    accuracy                           0.92      2947\n",
      "   macro avg       0.92      0.92      0.92      2947\n",
      "weighted avg       0.92      0.92      0.92      2947\n",
      "\n"
     ]
    }
   ],
   "source": [
    "clf = AdaBoostClassifier(base_estimator=RandomForestClassifier(), n_estimators=100, random_state=0)\n",
    "clf.fit(X_train, y_train)\n",
    "\n",
    "y_pred = clf.predict(X_test)\n",
    "\n",
    "print(classification_report(y_test, y_pred))"
   ]
  },
  {
   "cell_type": "markdown",
   "id": "b53ebd9e-35d1-4fe3-b626-2647dec8b7d5",
   "metadata": {
    "pycharm": {
     "name": "#%% md\n"
    }
   },
   "source": [
    "# Gradient Boosting"
   ]
  },
  {
   "cell_type": "code",
   "execution_count": 6,
   "id": "f4caeaff-c8a7-47c6-b9fd-2bccf4ba3622",
   "metadata": {
    "pycharm": {
     "name": "#%%\n"
    }
   },
   "outputs": [],
   "source": [
    "from sklearn.ensemble import GradientBoostingClassifier"
   ]
  },
  {
   "cell_type": "code",
   "execution_count": null,
   "id": "f5ae7618-8949-4864-aed9-2a0e228dad8f",
   "metadata": {
    "pycharm": {
     "name": "#%%\n"
    }
   },
   "outputs": [],
   "source": [
    "clf = GradientBoostingClassifier(n_estimators=100, learning_rate=1.0, max_depth=3, random_state=0)\n",
    "clf.fit(X_train, y_train)\n",
    "\n",
    "y_pred = clf.predict(X_test)\n",
    "\n",
    "print(classification_report(y_test, y_pred))"
   ]
  },
  {
   "cell_type": "code",
   "execution_count": null,
   "id": "387372e3-49d0-44ad-9633-5d15d763237d",
   "metadata": {
    "pycharm": {
     "name": "#%%\n"
    }
   },
   "outputs": [],
   "source": [
    "from sklearn.ensemble import HistGradientBoostingClassifier"
   ]
  },
  {
   "cell_type": "code",
   "execution_count": null,
   "id": "0b3592f9-c1b8-4316-bb42-53a989c86e99",
   "metadata": {
    "pycharm": {
     "name": "#%%\n"
    }
   },
   "outputs": [],
   "source": [
    "clf = HistGradientBoostingClassifier(learning_rate=1.0, max_depth=3, random_state=0)\n",
    "clf.fit(X_train, y_train)\n",
    "\n",
    "y_pred = clf.predict(X_test)\n",
    "\n",
    "print(classification_report(y_test, y_pred))"
   ]
  },
  {
   "cell_type": "markdown",
   "id": "f580553d-45e6-4d50-8d3c-bda63f9c5d07",
   "metadata": {
    "pycharm": {
     "name": "#%% md\n"
    }
   },
   "source": [
    "# XGBoost"
   ]
  },
  {
   "cell_type": "code",
   "execution_count": 74,
   "id": "56d110eb-b0e7-421c-89cc-5581c0b0dc59",
   "metadata": {
    "pycharm": {
     "name": "#%%\n"
    }
   },
   "outputs": [],
   "source": [
    "from xgboost import XGBClassifier"
   ]
  },
  {
   "cell_type": "raw",
   "id": "e189024f-cde5-43ce-9665-ff31b8493f37",
   "metadata": {
    "pycharm": {
     "name": "#%% raw\n"
    }
   },
   "source": [
    "clf = XGBClassifier(objective='binary:logistic', \n",
    "                    max_depth = 6,\n",
    "                    learning_rate = 1.0,\n",
    "                    gamma = 0.0,\n",
    "                    tree_method='exact', # 'approx'\n",
    "                    use_label_encoder=False,\n",
    "                    random_state=42\n",
    "                   )\n",
    "clf.fit(X_train, y_train)\n",
    "\n",
    "y_pred = clf.predict(X_test)\n",
    "\n",
    "print(classification_report(y_test, y_pred))"
   ]
  }
 ],
 "metadata": {
  "kernelspec": {
   "display_name": "Python 3 (ipykernel)",
   "language": "python",
   "name": "python3"
  },
  "language_info": {
   "codemirror_mode": {
    "name": "ipython",
    "version": 3
   },
   "file_extension": ".py",
   "mimetype": "text/x-python",
   "name": "python",
   "nbconvert_exporter": "python",
   "pygments_lexer": "ipython3",
   "version": "3.8.2"
  }
 },
 "nbformat": 4,
 "nbformat_minor": 5
}
