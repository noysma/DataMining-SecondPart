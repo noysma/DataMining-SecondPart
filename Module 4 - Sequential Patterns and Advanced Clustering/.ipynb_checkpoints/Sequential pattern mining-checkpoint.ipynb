{
 "cells": [
  {
   "cell_type": "code",
   "execution_count": 1,
   "id": "dead79bf-9638-4915-b094-30d6addeddbb",
   "metadata": {
    "pycharm": {
     "name": "#%%\n"
    }
   },
   "outputs": [
    {
     "name": "stderr",
     "output_type": "stream",
     "text": [
      "<frozen importlib._bootstrap>:219: RuntimeWarning: scipy._lib.messagestream.MessageStream size changed, may indicate binary incompatibility. Expected 56 from C header, got 64 from PyObject\n"
     ]
    }
   ],
   "source": [
    "%matplotlib inline\n",
    "\n",
    "import numpy as np\n",
    "import pandas as pd\n",
    "import seaborn as sns\n",
    "import matplotlib.pyplot as plt\n",
    "\n",
    "from sklearn.model_selection import train_test_split\n",
    "from sklearn.model_selection import cross_val_score\n",
    "from sklearn.model_selection import GridSearchCV\n",
    "\n",
    "from sklearn import metrics\n",
    "from sklearn.metrics import accuracy_score, f1_score, classification_report\n",
    "from sklearn.metrics import roc_curve, auc, roc_auc_score\n",
    "from sklearn.metrics import ConfusionMatrixDisplay\n",
    "from scikitplot.metrics import plot_roc\n",
    "from scikitplot.metrics import plot_precision_recall\n",
    "from scikitplot.metrics import plot_cumulative_gain\n",
    "from scikitplot.metrics import plot_lift_curve\n",
    "\n",
    "from sklearn.tree import DecisionTreeClassifier\n",
    "from sklearn.neighbors import KNeighborsClassifier\n",
    "from sklearn.ensemble import RandomForestClassifier\n",
    "\n",
    "from sklearn import random_projection\n",
    "from sklearn.pipeline import Pipeline\n",
    "from sklearn.pipeline import FeatureUnion\n",
    "from sklearn.preprocessing import StandardScaler\n",
    "from sklearn.decomposition import PCA\n",
    "from sklearn.decomposition import IncrementalPCA\n",
    "from sklearn.manifold import Isomap\n",
    "from sklearn.manifold import TSNE\n",
    "from sklearn.manifold import MDS\n",
    "from sklearn.linear_model import LogisticRegression\n",
    "\n",
    "from tslearn.preprocessing import TimeSeriesScalerMeanVariance\n",
    "from scipy.spatial.distance import euclidean\n",
    "from scipy.spatial.distance import cityblock\n",
    "from tslearn.metrics import dtw, dtw_path, cdist_dtw, subsequence_cost_matrix\n",
    "from scipy.spatial.distance import cdist\n",
    "from pyts.metrics import dtw as dtw2"
   ]
  },
  {
   "cell_type": "code",
   "execution_count": 2,
   "id": "adde3aad-0638-453a-891d-041cb8680bf9",
   "metadata": {
    "pycharm": {
     "name": "#%%\n"
    }
   },
   "outputs": [],
   "source": [
    "import warnings\n",
    "warnings.filterwarnings('ignore')"
   ]
  },
  {
   "cell_type": "code",
   "execution_count": 3,
   "id": "2edc1b79-e151-4814-8d21-496e44123b51",
   "metadata": {
    "pycharm": {
     "name": "#%%\n"
    }
   },
   "outputs": [
    {
     "name": "stdout",
     "output_type": "stream",
     "text": [
      "No of Features: 561\n"
     ]
    }
   ],
   "source": [
    "#features = list()\n",
    "with open('../features.txt') as f:\n",
    "    features = [line.split()[1] for line in f.readlines()]\n",
    "print('No of Features: {}'.format(len(features)))"
   ]
  },
  {
   "cell_type": "markdown",
   "id": "0cd04c84-e29e-4acd-a58f-1af94374d2c4",
   "metadata": {
    "pycharm": {
     "name": "#%% md\n"
    }
   },
   "source": [
    "# Loading Training Sets"
   ]
  },
  {
   "cell_type": "code",
   "execution_count": 4,
   "id": "936be6c1-87c3-48cc-81e0-5180490811e9",
   "metadata": {
    "pycharm": {
     "name": "#%%\n"
    }
   },
   "outputs": [],
   "source": [
    "X_train = pd.read_csv('X_train.txt', delim_whitespace=True, header=None, encoding='latin-1')\n",
    "X_train.columns = features\n",
    "\n",
    "# add subject column to the dataframe\n",
    "#X_train['subject'] = pd.read_csv('subject_train.txt', header=None, squeeze=True)\n",
    "\n",
    "y_train = pd.read_csv('y_train.txt', names=['Activity'], squeeze=True)\n",
    "#y_train_labels = y_train.map({1: 'WALKING', 2:'WALKING_UPSTAIRS',3:'WALKING_DOWNSTAIRS', 4:'SITTING', 5:'STANDING',6:'LAYING'})\n",
    "\n",
    "# put all columns in a single dataframe\n",
    "#train = X_train\n",
    "#train['Activity'] = y_train"
   ]
  },
  {
   "cell_type": "code",
   "execution_count": 5,
   "id": "470398ac-5401-487c-8778-78690c32f4b5",
   "metadata": {
    "pycharm": {
     "name": "#%%\n"
    }
   },
   "outputs": [],
   "source": [
    "body_acc_x_train = pd.read_csv('Inertial Signals/body_acc_x_train.txt', delim_whitespace=True, header=None, encoding='latin-1')\n",
    "#body_acc_x_train['subject'] = pd.read_csv('subject_train.txt', header=None, squeeze=True)"
   ]
  },
  {
   "cell_type": "code",
   "execution_count": 6,
   "id": "42f4634a-0e44-4cc9-abd0-249566df0ae5",
   "metadata": {
    "pycharm": {
     "name": "#%%\n"
    }
   },
   "outputs": [],
   "source": [
    "body_acc_y_train = pd.read_csv('Inertial Signals/body_acc_y_train.txt', delim_whitespace=True, header=None, encoding='latin-1')\n",
    "#body_acc_y_train['subject'] = pd.read_csv('subject_train.txt', header=None, squeeze=True)"
   ]
  },
  {
   "cell_type": "code",
   "execution_count": 7,
   "id": "30d77f95-c29c-409e-89e1-9485a690500b",
   "metadata": {
    "pycharm": {
     "name": "#%%\n"
    }
   },
   "outputs": [],
   "source": [
    "body_acc_z_train = pd.read_csv('Inertial Signals/body_acc_z_train.txt', delim_whitespace=True, header=None, encoding='latin-1')\n",
    "#body_acc_z_train['subject'] = pd.read_csv('subject_train.txt', header=None, squeeze=True)"
   ]
  },
  {
   "cell_type": "code",
   "execution_count": 8,
   "id": "e2ba58f2-877e-4460-9930-a1a3b862a57b",
   "metadata": {
    "pycharm": {
     "name": "#%%\n"
    }
   },
   "outputs": [],
   "source": [
    "body_gyro_x_train = pd.read_csv('Inertial Signals/body_gyro_x_train.txt', delim_whitespace=True, header=None, encoding='latin-1')\n",
    "#body_gyro_x_train['subject'] = pd.read_csv('subject_train.txt', header=None, squeeze=True)\n",
    "#y_train = pd.read_csv('y_train.txt', names=['Activity'], squeeze=True)\n",
    "#y_train_labels = y_train.map({1: 'WALKING', 2:'WALKING_UPSTAIRS',3:'WALKING_DOWNSTAIRS', 4:'SITTING', 5:'STANDING',6:'LAYING'})\n",
    "\n",
    "# put all columns in a single dataframe\n",
    "#train = body_gyro_x_train\n",
    "#train['Activity'] = y_train\n",
    "#train['ActivityName'] = y_train_labels"
   ]
  },
  {
   "cell_type": "code",
   "execution_count": 9,
   "id": "2e19fde7-e0b9-4b30-a13f-4dedae7d5220",
   "metadata": {
    "pycharm": {
     "name": "#%%\n"
    }
   },
   "outputs": [],
   "source": [
    "body_gyro_y_train = pd.read_csv('Inertial Signals/body_gyro_y_train.txt', delim_whitespace=True, header=None, encoding='latin-1')\n",
    "#body_gyro_y_train['subject'] = pd.read_csv('subject_train.txt', header=None, squeeze=True)"
   ]
  },
  {
   "cell_type": "code",
   "execution_count": 10,
   "id": "87b199ac-2aa3-4d23-b16e-c140ec700cef",
   "metadata": {
    "pycharm": {
     "name": "#%%\n"
    }
   },
   "outputs": [],
   "source": [
    "body_gyro_z_train = pd.read_csv('Inertial Signals/body_gyro_z_train.txt', delim_whitespace=True, header=None, encoding='latin-1')\n",
    "#body_gyro_z_train['subject'] = pd.read_csv('subject_train.txt', header=None, squeeze=True)"
   ]
  },
  {
   "cell_type": "code",
   "execution_count": 11,
   "id": "c286df85-52c5-4c99-909b-1e98590f4c14",
   "metadata": {
    "pycharm": {
     "name": "#%%\n"
    }
   },
   "outputs": [],
   "source": [
    "total_acc_x_train = pd.read_csv('Inertial Signals/total_acc_x_train.txt', delim_whitespace=True, header=None, encoding='latin-1')\n",
    "#total_acc_x_train['subject'] = pd.read_csv('subject_train.txt', header=None, squeeze=True)"
   ]
  },
  {
   "cell_type": "code",
   "execution_count": 12,
   "id": "a83d5b6a-8d02-4418-afc7-95ac7f7fd873",
   "metadata": {
    "pycharm": {
     "name": "#%%\n"
    }
   },
   "outputs": [],
   "source": [
    "total_acc_y_train = pd.read_csv('Inertial Signals/total_acc_y_train.txt', delim_whitespace=True, header=None, encoding='latin-1')\n",
    "#total_acc_y_train['subject'] = pd.read_csv('subject_train.txt', header=None, squeeze=True)"
   ]
  },
  {
   "cell_type": "code",
   "execution_count": 13,
   "id": "0963ec3d-e2dc-4023-b413-2f4efcc97df3",
   "metadata": {
    "pycharm": {
     "name": "#%%\n"
    }
   },
   "outputs": [],
   "source": [
    "total_acc_z_train = pd.read_csv('Inertial Signals/total_acc_z_train.txt', delim_whitespace=True, header=None, encoding='latin-1')\n",
    "#total_acc_z_train['subject'] = pd.read_csv('subject_train.txt', header=None, squeeze=True)"
   ]
  },
  {
   "cell_type": "markdown",
   "id": "117e8bc9-bfed-4d63-b610-d01a5b7c4e51",
   "metadata": {
    "pycharm": {
     "name": "#%% md\n"
    }
   },
   "source": [
    "# Loading Test Sets"
   ]
  },
  {
   "cell_type": "code",
   "execution_count": 14,
   "id": "0d4fc909-5ece-4807-99d9-c600e4b3a178",
   "metadata": {
    "pycharm": {
     "name": "#%%\n"
    }
   },
   "outputs": [],
   "source": [
    "X_test = pd.read_csv('../test/X_test.txt', delim_whitespace=True, header=None, encoding='latin-1')\n",
    "X_test.columns = features\n",
    "\n",
    "# add subject column to the dataframe\n",
    "#X_test['subject'] = pd.read_csv('subject_train.txt', header=None, squeeze=True)\n",
    "\n",
    "y_test = pd.read_csv('../test/y_test.txt', names=['Activity'], squeeze=True)\n",
    "#y_test_labels = y_train.map({1: 'WALKING', 2:'WALKING_UPSTAIRS',3:'WALKING_DOWNSTAIRS', 4:'SITTING', 5:'STANDING',6:'LAYING'})\n",
    "\n",
    "# put all columns in a single dataframe\n",
    "#train01 = X_test\n",
    "#train01['Activity'] = y_test"
   ]
  },
  {
   "cell_type": "code",
   "execution_count": 15,
   "id": "6b466697-7148-4b13-a2e2-1448635ce19f",
   "metadata": {
    "pycharm": {
     "name": "#%%\n"
    }
   },
   "outputs": [],
   "source": [
    "body_acc_x_test = pd.read_csv('../test/Inertial Signals/body_acc_x_test.txt', delim_whitespace=True, header=None, encoding='latin-1')\n",
    "#body_acc_x_test['subject'] = pd.read_csv('subject_train.txt', header=None, squeeze=True)"
   ]
  },
  {
   "cell_type": "code",
   "execution_count": 16,
   "id": "e7dc3f39-bedd-46a3-ae1d-f3e9763ebab7",
   "metadata": {
    "pycharm": {
     "name": "#%%\n"
    }
   },
   "outputs": [],
   "source": [
    "body_acc_y_test = pd.read_csv('../test/Inertial Signals/body_acc_y_test.txt', delim_whitespace=True, header=None, encoding='latin-1')\n",
    "#body_acc_y_test['subject'] = pd.read_csv('subject_train.txt', header=None, squeeze=True)"
   ]
  },
  {
   "cell_type": "code",
   "execution_count": 17,
   "id": "4604240b-dc18-4232-b7b7-2b24425fa69c",
   "metadata": {
    "pycharm": {
     "name": "#%%\n"
    }
   },
   "outputs": [],
   "source": [
    "body_acc_z_test = pd.read_csv('../test/Inertial Signals/body_acc_z_test.txt', delim_whitespace=True, header=None, encoding='latin-1')\n",
    "#body_acc_z_test['subject'] = pd.read_csv('subject_train.txt', header=None, squeeze=True)"
   ]
  },
  {
   "cell_type": "code",
   "execution_count": 18,
   "id": "bf995b95-766f-4402-8e13-53926ff39490",
   "metadata": {
    "pycharm": {
     "name": "#%%\n"
    }
   },
   "outputs": [],
   "source": [
    "body_gyro_x_test = pd.read_csv('../test/Inertial Signals/body_gyro_x_test.txt', delim_whitespace=True, header=None, encoding='latin-1')\n",
    "#body_gyro_x_test['subject'] = pd.read_csv('subject_train.txt', header=None, squeeze=True)"
   ]
  },
  {
   "cell_type": "code",
   "execution_count": 19,
   "id": "cd5bc968-4b4b-4a53-b7a7-7ef61c6f0564",
   "metadata": {
    "pycharm": {
     "name": "#%%\n"
    }
   },
   "outputs": [],
   "source": [
    "body_gyro_y_test = pd.read_csv('../test/Inertial Signals/body_gyro_y_test.txt', delim_whitespace=True, header=None, encoding='latin-1')\n",
    "#body_gyro_y_test['subject'] = pd.read_csv('subject_train.txt', header=None, squeeze=True)"
   ]
  },
  {
   "cell_type": "code",
   "execution_count": 20,
   "id": "1b545111-4465-43ba-97e2-1f38f67479c2",
   "metadata": {
    "pycharm": {
     "name": "#%%\n"
    }
   },
   "outputs": [],
   "source": [
    "body_gyro_z_test = pd.read_csv('../test/Inertial Signals/body_gyro_z_test.txt', delim_whitespace=True, header=None, encoding='latin-1')\n",
    "#body_gyro_z_test['subject'] = pd.read_csv('subject_train.txt', header=None, squeeze=True)"
   ]
  },
  {
   "cell_type": "code",
   "execution_count": 21,
   "id": "0cc9d076-81c9-4be0-9c31-5c68a6c0a902",
   "metadata": {
    "pycharm": {
     "name": "#%%\n"
    }
   },
   "outputs": [],
   "source": [
    "total_acc_x_test = pd.read_csv('../test/Inertial Signals/total_acc_x_test.txt', delim_whitespace=True, header=None, encoding='latin-1')\n",
    "#total_acc_x_test['subject'] = pd.read_csv('subject_train.txt', header=None, squeeze=True)"
   ]
  },
  {
   "cell_type": "code",
   "execution_count": 22,
   "id": "9741f8e8-614f-4bac-92cc-4610966fd056",
   "metadata": {
    "pycharm": {
     "name": "#%%\n"
    }
   },
   "outputs": [],
   "source": [
    "total_acc_y_test = pd.read_csv('../test/Inertial Signals/total_acc_y_test.txt', delim_whitespace=True, header=None, encoding='latin-1')\n",
    "#total_acc_y_test['subject'] = pd.read_csv('subject_train.txt', header=None, squeeze=True)"
   ]
  },
  {
   "cell_type": "code",
   "execution_count": 23,
   "id": "2c684fce-e831-4933-bb77-3498fdc3eb9b",
   "metadata": {
    "pycharm": {
     "name": "#%%\n"
    }
   },
   "outputs": [],
   "source": [
    "total_acc_z_test = pd.read_csv('../test/Inertial Signals/total_acc_z_test.txt', delim_whitespace=True, header=None, encoding='latin-1')\n",
    "#total_acc_z_test['subject'] = pd.read_csv('subject_train.txt', header=None, squeeze=True)"
   ]
  },
  {
   "cell_type": "markdown",
   "id": "de87ed3d-6a48-4ba4-b1e4-eeedfc649c17",
   "metadata": {},
   "source": [
    "# Data preparation"
   ]
  },
  {
   "cell_type": "markdown",
   "id": "93a988c6-aff8-4d92-beef-948186a30145",
   "metadata": {
    "tags": []
   },
   "source": [
    "# Preparazione delle classi"
   ]
  },
  {
   "cell_type": "code",
   "execution_count": 24,
   "id": "52e0e59d-a949-404d-b510-55c25e5b0b55",
   "metadata": {
    "pycharm": {
     "name": "#%%\n"
    }
   },
   "outputs": [],
   "source": [
    "body_gyro_x_train = pd.read_csv('Inertial Signals/body_gyro_x_train.txt', delim_whitespace=True, header=None, encoding='latin-1')\n",
    "#body_gyro_x_train['subject'] = pd.read_csv('subject_train.txt', header=None, squeeze=True)\n",
    "y_train = pd.read_csv('y_train.txt', names=['Activity'], squeeze=True)\n",
    "y_train_labels = y_train.map({1: 'WALKING', 2:'WALKING_UPSTAIRS',3:'WALKING_DOWNSTAIRS', 4:'SITTING', 5:'STANDING',6:'LAYING'})\n",
    "\n",
    "# put all columns in a single dataframe\n",
    "#train = body_gyro_x_train\n",
    "body_gyro_x_train['Activity'] = y_train\n",
    "body_gyro_x_train['ActivityName'] = y_train_labels"
   ]
  },
  {
   "cell_type": "code",
   "execution_count": 25,
   "id": "fe4708b6-6aa6-4f66-b90c-248ede47e3c9",
   "metadata": {},
   "outputs": [],
   "source": [
    "sitting_train = []\n",
    "for i in range(len(body_gyro_x_train)):\n",
    "    if body_gyro_x_train.iloc[i]['ActivityName'] == 'SITTING':\n",
    "        sitting_train.append(i)\n",
    "\n",
    "standing_train = []\n",
    "for i in range(len(body_gyro_x_train)):\n",
    "    if body_gyro_x_train.iloc[i]['ActivityName'] == 'STANDING':\n",
    "        standing_train.append(i)\n",
    "        \n",
    "laying_train = []\n",
    "for i in range(len(body_gyro_x_train)):\n",
    "    if body_gyro_x_train.iloc[i]['ActivityName'] == 'LAYING':\n",
    "        laying_train.append(i)"
   ]
  },
  {
   "cell_type": "code",
   "execution_count": 26,
   "id": "bfe4f12c-f238-41b5-93c7-e988ab658ad5",
   "metadata": {},
   "outputs": [],
   "source": [
    "droptrian = sitting_train + standing_train + laying_train"
   ]
  },
  {
   "cell_type": "raw",
   "id": "742f8215-38ce-40e1-a639-ecee42430f91",
   "metadata": {},
   "source": [
    "droptest =sitting_test + standing_test + laying_test"
   ]
  },
  {
   "cell_type": "code",
   "execution_count": 27,
   "id": "1862ee46-0ce3-48e2-9801-ccd340d68d78",
   "metadata": {},
   "outputs": [],
   "source": [
    "body_gyro_x_train_sbilanciato = body_gyro_x_train.drop(droptrian)"
   ]
  },
  {
   "cell_type": "raw",
   "id": "d2e76777-d466-4758-baf1-940566a9b4fa",
   "metadata": {},
   "source": [
    "X_test_sbilanciato = X_test.drop(droptest)"
   ]
  },
  {
   "cell_type": "code",
   "execution_count": 28,
   "id": "2ff614ee-0b1d-456b-9668-6578b3d18850",
   "metadata": {},
   "outputs": [],
   "source": [
    "body_gyro_x_train_sbilanciato = body_gyro_x_train_sbilanciato.drop(columns=['Activity'])"
   ]
  },
  {
   "cell_type": "code",
   "execution_count": 29,
   "id": "9fb2f22b-bc59-4784-9ae1-d0c95fc85617",
   "metadata": {},
   "outputs": [],
   "source": [
    "body_gyro_x_train_sbilanciato = body_gyro_x_train_sbilanciato.drop(columns=['ActivityName'])"
   ]
  },
  {
   "cell_type": "code",
   "execution_count": 30,
   "id": "48c27640-5f3e-4d31-bc8f-5b9460d5c5ad",
   "metadata": {},
   "outputs": [],
   "source": [
    "# Approssimazione: DFT, DWT, SVD, PLA, PAA, APCA, SAX"
   ]
  },
  {
   "cell_type": "code",
   "execution_count": 31,
   "id": "12376637-034b-4880-99b6-ec1b842a8094",
   "metadata": {},
   "outputs": [],
   "source": [
    "from tslearn.preprocessing import TimeSeriesScalerMeanVariance\n",
    "from tslearn.piecewise import SymbolicAggregateApproximation"
   ]
  },
  {
   "cell_type": "code",
   "execution_count": 32,
   "id": "5ee09b18-9a92-4469-abb5-d5e417d13201",
   "metadata": {},
   "outputs": [],
   "source": [
    "# SAX transform\n",
    "n_paa_segments = 20\n",
    "n_sax_symbols = 8\n",
    "sax = SymbolicAggregateApproximation(n_segments=n_paa_segments, alphabet_size_avg=n_sax_symbols)\n",
    "ts_sax = sax.fit_transform(body_gyro_x_train_sbilanciato)\n",
    "sax_ts_inv = sax.inverse_transform(ts_sax)"
   ]
  },
  {
   "cell_type": "raw",
   "id": "68ab4906-ceab-4a17-af45-3e11cac7c5ae",
   "metadata": {},
   "source": [
    "# Modify sax transformation to plot the differences\n",
    "plt.figure(figsize=(15,10))\n",
    "sp_names=['TS originale', 'TS dopo discretizzazione']\n",
    "plt.plot(body_gyro_x_train_sbilanciato.T[4871], linewidth=1.5)\n",
    "plt.plot(sax_ts_inv.ravel(), linewidth=1.5)\n",
    "plt.legend(labels=sp_names, fontsize = 12)\n",
    "plt.show()"
   ]
  },
  {
   "cell_type": "code",
   "execution_count": 33,
   "id": "33926dd8-2b02-41c6-bd1d-328d000c0594",
   "metadata": {},
   "outputs": [],
   "source": [
    "X_seq = list()\n",
    "for x in ts_sax:\n",
    "    X_seq.append(x.ravel())"
   ]
  },
  {
   "cell_type": "markdown",
   "id": "2cbef0fa-d081-43da-b7c2-88d7dc1833f1",
   "metadata": {},
   "source": [
    "# Sequential pattern mining"
   ]
  },
  {
   "cell_type": "code",
   "execution_count": 34,
   "id": "cb5e4630-74b0-4fa6-b182-a4c0ca39776f",
   "metadata": {},
   "outputs": [],
   "source": [
    "from prefixspan import PrefixSpan"
   ]
  },
  {
   "cell_type": "code",
   "execution_count": 35,
   "id": "0942ba57-b0a6-47fd-8547-9cdddd23ffb0",
   "metadata": {},
   "outputs": [],
   "source": [
    "ps = PrefixSpan(X_seq)"
   ]
  },
  {
   "cell_type": "code",
   "execution_count": 36,
   "id": "b1d24eed-1156-4694-a7f8-ad20a844a1ee",
   "metadata": {
    "tags": []
   },
   "outputs": [],
   "source": [
    "#support = 15% dataset\n",
    "a = ps.frequent(500)"
   ]
  },
  {
   "cell_type": "code",
   "execution_count": 37,
   "id": "81360591-b277-404e-a00b-6392d5d1b9ba",
   "metadata": {
    "tags": []
   },
   "outputs": [],
   "source": [
    "b = ps.topk(3473)"
   ]
  },
  {
   "cell_type": "code",
   "execution_count": 38,
   "id": "6efbc888-4f53-453f-84f6-4d4930c5040b",
   "metadata": {},
   "outputs": [],
   "source": [
    "for i in range(len(b)):\n",
    "    if b[i][1] == [8]:\n",
    "        print (b[i])"
   ]
  },
  {
   "cell_type": "raw",
   "id": "97f77918-ed88-416c-a2eb-5334ef9b363a",
   "metadata": {},
   "source": [
    "for i in range(len(a)):\n",
    "    if a[i][0] == 2948:\n",
    "        print (a[i])"
   ]
  },
  {
   "cell_type": "code",
   "execution_count": 39,
   "id": "5761d05a-8805-4030-b6f6-08d0c1c4c632",
   "metadata": {},
   "outputs": [],
   "source": [
    "count = 0\n",
    "newarr = []\n",
    "for i in range(len(b)):\n",
    "    if len(b[i][1]) == 5 and count < 6:\n",
    "        newarr.append(b[i][1])\n",
    "        count += 1"
   ]
  },
  {
   "cell_type": "code",
   "execution_count": 40,
   "id": "e47f3b69-618e-419f-81ba-11118093082c",
   "metadata": {},
   "outputs": [],
   "source": [
    "f = []\n",
    "for i in range(len(b)):\n",
    "    if len(b[i][1]) == 5:\n",
    "        f.append(b[i][1])"
   ]
  },
  {
   "cell_type": "code",
   "execution_count": 41,
   "id": "d2cc3567-297b-4f4b-8696-43761b5c0c13",
   "metadata": {},
   "outputs": [],
   "source": [
    "temp = 0\n",
    "for i in range(len(b)):\n",
    "    if 4 in b[i][1]:\n",
    "        temp +=1"
   ]
  },
  {
   "cell_type": "code",
   "execution_count": 42,
   "id": "43e0042b-f23b-40ea-98bb-cd0c8491567b",
   "metadata": {},
   "outputs": [
    {
     "name": "stdout",
     "output_type": "stream",
     "text": [
      "[[4, 4, 4, 4, 4], [3, 3, 3, 3, 3], [4, 4, 4, 4, 3], [4, 4, 4, 3, 3], [4, 4, 3, 4, 4], [4, 3, 3, 3, 3]]\n",
      "[4, 4, 4, 4, 4]\n",
      "[3, 3, 3, 3, 3]\n",
      "[4, 4, 4, 4, 3]\n",
      "[4, 4, 4, 3, 3]\n",
      "[4, 4, 3, 4, 4]\n",
      "[4, 3, 3, 3, 3]\n"
     ]
    }
   ],
   "source": [
    "import re\n",
    "\n",
    "arrnew=[]\n",
    "print(newarr)\n",
    "for i in range(len(newarr)):\n",
    "    print(newarr[i])\n",
    "    string = str(newarr[i])\n",
    "    string = re.sub(\"\\[|\\]\", \"\", string)\n",
    "    string = re.sub(\"\\,\", \"\", string)\n",
    "    arrnew.append(string)"
   ]
  },
  {
   "cell_type": "code",
   "execution_count": 43,
   "id": "bb71ecb7-5681-4442-9a00-e3be28ca96fc",
   "metadata": {},
   "outputs": [],
   "source": [
    "ts_sax = ts_sax.reshape(3285,20)"
   ]
  },
  {
   "cell_type": "code",
   "execution_count": 44,
   "id": "5d251527-0314-49f9-a64e-021fcd4bce85",
   "metadata": {},
   "outputs": [],
   "source": [
    "ts_sax_nuovo=[]\n",
    "for i in range(len(ts_sax)):\n",
    "    string = str(ts_sax[i])\n",
    "    string = re.sub(\"\\[|\\]\", \"\", string)\n",
    "    ts_sax_nuovo.append(string)"
   ]
  },
  {
   "cell_type": "code",
   "execution_count": 45,
   "id": "ce9827a5-4ea9-4125-bada-67e35127be90",
   "metadata": {},
   "outputs": [],
   "source": [
    "ind = []\n",
    "index1 = []\n",
    "index2 = []\n",
    "index3 = []\n",
    "index4 = []\n",
    "index5 = []\n",
    "index6 = []\n",
    "\n",
    "count = 0\n",
    "for i in range(len(arrnew)):\n",
    "    count = 0\n",
    "    for j in range(len(ts_sax_nuovo)):\n",
    "        #print(ts_sax_nuovo[j], arrnew[i]\n",
    "        if arrnew[i] in str(ts_sax_nuovo[j]):\n",
    "            count +=1\n",
    "            if i == 0:\n",
    "                index1.append(j)\n",
    "            if i == 1:\n",
    "                index2.append(j)\n",
    "            if i == 2:\n",
    "                index3.append(j)\n",
    "            if i == 3:\n",
    "                index4.append(j)\n",
    "            if i == 4:\n",
    "                index5.append(j)\n",
    "            if i == 5:\n",
    "                index6.append(j)\n",
    "    ind.append(count)"
   ]
  },
  {
   "cell_type": "code",
   "execution_count": 46,
   "id": "459118e8-f996-42cf-b329-6cdcbf7a26c9",
   "metadata": {},
   "outputs": [
    {
     "data": {
      "text/plain": [
       "[117, 123, 127, 121, 71, 105]"
      ]
     },
     "execution_count": 46,
     "metadata": {},
     "output_type": "execute_result"
    }
   ],
   "source": [
    "ind"
   ]
  },
  {
   "cell_type": "code",
   "execution_count": 47,
   "id": "4c92d57c-3637-4cad-8af0-0e34c847d2b5",
   "metadata": {},
   "outputs": [],
   "source": [
    "tmp = []\n",
    "for i in range(len(y_train)):\n",
    "    if y_train[i] == 1 or y_train[i] == 2 or y_train[i] == 3:\n",
    "        tmp.append(y_train[i])\n",
    "y_train_sbilanciato = pd.Series(tmp, copy=False)"
   ]
  },
  {
   "cell_type": "code",
   "execution_count": 48,
   "id": "5756331c-da48-4a11-95e5-a5e4a6586f5e",
   "metadata": {},
   "outputs": [],
   "source": [
    "#pattern 1\n",
    "a1 = np.count_nonzero(y_train_sbilanciato[index1]==1)\n",
    "a2 = np.count_nonzero(y_train_sbilanciato[index1]==2)\n",
    "a3 = np.count_nonzero(y_train_sbilanciato[index1]==3)\n",
    "\n",
    "#pattern 2\n",
    "b1 = np.count_nonzero(y_train_sbilanciato[index2]==1)\n",
    "b2 = np.count_nonzero(y_train_sbilanciato[index2]==2)\n",
    "b3 = np.count_nonzero(y_train_sbilanciato[index2]==3)\n",
    "\n",
    "#pattern 3\n",
    "c1 = np.count_nonzero(y_train_sbilanciato[index3]==1)\n",
    "c2 = np.count_nonzero(y_train_sbilanciato[index3]==2)\n",
    "c3 = np.count_nonzero(y_train_sbilanciato[index3]==3)\n",
    "\n",
    "#pattern 4\n",
    "d1 = np.count_nonzero(y_train_sbilanciato[index4]==1)\n",
    "d2 = np.count_nonzero(y_train_sbilanciato[index4]==2)\n",
    "d3 = np.count_nonzero(y_train_sbilanciato[index4]==3)\n",
    "\n",
    "#pattern 5\n",
    "e1 = np.count_nonzero(y_train_sbilanciato[index5]==1)\n",
    "e2 = np.count_nonzero(y_train_sbilanciato[index5]==2)\n",
    "e3 = np.count_nonzero(y_train_sbilanciato[index5]==3)\n",
    "\n",
    "#pattern 6\n",
    "f1 = np.count_nonzero(y_train_sbilanciato[index6]==1)\n",
    "f2 = np.count_nonzero(y_train_sbilanciato[index6]==2)\n",
    "f3 = np.count_nonzero(y_train_sbilanciato[index6]==3)"
   ]
  },
  {
   "cell_type": "code",
   "execution_count": 49,
   "id": "b82f729a-ceaa-4ae5-ab24-ccd9bf47881f",
   "metadata": {},
   "outputs": [],
   "source": [
    "d = {\"P1\" : [a1,a2,a3], \"P2\" : [b1,b2,b3], \"P3\" : [c1,c2,c3], \"P4\" : [d1,d2,d3], \"P5\" : [e1,e2,e3], \"P6\" : [f1,f2,f3]}\n",
    "new = pd.DataFrame(data = d)"
   ]
  },
  {
   "cell_type": "code",
   "execution_count": 50,
   "id": "6c114eaf-cd1f-457e-aeb1-b0953abd217e",
   "metadata": {
    "tags": []
   },
   "outputs": [
    {
     "data": {
      "text/html": [
       "<div>\n",
       "<style scoped>\n",
       "    .dataframe tbody tr th:only-of-type {\n",
       "        vertical-align: middle;\n",
       "    }\n",
       "\n",
       "    .dataframe tbody tr th {\n",
       "        vertical-align: top;\n",
       "    }\n",
       "\n",
       "    .dataframe thead th {\n",
       "        text-align: right;\n",
       "    }\n",
       "</style>\n",
       "<table border=\"1\" class=\"dataframe\">\n",
       "  <thead>\n",
       "    <tr style=\"text-align: right;\">\n",
       "      <th></th>\n",
       "      <th>P1</th>\n",
       "      <th>P2</th>\n",
       "      <th>P3</th>\n",
       "      <th>P4</th>\n",
       "      <th>P5</th>\n",
       "      <th>P6</th>\n",
       "    </tr>\n",
       "  </thead>\n",
       "  <tbody>\n",
       "    <tr>\n",
       "      <th>0</th>\n",
       "      <td>53</td>\n",
       "      <td>36</td>\n",
       "      <td>72</td>\n",
       "      <td>54</td>\n",
       "      <td>21</td>\n",
       "      <td>46</td>\n",
       "    </tr>\n",
       "    <tr>\n",
       "      <th>1</th>\n",
       "      <td>44</td>\n",
       "      <td>66</td>\n",
       "      <td>40</td>\n",
       "      <td>49</td>\n",
       "      <td>35</td>\n",
       "      <td>40</td>\n",
       "    </tr>\n",
       "    <tr>\n",
       "      <th>2</th>\n",
       "      <td>20</td>\n",
       "      <td>21</td>\n",
       "      <td>15</td>\n",
       "      <td>18</td>\n",
       "      <td>15</td>\n",
       "      <td>19</td>\n",
       "    </tr>\n",
       "  </tbody>\n",
       "</table>\n",
       "</div>"
      ],
      "text/plain": [
       "   P1  P2  P3  P4  P5  P6\n",
       "0  53  36  72  54  21  46\n",
       "1  44  66  40  49  35  40\n",
       "2  20  21  15  18  15  19"
      ]
     },
     "execution_count": 50,
     "metadata": {},
     "output_type": "execute_result"
    }
   ],
   "source": [
    "new"
   ]
  }
 ],
 "metadata": {
  "kernelspec": {
   "display_name": "Python 3 (ipykernel)",
   "language": "python",
   "name": "python3"
  },
  "language_info": {
   "codemirror_mode": {
    "name": "ipython",
    "version": 3
   },
   "file_extension": ".py",
   "mimetype": "text/x-python",
   "name": "python",
   "nbconvert_exporter": "python",
   "pygments_lexer": "ipython3",
   "version": "3.8.2"
  }
 },
 "nbformat": 4,
 "nbformat_minor": 5
}
