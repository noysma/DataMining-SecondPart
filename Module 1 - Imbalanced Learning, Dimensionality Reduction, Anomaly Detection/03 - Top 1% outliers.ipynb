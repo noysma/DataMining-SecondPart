{
 "cells": [
  {
   "cell_type": "code",
   "execution_count": 1,
   "id": "1a1ff5fb-2586-4a70-9894-6cc70cc26316",
   "metadata": {},
   "outputs": [],
   "source": [
    "%matplotlib inline\n",
    "\n",
    "import numpy as np\n",
    "import pandas as pd\n",
    "import seaborn as sns\n",
    "import matplotlib.pyplot as plt\n",
    "\n",
    "from collections import Counter\n",
    "from collections import defaultdict\n",
    "\n",
    "#kmeans, dbscan, hierarchical (sklearn)\n",
    "from sklearn.cluster import DBSCAN\n",
    "#evaluation\n",
    "from sklearn.metrics import silhouette_score\n",
    "\n",
    "#distance matrix (dbscan elbow, hierarchical)\n",
    "from scipy.spatial.distance import pdist, squareform\n",
    "# hierarchical (scipy)\n",
    "from scipy.cluster.hierarchy import linkage, dendrogram\n",
    "from sklearn.preprocessing import StandardScaler # To transform the dataset\n",
    "from sklearn.neighbors import NearestNeighbors\n",
    "from sklearn.cluster import kmeans_plusplus\n",
    "from sklearn.datasets import make_blobs\n",
    "from sklearn.cluster import KMeans\n",
    "from sklearn.metrics import silhouette_samples, silhouette_score\n",
    "\n",
    "from pyod.models.abod import ABOD\n",
    "from pyod.models.knn import KNN\n",
    "from pyod.models.lof import LOF\n",
    "from pyod.models.loci import LOCI"
   ]
  },
  {
   "cell_type": "code",
   "execution_count": 2,
   "id": "019cb210-98e7-4c4e-b779-8966ae629188",
   "metadata": {},
   "outputs": [],
   "source": [
    "import warnings\n",
    "warnings.filterwarnings('ignore')"
   ]
  },
  {
   "cell_type": "code",
   "execution_count": 3,
   "id": "93c21e08-dbe2-4b1c-8ebd-5b63a7a38840",
   "metadata": {},
   "outputs": [
    {
     "name": "stdout",
     "output_type": "stream",
     "text": [
      "No of Features: 561\n"
     ]
    }
   ],
   "source": [
    "features = list()\n",
    "with open('../features.txt') as f:\n",
    "    features = [line.split()[1] for line in f.readlines()]\n",
    "print('No of Features: {}'.format(len(features)))"
   ]
  },
  {
   "cell_type": "code",
   "execution_count": 4,
   "id": "31f30c61-3631-4736-bd69-50bc2c7a9f37",
   "metadata": {},
   "outputs": [],
   "source": [
    "X_train = pd.read_csv('X_train.txt', delim_whitespace=True, header=None, encoding='latin-1')\n",
    "X_train.columns = features\n",
    "\n",
    "# add subject column to the dataframe\n",
    "X_train['subject'] = pd.read_csv('subject_train.txt', header=None, squeeze=True)\n",
    "\n",
    "y_train = pd.read_csv('y_train.txt', names=['Activity'], squeeze=True)\n",
    "y_train_labels = y_train.map({1: 'WALKING', 2:'WALKING_UPSTAIRS',3:'WALKING_DOWNSTAIRS',\\\n",
    "                       4:'SITTING', 5:'STANDING',6:'LAYING'})\n",
    "\n",
    "# put all columns in a single dataframe\n",
    "#train = X_train\n",
    "#train['Activity'] = y_train"
   ]
  },
  {
   "cell_type": "code",
   "execution_count": 5,
   "id": "b9a4b046-6011-459b-a03b-e834b60bb1e5",
   "metadata": {},
   "outputs": [],
   "source": [
    "X_test = pd.read_csv('../test/X_test.txt', delim_whitespace=True, header=None, encoding='latin-1')\n",
    "X_test.columns = features\n",
    "\n",
    "# add subject column to the dataframe\n",
    "X_test['subject'] = pd.read_csv('../test/subject_test.txt', header=None, squeeze=True)\n",
    "\n",
    "y_test = pd.read_csv('../test/y_test.txt', names=['Activity'], squeeze=True)"
   ]
  },
  {
   "cell_type": "code",
   "execution_count": 6,
   "id": "eb8dcfbe-79a6-460c-9614-15693ded9f93",
   "metadata": {},
   "outputs": [],
   "source": [
    "X = X_train.values"
   ]
  },
  {
   "cell_type": "markdown",
   "id": "4596ad19-85c6-4a31-94bb-5d404016d6a8",
   "metadata": {},
   "source": [
    "## DBScan"
   ]
  },
  {
   "cell_type": "code",
   "execution_count": 7,
   "id": "0aac3ba8-1b18-4a73-8bae-e73b83ed6b54",
   "metadata": {},
   "outputs": [
    {
     "data": {
      "text/plain": [
       "DBSCAN(eps=5, min_samples=10)"
      ]
     },
     "execution_count": 7,
     "metadata": {},
     "output_type": "execute_result"
    }
   ],
   "source": [
    "dbscan = DBSCAN(eps=5, min_samples=10)\n",
    "dbscan.fit(X)"
   ]
  },
  {
   "cell_type": "code",
   "execution_count": 8,
   "id": "4e703156-03d0-419a-87a5-6c928c93086b",
   "metadata": {},
   "outputs": [
    {
     "data": {
      "text/plain": [
       "(array([-1,  0,  1,  2,  3,  4,  5]),\n",
       " array([ 303, 3906,  880,    8,  159, 1094, 1002]))"
      ]
     },
     "execution_count": 8,
     "metadata": {},
     "output_type": "execute_result"
    }
   ],
   "source": [
    "np.unique(dbscan.labels_, return_counts=True)"
   ]
  },
  {
   "cell_type": "code",
   "execution_count": 9,
   "id": "6fbbe4b7-d425-4d12-8a29-664fe0d69d70",
   "metadata": {},
   "outputs": [
    {
     "data": {
      "text/html": [
       "<div>\n",
       "<style scoped>\n",
       "    .dataframe tbody tr th:only-of-type {\n",
       "        vertical-align: middle;\n",
       "    }\n",
       "\n",
       "    .dataframe tbody tr th {\n",
       "        vertical-align: top;\n",
       "    }\n",
       "\n",
       "    .dataframe thead th {\n",
       "        text-align: right;\n",
       "    }\n",
       "</style>\n",
       "<table border=\"1\" class=\"dataframe\">\n",
       "  <thead>\n",
       "    <tr style=\"text-align: right;\">\n",
       "      <th></th>\n",
       "      <th>tBodyAcc-mean()-X</th>\n",
       "      <th>tBodyAcc-mean()-Y</th>\n",
       "      <th>tBodyAcc-mean()-Z</th>\n",
       "      <th>tBodyAcc-std()-X</th>\n",
       "      <th>tBodyAcc-std()-Y</th>\n",
       "      <th>tBodyAcc-std()-Z</th>\n",
       "      <th>tBodyAcc-mad()-X</th>\n",
       "      <th>tBodyAcc-mad()-Y</th>\n",
       "      <th>tBodyAcc-mad()-Z</th>\n",
       "      <th>tBodyAcc-max()-X</th>\n",
       "      <th>...</th>\n",
       "      <th>fBodyBodyGyroJerkMag-skewness()</th>\n",
       "      <th>fBodyBodyGyroJerkMag-kurtosis()</th>\n",
       "      <th>angle(tBodyAccMean,gravity)</th>\n",
       "      <th>angle(tBodyAccJerkMean),gravityMean)</th>\n",
       "      <th>angle(tBodyGyroMean,gravityMean)</th>\n",
       "      <th>angle(tBodyGyroJerkMean,gravityMean)</th>\n",
       "      <th>angle(X,gravityMean)</th>\n",
       "      <th>angle(Y,gravityMean)</th>\n",
       "      <th>angle(Z,gravityMean)</th>\n",
       "      <th>subject</th>\n",
       "    </tr>\n",
       "  </thead>\n",
       "  <tbody>\n",
       "    <tr>\n",
       "      <th>0</th>\n",
       "      <td>0.288585</td>\n",
       "      <td>-0.020294</td>\n",
       "      <td>-0.132905</td>\n",
       "      <td>-0.995279</td>\n",
       "      <td>-0.983111</td>\n",
       "      <td>-0.913526</td>\n",
       "      <td>-0.995112</td>\n",
       "      <td>-0.983185</td>\n",
       "      <td>-0.923527</td>\n",
       "      <td>-0.934724</td>\n",
       "      <td>...</td>\n",
       "      <td>-0.298676</td>\n",
       "      <td>-0.710304</td>\n",
       "      <td>-0.112754</td>\n",
       "      <td>0.030400</td>\n",
       "      <td>-0.464761</td>\n",
       "      <td>-0.018446</td>\n",
       "      <td>-0.841247</td>\n",
       "      <td>0.179941</td>\n",
       "      <td>-0.058627</td>\n",
       "      <td>1</td>\n",
       "    </tr>\n",
       "    <tr>\n",
       "      <th>27</th>\n",
       "      <td>0.144504</td>\n",
       "      <td>0.189263</td>\n",
       "      <td>0.062769</td>\n",
       "      <td>-0.904300</td>\n",
       "      <td>-0.181937</td>\n",
       "      <td>-0.443151</td>\n",
       "      <td>-0.901100</td>\n",
       "      <td>-0.110813</td>\n",
       "      <td>-0.400599</td>\n",
       "      <td>-0.931896</td>\n",
       "      <td>...</td>\n",
       "      <td>0.156185</td>\n",
       "      <td>-0.241781</td>\n",
       "      <td>0.013526</td>\n",
       "      <td>0.043354</td>\n",
       "      <td>0.021485</td>\n",
       "      <td>0.046689</td>\n",
       "      <td>-0.667085</td>\n",
       "      <td>0.054216</td>\n",
       "      <td>-0.218875</td>\n",
       "      <td>1</td>\n",
       "    </tr>\n",
       "    <tr>\n",
       "      <th>30</th>\n",
       "      <td>0.221847</td>\n",
       "      <td>0.034108</td>\n",
       "      <td>-0.123612</td>\n",
       "      <td>-0.814708</td>\n",
       "      <td>-0.749418</td>\n",
       "      <td>-0.571899</td>\n",
       "      <td>-0.878682</td>\n",
       "      <td>-0.776895</td>\n",
       "      <td>-0.700710</td>\n",
       "      <td>-0.737152</td>\n",
       "      <td>...</td>\n",
       "      <td>0.743098</td>\n",
       "      <td>0.596733</td>\n",
       "      <td>0.179223</td>\n",
       "      <td>0.077595</td>\n",
       "      <td>0.056348</td>\n",
       "      <td>-0.316727</td>\n",
       "      <td>-0.582806</td>\n",
       "      <td>-0.020756</td>\n",
       "      <td>-0.255270</td>\n",
       "      <td>1</td>\n",
       "    </tr>\n",
       "    <tr>\n",
       "      <th>31</th>\n",
       "      <td>-0.041701</td>\n",
       "      <td>0.175102</td>\n",
       "      <td>0.025552</td>\n",
       "      <td>-0.758393</td>\n",
       "      <td>-0.586537</td>\n",
       "      <td>-0.439110</td>\n",
       "      <td>-0.774118</td>\n",
       "      <td>-0.555350</td>\n",
       "      <td>-0.438736</td>\n",
       "      <td>-0.737152</td>\n",
       "      <td>...</td>\n",
       "      <td>0.482485</td>\n",
       "      <td>0.256095</td>\n",
       "      <td>0.114760</td>\n",
       "      <td>0.114436</td>\n",
       "      <td>-0.070782</td>\n",
       "      <td>-0.001461</td>\n",
       "      <td>-0.552939</td>\n",
       "      <td>-0.053539</td>\n",
       "      <td>-0.260424</td>\n",
       "      <td>1</td>\n",
       "    </tr>\n",
       "    <tr>\n",
       "      <th>32</th>\n",
       "      <td>0.013904</td>\n",
       "      <td>0.153296</td>\n",
       "      <td>0.016243</td>\n",
       "      <td>-0.808638</td>\n",
       "      <td>-0.572746</td>\n",
       "      <td>-0.626415</td>\n",
       "      <td>-0.806213</td>\n",
       "      <td>-0.533811</td>\n",
       "      <td>-0.579394</td>\n",
       "      <td>-0.916064</td>\n",
       "      <td>...</td>\n",
       "      <td>0.143358</td>\n",
       "      <td>-0.097418</td>\n",
       "      <td>-0.004913</td>\n",
       "      <td>0.033988</td>\n",
       "      <td>-0.036068</td>\n",
       "      <td>0.205113</td>\n",
       "      <td>-0.418368</td>\n",
       "      <td>-0.142549</td>\n",
       "      <td>-0.305884</td>\n",
       "      <td>1</td>\n",
       "    </tr>\n",
       "    <tr>\n",
       "      <th>...</th>\n",
       "      <td>...</td>\n",
       "      <td>...</td>\n",
       "      <td>...</td>\n",
       "      <td>...</td>\n",
       "      <td>...</td>\n",
       "      <td>...</td>\n",
       "      <td>...</td>\n",
       "      <td>...</td>\n",
       "      <td>...</td>\n",
       "      <td>...</td>\n",
       "      <td>...</td>\n",
       "      <td>...</td>\n",
       "      <td>...</td>\n",
       "      <td>...</td>\n",
       "      <td>...</td>\n",
       "      <td>...</td>\n",
       "      <td>...</td>\n",
       "      <td>...</td>\n",
       "      <td>...</td>\n",
       "      <td>...</td>\n",
       "      <td>...</td>\n",
       "    </tr>\n",
       "    <tr>\n",
       "      <th>7000</th>\n",
       "      <td>-0.088994</td>\n",
       "      <td>0.270256</td>\n",
       "      <td>0.167615</td>\n",
       "      <td>-0.840510</td>\n",
       "      <td>-0.470905</td>\n",
       "      <td>-0.668258</td>\n",
       "      <td>-0.834703</td>\n",
       "      <td>-0.443943</td>\n",
       "      <td>-0.636058</td>\n",
       "      <td>-0.948723</td>\n",
       "      <td>...</td>\n",
       "      <td>-0.391806</td>\n",
       "      <td>-0.797221</td>\n",
       "      <td>0.118589</td>\n",
       "      <td>0.094648</td>\n",
       "      <td>-0.021962</td>\n",
       "      <td>0.026312</td>\n",
       "      <td>-0.661154</td>\n",
       "      <td>0.057936</td>\n",
       "      <td>-0.223915</td>\n",
       "      <td>30</td>\n",
       "    </tr>\n",
       "    <tr>\n",
       "      <th>7001</th>\n",
       "      <td>-0.003060</td>\n",
       "      <td>0.210302</td>\n",
       "      <td>0.036347</td>\n",
       "      <td>-0.797451</td>\n",
       "      <td>-0.362963</td>\n",
       "      <td>-0.553527</td>\n",
       "      <td>-0.783895</td>\n",
       "      <td>-0.272666</td>\n",
       "      <td>-0.479636</td>\n",
       "      <td>-0.887848</td>\n",
       "      <td>...</td>\n",
       "      <td>-0.130502</td>\n",
       "      <td>-0.572981</td>\n",
       "      <td>0.015838</td>\n",
       "      <td>0.063686</td>\n",
       "      <td>0.031717</td>\n",
       "      <td>0.007030</td>\n",
       "      <td>-0.480101</td>\n",
       "      <td>-0.066440</td>\n",
       "      <td>-0.310414</td>\n",
       "      <td>30</td>\n",
       "    </tr>\n",
       "    <tr>\n",
       "      <th>7189</th>\n",
       "      <td>0.281279</td>\n",
       "      <td>0.027026</td>\n",
       "      <td>-0.078728</td>\n",
       "      <td>-0.915616</td>\n",
       "      <td>-0.834043</td>\n",
       "      <td>-0.686235</td>\n",
       "      <td>-0.953192</td>\n",
       "      <td>-0.824257</td>\n",
       "      <td>-0.773325</td>\n",
       "      <td>-0.703837</td>\n",
       "      <td>...</td>\n",
       "      <td>-0.209003</td>\n",
       "      <td>-0.613155</td>\n",
       "      <td>0.061415</td>\n",
       "      <td>0.016246</td>\n",
       "      <td>-0.346680</td>\n",
       "      <td>-0.382527</td>\n",
       "      <td>-0.869831</td>\n",
       "      <td>0.187881</td>\n",
       "      <td>0.010203</td>\n",
       "      <td>30</td>\n",
       "    </tr>\n",
       "    <tr>\n",
       "      <th>7190</th>\n",
       "      <td>0.270349</td>\n",
       "      <td>0.054640</td>\n",
       "      <td>-0.006442</td>\n",
       "      <td>-0.919021</td>\n",
       "      <td>-0.797208</td>\n",
       "      <td>-0.606512</td>\n",
       "      <td>-0.949277</td>\n",
       "      <td>-0.812261</td>\n",
       "      <td>-0.604579</td>\n",
       "      <td>-0.703837</td>\n",
       "      <td>...</td>\n",
       "      <td>-0.242856</td>\n",
       "      <td>-0.673792</td>\n",
       "      <td>0.063645</td>\n",
       "      <td>-0.084797</td>\n",
       "      <td>0.081627</td>\n",
       "      <td>0.623570</td>\n",
       "      <td>-0.894985</td>\n",
       "      <td>0.168664</td>\n",
       "      <td>-0.000578</td>\n",
       "      <td>30</td>\n",
       "    </tr>\n",
       "    <tr>\n",
       "      <th>7312</th>\n",
       "      <td>0.248943</td>\n",
       "      <td>-0.003139</td>\n",
       "      <td>-0.023004</td>\n",
       "      <td>0.377844</td>\n",
       "      <td>0.164388</td>\n",
       "      <td>-0.123450</td>\n",
       "      <td>0.336749</td>\n",
       "      <td>0.097085</td>\n",
       "      <td>-0.074706</td>\n",
       "      <td>0.550500</td>\n",
       "      <td>...</td>\n",
       "      <td>-0.016980</td>\n",
       "      <td>-0.425086</td>\n",
       "      <td>0.113251</td>\n",
       "      <td>-0.047024</td>\n",
       "      <td>0.963963</td>\n",
       "      <td>-0.980865</td>\n",
       "      <td>-0.892342</td>\n",
       "      <td>0.161155</td>\n",
       "      <td>-0.023913</td>\n",
       "      <td>30</td>\n",
       "    </tr>\n",
       "  </tbody>\n",
       "</table>\n",
       "<p>303 rows × 562 columns</p>\n",
       "</div>"
      ],
      "text/plain": [
       "      tBodyAcc-mean()-X  tBodyAcc-mean()-Y  tBodyAcc-mean()-Z  \\\n",
       "0              0.288585          -0.020294          -0.132905   \n",
       "27             0.144504           0.189263           0.062769   \n",
       "30             0.221847           0.034108          -0.123612   \n",
       "31            -0.041701           0.175102           0.025552   \n",
       "32             0.013904           0.153296           0.016243   \n",
       "...                 ...                ...                ...   \n",
       "7000          -0.088994           0.270256           0.167615   \n",
       "7001          -0.003060           0.210302           0.036347   \n",
       "7189           0.281279           0.027026          -0.078728   \n",
       "7190           0.270349           0.054640          -0.006442   \n",
       "7312           0.248943          -0.003139          -0.023004   \n",
       "\n",
       "      tBodyAcc-std()-X  tBodyAcc-std()-Y  tBodyAcc-std()-Z  tBodyAcc-mad()-X  \\\n",
       "0            -0.995279         -0.983111         -0.913526         -0.995112   \n",
       "27           -0.904300         -0.181937         -0.443151         -0.901100   \n",
       "30           -0.814708         -0.749418         -0.571899         -0.878682   \n",
       "31           -0.758393         -0.586537         -0.439110         -0.774118   \n",
       "32           -0.808638         -0.572746         -0.626415         -0.806213   \n",
       "...                ...               ...               ...               ...   \n",
       "7000         -0.840510         -0.470905         -0.668258         -0.834703   \n",
       "7001         -0.797451         -0.362963         -0.553527         -0.783895   \n",
       "7189         -0.915616         -0.834043         -0.686235         -0.953192   \n",
       "7190         -0.919021         -0.797208         -0.606512         -0.949277   \n",
       "7312          0.377844          0.164388         -0.123450          0.336749   \n",
       "\n",
       "      tBodyAcc-mad()-Y  tBodyAcc-mad()-Z  tBodyAcc-max()-X  ...  \\\n",
       "0            -0.983185         -0.923527         -0.934724  ...   \n",
       "27           -0.110813         -0.400599         -0.931896  ...   \n",
       "30           -0.776895         -0.700710         -0.737152  ...   \n",
       "31           -0.555350         -0.438736         -0.737152  ...   \n",
       "32           -0.533811         -0.579394         -0.916064  ...   \n",
       "...                ...               ...               ...  ...   \n",
       "7000         -0.443943         -0.636058         -0.948723  ...   \n",
       "7001         -0.272666         -0.479636         -0.887848  ...   \n",
       "7189         -0.824257         -0.773325         -0.703837  ...   \n",
       "7190         -0.812261         -0.604579         -0.703837  ...   \n",
       "7312          0.097085         -0.074706          0.550500  ...   \n",
       "\n",
       "      fBodyBodyGyroJerkMag-skewness()  fBodyBodyGyroJerkMag-kurtosis()  \\\n",
       "0                           -0.298676                        -0.710304   \n",
       "27                           0.156185                        -0.241781   \n",
       "30                           0.743098                         0.596733   \n",
       "31                           0.482485                         0.256095   \n",
       "32                           0.143358                        -0.097418   \n",
       "...                               ...                              ...   \n",
       "7000                        -0.391806                        -0.797221   \n",
       "7001                        -0.130502                        -0.572981   \n",
       "7189                        -0.209003                        -0.613155   \n",
       "7190                        -0.242856                        -0.673792   \n",
       "7312                        -0.016980                        -0.425086   \n",
       "\n",
       "      angle(tBodyAccMean,gravity)  angle(tBodyAccJerkMean),gravityMean)  \\\n",
       "0                       -0.112754                              0.030400   \n",
       "27                       0.013526                              0.043354   \n",
       "30                       0.179223                              0.077595   \n",
       "31                       0.114760                              0.114436   \n",
       "32                      -0.004913                              0.033988   \n",
       "...                           ...                                   ...   \n",
       "7000                     0.118589                              0.094648   \n",
       "7001                     0.015838                              0.063686   \n",
       "7189                     0.061415                              0.016246   \n",
       "7190                     0.063645                             -0.084797   \n",
       "7312                     0.113251                             -0.047024   \n",
       "\n",
       "      angle(tBodyGyroMean,gravityMean)  angle(tBodyGyroJerkMean,gravityMean)  \\\n",
       "0                            -0.464761                             -0.018446   \n",
       "27                            0.021485                              0.046689   \n",
       "30                            0.056348                             -0.316727   \n",
       "31                           -0.070782                             -0.001461   \n",
       "32                           -0.036068                              0.205113   \n",
       "...                                ...                                   ...   \n",
       "7000                         -0.021962                              0.026312   \n",
       "7001                          0.031717                              0.007030   \n",
       "7189                         -0.346680                             -0.382527   \n",
       "7190                          0.081627                              0.623570   \n",
       "7312                          0.963963                             -0.980865   \n",
       "\n",
       "      angle(X,gravityMean)  angle(Y,gravityMean)  angle(Z,gravityMean)  \\\n",
       "0                -0.841247              0.179941             -0.058627   \n",
       "27               -0.667085              0.054216             -0.218875   \n",
       "30               -0.582806             -0.020756             -0.255270   \n",
       "31               -0.552939             -0.053539             -0.260424   \n",
       "32               -0.418368             -0.142549             -0.305884   \n",
       "...                    ...                   ...                   ...   \n",
       "7000             -0.661154              0.057936             -0.223915   \n",
       "7001             -0.480101             -0.066440             -0.310414   \n",
       "7189             -0.869831              0.187881              0.010203   \n",
       "7190             -0.894985              0.168664             -0.000578   \n",
       "7312             -0.892342              0.161155             -0.023913   \n",
       "\n",
       "      subject  \n",
       "0           1  \n",
       "27          1  \n",
       "30          1  \n",
       "31          1  \n",
       "32          1  \n",
       "...       ...  \n",
       "7000       30  \n",
       "7001       30  \n",
       "7189       30  \n",
       "7190       30  \n",
       "7312       30  \n",
       "\n",
       "[303 rows x 562 columns]"
      ]
     },
     "execution_count": 9,
     "metadata": {},
     "output_type": "execute_result"
    }
   ],
   "source": [
    "X_train.loc[np.where(dbscan.labels_==-1)]"
   ]
  },
  {
   "cell_type": "markdown",
   "id": "f2a7d124-f111-4edc-986d-319e5dfd1c9e",
   "metadata": {},
   "source": [
    "# LOF"
   ]
  },
  {
   "cell_type": "code",
   "execution_count": 10,
   "id": "8d6f903c-367e-4de9-9f26-9e60e698e956",
   "metadata": {},
   "outputs": [],
   "source": [
    "from sklearn.neighbors import LocalOutlierFactor"
   ]
  },
  {
   "cell_type": "code",
   "execution_count": null,
   "id": "03be84b7-bb0a-4591-9d2e-3f6b564bd685",
   "metadata": {},
   "outputs": [],
   "source": [
    "#lof = LocalOutlierFactor()\n",
    "#from sklearn.model_selection import GridSearchCV\n",
    "#k_range = list(range(5, 1500, 20))\n",
    "#param_grid = dict(n_neighbors=k_range)\n",
    "  \n",
    "# defining parameter range\n",
    "#grid = GridSearchCV(lof, param_grid, cv=10, scoring='accuracy', return_train_score=False,verbose=1)\n",
    "  \n",
    "# fitting the model for grid search\n",
    "#grid_search=grid.fit(X_train, y_train)"
   ]
  },
  {
   "cell_type": "code",
   "execution_count": 12,
   "id": "1751c63b-e1f0-4926-8d43-6c14f8049fc8",
   "metadata": {},
   "outputs": [],
   "source": [
    "#print(grid_search.best_params_)"
   ]
  },
  {
   "cell_type": "code",
   "execution_count": 13,
   "id": "8ee59dba-ca43-4034-b606-5a39d7e2e169",
   "metadata": {},
   "outputs": [],
   "source": [
    "SKL_lof = LocalOutlierFactor(n_neighbors=5)\n",
    "outliers = SKL_lof.fit_predict(X)"
   ]
  },
  {
   "cell_type": "markdown",
   "id": "6d8d5105-0c45-498b-9ecc-eb1ba8b97b01",
   "metadata": {},
   "source": [
    "negative_outlier_factor_\n",
    "\n",
    "The opposite LOF of the training samples. The higher, the more normal. Inliers tend to have a LOF score close to 1 (negative_outlier_factor_ close to -1), while outliers tend to have a larger LOF score.\n",
    "\n",
    "The local outlier factor (LOF) of a sample captures its supposed ‘degree of abnormality’. It is the average of the ratio of the local reachability density of a sample and those of its k-nearest neighbors."
   ]
  },
  {
   "cell_type": "code",
   "execution_count": 14,
   "id": "d2107314-c89d-4dec-bb10-c11473df985c",
   "metadata": {
    "tags": []
   },
   "outputs": [
    {
     "data": {
      "text/plain": [
       "array([-1.35316757, -1.06739907, -1.02107865, ..., -1.04899774,\n",
       "       -1.01585394, -0.98727148])"
      ]
     },
     "execution_count": 14,
     "metadata": {},
     "output_type": "execute_result"
    }
   ],
   "source": [
    "SKL_lof.negative_outlier_factor_"
   ]
  },
  {
   "cell_type": "code",
   "execution_count": 15,
   "id": "475c18a7-f6a2-4723-b5aa-349597faf8b2",
   "metadata": {},
   "outputs": [
    {
     "data": {
      "text/plain": [
       "(array([-1,  1]), array([  10, 7342]))"
      ]
     },
     "execution_count": 15,
     "metadata": {},
     "output_type": "execute_result"
    }
   ],
   "source": [
    "np.unique(outliers, return_counts=True)"
   ]
  },
  {
   "cell_type": "code",
   "execution_count": 16,
   "id": "3757db93-0476-46ad-a302-1157d04450f5",
   "metadata": {},
   "outputs": [],
   "source": [
    "SKL_lof_pos = np.where(outliers==-1)"
   ]
  },
  {
   "cell_type": "code",
   "execution_count": 17,
   "id": "09dfb7e4-02b0-4866-b80b-5a3944d2da48",
   "metadata": {},
   "outputs": [
    {
     "data": {
      "text/plain": [
       "10"
      ]
     },
     "execution_count": 17,
     "metadata": {},
     "output_type": "execute_result"
    }
   ],
   "source": [
    "len(SKL_lof.negative_outlier_factor_[np.where(outliers==-1)])"
   ]
  },
  {
   "cell_type": "code",
   "execution_count": 18,
   "id": "06bea885-538f-4cfc-b5fd-51be406bce54",
   "metadata": {},
   "outputs": [
    {
     "data": {
      "text/plain": [
       "-1.520424724991964"
      ]
     },
     "execution_count": 18,
     "metadata": {},
     "output_type": "execute_result"
    }
   ],
   "source": [
    "max_val = np.max(SKL_lof.negative_outlier_factor_[np.where(outliers==-1)])\n",
    "max_val"
   ]
  },
  {
   "cell_type": "code",
   "execution_count": 19,
   "id": "7c8722e3-30b3-4fe6-9b40-8373d394a94a",
   "metadata": {},
   "outputs": [
    {
     "data": {
      "text/plain": [
       "-1.8463076110398606"
      ]
     },
     "execution_count": 19,
     "metadata": {},
     "output_type": "execute_result"
    }
   ],
   "source": [
    "np.min(SKL_lof.negative_outlier_factor_[np.where(outliers==-1)])"
   ]
  },
  {
   "cell_type": "code",
   "execution_count": 20,
   "id": "a32b734c-4c39-422c-8996-d999ba1c2aec",
   "metadata": {},
   "outputs": [
    {
     "data": {
      "image/png": "[encoded data removed]",
      "text/plain": [
       "<Figure size 432x288 with 1 Axes>"
      ]
     },
     "metadata": {
      "needs_background": "light"
     },
     "output_type": "display_data"
    }
   ],
   "source": [
    "plt.hist(SKL_lof.negative_outlier_factor_, edgecolor='black', bins=20)\n",
    "plt.axvline(max_val, c='r')\n",
    "plt.show()"
   ]
  },
  {
   "cell_type": "code",
   "execution_count": 21,
   "id": "d988d146-0096-4136-b4de-d584a04acb20",
   "metadata": {},
   "outputs": [
    {
     "data": {
      "image/png": "[encoded data removed]",
      "text/plain": [
       "<Figure size 432x288 with 1 Axes>"
      ]
     },
     "metadata": {
      "needs_background": "light"
     },
     "output_type": "display_data"
    }
   ],
   "source": [
    "# inliers\n",
    "X_inliers = SKL_lof.negative_outlier_factor_[np.where(outliers==1)]\n",
    "X_inliers = X_inliers.reshape(3671, 2)\n",
    "#X_inliers = np.r_[X_inliers + 2, X_inliers - 2]\n",
    "\n",
    "# outliers\n",
    "X_outliers = SKL_lof.negative_outlier_factor_[np.where(outliers==-1)]\n",
    "X_outliers = X_outliers.reshape(5, 2)\n",
    "Xa = np.r_[X_inliers, X_outliers]\n",
    "\n",
    "n_outliers = len(X_outliers)\n",
    "ground_truth = np.ones(len(Xa), dtype=int)\n",
    "ground_truth[-n_outliers:] = -1\n",
    "\n",
    "# fit the model for outlier detection (default)\n",
    "clf = LocalOutlierFactor(n_neighbors=20, contamination=0.1)\n",
    "# use fit_predict to compute the predicted labels of the training samples\n",
    "# (when LOF is used for outlier detection, the estimator has no predict,\n",
    "# decision_function and score_samples methods).\n",
    "y_pred = clf.fit_predict(Xa)\n",
    "n_errors = (y_pred != ground_truth).sum()\n",
    "X_scores = clf.negative_outlier_factor_\n",
    "\n",
    "plt.title(\"Local Outlier Factor (LOF)\")\n",
    "plt.scatter(Xa[:, 0], Xa[:, 1], color=\"k\", s=3.0, label=\"Data points\")\n",
    "# plot circles with radius proportional to the outlier scores\n",
    "radius = (X_scores.max() - X_scores) / (X_scores.max() - X_scores.min())\n",
    "plt.scatter(\n",
    "    Xa[:, 0],\n",
    "    Xa[:, 1],\n",
    "    s=1000 * radius,\n",
    "    edgecolors=\"r\",\n",
    "    facecolors=\"none\",\n",
    "    label=\"Outlier scores\",\n",
    ")\n",
    "plt.axis(\"tight\")\n",
    "plt.xlim((-5, 5))\n",
    "plt.ylim((-5, 5))\n",
    "plt.xlabel(\"prediction errors: %d\" % (n_errors))\n",
    "legend = plt.legend(loc=\"upper left\")\n",
    "legend.legendHandles[0]._sizes = [10]\n",
    "legend.legendHandles[1]._sizes = [20]\n",
    "plt.show()"
   ]
  },
  {
   "cell_type": "code",
   "execution_count": 22,
   "id": "c2f09a0a-5c3c-4328-8616-ce54c5742d02",
   "metadata": {},
   "outputs": [],
   "source": [
    "SKL_lof.negative_outlier_factor_.sort()"
   ]
  },
  {
   "cell_type": "code",
   "execution_count": 23,
   "id": "54f5878a-ba5b-4f58-9b4a-7574a2982bd8",
   "metadata": {},
   "outputs": [
    {
     "name": "stdout",
     "output_type": "stream",
     "text": [
      "0 : -1.8463076110398606\n",
      "1 : -1.8146692656016392\n",
      "2 : -1.77799300991974\n",
      "3 : -1.6704382707589107\n",
      "4 : -1.656507010565497\n",
      "5 : -1.6506433342243731\n",
      "6 : -1.60122912282725\n",
      "7 : -1.5725368604907053\n",
      "8 : -1.567141591257371\n",
      "9 : -1.520424724991964\n"
     ]
    }
   ],
   "source": [
    "for i in range(10):\n",
    "    print(i, ':', SKL_lof.negative_outlier_factor_[i])"
   ]
  },
  {
   "cell_type": "code",
   "execution_count": 24,
   "id": "64d65850-f760-4b3f-9d4a-7c7a893a0082",
   "metadata": {},
   "outputs": [],
   "source": [
    "from pyod.models.abod import ABOD\n",
    "from pyod.models.knn import KNN\n",
    "from pyod.models.lof import LOF\n",
    "from pyod.models.iforest import IForest"
   ]
  },
  {
   "cell_type": "code",
   "execution_count": 25,
   "id": "4c8e3558-8e91-493b-a0f1-74aca8b2167f",
   "metadata": {},
   "outputs": [
    {
     "data": {
      "text/plain": [
       "(array([0, 1]), array([6694,  658]))"
      ]
     },
     "execution_count": 25,
     "metadata": {},
     "output_type": "execute_result"
    }
   ],
   "source": [
    "PYOD_lof = LOF()\n",
    "PYOD_lof.fit(X)\n",
    "\n",
    "outliers = PYOD_lof.predict(X)\n",
    "np.unique(outliers, return_counts=True)"
   ]
  },
  {
   "cell_type": "code",
   "execution_count": 26,
   "id": "c9b3cf87-d06f-4ebc-b530-b1b9300a1ab7",
   "metadata": {},
   "outputs": [],
   "source": [
    "PYOD_lof_pos = np.where(outliers==1)"
   ]
  },
  {
   "cell_type": "code",
   "execution_count": 27,
   "id": "0921fecf-0b6b-4b7e-a135-74c510d28511",
   "metadata": {},
   "outputs": [
    {
     "data": {
      "image/png": "[encoded data removed]",
      "text/plain": [
       "<Figure size 432x288 with 1 Axes>"
      ]
     },
     "metadata": {
      "needs_background": "light"
     },
     "output_type": "display_data"
    }
   ],
   "source": [
    "plt.hist(PYOD_lof.decision_scores_, edgecolor='black', bins=20)\n",
    "plt.axvline(np.min(PYOD_lof.decision_scores_[np.where(outliers==1)]), c='r')\n",
    "plt.show()"
   ]
  },
  {
   "cell_type": "code",
   "execution_count": 28,
   "id": "46df6982-ea4c-4216-9d0c-6bde7d12c5ed",
   "metadata": {},
   "outputs": [
    {
     "data": {
      "image/png": "[encoded data removed]",
      "text/plain": [
       "<Figure size 432x288 with 1 Axes>"
      ]
     },
     "metadata": {
      "needs_background": "light"
     },
     "output_type": "display_data"
    }
   ],
   "source": [
    "# inliers\n",
    "X_inliers = PYOD_lof.decision_scores_[np.where(outliers==0)]\n",
    "X_inliers = X_inliers.reshape(3347, 2)\n",
    "#X_inliers = np.r_[X_inliers + 2, X_inliers - 2]\n",
    "\n",
    "# outliers\n",
    "X_outliers = PYOD_lof.decision_scores_[np.where(outliers==1)]\n",
    "X_outliers = X_outliers.reshape(329, 2)\n",
    "Xa = np.r_[X_inliers, X_outliers]\n",
    "\n",
    "n_outliers = len(X_outliers)\n",
    "ground_truth = np.ones(len(Xa), dtype=int)\n",
    "ground_truth[-n_outliers:] = -1\n",
    "\n",
    "# fit the model for outlier detection (default)\n",
    "clf = LocalOutlierFactor(n_neighbors=20, contamination=0.1)\n",
    "# use fit_predict to compute the predicted labels of the training samples\n",
    "# (when LOF is used for outlier detection, the estimator has no predict,\n",
    "# decision_function and score_samples methods).\n",
    "y_pred = clf.fit_predict(Xa)\n",
    "n_errors = (y_pred != ground_truth).sum()\n",
    "X_scores = clf.negative_outlier_factor_\n",
    "\n",
    "plt.title(\"Local Outlier Factor (LOF)\")\n",
    "plt.scatter(Xa[:, 0], Xa[:, 1], color=\"k\", s=3.0, label=\"Data points\")\n",
    "# plot circles with radius proportional to the outlier scores\n",
    "radius = (X_scores.max() - X_scores) / (X_scores.max() - X_scores.min())\n",
    "plt.scatter(\n",
    "    Xa[:, 0],\n",
    "    Xa[:, 1],\n",
    "    s=1000 * radius,\n",
    "    edgecolors=\"r\",\n",
    "    facecolors=\"none\",\n",
    "    label=\"Outlier scores\",\n",
    ")\n",
    "plt.axis(\"tight\")\n",
    "plt.xlim((-5, 5))\n",
    "plt.ylim((-5, 5))\n",
    "plt.xlabel(\"prediction errors: %d\" % (n_errors))\n",
    "legend = plt.legend(loc=\"upper left\")\n",
    "legend.legendHandles[0]._sizes = [10]\n",
    "legend.legendHandles[1]._sizes = [20]\n",
    "plt.show()"
   ]
  },
  {
   "cell_type": "code",
   "execution_count": 29,
   "id": "574b38f8-f84b-46a9-868f-7d7caee961d4",
   "metadata": {},
   "outputs": [],
   "source": [
    "PYOD_lof.decision_scores_.sort()"
   ]
  },
  {
   "cell_type": "code",
   "execution_count": 30,
   "id": "5f26fa2e-0088-4706-b6d9-a26fa4e26ceb",
   "metadata": {},
   "outputs": [
    {
     "name": "stdout",
     "output_type": "stream",
     "text": [
      "0 : 0.9724617995863485\n",
      "1 : 1.9058277389288434\n",
      "2 : 1.8966685963445797\n",
      "3 : 1.829567876384218\n",
      "4 : 1.814634026414987\n",
      "5 : 1.7405274718612698\n",
      "6 : 1.6937700188520188\n",
      "7 : 1.6497286803312563\n",
      "8 : 1.6090882243708002\n",
      "9 : 1.5979238848739448\n"
     ]
    }
   ],
   "source": [
    "for i in range(10):\n",
    "    print(i, ':', PYOD_lof.decision_scores_[-i])"
   ]
  },
  {
   "cell_type": "code",
   "execution_count": 31,
   "id": "e4d3532f-532a-452f-827d-b610d0fed6db",
   "metadata": {},
   "outputs": [
    {
     "data": {
      "image/png": "[encoded data removed]",
      "text/plain": [
       "<Figure size 432x288 with 1 Axes>"
      ]
     },
     "metadata": {
      "needs_background": "light"
     },
     "output_type": "display_data"
    }
   ],
   "source": [
    "sns.boxplot(x=PYOD_lof.decision_scores_)\n",
    "plt.show()"
   ]
  },
  {
   "cell_type": "markdown",
   "id": "faa4c7ed-b043-474c-9e98-0bfc48091722",
   "metadata": {},
   "source": [
    "# Isolation forest"
   ]
  },
  {
   "cell_type": "code",
   "execution_count": 32,
   "id": "2a0d20a8-d67c-433f-a9fd-dfe7aaa606a5",
   "metadata": {},
   "outputs": [],
   "source": [
    "from sklearn.ensemble import IsolationForest"
   ]
  },
  {
   "cell_type": "code",
   "execution_count": 33,
   "id": "498ecc53-beec-46fc-a301-12af967ac4d2",
   "metadata": {},
   "outputs": [
    {
     "data": {
      "text/plain": [
       "IsolationForest(random_state=0)"
      ]
     },
     "execution_count": 33,
     "metadata": {},
     "output_type": "execute_result"
    }
   ],
   "source": [
    "SKL_isof = IsolationForest(random_state=0)\n",
    "SKL_isof.fit(X)"
   ]
  },
  {
   "cell_type": "code",
   "execution_count": 34,
   "id": "5ef0b7ed-c590-44b7-a71a-7852c0d1963a",
   "metadata": {},
   "outputs": [],
   "source": [
    "outliers = SKL_isof.predict(X)"
   ]
  },
  {
   "cell_type": "code",
   "execution_count": 35,
   "id": "e052134d-c5c7-486f-ad16-93b038ee2d6a",
   "metadata": {},
   "outputs": [],
   "source": [
    "SKL_isof_pos = np.where(outliers==-1)"
   ]
  },
  {
   "cell_type": "code",
   "execution_count": 36,
   "id": "5cbcf6aa-9c94-4ff4-9409-8ea803d766a9",
   "metadata": {},
   "outputs": [
    {
     "data": {
      "text/plain": [
       "(array([-1,  1]), array([ 633, 6719]))"
      ]
     },
     "execution_count": 36,
     "metadata": {},
     "output_type": "execute_result"
    }
   ],
   "source": [
    "np.unique(outliers, return_counts=True)"
   ]
  },
  {
   "cell_type": "code",
   "execution_count": 37,
   "id": "4abff562-4f40-402c-8c48-57e0838ca3ef",
   "metadata": {},
   "outputs": [
    {
     "data": {
      "text/plain": [
       "(array([0, 1]), array([6616,  736]))"
      ]
     },
     "execution_count": 37,
     "metadata": {},
     "output_type": "execute_result"
    }
   ],
   "source": [
    "PYOD_isof = IForest()\n",
    "PYOD_isof.fit(X)\n",
    "\n",
    "outliers = PYOD_isof.predict(X)\n",
    "np.unique(outliers, return_counts=True)"
   ]
  },
  {
   "cell_type": "code",
   "execution_count": 38,
   "id": "bdf88cc0-991a-4a35-a009-1a8e0fd0d627",
   "metadata": {},
   "outputs": [],
   "source": [
    "PYOD_isof_pos = np.where(outliers==1)"
   ]
  },
  {
   "cell_type": "code",
   "execution_count": 39,
   "id": "1457a191-8662-4cde-a2c1-66a41f3ad393",
   "metadata": {},
   "outputs": [
    {
     "data": {
      "image/png": "[encoded data removed]",
      "text/plain": [
       "<Figure size 432x288 with 1 Axes>"
      ]
     },
     "metadata": {
      "needs_background": "light"
     },
     "output_type": "display_data"
    }
   ],
   "source": [
    "plt.hist(PYOD_isof.decision_scores_, edgecolor='black', bins=20)\n",
    "plt.axvline(np.min(PYOD_isof.decision_scores_[np.where(outliers==1)]), c='r')\n",
    "plt.show()"
   ]
  },
  {
   "cell_type": "code",
   "execution_count": 40,
   "id": "2090ce10-fdf7-4d18-9a47-b088a7c4a2f7",
   "metadata": {},
   "outputs": [
    {
     "data": {
      "image/png": "[encoded data removed]",
      "text/plain": [
       "<Figure size 432x288 with 1 Axes>"
      ]
     },
     "metadata": {
      "needs_background": "light"
     },
     "output_type": "display_data"
    }
   ],
   "source": [
    "# inliers\n",
    "X_inliers = PYOD_isof.decision_scores_[np.where(outliers==0)]\n",
    "X_inliers = X_inliers.reshape(3308, 2)\n",
    "#X_inliers = np.r_[X_inliers + 2, X_inliers - 2]\n",
    "\n",
    "# outliers\n",
    "X_outliers = PYOD_isof.decision_scores_[np.where(outliers==1)]\n",
    "X_outliers = X_outliers.reshape(368, 2)\n",
    "Xa = np.r_[X_inliers, X_outliers]\n",
    "\n",
    "n_outliers = len(X_outliers)\n",
    "ground_truth = np.ones(len(Xa), dtype=int)\n",
    "ground_truth[-n_outliers:] = -1\n",
    "\n",
    "# fit the model for outlier detection (default)\n",
    "clf = LocalOutlierFactor(n_neighbors=20, contamination=0.1)\n",
    "# use fit_predict to compute the predicted labels of the training samples\n",
    "# (when LOF is used for outlier detection, the estimator has no predict,\n",
    "# decision_function and score_samples methods).\n",
    "y_pred = clf.fit_predict(Xa)\n",
    "n_errors = (y_pred != ground_truth).sum()\n",
    "X_scores = clf.negative_outlier_factor_\n",
    "\n",
    "plt.title(\"Local Outlier Factor (LOF)\")\n",
    "plt.scatter(Xa[:, 0], Xa[:, 1], color=\"k\", s=3.0, label=\"Data points\")\n",
    "# plot circles with radius proportional to the outlier scores\n",
    "radius = (X_scores.max() - X_scores) / (X_scores.max() - X_scores.min())\n",
    "plt.scatter(\n",
    "    Xa[:, 0],\n",
    "    Xa[:, 1],\n",
    "    s=1000 * radius,\n",
    "    edgecolors=\"r\",\n",
    "    facecolors=\"none\",\n",
    "    label=\"Outlier scores\",\n",
    ")\n",
    "plt.axis(\"tight\")\n",
    "plt.xlim((-5, 5))\n",
    "plt.ylim((-5, 5))\n",
    "plt.xlabel(\"prediction errors: %d\" % (n_errors))\n",
    "legend = plt.legend(loc=\"upper left\")\n",
    "legend.legendHandles[0]._sizes = [10]\n",
    "legend.legendHandles[1]._sizes = [20]\n",
    "plt.show()"
   ]
  },
  {
   "cell_type": "code",
   "execution_count": 41,
   "id": "5b0e7891-779f-4396-85bd-90baca2b3ba7",
   "metadata": {},
   "outputs": [],
   "source": [
    "PYOD_isof.decision_scores_.sort()"
   ]
  },
  {
   "cell_type": "code",
   "execution_count": 42,
   "id": "b491fc91-07a8-4098-a78d-347aaf66b324",
   "metadata": {},
   "outputs": [
    {
     "name": "stdout",
     "output_type": "stream",
     "text": [
      "-0.13899580001161332\n",
      "0.23450752260365576\n",
      "0.2327087548479339\n",
      "0.2159139671744446\n",
      "0.20246162366316284\n",
      "0.2007658696511198\n",
      "0.19700113702115735\n",
      "0.1900979637939924\n",
      "0.17662503442518035\n",
      "0.17603604515975407\n"
     ]
    }
   ],
   "source": [
    "for i in range(10):\n",
    "    print(PYOD_isof.decision_scores_[-i])"
   ]
  },
  {
   "cell_type": "code",
   "execution_count": 43,
   "id": "f62b92f9-66b7-4cc2-86f6-dc03ab3f0696",
   "metadata": {},
   "outputs": [
    {
     "data": {
      "image/png": "[encoded data removed]",
      "text/plain": [
       "<Figure size 432x288 with 1 Axes>"
      ]
     },
     "metadata": {
      "needs_background": "light"
     },
     "output_type": "display_data"
    }
   ],
   "source": [
    "sns.boxplot(x=PYOD_isof.decision_scores_)\n",
    "plt.show()"
   ]
  },
  {
   "cell_type": "markdown",
   "id": "edf62469-a2a2-4c11-af0c-8a950089c235",
   "metadata": {},
   "source": [
    "## KNN"
   ]
  },
  {
   "cell_type": "code",
   "execution_count": 44,
   "id": "69fba02f-e2f9-4fc0-8977-291dc25c56ae",
   "metadata": {
    "tags": []
   },
   "outputs": [
    {
     "data": {
      "text/plain": [
       "KNN(algorithm='auto', contamination=0.1, leaf_size=30, method='largest',\n",
       "  metric='minkowski', metric_params=None, n_jobs=1, n_neighbors=5, p=2,\n",
       "  radius=1.0)"
      ]
     },
     "execution_count": 44,
     "metadata": {},
     "output_type": "execute_result"
    }
   ],
   "source": [
    "KNN_clf = KNN()\n",
    "KNN_clf.fit(X)"
   ]
  },
  {
   "cell_type": "code",
   "execution_count": 45,
   "id": "d981efd0-1a3b-432b-bcf2-8dede49caa09",
   "metadata": {},
   "outputs": [
    {
     "data": {
      "text/plain": [
       "array([5.21340427, 3.83522744, 3.44390477, ..., 3.90365944, 3.72084343,\n",
       "       3.49060192])"
      ]
     },
     "execution_count": 45,
     "metadata": {},
     "output_type": "execute_result"
    }
   ],
   "source": [
    "KNN_clf.decision_scores_"
   ]
  },
  {
   "cell_type": "code",
   "execution_count": 46,
   "id": "c934365c-57f3-4828-a27f-755345a4c815",
   "metadata": {},
   "outputs": [],
   "source": [
    "anomlay_score = KNN_clf.decision_function(X)"
   ]
  },
  {
   "cell_type": "code",
   "execution_count": 47,
   "id": "2e8623d2-6aac-4e42-8614-374ce24b423b",
   "metadata": {},
   "outputs": [
    {
     "data": {
      "text/plain": [
       "(array([0, 1]), array([6730,  622]))"
      ]
     },
     "execution_count": 47,
     "metadata": {},
     "output_type": "execute_result"
    }
   ],
   "source": [
    "outliers = KNN_clf.predict(X)\n",
    "np.unique(outliers, return_counts=True)"
   ]
  },
  {
   "cell_type": "code",
   "execution_count": 48,
   "id": "2a5dbf17-b0c1-417f-b1e5-430a08a882f7",
   "metadata": {},
   "outputs": [],
   "source": [
    "KNN_clf_pos = np.where(outliers==1)"
   ]
  },
  {
   "cell_type": "code",
   "execution_count": 49,
   "id": "5cf33611-5c91-4ca3-a198-6a0ad1edcc21",
   "metadata": {},
   "outputs": [
    {
     "data": {
      "text/plain": [
       "5.407244240037787"
      ]
     },
     "execution_count": 49,
     "metadata": {},
     "output_type": "execute_result"
    }
   ],
   "source": [
    "np.mean(anomlay_score[np.where(outliers==1)])"
   ]
  },
  {
   "cell_type": "code",
   "execution_count": 50,
   "id": "b478e4cd-5be5-4c4c-97c6-2d8927a292d2",
   "metadata": {},
   "outputs": [
    {
     "data": {
      "text/plain": [
       "3.5154020580291547"
      ]
     },
     "execution_count": 50,
     "metadata": {},
     "output_type": "execute_result"
    }
   ],
   "source": [
    "np.mean(anomlay_score[np.where(outliers==0)])"
   ]
  },
  {
   "cell_type": "code",
   "execution_count": 51,
   "id": "8cb003c1-89ae-44e0-931c-b5785d1cda9a",
   "metadata": {},
   "outputs": [
    {
     "data": {
      "text/plain": [
       "5.524064762989161"
      ]
     },
     "execution_count": 51,
     "metadata": {},
     "output_type": "execute_result"
    }
   ],
   "source": [
    "np.mean(KNN_clf.decision_scores_[np.where(outliers==1)])"
   ]
  },
  {
   "cell_type": "code",
   "execution_count": 52,
   "id": "6d7c68f9-1e98-4df4-bf2c-834676cdc7b0",
   "metadata": {},
   "outputs": [
    {
     "data": {
      "text/plain": [
       "3.5961647499816864"
      ]
     },
     "execution_count": 52,
     "metadata": {},
     "output_type": "execute_result"
    }
   ],
   "source": [
    "np.mean(KNN_clf.decision_scores_[np.where(outliers==0)])"
   ]
  },
  {
   "cell_type": "code",
   "execution_count": 53,
   "id": "3248ee1e-a91a-43fd-818f-fadb710d8548",
   "metadata": {
    "tags": []
   },
   "outputs": [
    {
     "data": {
      "image/png": "[encoded data removed]",
      "text/plain": [
       "<Figure size 432x288 with 1 Axes>"
      ]
     },
     "metadata": {
      "needs_background": "light"
     },
     "output_type": "display_data"
    }
   ],
   "source": [
    "plt.hist(KNN_clf.decision_scores_, edgecolor='black', bins=20)\n",
    "plt.axvline(np.min(KNN_clf.decision_scores_[np.where(outliers==1)]), c='r')\n",
    "plt.show()"
   ]
  },
  {
   "cell_type": "code",
   "execution_count": 54,
   "id": "7f1d2b4b-e86a-41e1-af3e-4beabde878fe",
   "metadata": {},
   "outputs": [
    {
     "data": {
      "image/png": "[encoded data removed]",
      "text/plain": [
       "<Figure size 432x288 with 1 Axes>"
      ]
     },
     "metadata": {
      "needs_background": "light"
     },
     "output_type": "display_data"
    }
   ],
   "source": [
    "# inliers\n",
    "X_inliers = KNN_clf.decision_scores_[np.where(outliers==0)]\n",
    "X_inliers = X_inliers.reshape(3365, 2)\n",
    "#X_inliers = np.r_[X_inliers + 2, X_inliers - 2]\n",
    "\n",
    "# outliers\n",
    "X_outliers = KNN_clf.decision_scores_[np.where(outliers==1)]\n",
    "X_outliers = X_outliers.reshape(311, 2)\n",
    "Xa = np.r_[X_inliers, X_outliers]\n",
    "\n",
    "n_outliers = len(X_outliers)\n",
    "ground_truth = np.ones(len(Xa), dtype=int)\n",
    "ground_truth[-n_outliers:] = -1\n",
    "\n",
    "# fit the model for outlier detection (default)\n",
    "clf = LocalOutlierFactor(n_neighbors=20, contamination=0.1)\n",
    "# use fit_predict to compute the predicted labels of the training samples\n",
    "# (when LOF is used for outlier detection, the estimator has no predict,\n",
    "# decision_function and score_samples methods).\n",
    "y_pred = clf.fit_predict(Xa)\n",
    "n_errors = (y_pred != ground_truth).sum()\n",
    "X_scores = clf.negative_outlier_factor_\n",
    "\n",
    "plt.title(\"Local Outlier Factor (LOF)\")\n",
    "plt.scatter(Xa[:, 0], Xa[:, 1], color=\"k\", s=3.0, label=\"Data points\")\n",
    "# plot circles with radius proportional to the outlier scores\n",
    "radius = (X_scores.max() - X_scores) / (X_scores.max() - X_scores.min())\n",
    "plt.scatter(\n",
    "    Xa[:, 0],\n",
    "    Xa[:, 1],\n",
    "    s=1000 * radius,\n",
    "    edgecolors=\"r\",\n",
    "    facecolors=\"none\",\n",
    "    label=\"Outlier scores\",\n",
    ")\n",
    "plt.axis(\"tight\")\n",
    "plt.xlim((-5, 5))\n",
    "plt.ylim((-5, 5))\n",
    "plt.xlabel(\"prediction errors: %d\" % (n_errors))\n",
    "legend = plt.legend(loc=\"upper left\")\n",
    "legend.legendHandles[0]._sizes = [10]\n",
    "legend.legendHandles[1]._sizes = [20]\n",
    "plt.show()"
   ]
  },
  {
   "cell_type": "code",
   "execution_count": 55,
   "id": "f4b5c193-5940-46f5-995b-1d1234c0e173",
   "metadata": {},
   "outputs": [
    {
     "data": {
      "image/png": "[encoded data removed]",
      "text/plain": [
       "<Figure size 432x288 with 1 Axes>"
      ]
     },
     "metadata": {
      "needs_background": "light"
     },
     "output_type": "display_data"
    }
   ],
   "source": [
    "sns.boxplot(x=KNN_clf.decision_scores_)\n",
    "plt.show()"
   ]
  },
  {
   "cell_type": "code",
   "execution_count": 56,
   "id": "20b54464-15d8-48bd-a53c-be6c28ac87f0",
   "metadata": {},
   "outputs": [],
   "source": [
    "anomlay_score.sort()"
   ]
  },
  {
   "cell_type": "code",
   "execution_count": 57,
   "id": "5f691262-8b3e-4f42-a066-c62a2536bd77",
   "metadata": {},
   "outputs": [
    {
     "name": "stdout",
     "output_type": "stream",
     "text": [
      "0 : 2.119069873501069\n",
      "1 : 10.442238918838926\n",
      "2 : 9.937942170087211\n",
      "3 : 9.255347530810088\n",
      "4 : 8.73219800312308\n",
      "5 : 8.651659118795559\n",
      "6 : 8.286437944669451\n",
      "7 : 8.270416475720046\n",
      "8 : 8.078529745251025\n",
      "9 : 8.063761642997138\n"
     ]
    }
   ],
   "source": [
    "for i in range(10):\n",
    "    print(i, ':', anomlay_score[-i])"
   ]
  },
  {
   "cell_type": "markdown",
   "id": "26193444-2042-4e7d-82e5-1723ea44a8ec",
   "metadata": {},
   "source": [
    "# Outlier probability"
   ]
  },
  {
   "cell_type": "raw",
   "id": "5a74a853-54d4-43c4-afce-90378174b2e3",
   "metadata": {},
   "source": [
    "def check_outlier(value, array): \n",
    "    q1 = np.quantile(array,0.25) \n",
    "    q3 = np.quantile(array,0.75) \n",
    "    iqr = q3-q1 \n",
    "    return int(value > q3+1.5*iqr or value < q1-1.5*iqr)"
   ]
  },
  {
   "cell_type": "raw",
   "id": "1b04c2ec-7711-45cb-835e-3a346da356a7",
   "metadata": {},
   "source": [
    "result = np.array(list(map(lambda t: check_outlier(t,anomlay_score), anomlay_score))).reshape(1,-1)"
   ]
  },
  {
   "cell_type": "raw",
   "id": "b1842131-bb59-4e7b-ac03-f62d37b9c4d1",
   "metadata": {},
   "source": [
    "n = 100 \n",
    "result = None \n",
    "for i in range(n): \n",
    "    new_x = np.random.choice(anomlay_score,replace=True, size=len(anomlay_score)) \n",
    "    outliers = np.array(list(map(\n",
    "        lambda t: check_outlier(t,new_x),anomlay_score))).reshape(1,-1) \n",
    "    if result is None: \n",
    "        result = outliers \n",
    "    else: \n",
    "        result = np.concatenate((result,outliers))"
   ]
  },
  {
   "cell_type": "raw",
   "id": "cca1af10-6f8d-46eb-af1f-a6f0287c3b70",
   "metadata": {},
   "source": [
    "scores = np.apply_along_axis(np.mean,0,result)"
   ]
  },
  {
   "cell_type": "raw",
   "id": "9434ef32-8ac7-4195-b747-d54814c7dd35",
   "metadata": {},
   "source": [
    "np.concatenate((anomlay_score.reshape(-1,1),scores.reshape(-1,1)),1)"
   ]
  },
  {
   "cell_type": "markdown",
   "id": "5ec67ce2-48c7-493f-bf29-8ffe714c9c18",
   "metadata": {},
   "source": [
    "# Outliers common to all algorithms"
   ]
  },
  {
   "cell_type": "code",
   "execution_count": 58,
   "id": "66505324-8af3-4cde-8a90-195631aaa665",
   "metadata": {},
   "outputs": [],
   "source": [
    "interlof = np.intersect1d(PYOD_isof_pos, SKL_isof_pos)\n",
    "interisof = np.intersect1d(PYOD_lof_pos, KNN_clf_pos)"
   ]
  },
  {
   "cell_type": "code",
   "execution_count": 59,
   "id": "09ca728e-a5cb-49b4-b836-eae26d85f254",
   "metadata": {},
   "outputs": [],
   "source": [
    "interlofisof = np.intersect1d(interlof, interisof)"
   ]
  },
  {
   "cell_type": "code",
   "execution_count": 60,
   "id": "dc50279e-60f0-4135-a719-2f2ae30c5d92",
   "metadata": {},
   "outputs": [
    {
     "data": {
      "text/plain": [
       "94"
      ]
     },
     "execution_count": 60,
     "metadata": {},
     "output_type": "execute_result"
    }
   ],
   "source": [
    "len(interlofisof)"
   ]
  }
 ],
 "metadata": {
  "kernelspec": {
   "display_name": "Python 3 (ipykernel)",
   "language": "python",
   "name": "python3"
  },
  "language_info": {
   "codemirror_mode": {
    "name": "ipython",
    "version": 3
   },
   "file_extension": ".py",
   "mimetype": "text/x-python",
   "name": "python",
   "nbconvert_exporter": "python",
   "pygments_lexer": "ipython3",
   "version": "3.8.2"
  }
 },
 "nbformat": 4,
 "nbformat_minor": 5
}
