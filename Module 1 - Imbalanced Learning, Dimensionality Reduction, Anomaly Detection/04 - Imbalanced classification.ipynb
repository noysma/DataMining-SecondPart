{
 "cells": [
  {
   "cell_type": "code",
   "execution_count": 1,
   "id": "b0723c2d-b6e0-409c-aec0-93bfbffcd56a",
   "metadata": {},
   "outputs": [
    {
     "name": "stderr",
     "output_type": "stream",
     "text": [
      "<frozen importlib._bootstrap>:219: RuntimeWarning: scipy._lib.messagestream.MessageStream size changed, may indicate binary incompatibility. Expected 56 from C header, got 64 from PyObject\n"
     ]
    }
   ],
   "source": [
    "%matplotlib inline\n",
    "\n",
    "import numpy as np\n",
    "import pandas as pd\n",
    "import seaborn as sns\n",
    "import matplotlib.pyplot as plt\n",
    "\n",
    "from sklearn.model_selection import train_test_split, cross_val_score \n",
    "\n",
    "from sklearn.metrics import accuracy_score, f1_score, classification_report\n",
    "from sklearn.metrics import roc_curve, auc, roc_auc_score\n",
    "\n",
    "# Hold-out\n",
    "from sklearn.model_selection import train_test_split\n",
    "\n",
    "# Decision Tree\n",
    "from sklearn.tree import DecisionTreeClassifier\n",
    "# Optional: KNN\n",
    "from sklearn.neighbors import KNeighborsClassifier\n",
    "\n",
    "##### Decision Tree Visualization ###\n",
    "#from sklearn.tree import export_graphviz\n",
    "from sklearn import tree # export_graphviz() method\n",
    "import pydotplus # viz stuff\n",
    "from IPython.display import Image # viz stuff\n",
    "from sklearn.ensemble import RandomForestClassifier\n",
    "####################################\n",
    "\n",
    "######## Evaluation #######\n",
    "from sklearn.metrics import confusion_matrix\n",
    "from sklearn.metrics import accuracy_score, f1_score, classification_report\n",
    "from sklearn.metrics import roc_curve, auc, roc_auc_score\n",
    "from sklearn import linear_model\n",
    "from sklearn.svm import SVC\n",
    "\n",
    "from sklearn.metrics import RocCurveDisplay\n",
    "\n",
    "# Optional: baseline comparison\n",
    "from sklearn.dummy import DummyClassifier\n",
    "###########################\n",
    "\n",
    "# hyperparameter tuning\n",
    "from sklearn.model_selection import RandomizedSearchCV, GridSearchCV\n",
    "\n",
    "# cross-validation\n",
    "from sklearn.model_selection import cross_val_score\n",
    "\n",
    "from sklearn.metrics import DetCurveDisplay, RocCurveDisplay\n",
    "from sklearn.model_selection import train_test_split\n",
    "from sklearn.pipeline import make_pipeline\n",
    "from sklearn.preprocessing import StandardScaler\n",
    "from sklearn.svm import LinearSVC\n",
    "from sklearn.datasets import make_classification\n",
    "from sklearn.metrics import mean_squared_error\n",
    "from sklearn.metrics import mean_absolute_error\n",
    "from sklearn.metrics import zero_one_loss\n",
    "from sklearn.neighbors import KNeighborsClassifier\n",
    "\n",
    "from scikitplot.metrics import plot_roc\n",
    "from scikitplot.metrics import plot_precision_recall\n",
    "from scikitplot.metrics import plot_cumulative_gain\n",
    "from scikitplot.metrics import plot_lift_curve\n",
    "\n",
    "from sklearn.manifold import TSNE"
   ]
  },
  {
   "cell_type": "code",
   "execution_count": 2,
   "id": "ed050a29-23d2-4c99-88a9-27e90f6be958",
   "metadata": {},
   "outputs": [],
   "source": [
    "import warnings\n",
    "warnings.filterwarnings('ignore')"
   ]
  },
  {
   "cell_type": "code",
   "execution_count": 3,
   "id": "524d710c-f40e-4a54-8a5a-9b304aed2b6d",
   "metadata": {},
   "outputs": [
    {
     "name": "stdout",
     "output_type": "stream",
     "text": [
      "No of Features: 561\n"
     ]
    }
   ],
   "source": [
    "features = list()\n",
    "with open('../features.txt') as f:\n",
    "    features = [line.split()[1] for line in f.readlines()]\n",
    "print('No of Features: {}'.format(len(features)))"
   ]
  },
  {
   "cell_type": "code",
   "execution_count": 4,
   "id": "cc4e7371-48c5-4be8-b135-fbc34cb16564",
   "metadata": {},
   "outputs": [],
   "source": [
    "X_train = pd.read_csv('X_train.txt', delim_whitespace=True, header=None, encoding='latin-1')\n",
    "X_train.columns = features\n",
    "\n",
    "# add subject column to the dataframe\n",
    "X_train['subject'] = pd.read_csv('subject_train.txt', header=None, squeeze=True)\n",
    "\n",
    "y_train = pd.read_csv('y_train.txt', names=['Activity'], squeeze=True)\n",
    "y_train_labels = y_train.map({1: 'WALKING', 2:'WALKING_UPSTAIRS',3:'WALKING_DOWNSTAIRS',\\\n",
    "                       4:'SITTING', 5:'STANDING',6:'LAYING'})\n",
    "\n",
    "# put all columns in a single dataframe\n",
    "train = X_train\n",
    "train['Activity'] = y_train\n",
    "train['ActivityName'] = y_train_labels"
   ]
  },
  {
   "cell_type": "code",
   "execution_count": 5,
   "id": "7c701042-8f9e-46b1-8127-7bf8ce10a5de",
   "metadata": {},
   "outputs": [],
   "source": [
    "X_test = pd.read_csv('../test/X_test.txt', delim_whitespace=True, header=None, encoding='latin-1')\n",
    "X_test.columns = features\n",
    "\n",
    "# add subject column to the dataframe\n",
    "X_test['subject'] = pd.read_csv('../test/subject_test.txt', header=None, squeeze=True)\n",
    "\n",
    "y_test = pd.read_csv('../test/y_test.txt', names=['Activity'], squeeze=True)\n",
    "y_test_labels = y_test.map({1: 'WALKING', 2:'WALKING_UPSTAIRS',3:'WALKING_DOWNSTAIRS',\\\n",
    "                       4:'SITTING', 5:'STANDING',6:'LAYING'})\n",
    "\n",
    "# put all columns in a single dataframe\n",
    "test = X_test\n",
    "test['Activity'] = y_test\n",
    "test['ActivityName'] = y_test_labels"
   ]
  },
  {
   "cell_type": "code",
   "execution_count": 6,
   "id": "8493ea43-f0b0-4a27-aa03-dfe069907b25",
   "metadata": {},
   "outputs": [
    {
     "name": "stdout",
     "output_type": "stream",
     "text": [
      "Counter({6: 1407, 5: 1374, 4: 1286, 1: 1226, 2: 1073, 3: 986})\n"
     ]
    }
   ],
   "source": [
    "from collections import Counter\n",
    "print(Counter(y_train))"
   ]
  },
  {
   "cell_type": "code",
   "execution_count": 7,
   "id": "a52e4d69-4300-486f-8e64-b0eb18fd04ca",
   "metadata": {},
   "outputs": [
    {
     "data": {
      "text/plain": [
       "(array([1, 2, 3, 4, 5, 6]), array([1226, 1073,  986, 1286, 1374, 1407]))"
      ]
     },
     "execution_count": 7,
     "metadata": {},
     "output_type": "execute_result"
    }
   ],
   "source": [
    "np.unique(y_train, return_counts=True)"
   ]
  },
  {
   "cell_type": "markdown",
   "id": "54ca03e4-5dfe-4b94-8151-1cb6568e047b",
   "metadata": {},
   "source": [
    "# Class preparations"
   ]
  },
  {
   "cell_type": "code",
   "execution_count": 8,
   "id": "27e01ce9-87c8-46ca-b26d-81ee9d89da74",
   "metadata": {},
   "outputs": [],
   "source": [
    "sitting_train = []\n",
    "for i in range(len(X_train)):\n",
    "    if X_train.iloc[i][563] == 'SITTING':\n",
    "        sitting_train.append(i)\n",
    "\n",
    "standing_train = []\n",
    "for i in range(len(X_train)):\n",
    "    if X_train.iloc[i][563] == 'STANDING':\n",
    "        standing_train.append(i)\n",
    "        \n",
    "laying_train = []\n",
    "for i in range(len(X_train)):\n",
    "    if X_train.iloc[i][563] == 'LAYING':\n",
    "        laying_train.append(i)"
   ]
  },
  {
   "cell_type": "code",
   "execution_count": 9,
   "id": "9082e3b9-9793-4a00-bccc-6d007caa65bc",
   "metadata": {},
   "outputs": [],
   "source": [
    "sitting_test = []\n",
    "for i in range(len(X_test)):\n",
    "    if X_test.iloc[i][563] == 'SITTING':\n",
    "        sitting_test.append(i)\n",
    "\n",
    "standing_test = []\n",
    "for i in range(len(X_test)):\n",
    "    if X_test.iloc[i][563] == 'STANDING':\n",
    "        standing_test.append(i)\n",
    "        \n",
    "laying_test = []\n",
    "for i in range(len(X_test)):\n",
    "    if X_test.iloc[i][563] == 'LAYING':\n",
    "        laying_test.append(i)"
   ]
  },
  {
   "cell_type": "code",
   "execution_count": 10,
   "id": "e4f9c4e1-319c-441b-b8fc-b64ab2d17130",
   "metadata": {},
   "outputs": [],
   "source": [
    "droptrian = sitting_train + standing_train + laying_train"
   ]
  },
  {
   "cell_type": "code",
   "execution_count": 11,
   "id": "57dd050a-62de-4a70-b677-2fb3ccc7ffad",
   "metadata": {},
   "outputs": [],
   "source": [
    "droptest =sitting_test + standing_test + laying_test"
   ]
  },
  {
   "cell_type": "code",
   "execution_count": 12,
   "id": "26adcea5-7da6-4402-b2f6-9533b8918aba",
   "metadata": {},
   "outputs": [],
   "source": [
    "X_train_sbilanciato = X_train.drop(droptrian)"
   ]
  },
  {
   "cell_type": "code",
   "execution_count": 13,
   "id": "d6050bf1-5d34-4421-aacb-b95cef2d3496",
   "metadata": {},
   "outputs": [],
   "source": [
    "X_test_sbilanciato = X_test.drop(droptest)"
   ]
  },
  {
   "cell_type": "code",
   "execution_count": 14,
   "id": "d2cf9012-7105-4c72-8b3c-afb940d2bc13",
   "metadata": {},
   "outputs": [],
   "source": [
    "X_train_sbilanciato = X_train_sbilanciato.drop(columns=['Activity'])"
   ]
  },
  {
   "cell_type": "code",
   "execution_count": 15,
   "id": "457269b4-40f2-420e-aaaf-7ea2b4e57e7f",
   "metadata": {},
   "outputs": [],
   "source": [
    "X_test_sbilanciato = X_test_sbilanciato.drop(columns=['Activity'])"
   ]
  },
  {
   "cell_type": "code",
   "execution_count": 16,
   "id": "431a4a73-829c-4a09-be91-dfb25c9da414",
   "metadata": {},
   "outputs": [],
   "source": [
    "tmp = []\n",
    "for i in range(len(y_train)):\n",
    "    if y_train[i] == 1 or y_train[i] == 2 or y_train[i] == 3:\n",
    "        tmp.append(y_train[i])\n",
    "y_train_sbilanciato = pd.Series(tmp, copy=False)"
   ]
  },
  {
   "cell_type": "code",
   "execution_count": 17,
   "id": "fe5f3706-da15-4390-988f-f04385d83f04",
   "metadata": {},
   "outputs": [],
   "source": [
    "tmp = []\n",
    "for i in range(len(y_test)):\n",
    "    if y_test[i] == 1 or y_test[i] == 2 or y_test[i] == 3:\n",
    "        tmp.append(y_test[i])\n",
    "y_test_sbilanciato = pd.Series(tmp, copy=False)"
   ]
  },
  {
   "cell_type": "code",
   "execution_count": 18,
   "id": "fbedd9dd-501d-4b58-bae6-375d91025018",
   "metadata": {},
   "outputs": [
    {
     "name": "stdout",
     "output_type": "stream",
     "text": [
      "Counter({1: 1226, 2: 1073, 3: 986})\n"
     ]
    }
   ],
   "source": [
    "print(Counter(y_train_sbilanciato))"
   ]
  },
  {
   "cell_type": "code",
   "execution_count": 19,
   "id": "a3b65dbf-75ca-427d-b34a-f001cd1f0784",
   "metadata": {},
   "outputs": [
    {
     "name": "stdout",
     "output_type": "stream",
     "text": [
      "Counter({1: 496, 2: 471, 3: 420})\n"
     ]
    }
   ],
   "source": [
    "print(Counter(y_test_sbilanciato))"
   ]
  },
  {
   "cell_type": "code",
   "execution_count": 20,
   "id": "1804e270-46fb-475f-b9e8-3e1836ea1ded",
   "metadata": {},
   "outputs": [
    {
     "data": {
      "text/plain": [
       "(array([], dtype=int64),)"
      ]
     },
     "execution_count": 20,
     "metadata": {},
     "output_type": "execute_result"
    }
   ],
   "source": [
    "np.where(y_train_sbilanciato.index.isnull())"
   ]
  },
  {
   "cell_type": "code",
   "execution_count": 21,
   "id": "e51d098a-9a9d-497e-ab00-4d89dc3b7f79",
   "metadata": {},
   "outputs": [],
   "source": [
    "X_train_sbilanciato = X_train_sbilanciato.drop(['ActivityName'], axis=1)"
   ]
  },
  {
   "cell_type": "code",
   "execution_count": 22,
   "id": "8d1f1316-6db9-4384-96fb-5ad96c2c8bf0",
   "metadata": {},
   "outputs": [],
   "source": [
    "X_test_sbilanciato = X_test_sbilanciato.drop(['ActivityName'], axis=1)"
   ]
  },
  {
   "cell_type": "markdown",
   "id": "cd8c91b3-ccdb-49ca-a402-723f39efed32",
   "metadata": {},
   "source": [
    "# First class train"
   ]
  },
  {
   "cell_type": "code",
   "execution_count": 23,
   "id": "83102462-3d63-4b19-8f9c-c35a0bbcc6e8",
   "metadata": {},
   "outputs": [],
   "source": [
    "rows2remove = np.random.choice(np.arange(len(y_train_sbilanciato))[y_train_sbilanciato.values == 1], 1226 - 200, replace=False)"
   ]
  },
  {
   "cell_type": "code",
   "execution_count": 24,
   "id": "8adf956a-c1a9-4a32-968e-27bb55312f30",
   "metadata": {},
   "outputs": [
    {
     "data": {
      "text/plain": [
       "(3285, 1026)"
      ]
     },
     "execution_count": 24,
     "metadata": {},
     "output_type": "execute_result"
    }
   ],
   "source": [
    "len(X_train_sbilanciato), len(rows2remove)"
   ]
  },
  {
   "cell_type": "code",
   "execution_count": 25,
   "id": "ac030fff-d363-4621-bca1-054e8885922e",
   "metadata": {},
   "outputs": [],
   "source": [
    "train_sbilanciato = X_train_sbilanciato.drop(X_train_sbilanciato.index[rows2remove])"
   ]
  },
  {
   "cell_type": "code",
   "execution_count": 26,
   "id": "a51bf2cb-cf7a-4d8c-8700-3a432eba051b",
   "metadata": {},
   "outputs": [],
   "source": [
    "X1_train_sbilanciato = train_sbilanciato.values\n",
    "y1_train_sbilanciato = np.array([y_train_sbilanciato[i] for i in range(len(y_train_sbilanciato)) if i not in rows2remove])"
   ]
  },
  {
   "cell_type": "code",
   "execution_count": 27,
   "id": "7217b8a9-6495-48c0-b88e-fdea182c89b6",
   "metadata": {},
   "outputs": [
    {
     "data": {
      "text/plain": [
       "(2259, 2259)"
      ]
     },
     "execution_count": 27,
     "metadata": {},
     "output_type": "execute_result"
    }
   ],
   "source": [
    "len(X1_train_sbilanciato), len(train_sbilanciato)"
   ]
  },
  {
   "cell_type": "code",
   "execution_count": 28,
   "id": "19d070ae-ebd0-4903-8e7e-3e28109941cf",
   "metadata": {},
   "outputs": [
    {
     "name": "stdout",
     "output_type": "stream",
     "text": [
      "Counter({2: 1073, 3: 986, 1: 200})\n"
     ]
    }
   ],
   "source": [
    "print(Counter(y1_train_sbilanciato))"
   ]
  },
  {
   "cell_type": "code",
   "execution_count": 29,
   "id": "38618d22-168d-4316-9162-f00a4e1b22a7",
   "metadata": {},
   "outputs": [
    {
     "data": {
      "text/plain": [
       "(array([1, 2, 3]), array([ 200, 1073,  986]))"
      ]
     },
     "execution_count": 29,
     "metadata": {},
     "output_type": "execute_result"
    }
   ],
   "source": [
    "np.unique(y1_train_sbilanciato, return_counts=True)"
   ]
  },
  {
   "cell_type": "code",
   "execution_count": 30,
   "id": "da41d50b-74cf-435d-8c21-bd2c505557ab",
   "metadata": {},
   "outputs": [],
   "source": [
    "y1_train_sbilanciato = pd.Series(y1_train_sbilanciato, copy=False)"
   ]
  },
  {
   "cell_type": "markdown",
   "id": "04343280-60ff-4459-8044-54fb4c187f33",
   "metadata": {},
   "source": [
    "# Second class train"
   ]
  },
  {
   "cell_type": "code",
   "execution_count": 31,
   "id": "f6fbf678-d45f-4757-b0bd-eea7c296d400",
   "metadata": {},
   "outputs": [],
   "source": [
    "rows2remove = np.random.choice(np.arange(len(y1_train_sbilanciato))[y1_train_sbilanciato.values == 2], 1073 - 9, replace=False)"
   ]
  },
  {
   "cell_type": "code",
   "execution_count": 32,
   "id": "95f940eb-b58d-41b1-826d-8d34d63bc566",
   "metadata": {},
   "outputs": [
    {
     "data": {
      "text/plain": [
       "(2259, 1064, 2259)"
      ]
     },
     "execution_count": 32,
     "metadata": {},
     "output_type": "execute_result"
    }
   ],
   "source": [
    "len(X1_train_sbilanciato), len(rows2remove), len(y1_train_sbilanciato)"
   ]
  },
  {
   "cell_type": "code",
   "execution_count": 33,
   "id": "8ffd0af5-51ad-4050-bf4e-7ee94258975c",
   "metadata": {},
   "outputs": [],
   "source": [
    "train_sbilanciato2 = train_sbilanciato.drop(train_sbilanciato.index[rows2remove])"
   ]
  },
  {
   "cell_type": "code",
   "execution_count": 34,
   "id": "5d66c98f-24cb-41f3-bf0d-b7c7dfceb1cf",
   "metadata": {},
   "outputs": [],
   "source": [
    "X2_train_sbilanciato2 = train_sbilanciato2.values\n",
    "y2_train_sbilanciato2 = np.array([y1_train_sbilanciato[i] for i in range(len(y1_train_sbilanciato)) if i not in rows2remove])"
   ]
  },
  {
   "cell_type": "code",
   "execution_count": 35,
   "id": "468bd35b-d342-4cd0-92cf-55fd70b7dcb8",
   "metadata": {},
   "outputs": [
    {
     "data": {
      "text/plain": [
       "(1195, 1195)"
      ]
     },
     "execution_count": 35,
     "metadata": {},
     "output_type": "execute_result"
    }
   ],
   "source": [
    "len(X2_train_sbilanciato2), len(y2_train_sbilanciato2)"
   ]
  },
  {
   "cell_type": "code",
   "execution_count": 36,
   "id": "8b201bd1-1158-4571-9537-365a48d8cadd",
   "metadata": {},
   "outputs": [
    {
     "data": {
      "text/plain": [
       "(array([1, 2, 3]), array([200,   9, 986]))"
      ]
     },
     "execution_count": 36,
     "metadata": {},
     "output_type": "execute_result"
    }
   ],
   "source": [
    "np.unique(y2_train_sbilanciato2, return_counts=True)"
   ]
  },
  {
   "cell_type": "markdown",
   "id": "b6f799a2-5047-4d12-9e32-bb5bf9b63e0e",
   "metadata": {},
   "source": [
    "# First class test"
   ]
  },
  {
   "cell_type": "code",
   "execution_count": 37,
   "id": "fe4345a6-d62f-4491-a497-8b8938505340",
   "metadata": {},
   "outputs": [],
   "source": [
    "rows2remove = np.random.choice(np.arange(len(y_test_sbilanciato))[y_test_sbilanciato.values == 1], 496 - 27, replace=False)"
   ]
  },
  {
   "cell_type": "code",
   "execution_count": 38,
   "id": "b0dbe57d-7c22-475f-b830-4328cc584b34",
   "metadata": {},
   "outputs": [
    {
     "data": {
      "text/plain": [
       "(1387, 469)"
      ]
     },
     "execution_count": 38,
     "metadata": {},
     "output_type": "execute_result"
    }
   ],
   "source": [
    "len(y_test_sbilanciato), len(rows2remove)"
   ]
  },
  {
   "cell_type": "code",
   "execution_count": 39,
   "id": "a50c0c4e-0e83-4cc3-9cae-bb7f52ce3624",
   "metadata": {},
   "outputs": [],
   "source": [
    "#y_train_sbilanciato.iloc[3039]"
   ]
  },
  {
   "cell_type": "code",
   "execution_count": 40,
   "id": "dd20824a-c1ab-44b2-b333-08461070f584",
   "metadata": {},
   "outputs": [],
   "source": [
    "test_sbilanciato = X_test_sbilanciato.drop(X_test_sbilanciato.index[rows2remove])\n",
    "#print(len(df1))"
   ]
  },
  {
   "cell_type": "code",
   "execution_count": 41,
   "id": "897b0da1-6d17-4ddd-acc0-0eb20cf475cd",
   "metadata": {},
   "outputs": [],
   "source": [
    "X1_test_sbilanciato = test_sbilanciato.values\n",
    "y1_test_sbilanciato = np.array([y_test_sbilanciato[i] for i in range(len(y_test_sbilanciato)) if i not in rows2remove])"
   ]
  },
  {
   "cell_type": "code",
   "execution_count": 42,
   "id": "d9b11bf2-3555-4c5f-98ee-f690e0da3034",
   "metadata": {},
   "outputs": [
    {
     "data": {
      "text/plain": [
       "(918, 918)"
      ]
     },
     "execution_count": 42,
     "metadata": {},
     "output_type": "execute_result"
    }
   ],
   "source": [
    "len(X1_test_sbilanciato), len(y1_test_sbilanciato)"
   ]
  },
  {
   "cell_type": "code",
   "execution_count": 43,
   "id": "1759dc54-df07-4dc3-a31b-9342c014c6ef",
   "metadata": {},
   "outputs": [
    {
     "name": "stdout",
     "output_type": "stream",
     "text": [
      "Counter({2: 471, 3: 420, 1: 27})\n"
     ]
    }
   ],
   "source": [
    "print(Counter(y1_test_sbilanciato))"
   ]
  },
  {
   "cell_type": "code",
   "execution_count": 44,
   "id": "21d56247-b429-43f4-929b-64866ff9443d",
   "metadata": {},
   "outputs": [
    {
     "data": {
      "text/plain": [
       "(array([1, 2, 3]), array([ 27, 471, 420]))"
      ]
     },
     "execution_count": 44,
     "metadata": {},
     "output_type": "execute_result"
    }
   ],
   "source": [
    "np.unique(y1_test_sbilanciato, return_counts=True)"
   ]
  },
  {
   "cell_type": "code",
   "execution_count": 45,
   "id": "74b08e19-00a4-49d7-a2c8-06113eccc2c5",
   "metadata": {},
   "outputs": [],
   "source": [
    "y1_test_sbilanciato = pd.Series(y1_test_sbilanciato, copy=False)"
   ]
  },
  {
   "cell_type": "markdown",
   "id": "189c7315-7fb6-4464-86a9-27a6fe0bcf04",
   "metadata": {},
   "source": [
    "# Second class test"
   ]
  },
  {
   "cell_type": "code",
   "execution_count": 46,
   "id": "3c45ec9e-55c3-46c6-9101-f1645ba813e1",
   "metadata": {},
   "outputs": [],
   "source": [
    "rows2remove = np.random.choice(np.arange(len(y1_test_sbilanciato))[y1_test_sbilanciato.values == 2], 471 - 50, replace=False)"
   ]
  },
  {
   "cell_type": "code",
   "execution_count": 47,
   "id": "f0f6b1cc-6a2c-47a8-9a1e-fbd6e2f364dd",
   "metadata": {},
   "outputs": [
    {
     "data": {
      "text/plain": [
       "(918, 421, 918)"
      ]
     },
     "execution_count": 47,
     "metadata": {},
     "output_type": "execute_result"
    }
   ],
   "source": [
    "len(X1_test_sbilanciato), len(rows2remove), len(y1_test_sbilanciato)"
   ]
  },
  {
   "cell_type": "code",
   "execution_count": 48,
   "id": "eb28e845-a5ba-427f-9d1b-b8ff93055279",
   "metadata": {},
   "outputs": [],
   "source": [
    "test_sbilanciato2 = test_sbilanciato.drop(test_sbilanciato.index[rows2remove], axis=0)\n",
    "#print(len(df2))"
   ]
  },
  {
   "cell_type": "code",
   "execution_count": 49,
   "id": "efaebf68-d666-4704-b289-9cb6d58c351d",
   "metadata": {},
   "outputs": [],
   "source": [
    "X2_test_sbilanciato2 = test_sbilanciato2.values\n",
    "y2_test_sbilanciato2 = np.array([y1_test_sbilanciato[i] for i in range(len(y1_test_sbilanciato)) if i not in rows2remove])"
   ]
  },
  {
   "cell_type": "code",
   "execution_count": 50,
   "id": "ecbec6b1-f2a9-4dfd-9af8-8ec264ea54fe",
   "metadata": {},
   "outputs": [
    {
     "data": {
      "text/plain": [
       "(497, 497)"
      ]
     },
     "execution_count": 50,
     "metadata": {},
     "output_type": "execute_result"
    }
   ],
   "source": [
    "len(X2_test_sbilanciato2), len(test_sbilanciato2)"
   ]
  },
  {
   "cell_type": "code",
   "execution_count": 51,
   "id": "bc360b8d-021b-4ce4-9c1a-12fe98453d7f",
   "metadata": {},
   "outputs": [
    {
     "data": {
      "text/plain": [
       "(array([1, 2, 3]), array([ 27,  50, 420]))"
      ]
     },
     "execution_count": 51,
     "metadata": {},
     "output_type": "execute_result"
    }
   ],
   "source": [
    "np.unique(y2_test_sbilanciato2, return_counts=True)"
   ]
  },
  {
   "cell_type": "code",
   "execution_count": 52,
   "id": "0f0b2d92-ff9f-407c-9c5f-6a948332fe8d",
   "metadata": {},
   "outputs": [],
   "source": [
    "New_Xtest = pd.DataFrame(X2_test_sbilanciato2)\n",
    "New_Xtrain = pd.DataFrame(X2_train_sbilanciato2)"
   ]
  },
  {
   "cell_type": "code",
   "execution_count": 53,
   "id": "26393529-29e8-4656-87fa-e23217ff0eeb",
   "metadata": {},
   "outputs": [],
   "source": [
    "New_yTest = pd.Series(y2_test_sbilanciato2, copy=False)\n",
    "New_yTrain = pd.Series(y2_train_sbilanciato2, copy=False)"
   ]
  },
  {
   "cell_type": "markdown",
   "id": "cbcbaf3e-02e4-492d-a9ab-797122a649a8",
   "metadata": {},
   "source": [
    "# Grid search"
   ]
  },
  {
   "cell_type": "raw",
   "id": "50b6cbc1-2880-4af1-872b-c7a4b34dac70",
   "metadata": {},
   "source": [
    "param_list = {'max_depth': [None],\n",
    "             'min_samples_split': np.arange(2, 100, 5).tolist(),\n",
    "             'min_samples_leaf': np.arange(1, 100, 5).tolist()\n",
    "             }\n",
    "\n",
    "grid_search = GridSearchCV(DecisionTreeClassifier(), param_grid=param_list, scoring='f1')\n",
    "grid_search.fit(New_Xtrain, New_yTrain)\n",
    "\n",
    "res = grid_search.cv_results_"
   ]
  },
  {
   "cell_type": "raw",
   "id": "967f80b1-de8a-4add-a207-8b690e634fb8",
   "metadata": {},
   "source": [
    "grid_search.best_estimator_"
   ]
  },
  {
   "cell_type": "raw",
   "id": "054ebccd-922b-4873-87ee-a3c92552af4c",
   "metadata": {},
   "source": [
    "grid_search.best_params_"
   ]
  },
  {
   "cell_type": "raw",
   "id": "ca35856e-9791-430b-9f47-7e7a6101dcb7",
   "metadata": {},
   "source": [
    "def report(results, n_top=3):\n",
    "    for i in range(1, n_top + 1):\n",
    "        candidates = np.flatnonzero(results['rank_test_score'] == i)\n",
    "        for candidate in candidates:\n",
    "            print(\"Model with rank: {0}\".format(i))\n",
    "            print(\"Mean validation score: {0:.3f} (std: {1:.3f})\".format(\n",
    "                  results['mean_test_score'][candidate],\n",
    "                  results['std_test_score'][candidate]))\n",
    "            print(\"Parameters: {0}\".format(results['params'][candidate]))\n",
    "            print(\"\")"
   ]
  },
  {
   "cell_type": "raw",
   "id": "e5b36286-1295-40c6-9f02-302e6d77b78b",
   "metadata": {},
   "source": [
    "report(res, n_top=3)"
   ]
  },
  {
   "cell_type": "markdown",
   "id": "fdc02909-c6d8-4866-9824-7bb618853684",
   "metadata": {},
   "source": [
    "# Decision tree"
   ]
  },
  {
   "cell_type": "code",
   "execution_count": 54,
   "id": "4068b9f8-ffc8-4fa1-8bd3-20097483ed67",
   "metadata": {},
   "outputs": [
    {
     "data": {
      "text/plain": [
       "DecisionTreeClassifier(criterion='entropy')"
      ]
     },
     "execution_count": 54,
     "metadata": {},
     "output_type": "execute_result"
    }
   ],
   "source": [
    "clf = DecisionTreeClassifier(criterion='entropy',\n",
    "                             max_depth=None,\n",
    "                             min_samples_split=2,\n",
    "                             min_samples_leaf=1,\n",
    "                            )\n",
    "\n",
    "clf.fit(New_Xtrain, New_yTrain)"
   ]
  },
  {
   "cell_type": "code",
   "execution_count": 55,
   "id": "85a9c5b0-303d-41ce-9dba-f1bcc9f14f03",
   "metadata": {},
   "outputs": [],
   "source": [
    "y_pred = clf.predict(New_Xtest)"
   ]
  },
  {
   "cell_type": "code",
   "execution_count": 56,
   "id": "72c00c81-8f9e-45db-953b-1ea1a6c1e771",
   "metadata": {},
   "outputs": [
    {
     "name": "stdout",
     "output_type": "stream",
     "text": [
      "              precision    recall  f1-score   support\n",
      "\n",
      "           1       0.39      0.78      0.52        27\n",
      "           2       0.75      0.12      0.21        50\n",
      "           3       0.94      0.97      0.95       420\n",
      "\n",
      "    accuracy                           0.87       497\n",
      "   macro avg       0.69      0.62      0.56       497\n",
      "weighted avg       0.89      0.87      0.85       497\n",
      "\n"
     ]
    }
   ],
   "source": [
    "print( classification_report(New_yTest, y_pred) )"
   ]
  },
  {
   "cell_type": "code",
   "execution_count": 57,
   "id": "a1cc513d-af57-4c1e-9532-2863301f182c",
   "metadata": {},
   "outputs": [],
   "source": [
    "y_score = clf.predict_proba(New_Xtest)"
   ]
  },
  {
   "cell_type": "code",
   "execution_count": 58,
   "id": "7369c5b4-5f1c-40c7-81a4-2e5d426b1e57",
   "metadata": {},
   "outputs": [
    {
     "data": {
      "image/png": "[encoded data removed]",
      "text/plain": [
       "<Figure size 936x720 with 1 Axes>"
      ]
     },
     "metadata": {
      "needs_background": "light"
     },
     "output_type": "display_data"
    }
   ],
   "source": [
    "plot_roc(New_yTest, y_score, figsize=(13,10))\n",
    "plt.show()"
   ]
  },
  {
   "cell_type": "markdown",
   "id": "a4000fd8-1e66-48e1-bf37-c959428333fd",
   "metadata": {},
   "source": [
    "# k-NN"
   ]
  },
  {
   "cell_type": "code",
   "execution_count": 59,
   "id": "ac6dc9e7-e080-47a0-b268-4f6fe5a1a6f8",
   "metadata": {},
   "outputs": [
    {
     "data": {
      "text/plain": [
       "KNeighborsClassifier(n_neighbors=7)"
      ]
     },
     "execution_count": 59,
     "metadata": {},
     "output_type": "execute_result"
    }
   ],
   "source": [
    "knn = KNeighborsClassifier(n_neighbors=7)\n",
    "knn.fit(New_Xtrain, New_yTrain)"
   ]
  },
  {
   "cell_type": "code",
   "execution_count": 60,
   "id": "482412fa-76e1-4436-acde-d850ad33d523",
   "metadata": {},
   "outputs": [],
   "source": [
    "y_pred_KNN = knn.predict(New_Xtest)"
   ]
  },
  {
   "cell_type": "code",
   "execution_count": 61,
   "id": "b88641d3-d9f9-4bee-8a94-e24b1ebdfb10",
   "metadata": {},
   "outputs": [
    {
     "name": "stdout",
     "output_type": "stream",
     "text": [
      "              precision    recall  f1-score   support\n",
      "\n",
      "           1       0.33      0.78      0.46        27\n",
      "           2       0.00      0.00      0.00        50\n",
      "           3       0.91      0.94      0.92       420\n",
      "\n",
      "    accuracy                           0.83       497\n",
      "   macro avg       0.41      0.57      0.46       497\n",
      "weighted avg       0.78      0.83      0.80       497\n",
      "\n"
     ]
    }
   ],
   "source": [
    "print(classification_report(New_yTest, y_pred_KNN))"
   ]
  },
  {
   "cell_type": "code",
   "execution_count": 62,
   "id": "4cd2e1c1-2e48-4640-bc7b-410f5d36b5d0",
   "metadata": {},
   "outputs": [],
   "source": [
    "y_score = knn.predict_proba(New_Xtest)"
   ]
  },
  {
   "cell_type": "code",
   "execution_count": 63,
   "id": "a232ed01-4d5a-41dd-ba43-82caeebf4e22",
   "metadata": {},
   "outputs": [
    {
     "data": {
      "image/png": "[encoded data removed]",
      "text/plain": [
       "<Figure size 936x720 with 1 Axes>"
      ]
     },
     "metadata": {
      "needs_background": "light"
     },
     "output_type": "display_data"
    }
   ],
   "source": [
    "plot_roc(New_yTest, y_score, figsize=(13,10))\n",
    "plt.show()"
   ]
  },
  {
   "cell_type": "markdown",
   "id": "a3dd06c2-4e21-4bce-a69c-45709f1b7826",
   "metadata": {},
   "source": [
    "# Boosting"
   ]
  },
  {
   "cell_type": "code",
   "execution_count": 64,
   "id": "ec1304eb-9312-4407-92cd-31b86587d4b6",
   "metadata": {},
   "outputs": [],
   "source": [
    "from sklearn.ensemble import AdaBoostClassifier\n",
    "from sklearn.ensemble import RandomForestClassifier"
   ]
  },
  {
   "cell_type": "code",
   "execution_count": 65,
   "id": "62123b46-d358-4cd5-8afc-544bd4dac9f5",
   "metadata": {},
   "outputs": [
    {
     "name": "stdout",
     "output_type": "stream",
     "text": [
      "              precision    recall  f1-score   support\n",
      "\n",
      "           1       0.41      0.89      0.56        27\n",
      "           2       0.69      0.18      0.29        50\n",
      "           3       0.94      0.95      0.95       420\n",
      "\n",
      "    accuracy                           0.87       497\n",
      "   macro avg       0.68      0.67      0.60       497\n",
      "weighted avg       0.89      0.87      0.86       497\n",
      "\n"
     ]
    }
   ],
   "source": [
    "clf = AdaBoostClassifier(base_estimator=DecisionTreeClassifier(), n_estimators=100, random_state=0)\n",
    "clf.fit(New_Xtrain, New_yTrain)\n",
    "\n",
    "y_pred_boost = clf.predict(New_Xtest)\n",
    "\n",
    "print(classification_report(New_yTest, y_pred_boost))"
   ]
  },
  {
   "cell_type": "code",
   "execution_count": 67,
   "id": "0756c9df-cc54-44d8-b7e0-ea7faf1f312c",
   "metadata": {},
   "outputs": [
    {
     "name": "stdout",
     "output_type": "stream",
     "text": [
      "              precision    recall  f1-score   support\n",
      "\n",
      "           1       0.40      0.93      0.56        27\n",
      "           2       0.00      0.00      0.00        50\n",
      "           3       0.94      0.97      0.96       420\n",
      "\n",
      "    accuracy                           0.87       497\n",
      "   macro avg       0.45      0.63      0.50       497\n",
      "weighted avg       0.82      0.87      0.84       497\n",
      "\n"
     ]
    }
   ],
   "source": [
    "clf = AdaBoostClassifier(base_estimator=RandomForestClassifier(), n_estimators=100, random_state=0)\n",
    "clf.fit(New_Xtrain, New_yTrain)\n",
    "\n",
    "y_pred_boost = clf.predict(New_Xtest)\n",
    "\n",
    "print(classification_report(New_yTest, y_pred_boost))"
   ]
  }
 ],
 "metadata": {
  "kernelspec": {
   "display_name": "Python 3 (ipykernel)",
   "language": "python",
   "name": "python3"
  },
  "language_info": {
   "codemirror_mode": {
    "name": "ipython",
    "version": 3
   },
   "file_extension": ".py",
   "mimetype": "text/x-python",
   "name": "python",
   "nbconvert_exporter": "python",
   "pygments_lexer": "ipython3",
   "version": "3.8.2"
  }
 },
 "nbformat": 4,
 "nbformat_minor": 5
}
